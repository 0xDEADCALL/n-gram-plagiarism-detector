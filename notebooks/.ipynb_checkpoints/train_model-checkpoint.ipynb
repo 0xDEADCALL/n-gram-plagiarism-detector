{
 "cells": [
  {
   "cell_type": "markdown",
   "metadata": {
    "pycharm": {
     "name": "#%% Decision Tree\n"
    }
   },
   "source": [
    "# Decision Tree Classifier for a plagiarism detector"
   ]
  },
  {
   "cell_type": "markdown",
   "metadata": {},
   "source": [
    "## Building the data dataframe"
   ]
  },
  {
   "cell_type": "code",
   "execution_count": 1,
   "metadata": {
    "pycharm": {
     "name": "#%%\n"
    }
   },
   "outputs": [
    {
     "name": "stdout",
     "output_type": "stream",
     "text": [
      "Plagiarized = 685\n",
      "Non-plagiarized = 331315\n"
     ]
    },
    {
     "data": {
      "text/html": [
       "<div>\n",
       "<style scoped>\n",
       "    .dataframe tbody tr th:only-of-type {\n",
       "        vertical-align: middle;\n",
       "    }\n",
       "\n",
       "    .dataframe tbody tr th {\n",
       "        vertical-align: top;\n",
       "    }\n",
       "\n",
       "    .dataframe thead th {\n",
       "        text-align: right;\n",
       "    }\n",
       "</style>\n",
       "<table border=\"1\" class=\"dataframe\">\n",
       "  <thead>\n",
       "    <tr style=\"text-align: right;\">\n",
       "      <th></th>\n",
       "      <th>src</th>\n",
       "      <th>sus</th>\n",
       "      <th>3-tok-lem-ngram</th>\n",
       "      <th>3-tok-lower-stop-alpha-ngram</th>\n",
       "      <th>3-tok-ngram</th>\n",
       "      <th>plagiarized</th>\n",
       "    </tr>\n",
       "  </thead>\n",
       "  <tbody>\n",
       "    <tr>\n",
       "      <th>0</th>\n",
       "      <td>source-document00094.txt</td>\n",
       "      <td>suspicious-document00019.txt</td>\n",
       "      <td>0.000000</td>\n",
       "      <td>0.0</td>\n",
       "      <td>0.000000</td>\n",
       "      <td>0</td>\n",
       "    </tr>\n",
       "    <tr>\n",
       "      <th>1</th>\n",
       "      <td>source-document00029.txt</td>\n",
       "      <td>suspicious-document00019.txt</td>\n",
       "      <td>0.003139</td>\n",
       "      <td>0.0</td>\n",
       "      <td>0.002788</td>\n",
       "      <td>0</td>\n",
       "    </tr>\n",
       "    <tr>\n",
       "      <th>2</th>\n",
       "      <td>source-document00095.txt</td>\n",
       "      <td>suspicious-document00019.txt</td>\n",
       "      <td>0.003399</td>\n",
       "      <td>0.0</td>\n",
       "      <td>0.003399</td>\n",
       "      <td>0</td>\n",
       "    </tr>\n",
       "    <tr>\n",
       "      <th>3</th>\n",
       "      <td>source-document00081.txt</td>\n",
       "      <td>suspicious-document00019.txt</td>\n",
       "      <td>0.001540</td>\n",
       "      <td>0.0</td>\n",
       "      <td>0.001368</td>\n",
       "      <td>0</td>\n",
       "    </tr>\n",
       "    <tr>\n",
       "      <th>4</th>\n",
       "      <td>source-document00005.txt</td>\n",
       "      <td>suspicious-document00019.txt</td>\n",
       "      <td>0.001892</td>\n",
       "      <td>0.0</td>\n",
       "      <td>0.001734</td>\n",
       "      <td>0</td>\n",
       "    </tr>\n",
       "  </tbody>\n",
       "</table>\n",
       "</div>"
      ],
      "text/plain": [
       "                        src                           sus  3-tok-lem-ngram  \\\n",
       "0  source-document00094.txt  suspicious-document00019.txt         0.000000   \n",
       "1  source-document00029.txt  suspicious-document00019.txt         0.003139   \n",
       "2  source-document00095.txt  suspicious-document00019.txt         0.003399   \n",
       "3  source-document00081.txt  suspicious-document00019.txt         0.001540   \n",
       "4  source-document00005.txt  suspicious-document00019.txt         0.001892   \n",
       "\n",
       "   3-tok-lower-stop-alpha-ngram  3-tok-ngram  plagiarized  \n",
       "0                           0.0     0.000000            0  \n",
       "1                           0.0     0.002788            0  \n",
       "2                           0.0     0.003399            0  \n",
       "3                           0.0     0.001368            0  \n",
       "4                           0.0     0.001734            0  "
      ]
     },
     "execution_count": 1,
     "metadata": {},
     "output_type": "execute_result"
    }
   ],
   "source": [
    "# Load modules and packages\n",
    "import pandas as pd\n",
    "import numpy as np\n",
    "\n",
    "df = pd.read_csv(\"../data/train_scores.csv\")\n",
    "\n",
    "print(f\"Plagiarized = {len(df[df['plagiarized'] == 1])}\")\n",
    "print(f\"Non-plagiarized = {len(df[df['plagiarized'] == 0])}\")\n",
    "df.head()"
   ]
  },
  {
   "cell_type": "markdown",
   "metadata": {},
   "source": [
    "# Training a tree classificator"
   ]
  },
  {
   "cell_type": "code",
   "execution_count": 2,
   "metadata": {
    "scrolled": true
   },
   "outputs": [
    {
     "data": {
      "text/html": [
       "\n",
       "    <div class=\"bk-root\">\n",
       "        <a href=\"https://bokeh.org\" target=\"_blank\" class=\"bk-logo bk-logo-small bk-logo-notebook\"></a>\n",
       "        <span id=\"1001\">Loading BokehJS ...</span>\n",
       "    </div>"
      ]
     },
     "metadata": {},
     "output_type": "display_data"
    },
    {
     "data": {
      "application/javascript": [
       "\n",
       "(function(root) {\n",
       "  function now() {\n",
       "    return new Date();\n",
       "  }\n",
       "\n",
       "  var force = true;\n",
       "\n",
       "  if (typeof root._bokeh_onload_callbacks === \"undefined\" || force === true) {\n",
       "    root._bokeh_onload_callbacks = [];\n",
       "    root._bokeh_is_loading = undefined;\n",
       "  }\n",
       "\n",
       "  var JS_MIME_TYPE = 'application/javascript';\n",
       "  var HTML_MIME_TYPE = 'text/html';\n",
       "  var EXEC_MIME_TYPE = 'application/vnd.bokehjs_exec.v0+json';\n",
       "  var CLASS_NAME = 'output_bokeh rendered_html';\n",
       "\n",
       "  /**\n",
       "   * Render data to the DOM node\n",
       "   */\n",
       "  function render(props, node) {\n",
       "    var script = document.createElement(\"script\");\n",
       "    node.appendChild(script);\n",
       "  }\n",
       "\n",
       "  /**\n",
       "   * Handle when an output is cleared or removed\n",
       "   */\n",
       "  function handleClearOutput(event, handle) {\n",
       "    var cell = handle.cell;\n",
       "\n",
       "    var id = cell.output_area._bokeh_element_id;\n",
       "    var server_id = cell.output_area._bokeh_server_id;\n",
       "    // Clean up Bokeh references\n",
       "    if (id != null && id in Bokeh.index) {\n",
       "      Bokeh.index[id].model.document.clear();\n",
       "      delete Bokeh.index[id];\n",
       "    }\n",
       "\n",
       "    if (server_id !== undefined) {\n",
       "      // Clean up Bokeh references\n",
       "      var cmd = \"from bokeh.io.state import curstate; print(curstate().uuid_to_server['\" + server_id + \"'].get_sessions()[0].document.roots[0]._id)\";\n",
       "      cell.notebook.kernel.execute(cmd, {\n",
       "        iopub: {\n",
       "          output: function(msg) {\n",
       "            var id = msg.content.text.trim();\n",
       "            if (id in Bokeh.index) {\n",
       "              Bokeh.index[id].model.document.clear();\n",
       "              delete Bokeh.index[id];\n",
       "            }\n",
       "          }\n",
       "        }\n",
       "      });\n",
       "      // Destroy server and session\n",
       "      var cmd = \"import bokeh.io.notebook as ion; ion.destroy_server('\" + server_id + \"')\";\n",
       "      cell.notebook.kernel.execute(cmd);\n",
       "    }\n",
       "  }\n",
       "\n",
       "  /**\n",
       "   * Handle when a new output is added\n",
       "   */\n",
       "  function handleAddOutput(event, handle) {\n",
       "    var output_area = handle.output_area;\n",
       "    var output = handle.output;\n",
       "\n",
       "    // limit handleAddOutput to display_data with EXEC_MIME_TYPE content only\n",
       "    if ((output.output_type != \"display_data\") || (!output.data.hasOwnProperty(EXEC_MIME_TYPE))) {\n",
       "      return\n",
       "    }\n",
       "\n",
       "    var toinsert = output_area.element.find(\".\" + CLASS_NAME.split(' ')[0]);\n",
       "\n",
       "    if (output.metadata[EXEC_MIME_TYPE][\"id\"] !== undefined) {\n",
       "      toinsert[toinsert.length - 1].firstChild.textContent = output.data[JS_MIME_TYPE];\n",
       "      // store reference to embed id on output_area\n",
       "      output_area._bokeh_element_id = output.metadata[EXEC_MIME_TYPE][\"id\"];\n",
       "    }\n",
       "    if (output.metadata[EXEC_MIME_TYPE][\"server_id\"] !== undefined) {\n",
       "      var bk_div = document.createElement(\"div\");\n",
       "      bk_div.innerHTML = output.data[HTML_MIME_TYPE];\n",
       "      var script_attrs = bk_div.children[0].attributes;\n",
       "      for (var i = 0; i < script_attrs.length; i++) {\n",
       "        toinsert[toinsert.length - 1].firstChild.setAttribute(script_attrs[i].name, script_attrs[i].value);\n",
       "        toinsert[toinsert.length - 1].firstChild.textContent = bk_div.children[0].textContent\n",
       "      }\n",
       "      // store reference to server id on output_area\n",
       "      output_area._bokeh_server_id = output.metadata[EXEC_MIME_TYPE][\"server_id\"];\n",
       "    }\n",
       "  }\n",
       "\n",
       "  function register_renderer(events, OutputArea) {\n",
       "\n",
       "    function append_mime(data, metadata, element) {\n",
       "      // create a DOM node to render to\n",
       "      var toinsert = this.create_output_subarea(\n",
       "        metadata,\n",
       "        CLASS_NAME,\n",
       "        EXEC_MIME_TYPE\n",
       "      );\n",
       "      this.keyboard_manager.register_events(toinsert);\n",
       "      // Render to node\n",
       "      var props = {data: data, metadata: metadata[EXEC_MIME_TYPE]};\n",
       "      render(props, toinsert[toinsert.length - 1]);\n",
       "      element.append(toinsert);\n",
       "      return toinsert\n",
       "    }\n",
       "\n",
       "    /* Handle when an output is cleared or removed */\n",
       "    events.on('clear_output.CodeCell', handleClearOutput);\n",
       "    events.on('delete.Cell', handleClearOutput);\n",
       "\n",
       "    /* Handle when a new output is added */\n",
       "    events.on('output_added.OutputArea', handleAddOutput);\n",
       "\n",
       "    /**\n",
       "     * Register the mime type and append_mime function with output_area\n",
       "     */\n",
       "    OutputArea.prototype.register_mime_type(EXEC_MIME_TYPE, append_mime, {\n",
       "      /* Is output safe? */\n",
       "      safe: true,\n",
       "      /* Index of renderer in `output_area.display_order` */\n",
       "      index: 0\n",
       "    });\n",
       "  }\n",
       "\n",
       "  // register the mime type if in Jupyter Notebook environment and previously unregistered\n",
       "  if (root.Jupyter !== undefined) {\n",
       "    var events = require('base/js/events');\n",
       "    var OutputArea = require('notebook/js/outputarea').OutputArea;\n",
       "\n",
       "    if (OutputArea.prototype.mime_types().indexOf(EXEC_MIME_TYPE) == -1) {\n",
       "      register_renderer(events, OutputArea);\n",
       "    }\n",
       "  }\n",
       "\n",
       "  \n",
       "  if (typeof (root._bokeh_timeout) === \"undefined\" || force === true) {\n",
       "    root._bokeh_timeout = Date.now() + 5000;\n",
       "    root._bokeh_failed_load = false;\n",
       "  }\n",
       "\n",
       "  var NB_LOAD_WARNING = {'data': {'text/html':\n",
       "     \"<div style='background-color: #fdd'>\\n\"+\n",
       "     \"<p>\\n\"+\n",
       "     \"BokehJS does not appear to have successfully loaded. If loading BokehJS from CDN, this \\n\"+\n",
       "     \"may be due to a slow or bad network connection. Possible fixes:\\n\"+\n",
       "     \"</p>\\n\"+\n",
       "     \"<ul>\\n\"+\n",
       "     \"<li>re-rerun `output_notebook()` to attempt to load from CDN again, or</li>\\n\"+\n",
       "     \"<li>use INLINE resources instead, as so:</li>\\n\"+\n",
       "     \"</ul>\\n\"+\n",
       "     \"<code>\\n\"+\n",
       "     \"from bokeh.resources import INLINE\\n\"+\n",
       "     \"output_notebook(resources=INLINE)\\n\"+\n",
       "     \"</code>\\n\"+\n",
       "     \"</div>\"}};\n",
       "\n",
       "  function display_loaded() {\n",
       "    var el = document.getElementById(\"1001\");\n",
       "    if (el != null) {\n",
       "      el.textContent = \"BokehJS is loading...\";\n",
       "    }\n",
       "    if (root.Bokeh !== undefined) {\n",
       "      if (el != null) {\n",
       "        el.textContent = \"BokehJS \" + root.Bokeh.version + \" successfully loaded.\";\n",
       "      }\n",
       "    } else if (Date.now() < root._bokeh_timeout) {\n",
       "      setTimeout(display_loaded, 100)\n",
       "    }\n",
       "  }\n",
       "\n",
       "\n",
       "  function run_callbacks() {\n",
       "    try {\n",
       "      root._bokeh_onload_callbacks.forEach(function(callback) {\n",
       "        if (callback != null)\n",
       "          callback();\n",
       "      });\n",
       "    } finally {\n",
       "      delete root._bokeh_onload_callbacks\n",
       "    }\n",
       "    console.debug(\"Bokeh: all callbacks have finished\");\n",
       "  }\n",
       "\n",
       "  function load_libs(css_urls, js_urls, callback) {\n",
       "    if (css_urls == null) css_urls = [];\n",
       "    if (js_urls == null) js_urls = [];\n",
       "\n",
       "    root._bokeh_onload_callbacks.push(callback);\n",
       "    if (root._bokeh_is_loading > 0) {\n",
       "      console.debug(\"Bokeh: BokehJS is being loaded, scheduling callback at\", now());\n",
       "      return null;\n",
       "    }\n",
       "    if (js_urls == null || js_urls.length === 0) {\n",
       "      run_callbacks();\n",
       "      return null;\n",
       "    }\n",
       "    console.debug(\"Bokeh: BokehJS not loaded, scheduling load and callback at\", now());\n",
       "    root._bokeh_is_loading = css_urls.length + js_urls.length;\n",
       "\n",
       "    function on_load() {\n",
       "      root._bokeh_is_loading--;\n",
       "      if (root._bokeh_is_loading === 0) {\n",
       "        console.debug(\"Bokeh: all BokehJS libraries/stylesheets loaded\");\n",
       "        run_callbacks()\n",
       "      }\n",
       "    }\n",
       "\n",
       "    function on_error() {\n",
       "      console.error(\"failed to load \" + url);\n",
       "    }\n",
       "\n",
       "    for (var i = 0; i < css_urls.length; i++) {\n",
       "      var url = css_urls[i];\n",
       "      const element = document.createElement(\"link\");\n",
       "      element.onload = on_load;\n",
       "      element.onerror = on_error;\n",
       "      element.rel = \"stylesheet\";\n",
       "      element.type = \"text/css\";\n",
       "      element.href = url;\n",
       "      console.debug(\"Bokeh: injecting link tag for BokehJS stylesheet: \", url);\n",
       "      document.body.appendChild(element);\n",
       "    }\n",
       "\n",
       "    const hashes = {\"https://cdn.bokeh.org/bokeh/release/bokeh-2.1.1.min.js\": \"kLr4fYcqcSpbuI95brIH3vnnYCquzzSxHPU6XGQCIkQRGJwhg0StNbj1eegrHs12\", \"https://cdn.bokeh.org/bokeh/release/bokeh-widgets-2.1.1.min.js\": \"xIGPmVtaOm+z0BqfSOMn4lOR6ciex448GIKG4eE61LsAvmGj48XcMQZtKcE/UXZe\", \"https://cdn.bokeh.org/bokeh/release/bokeh-tables-2.1.1.min.js\": \"Dc9u1wF/0zApGIWoBbH77iWEHtdmkuYWG839Uzmv8y8yBLXebjO9ZnERsde5Ln/P\", \"https://cdn.bokeh.org/bokeh/release/bokeh-gl-2.1.1.min.js\": \"cT9JaBz7GiRXdENrJLZNSC6eMNF3nh3fa5fTF51Svp+ukxPdwcU5kGXGPBgDCa2j\"};\n",
       "\n",
       "    for (var i = 0; i < js_urls.length; i++) {\n",
       "      var url = js_urls[i];\n",
       "      var element = document.createElement('script');\n",
       "      element.onload = on_load;\n",
       "      element.onerror = on_error;\n",
       "      element.async = false;\n",
       "      element.src = url;\n",
       "      if (url in hashes) {\n",
       "        element.crossOrigin = \"anonymous\";\n",
       "        element.integrity = \"sha384-\" + hashes[url];\n",
       "      }\n",
       "      console.debug(\"Bokeh: injecting script tag for BokehJS library: \", url);\n",
       "      document.head.appendChild(element);\n",
       "    }\n",
       "  };\n",
       "\n",
       "  function inject_raw_css(css) {\n",
       "    const element = document.createElement(\"style\");\n",
       "    element.appendChild(document.createTextNode(css));\n",
       "    document.body.appendChild(element);\n",
       "  }\n",
       "\n",
       "  \n",
       "  var js_urls = [\"https://cdn.bokeh.org/bokeh/release/bokeh-2.1.1.min.js\", \"https://cdn.bokeh.org/bokeh/release/bokeh-widgets-2.1.1.min.js\", \"https://cdn.bokeh.org/bokeh/release/bokeh-tables-2.1.1.min.js\", \"https://cdn.bokeh.org/bokeh/release/bokeh-gl-2.1.1.min.js\"];\n",
       "  var css_urls = [];\n",
       "  \n",
       "\n",
       "  var inline_js = [\n",
       "    function(Bokeh) {\n",
       "      Bokeh.set_log_level(\"info\");\n",
       "    },\n",
       "    function(Bokeh) {\n",
       "    \n",
       "    \n",
       "    }\n",
       "  ];\n",
       "\n",
       "  function run_inline_js() {\n",
       "    \n",
       "    if (root.Bokeh !== undefined || force === true) {\n",
       "      \n",
       "    for (var i = 0; i < inline_js.length; i++) {\n",
       "      inline_js[i].call(root, root.Bokeh);\n",
       "    }\n",
       "    if (force === true) {\n",
       "        display_loaded();\n",
       "      }} else if (Date.now() < root._bokeh_timeout) {\n",
       "      setTimeout(run_inline_js, 100);\n",
       "    } else if (!root._bokeh_failed_load) {\n",
       "      console.log(\"Bokeh: BokehJS failed to load within specified timeout.\");\n",
       "      root._bokeh_failed_load = true;\n",
       "    } else if (force !== true) {\n",
       "      var cell = $(document.getElementById(\"1001\")).parents('.cell').data().cell;\n",
       "      cell.output_area.append_execute_result(NB_LOAD_WARNING)\n",
       "    }\n",
       "\n",
       "  }\n",
       "\n",
       "  if (root._bokeh_is_loading === 0) {\n",
       "    console.debug(\"Bokeh: BokehJS loaded, going straight to plotting\");\n",
       "    run_inline_js();\n",
       "  } else {\n",
       "    load_libs(css_urls, js_urls, function() {\n",
       "      console.debug(\"Bokeh: BokehJS plotting callback run at\", now());\n",
       "      run_inline_js();\n",
       "    });\n",
       "  }\n",
       "}(window));"
      ],
      "application/vnd.bokehjs_load.v0+json": "\n(function(root) {\n  function now() {\n    return new Date();\n  }\n\n  var force = true;\n\n  if (typeof root._bokeh_onload_callbacks === \"undefined\" || force === true) {\n    root._bokeh_onload_callbacks = [];\n    root._bokeh_is_loading = undefined;\n  }\n\n  \n\n  \n  if (typeof (root._bokeh_timeout) === \"undefined\" || force === true) {\n    root._bokeh_timeout = Date.now() + 5000;\n    root._bokeh_failed_load = false;\n  }\n\n  var NB_LOAD_WARNING = {'data': {'text/html':\n     \"<div style='background-color: #fdd'>\\n\"+\n     \"<p>\\n\"+\n     \"BokehJS does not appear to have successfully loaded. If loading BokehJS from CDN, this \\n\"+\n     \"may be due to a slow or bad network connection. Possible fixes:\\n\"+\n     \"</p>\\n\"+\n     \"<ul>\\n\"+\n     \"<li>re-rerun `output_notebook()` to attempt to load from CDN again, or</li>\\n\"+\n     \"<li>use INLINE resources instead, as so:</li>\\n\"+\n     \"</ul>\\n\"+\n     \"<code>\\n\"+\n     \"from bokeh.resources import INLINE\\n\"+\n     \"output_notebook(resources=INLINE)\\n\"+\n     \"</code>\\n\"+\n     \"</div>\"}};\n\n  function display_loaded() {\n    var el = document.getElementById(\"1001\");\n    if (el != null) {\n      el.textContent = \"BokehJS is loading...\";\n    }\n    if (root.Bokeh !== undefined) {\n      if (el != null) {\n        el.textContent = \"BokehJS \" + root.Bokeh.version + \" successfully loaded.\";\n      }\n    } else if (Date.now() < root._bokeh_timeout) {\n      setTimeout(display_loaded, 100)\n    }\n  }\n\n\n  function run_callbacks() {\n    try {\n      root._bokeh_onload_callbacks.forEach(function(callback) {\n        if (callback != null)\n          callback();\n      });\n    } finally {\n      delete root._bokeh_onload_callbacks\n    }\n    console.debug(\"Bokeh: all callbacks have finished\");\n  }\n\n  function load_libs(css_urls, js_urls, callback) {\n    if (css_urls == null) css_urls = [];\n    if (js_urls == null) js_urls = [];\n\n    root._bokeh_onload_callbacks.push(callback);\n    if (root._bokeh_is_loading > 0) {\n      console.debug(\"Bokeh: BokehJS is being loaded, scheduling callback at\", now());\n      return null;\n    }\n    if (js_urls == null || js_urls.length === 0) {\n      run_callbacks();\n      return null;\n    }\n    console.debug(\"Bokeh: BokehJS not loaded, scheduling load and callback at\", now());\n    root._bokeh_is_loading = css_urls.length + js_urls.length;\n\n    function on_load() {\n      root._bokeh_is_loading--;\n      if (root._bokeh_is_loading === 0) {\n        console.debug(\"Bokeh: all BokehJS libraries/stylesheets loaded\");\n        run_callbacks()\n      }\n    }\n\n    function on_error() {\n      console.error(\"failed to load \" + url);\n    }\n\n    for (var i = 0; i < css_urls.length; i++) {\n      var url = css_urls[i];\n      const element = document.createElement(\"link\");\n      element.onload = on_load;\n      element.onerror = on_error;\n      element.rel = \"stylesheet\";\n      element.type = \"text/css\";\n      element.href = url;\n      console.debug(\"Bokeh: injecting link tag for BokehJS stylesheet: \", url);\n      document.body.appendChild(element);\n    }\n\n    const hashes = {\"https://cdn.bokeh.org/bokeh/release/bokeh-2.1.1.min.js\": \"kLr4fYcqcSpbuI95brIH3vnnYCquzzSxHPU6XGQCIkQRGJwhg0StNbj1eegrHs12\", \"https://cdn.bokeh.org/bokeh/release/bokeh-widgets-2.1.1.min.js\": \"xIGPmVtaOm+z0BqfSOMn4lOR6ciex448GIKG4eE61LsAvmGj48XcMQZtKcE/UXZe\", \"https://cdn.bokeh.org/bokeh/release/bokeh-tables-2.1.1.min.js\": \"Dc9u1wF/0zApGIWoBbH77iWEHtdmkuYWG839Uzmv8y8yBLXebjO9ZnERsde5Ln/P\", \"https://cdn.bokeh.org/bokeh/release/bokeh-gl-2.1.1.min.js\": \"cT9JaBz7GiRXdENrJLZNSC6eMNF3nh3fa5fTF51Svp+ukxPdwcU5kGXGPBgDCa2j\"};\n\n    for (var i = 0; i < js_urls.length; i++) {\n      var url = js_urls[i];\n      var element = document.createElement('script');\n      element.onload = on_load;\n      element.onerror = on_error;\n      element.async = false;\n      element.src = url;\n      if (url in hashes) {\n        element.crossOrigin = \"anonymous\";\n        element.integrity = \"sha384-\" + hashes[url];\n      }\n      console.debug(\"Bokeh: injecting script tag for BokehJS library: \", url);\n      document.head.appendChild(element);\n    }\n  };\n\n  function inject_raw_css(css) {\n    const element = document.createElement(\"style\");\n    element.appendChild(document.createTextNode(css));\n    document.body.appendChild(element);\n  }\n\n  \n  var js_urls = [\"https://cdn.bokeh.org/bokeh/release/bokeh-2.1.1.min.js\", \"https://cdn.bokeh.org/bokeh/release/bokeh-widgets-2.1.1.min.js\", \"https://cdn.bokeh.org/bokeh/release/bokeh-tables-2.1.1.min.js\", \"https://cdn.bokeh.org/bokeh/release/bokeh-gl-2.1.1.min.js\"];\n  var css_urls = [];\n  \n\n  var inline_js = [\n    function(Bokeh) {\n      Bokeh.set_log_level(\"info\");\n    },\n    function(Bokeh) {\n    \n    \n    }\n  ];\n\n  function run_inline_js() {\n    \n    if (root.Bokeh !== undefined || force === true) {\n      \n    for (var i = 0; i < inline_js.length; i++) {\n      inline_js[i].call(root, root.Bokeh);\n    }\n    if (force === true) {\n        display_loaded();\n      }} else if (Date.now() < root._bokeh_timeout) {\n      setTimeout(run_inline_js, 100);\n    } else if (!root._bokeh_failed_load) {\n      console.log(\"Bokeh: BokehJS failed to load within specified timeout.\");\n      root._bokeh_failed_load = true;\n    } else if (force !== true) {\n      var cell = $(document.getElementById(\"1001\")).parents('.cell').data().cell;\n      cell.output_area.append_execute_result(NB_LOAD_WARNING)\n    }\n\n  }\n\n  if (root._bokeh_is_loading === 0) {\n    console.debug(\"Bokeh: BokehJS loaded, going straight to plotting\");\n    run_inline_js();\n  } else {\n    load_libs(css_urls, js_urls, function() {\n      console.debug(\"Bokeh: BokehJS plotting callback run at\", now());\n      run_inline_js();\n    });\n  }\n}(window));"
     },
     "metadata": {},
     "output_type": "display_data"
    }
   ],
   "source": [
    "from bokeh.plotting import *\n",
    "\n",
    "# Tell bokeh where to output\n",
    "output_notebook()"
   ]
  },
  {
   "cell_type": "markdown",
   "metadata": {},
   "source": [
    "Tenemos un problema con los datos, por la propia naturaleza del problema, hay muchos más casos de documentos original que de plagiados. Si no lo tenemeos en cuenta, dado que el calisificador busca el mayor acierto posible tomará la ruta más fácil que es decir siempre que no se trata de un documento plagiado. Dado que se trata de un prueba de concepto, simplemente recortamos nuestra muestre e introducimos en los datos para el entrenamiento y validación la misma cantidad de entradas de documentos original como plagiados.\n",
    "\n",
    "Otra solución que se podría explorar es la asignación de pesos a los datos."
   ]
  },
  {
   "cell_type": "code",
   "execution_count": 3,
   "metadata": {},
   "outputs": [],
   "source": [
    "# Balance dataframe by undersampling, we assume naively that they should be in equal\n",
    "n = len(df[df['plagiarized'] == 1])\n",
    "data = df[df['plagiarized'] == 1].append(df[df['plagiarized'] == 0].sample(n = n))\n",
    "data.reset_index(inplace = True, drop = True)\n",
    "\n",
    "# Select data to model\n",
    "#features = [\"jaccard\", \"containment\", \"dep\"]\n",
    "X = data.drop([\"src\", \"sus\", \"plagiarized\"], axis=1, errors=\"ignore\")\n",
    "y = data[\"plagiarized\"]"
   ]
  },
  {
   "cell_type": "markdown",
   "metadata": {},
   "source": [
    "A continuación comprobaremos como de bien se desenvuelve un clasificador base con nuestros datos. Para medir esto usaremos el puntuador F1, ya que nos da una buena idea de la precision a la hora de clasificar cada tipo de documento. Para ello, usaremos K-Folds, ya que no tenemos tantos datos como para poder dividirls directamente en test y validación"
   ]
  },
  {
   "cell_type": "code",
   "execution_count": 4,
   "metadata": {},
   "outputs": [
    {
     "data": {
      "text/html": [
       "<div>\n",
       "<style scoped>\n",
       "    .dataframe tbody tr th:only-of-type {\n",
       "        vertical-align: middle;\n",
       "    }\n",
       "\n",
       "    .dataframe tbody tr th {\n",
       "        vertical-align: top;\n",
       "    }\n",
       "\n",
       "    .dataframe thead th {\n",
       "        text-align: right;\n",
       "    }\n",
       "</style>\n",
       "<table border=\"1\" class=\"dataframe\">\n",
       "  <thead>\n",
       "    <tr style=\"text-align: right;\">\n",
       "      <th></th>\n",
       "      <th>Avg. non-plagiarized</th>\n",
       "      <th>Avg. plagiarized</th>\n",
       "      <th>Std. non-plagiarized</th>\n",
       "      <th>Std. plagiarized</th>\n",
       "    </tr>\n",
       "    <tr>\n",
       "      <th>Score type</th>\n",
       "      <th></th>\n",
       "      <th></th>\n",
       "      <th></th>\n",
       "      <th></th>\n",
       "    </tr>\n",
       "  </thead>\n",
       "  <tbody>\n",
       "    <tr>\n",
       "      <th>precision</th>\n",
       "      <td>0.797874</td>\n",
       "      <td>0.790950</td>\n",
       "      <td>0.021460</td>\n",
       "      <td>0.027754</td>\n",
       "    </tr>\n",
       "    <tr>\n",
       "      <th>recall</th>\n",
       "      <td>0.788728</td>\n",
       "      <td>0.801406</td>\n",
       "      <td>0.027706</td>\n",
       "      <td>0.018479</td>\n",
       "    </tr>\n",
       "    <tr>\n",
       "      <th>F1</th>\n",
       "      <td>0.792570</td>\n",
       "      <td>0.795476</td>\n",
       "      <td>0.020799</td>\n",
       "      <td>0.019587</td>\n",
       "    </tr>\n",
       "    <tr>\n",
       "      <th>support</th>\n",
       "      <td>68.500000</td>\n",
       "      <td>68.500000</td>\n",
       "      <td>3.030910</td>\n",
       "      <td>3.030910</td>\n",
       "    </tr>\n",
       "  </tbody>\n",
       "</table>\n",
       "</div>"
      ],
      "text/plain": [
       "            Avg. non-plagiarized  Avg. plagiarized  Std. non-plagiarized  \\\n",
       "Score type                                                                 \n",
       "precision               0.797874          0.790950              0.021460   \n",
       "recall                  0.788728          0.801406              0.027706   \n",
       "F1                      0.792570          0.795476              0.020799   \n",
       "support                68.500000         68.500000              3.030910   \n",
       "\n",
       "            Std. plagiarized  \n",
       "Score type                    \n",
       "precision           0.027754  \n",
       "recall              0.018479  \n",
       "F1                  0.019587  \n",
       "support             3.030910  "
      ]
     },
     "execution_count": 4,
     "metadata": {},
     "output_type": "execute_result"
    }
   ],
   "source": [
    "from sklearn import metrics\n",
    "from sklearn.metrics import plot_confusion_matrix\n",
    "from sklearn.tree import DecisionTreeClassifier\n",
    "from sklearn.metrics import precision_recall_fscore_support as score\n",
    "from sklearn.model_selection import KFold\n",
    "import numpy as np\n",
    "\n",
    "def eval_model_table(X, y, clf):\n",
    "    # Make folds of data for cross validation\n",
    "    k_fold = KFold(n_splits = 10, shuffle = True)\n",
    "\n",
    "    results = []\n",
    "    for train, test in k_fold.split(X):\n",
    "        clf.fit(X.iloc[train], y.iloc[train])\n",
    "        sc = score(y.iloc[test], clf.predict(X.iloc[test]), average = None, labels = [0, 1])\n",
    "        results.append(np.stack(sc, axis = 0))\n",
    "\n",
    "    avg_results = sum(results) / len(results)\n",
    "    std_results = [np.abs(x - avg_results)**2 for x in results]\n",
    "    std_results = np.sqrt(sum(std_results) / (len(std_results) * np.sqrt(len(std_results))))\n",
    "    \n",
    "    # Calculation of scores\n",
    "    scores = pd.DataFrame(np.concatenate((avg_results, std_results), axis = 1))\n",
    "    scores.columns = [\"Avg. non-plagiarized\", \"Avg. plagiarized\", \"Std. non-plagiarized\", \"Std. plagiarized\"]\n",
    "    scores.insert(0, \"Score type\", [\"precision\", \"recall\", \"F1\", \"support\"])\n",
    "    scores.set_index(\"Score type\", inplace = True)\n",
    "    \n",
    "    return(scores)\n",
    "\n",
    "# Init classifier, maybe SV could be useful?\n",
    "clf = DecisionTreeClassifier()\n",
    "eval_model_table(X, y, clf)"
   ]
  },
  {
   "cell_type": "markdown",
   "metadata": {},
   "source": [
    "Como podemos ver en la tabla, nos encontramos en torno a un 66%. No está mal para una prueba, pero veamos si podemos depurar el modelo."
   ]
  },
  {
   "cell_type": "markdown",
   "metadata": {},
   "source": [
    "## Optimización de la profundidad máxima del arbol"
   ]
  },
  {
   "cell_type": "markdown",
   "metadata": {},
   "source": [
    "Uno de los parametros que podemos cambiar es la produnidad máxima del arbol. Es importante no elegir un numero muy pequeño porque no podremos llegar a ajustar correctamente, ni muy alto porque sobreajustariamos y el modelo perdería generalidad. Para ver como impacta es parametro en F1, hacemos un plot y vemos si hay algun tipo de maximos o tendencias."
   ]
  },
  {
   "cell_type": "code",
   "execution_count": 5,
   "metadata": {},
   "outputs": [
    {
     "data": {
      "text/html": [
       "\n",
       "\n",
       "\n",
       "\n",
       "\n",
       "\n",
       "  <div class=\"bk-root\" id=\"e96f5738-8eff-45a8-9da4-6deeaff62678\" data-root-id=\"1002\"></div>\n"
      ]
     },
     "metadata": {},
     "output_type": "display_data"
    },
    {
     "data": {
      "application/javascript": [
       "(function(root) {\n",
       "  function embed_document(root) {\n",
       "    \n",
       "  var docs_json = {\"53fc8862-1ac7-41f9-a860-06df1e92a131\":{\"roots\":{\"references\":[{\"attributes\":{\"below\":[{\"id\":\"1013\"}],\"center\":[{\"id\":\"1016\"},{\"id\":\"1020\"},{\"id\":\"1048\"}],\"left\":[{\"id\":\"1017\"}],\"renderers\":[{\"id\":\"1038\"},{\"id\":\"1053\"}],\"sizing_mode\":\"stretch_width\",\"title\":{\"id\":\"1003\"},\"toolbar\":{\"id\":\"1028\"},\"x_range\":{\"id\":\"1005\"},\"x_scale\":{\"id\":\"1009\"},\"y_range\":{\"id\":\"1007\"},\"y_scale\":{\"id\":\"1011\"}},\"id\":\"1002\",\"subtype\":\"Figure\",\"type\":\"Plot\"},{\"attributes\":{},\"id\":\"1018\",\"type\":\"BasicTicker\"},{\"attributes\":{},\"id\":\"1026\",\"type\":\"HelpTool\"},{\"attributes\":{},\"id\":\"1044\",\"type\":\"BasicTickFormatter\"},{\"attributes\":{\"axis\":{\"id\":\"1017\"},\"dimension\":1,\"ticker\":null},\"id\":\"1020\",\"type\":\"Grid\"},{\"attributes\":{},\"id\":\"1014\",\"type\":\"BasicTicker\"},{\"attributes\":{\"axis\":{\"id\":\"1013\"},\"ticker\":null},\"id\":\"1016\",\"type\":\"Grid\"},{\"attributes\":{\"axis_label\":\"F1\",\"formatter\":{\"id\":\"1042\"},\"ticker\":{\"id\":\"1018\"}},\"id\":\"1017\",\"type\":\"LinearAxis\"},{\"attributes\":{},\"id\":\"1062\",\"type\":\"Selection\"},{\"attributes\":{},\"id\":\"1011\",\"type\":\"LinearScale\"},{\"attributes\":{},\"id\":\"1063\",\"type\":\"UnionRenderers\"},{\"attributes\":{\"axis_label\":\"Depth\",\"formatter\":{\"id\":\"1044\"},\"ticker\":{\"id\":\"1014\"}},\"id\":\"1013\",\"type\":\"LinearAxis\"},{\"attributes\":{},\"id\":\"1045\",\"type\":\"Selection\"},{\"attributes\":{},\"id\":\"1046\",\"type\":\"UnionRenderers\"},{\"attributes\":{\"overlay\":{\"id\":\"1027\"}},\"id\":\"1023\",\"type\":\"BoxZoomTool\"},{\"attributes\":{\"active_drag\":\"auto\",\"active_inspect\":\"auto\",\"active_multi\":null,\"active_scroll\":\"auto\",\"active_tap\":\"auto\",\"tools\":[{\"id\":\"1021\"},{\"id\":\"1022\"},{\"id\":\"1023\"},{\"id\":\"1024\"},{\"id\":\"1025\"},{\"id\":\"1026\"}]},\"id\":\"1028\",\"type\":\"Toolbar\"},{\"attributes\":{\"line_color\":\"steelblue\",\"x\":{\"field\":\"x\"},\"y\":{\"field\":\"y\"}},\"id\":\"1036\",\"type\":\"Line\"},{\"attributes\":{},\"id\":\"1021\",\"type\":\"PanTool\"},{\"attributes\":{},\"id\":\"1022\",\"type\":\"WheelZoomTool\"},{\"attributes\":{\"source\":{\"id\":\"1035\"}},\"id\":\"1039\",\"type\":\"CDSView\"},{\"attributes\":{},\"id\":\"1024\",\"type\":\"SaveTool\"},{\"attributes\":{},\"id\":\"1025\",\"type\":\"ResetTool\"},{\"attributes\":{\"items\":[{\"id\":\"1049\"},{\"id\":\"1065\"}]},\"id\":\"1048\",\"type\":\"Legend\"},{\"attributes\":{\"label\":{\"value\":\"Non-plagiarized\"},\"renderers\":[{\"id\":\"1038\"}]},\"id\":\"1049\",\"type\":\"LegendItem\"},{\"attributes\":{\"line_alpha\":0.1,\"line_color\":\"steelblue\",\"x\":{\"field\":\"x\"},\"y\":{\"field\":\"y\"}},\"id\":\"1037\",\"type\":\"Line\"},{\"attributes\":{},\"id\":\"1042\",\"type\":\"BasicTickFormatter\"},{\"attributes\":{\"data_source\":{\"id\":\"1050\"},\"glyph\":{\"id\":\"1051\"},\"hover_glyph\":null,\"muted_glyph\":null,\"nonselection_glyph\":{\"id\":\"1052\"},\"selection_glyph\":null,\"view\":{\"id\":\"1054\"}},\"id\":\"1053\",\"type\":\"GlyphRenderer\"},{\"attributes\":{\"data\":{\"x\":{\"__ndarray__\":\"AQAAAAIAAAADAAAABAAAAAUAAAAGAAAABwAAAAgAAAAJAAAACgAAAAsAAAAMAAAADQAAAA4AAAAPAAAAEAAAABEAAAASAAAAEwAAABQAAAAVAAAAFgAAABcAAAAYAAAAGQAAABoAAAAbAAAAHAAAAB0AAAAeAAAAHwAAACAAAAAhAAAAIgAAACMAAAAkAAAAJQAAACYAAAAnAAAAKAAAACkAAAAqAAAAKwAAACwAAAAtAAAALgAAAC8AAAAwAAAAMQAAADIAAAAzAAAANAAAADUAAAA2AAAANwAAADgAAAA5AAAAOgAAADsAAAA8AAAAPQAAAD4AAAA/AAAAQAAAAEEAAABCAAAAQwAAAEQAAABFAAAARgAAAEcAAABIAAAASQAAAEoAAABLAAAATAAAAE0AAABOAAAATwAAAFAAAABRAAAAUgAAAFMAAABUAAAAVQAAAFYAAABXAAAAWAAAAFkAAABaAAAAWwAAAFwAAABdAAAAXgAAAF8AAABgAAAAYQAAAGIAAABjAAAA\",\"dtype\":\"int32\",\"order\":\"little\",\"shape\":[99]},\"y\":{\"__ndarray__\":\"k08J+zv/6T+VMZd2U/fpP52T7fljgeo/+KIneHWk6j82wjqytb7qP5UaiE/sVuo/k2HWxF5+6j/yNZPdw9LpP6Ne/WmRF+o/+7vnGQPW6T+VBrmzJdLpP0O+7FtAcuk/qgop/WxK6T88QlTaSIPpPxBPVJZeuOk/S0QSsm8m6T+PF5mb3jvpP8HAYofYZuk/DlrcuVQk6T+PfQqcGBfpPzi6ltKZQuk/A2wCm6XC6D9iqO1sQ7XpP1SfgLrwQOk/UI3EPhSX6T9jR4+XqZ7oP//9IGE4cOk/yorqWDpd6T+ceDVukBjpP3MQCOYIrOk/ej4bOPo/6T/sdx4OnkTpP9sKWonxGuk/5lspIr4s6T/MB+nbGz/pPzwHeN43Ruk/0dLMYgTq6D/fd16S9DrpP0S1yXOS6eg/MiOSTeWF6T/mvfkOmTbpP271oZfGcOk/lTgIsnF06T8eQvAKXSLpP4dDj3MmhOk/eIzNgvAz6T9I+v/xaETpP2xGQqwSNek/KtP83R+U6T8lPFZVh1npP4rZX4ycfek/6+sxLkpR6T9AwCVRYlnpP3CokNc+C+k/CjR30YdL6T/q2QZ+7wjpPz6inpAjYek/K2jisntS6T883u1jwWbpP/IcHKXVZOk/9qJLCxZA6T9hex/l6pDpP15DFk7LT+k/UbdxIMME6T8KRw6dfcjoP18fFFDlWuk/CRA+l1YD6T9KDQntaC7pP9p60jSvZOk/PrU6XKHQ6D/QhRxxXEvpPyHP8n4SSuk/UdHE8IMF6T9loh3JejPpPynessHk6+g/ge7G7mxX6T+IoKzsCjDpP+XhT7qXO+k/+j0UovrR6T/LNrV6PtXoP3OePD6ZYek/8+cO9Bi66T/G42gj8WLpP8ew6Wi3yOg/o0mnfLQv6T9EDT9v6znpPz4jnjfMy+k/8grqd6ii6T89hr9zw7bpPxbawq9QTuk/Ync3Gw996T9uA9UjZzTpP9XmTSP76ek/Cgw6bLk36T+jMAWj+DHpP8sZxlOHEOk/xZKdmfc06T9jjFGbw6TpP/W1xjj/Wuk/\",\"dtype\":\"float64\",\"order\":\"little\",\"shape\":[99]}},\"selected\":{\"id\":\"1045\"},\"selection_policy\":{\"id\":\"1046\"}},\"id\":\"1035\",\"type\":\"ColumnDataSource\"},{\"attributes\":{},\"id\":\"1007\",\"type\":\"DataRange1d\"},{\"attributes\":{\"label\":{\"value\":\"Plagiarized\"},\"renderers\":[{\"id\":\"1053\"}]},\"id\":\"1065\",\"type\":\"LegendItem\"},{\"attributes\":{},\"id\":\"1009\",\"type\":\"LinearScale\"},{\"attributes\":{\"data_source\":{\"id\":\"1035\"},\"glyph\":{\"id\":\"1036\"},\"hover_glyph\":null,\"muted_glyph\":null,\"nonselection_glyph\":{\"id\":\"1037\"},\"selection_glyph\":null,\"view\":{\"id\":\"1039\"}},\"id\":\"1038\",\"type\":\"GlyphRenderer\"},{\"attributes\":{\"line_color\":\"orange\",\"x\":{\"field\":\"x\"},\"y\":{\"field\":\"y\"}},\"id\":\"1051\",\"type\":\"Line\"},{\"attributes\":{},\"id\":\"1005\",\"type\":\"DataRange1d\"},{\"attributes\":{\"text\":\"F1 score as a function of the maximum depth of the tree\"},\"id\":\"1003\",\"type\":\"Title\"},{\"attributes\":{\"data\":{\"x\":{\"__ndarray__\":\"AQAAAAIAAAADAAAABAAAAAUAAAAGAAAABwAAAAgAAAAJAAAACgAAAAsAAAAMAAAADQAAAA4AAAAPAAAAEAAAABEAAAASAAAAEwAAABQAAAAVAAAAFgAAABcAAAAYAAAAGQAAABoAAAAbAAAAHAAAAB0AAAAeAAAAHwAAACAAAAAhAAAAIgAAACMAAAAkAAAAJQAAACYAAAAnAAAAKAAAACkAAAAqAAAAKwAAACwAAAAtAAAALgAAAC8AAAAwAAAAMQAAADIAAAAzAAAANAAAADUAAAA2AAAANwAAADgAAAA5AAAAOgAAADsAAAA8AAAAPQAAAD4AAAA/AAAAQAAAAEEAAABCAAAAQwAAAEQAAABFAAAARgAAAEcAAABIAAAASQAAAEoAAABLAAAATAAAAE0AAABOAAAATwAAAFAAAABRAAAAUgAAAFMAAABUAAAAVQAAAFYAAABXAAAAWAAAAFkAAABaAAAAWwAAAFwAAABdAAAAXgAAAF8AAABgAAAAYQAAAGIAAABjAAAA\",\"dtype\":\"int32\",\"order\":\"little\",\"shape\":[99]},\"y\":{\"__ndarray__\":\"Fm4ZY0Cz6T+2cMKqvKvpP92nWQLGBOo/EulDuQEh6j8DQ3nWhzHqP41ZI0pdF+o/4FY0j3I+6j/uk+NfzI7pP20F+8omyOk/Wn6qfZip6T8NYWm1AaPpPwZ/9oo6b+k/J23NKPoS6T/a/5xR0GrpP9Oz182Eouk/hZ/aTYH76D/p9iVP7TvpPxj31zgQV+k/tGJh41Ql6T9+0AyGUg/pP8bNdBu/IOk/3gZ46cTg6D9G1zWzG3npP2XDMgf9M+k/ol55hBNk6T/SJupfVInoP+lLJjFmcOk/Qs9ig6hB6T/+7egRogjpP7qzd6nakOk/57Ik/GQz6T/O5IiK4V3pPwX/FhcL8Og/tTwf9Xsv6T/CgjagYETpP+5MajeJJuk/B7BaZAX86D+pBqS4nyDpP8nRf1kM7eg/ReveXFx76T+WncYCURLpPz/61v1TUek/JD5rN31u6T8GQWHIAvroP5KMbQFCauk/NmCeLwMO6T9CHotY8WDpP0wWGewiP+k/2CGID0l96T+CfLWwhD/pPyJbMQqHa+k/Nn3k2GlO6T9fSIxerz3pP5PPZxoyMuk/VZ29+ekp6T+VuqIoyhDpPz/nE3rRWuk/U9zznVYz6T/h+0MUVXLpPyavhr4Uaek/fiFOWphK6T8TIO9pXWjpP6aXCpxdRuk/H8pKunQU6T8BGlqv2vDoP0JEvsLpZOk/By71crPY6D+a/HGTSk3pP5o7I/IlU+k/M080DEja6D86MLe0aVTpP3rZpXCfRuk/IiTrJxHk6D91S2cAqUHpP6JQZ7Ug0+g/cfhKsYhp6T9qbIrxNxfpP1Z3N458HOk/6NlmBHXF6T/1+nfJD+ToPyUIuLuuWOk/2ps3S0ey6T+6TMOtjVPpP9ankU3P0Og/Kqe8I/k66T9TlbEwUGLpPxvRBvZ60uk/Vj/X/rx06T8+ULBIB8LpP5JB6t3CSOk/1U71ACtd6T+JTLK/Zh/pP5sCsT7j2Ok/VO0aodMU6T95FDPeixTpP37kOLrw6+g/0g53n2Yw6T9wXkU/e3LpP8bpae8sL+k/\",\"dtype\":\"float64\",\"order\":\"little\",\"shape\":[99]}},\"selected\":{\"id\":\"1062\"},\"selection_policy\":{\"id\":\"1063\"}},\"id\":\"1050\",\"type\":\"ColumnDataSource\"},{\"attributes\":{\"bottom_units\":\"screen\",\"fill_alpha\":0.5,\"fill_color\":\"lightgrey\",\"left_units\":\"screen\",\"level\":\"overlay\",\"line_alpha\":1.0,\"line_color\":\"black\",\"line_dash\":[4,4],\"line_width\":2,\"right_units\":\"screen\",\"top_units\":\"screen\"},\"id\":\"1027\",\"type\":\"BoxAnnotation\"},{\"attributes\":{\"line_alpha\":0.1,\"line_color\":\"orange\",\"x\":{\"field\":\"x\"},\"y\":{\"field\":\"y\"}},\"id\":\"1052\",\"type\":\"Line\"},{\"attributes\":{\"source\":{\"id\":\"1050\"}},\"id\":\"1054\",\"type\":\"CDSView\"}],\"root_ids\":[\"1002\"]},\"title\":\"Bokeh Application\",\"version\":\"2.1.1\"}};\n",
       "  var render_items = [{\"docid\":\"53fc8862-1ac7-41f9-a860-06df1e92a131\",\"root_ids\":[\"1002\"],\"roots\":{\"1002\":\"e96f5738-8eff-45a8-9da4-6deeaff62678\"}}];\n",
       "  root.Bokeh.embed.embed_items_notebook(docs_json, render_items);\n",
       "\n",
       "  }\n",
       "  if (root.Bokeh !== undefined) {\n",
       "    embed_document(root);\n",
       "  } else {\n",
       "    var attempts = 0;\n",
       "    var timer = setInterval(function(root) {\n",
       "      if (root.Bokeh !== undefined) {\n",
       "        clearInterval(timer);\n",
       "        embed_document(root);\n",
       "      } else {\n",
       "        attempts++;\n",
       "        if (attempts > 100) {\n",
       "          clearInterval(timer);\n",
       "          console.log(\"Bokeh: ERROR: Unable to run BokehJS code because BokehJS library is missing\");\n",
       "        }\n",
       "      }\n",
       "    }, 10, root)\n",
       "  }\n",
       "})(window);"
      ],
      "application/vnd.bokehjs_exec.v0+json": ""
     },
     "metadata": {
      "application/vnd.bokehjs_exec.v0+json": {
       "id": "1002"
      }
     },
     "output_type": "display_data"
    }
   ],
   "source": [
    "# Lets try to optimize max_depth\n",
    "from sklearn.metrics import f1_score\n",
    "from statsmodels.nonparametric.smoothers_lowess import lowess\n",
    "\n",
    "\n",
    "def calc_F1_depth(depth):\n",
    "    clf = DecisionTreeClassifier(max_depth = depth)\n",
    "\n",
    "    # Make folds of data for cross validation\n",
    "    k_fold = KFold(n_splits = 10, shuffle = True)\n",
    "\n",
    "    results = []\n",
    "    for train, test in k_fold.split(X):\n",
    "        clf.fit(X.iloc[train], y.iloc[train])\n",
    "        results.append(f1_score(y.iloc[test], clf.predict(X.iloc[test]), average = None))\n",
    "    \n",
    "    return sum(results) / len(results)\n",
    "        \n",
    "depth = np.arange(1, 100, 1)\n",
    "F1 = np.stack(list(map(calc_F1_depth, depth.tolist())), axis = 0)\n",
    "\n",
    "depth_plot = figure(title = \"F1 score as a function of the maximum depth of the tree\",\n",
    "                   x_axis_label = \"Depth\",\n",
    "                   y_axis_label = \"F1\",\n",
    "                   sizing_mode = \"stretch_width\")\n",
    "\n",
    "depth_plot.line(depth, F1[:, 0], legend_label = \"Non-plagiarized\", line_color = \"steelblue\")\n",
    "depth_plot.line(depth, F1[:, 1], legend_label = \"Plagiarized\", line_color = \"orange\")\n",
    "show(depth_plot)\n"
   ]
  },
  {
   "cell_type": "markdown",
   "metadata": {},
   "source": [
    "Como podemos ver, aunque localmente el resultado varie considerablemente, llega un momento donde oscila en torno al mismo valor. Dejaremos que el propio clasificador use el numero de niveles que la haga falta."
   ]
  },
  {
   "cell_type": "markdown",
   "metadata": {},
   "source": [
    "## Optimización de la proporcion de datos"
   ]
  },
  {
   "cell_type": "markdown",
   "metadata": {},
   "source": [
    "Como hemos dicho antes, nuestros datos no estan balanceados. Lo que haremos a continuación es estudiar el impacto de tener más o menos datos de casos que no son plagia en relación a los que si lo son."
   ]
  },
  {
   "cell_type": "code",
   "execution_count": 18,
   "metadata": {},
   "outputs": [
    {
     "data": {
      "text/html": [
       "\n",
       "\n",
       "\n",
       "\n",
       "\n",
       "\n",
       "  <div class=\"bk-root\" id=\"2c4d1879-6c6d-4c20-8ced-fe1223293746\" data-root-id=\"1587\"></div>\n"
      ]
     },
     "metadata": {},
     "output_type": "display_data"
    },
    {
     "data": {
      "application/javascript": [
       "(function(root) {\n",
       "  function embed_document(root) {\n",
       "    \n",
       "  var docs_json = {\"eb8c7fd9-dc0a-4130-ac5a-40ad3b09b463\":{\"roots\":{\"references\":[{\"attributes\":{\"children\":[{\"id\":\"1586\"},{\"id\":\"1584\"}],\"sizing_mode\":\"scale_both\"},\"id\":\"1587\",\"type\":\"Column\"},{\"attributes\":{},\"id\":\"1560\",\"type\":\"Selection\"},{\"attributes\":{},\"id\":\"1559\",\"type\":\"UnionRenderers\"},{\"attributes\":{\"bottom_units\":\"screen\",\"fill_alpha\":0.5,\"fill_color\":\"lightgrey\",\"left_units\":\"screen\",\"level\":\"overlay\",\"line_alpha\":1.0,\"line_color\":\"black\",\"line_dash\":[4,4],\"line_width\":2,\"right_units\":\"screen\",\"top_units\":\"screen\"},\"id\":\"1523\",\"type\":\"BoxAnnotation\"},{\"attributes\":{\"children\":[[{\"id\":\"1434\"},0,0],[{\"id\":\"1498\"},0,1]]},\"id\":\"1584\",\"type\":\"GridBox\"},{\"attributes\":{\"line_alpha\":0.1,\"line_color\":\"steelblue\",\"x\":{\"field\":\"x\"},\"y\":{\"field\":\"y\"}},\"id\":\"1533\",\"type\":\"Line\"},{\"attributes\":{\"items\":[{\"id\":\"1545\"},{\"id\":\"1561\"}]},\"id\":\"1544\",\"type\":\"Legend\"},{\"attributes\":{\"line_color\":\"steelblue\",\"x\":{\"field\":\"x\"},\"y\":{\"field\":\"y\"}},\"id\":\"1532\",\"type\":\"Line\"},{\"attributes\":{\"label\":{\"value\":\"Non-plagiarized\"},\"renderers\":[{\"id\":\"1534\"}]},\"id\":\"1545\",\"type\":\"LegendItem\"},{\"attributes\":{\"source\":{\"id\":\"1531\"}},\"id\":\"1535\",\"type\":\"CDSView\"},{\"attributes\":{},\"id\":\"1537\",\"type\":\"BasicTickFormatter\"},{\"attributes\":{},\"id\":\"1539\",\"type\":\"BasicTickFormatter\"},{\"attributes\":{\"below\":[{\"id\":\"1445\"}],\"center\":[{\"id\":\"1448\"},{\"id\":\"1452\"},{\"id\":\"1480\"}],\"left\":[{\"id\":\"1449\"}],\"renderers\":[{\"id\":\"1470\"},{\"id\":\"1485\"}],\"sizing_mode\":\"scale_both\",\"title\":{\"id\":\"1435\"},\"toolbar\":{\"id\":\"1460\"},\"toolbar_location\":null,\"x_range\":{\"id\":\"1437\"},\"x_scale\":{\"id\":\"1441\"},\"y_range\":{\"id\":\"1439\"},\"y_scale\":{\"id\":\"1443\"}},\"id\":\"1434\",\"subtype\":\"Figure\",\"type\":\"Plot\"},{\"attributes\":{},\"id\":\"1446\",\"type\":\"BasicTicker\"},{\"attributes\":{},\"id\":\"1450\",\"type\":\"BasicTicker\"},{\"attributes\":{\"axis_label\":\"F1\",\"formatter\":{\"id\":\"1475\"},\"ticker\":{\"id\":\"1450\"}},\"id\":\"1449\",\"type\":\"LinearAxis\"},{\"attributes\":{\"axis\":{\"id\":\"1445\"},\"ticker\":null},\"id\":\"1448\",\"type\":\"Grid\"},{\"attributes\":{},\"id\":\"1542\",\"type\":\"UnionRenderers\"},{\"attributes\":{\"below\":[{\"id\":\"1509\"}],\"center\":[{\"id\":\"1512\"},{\"id\":\"1516\"},{\"id\":\"1544\"}],\"left\":[{\"id\":\"1513\"}],\"renderers\":[{\"id\":\"1534\"},{\"id\":\"1549\"}],\"sizing_mode\":\"scale_both\",\"title\":{\"id\":\"1499\"},\"toolbar\":{\"id\":\"1524\"},\"toolbar_location\":null,\"x_range\":{\"id\":\"1501\"},\"x_scale\":{\"id\":\"1505\"},\"y_range\":{\"id\":\"1503\"},\"y_scale\":{\"id\":\"1507\"}},\"id\":\"1498\",\"subtype\":\"Figure\",\"type\":\"Plot\"},{\"attributes\":{},\"id\":\"1543\",\"type\":\"Selection\"},{\"attributes\":{\"axis\":{\"id\":\"1449\"},\"dimension\":1,\"ticker\":null},\"id\":\"1452\",\"type\":\"Grid\"},{\"attributes\":{},\"id\":\"1454\",\"type\":\"WheelZoomTool\"},{\"attributes\":{},\"id\":\"1453\",\"type\":\"PanTool\"},{\"attributes\":{\"data_source\":{\"id\":\"1467\"},\"glyph\":{\"id\":\"1468\"},\"hover_glyph\":null,\"muted_glyph\":null,\"nonselection_glyph\":{\"id\":\"1469\"},\"selection_glyph\":null,\"view\":{\"id\":\"1471\"}},\"id\":\"1470\",\"type\":\"GlyphRenderer\"},{\"attributes\":{},\"id\":\"1458\",\"type\":\"HelpTool\"},{\"attributes\":{\"overlay\":{\"id\":\"1459\"}},\"id\":\"1455\",\"type\":\"BoxZoomTool\"},{\"attributes\":{},\"id\":\"1456\",\"type\":\"SaveTool\"},{\"attributes\":{},\"id\":\"1457\",\"type\":\"ResetTool\"},{\"attributes\":{\"toolbars\":[{\"id\":\"1460\"},{\"id\":\"1524\"}],\"tools\":[{\"id\":\"1453\"},{\"id\":\"1454\"},{\"id\":\"1455\"},{\"id\":\"1456\"},{\"id\":\"1457\"},{\"id\":\"1458\"},{\"id\":\"1517\"},{\"id\":\"1518\"},{\"id\":\"1519\"},{\"id\":\"1520\"},{\"id\":\"1521\"},{\"id\":\"1522\"}]},\"id\":\"1585\",\"type\":\"ProxyToolbar\"},{\"attributes\":{\"source\":{\"id\":\"1482\"}},\"id\":\"1486\",\"type\":\"CDSView\"},{\"attributes\":{\"data_source\":{\"id\":\"1531\"},\"glyph\":{\"id\":\"1532\"},\"hover_glyph\":null,\"muted_glyph\":null,\"nonselection_glyph\":{\"id\":\"1533\"},\"selection_glyph\":null,\"view\":{\"id\":\"1535\"}},\"id\":\"1534\",\"type\":\"GlyphRenderer\"},{\"attributes\":{\"line_color\":\"orange\",\"x\":{\"field\":\"x\"},\"y\":{\"field\":\"y\"}},\"id\":\"1547\",\"type\":\"Line\"},{\"attributes\":{\"text\":\"F1 score as a function of the proportion of texts in the data\"},\"id\":\"1435\",\"type\":\"Title\"},{\"attributes\":{\"data\":{\"x\":{\"__ndarray__\":\"mpmZmZmZ6T8p1eRxZwnrP7gQMEo1eew/SEx7IgPp7T/Xh8b60FjvP7PhiGlPZPA/en+uVTYc8T9CHdRBHdTxPwq7+S0EjPI/0VgfGutD8z+Z9kQG0vvzP2CUavK4s/Q/KDKQ3p9r9T/wz7XKhiP2P7ht27Zt2/Y/fwsBo1ST9z9GqSaPO0v4Pw5HTHsiA/k/1uRxZwm7+T+egpdT8HL6P2UgvT/XKvs/LL7iK77i+z/0WwgYpZr8P7z5LQSMUv0/g5dT8HIK/j9LNXncWcL+PxLTnshAev8/bThi2hMZAEBRB3VQB3UAQDTWh8b60ABAGKWaPO4sAUD8c62y4YgBQOBCwCjV5AFAxBHTnshAAkCo4OUUvJwCQIyv+Iqv+AJAb34LAaNUA0BTTR53lrADQDccMe2JDARAGutDY31oBED+uVbZcMQEQOKIaU9kIAVAxld8xVd8BUCqJo87S9gFQI71obE+NAZAcsS0JzKQBkBWk8edJewGQDhi2hMZSAdAHDHtiQykB0AAAAAAAAAIQA==\",\"dtype\":\"float64\",\"order\":\"little\",\"shape\":[50]},\"y\":{\"__ndarray__\":\"kjWOYM/V6T8XRwq7eivpP/vXyc3AOOo/T9X9pxF46T8JvgFsH3rpP9FBi2KA2eg/1CW510aZ6D/FzkaJqbnpP7sR3zSwQeg/TDxj7MGj6D9251XFlvbnP8QDQEs0o+g/zLGSR+hb6D+/RZMy/dXnPxxxfAFxVug/fYdtBUpw5z8B3XzjBNrnP/PL1FBif+c/gzkunv2w5z+lGPeuQ8jnPzVN2ytcHuc/wAYbLghV5z+FQS/Fi3LnPzYF4wpIFOc/E8L+gEEu6D8Ua7bnLsXnP6P5ufrunOY/0mr+ek/m5j80JYDRBlbnP5h/7T+0Rec/YOdgMqTY5j/SO0lMKSLnPzR6/Ii2nOY/BSxHrXS45j/6YK/8virmP/ou25dm/OY/SSf3k4XM5j/aTN0plC/mPy5F6qFRQuY/iH6RGCif5j8Cz9j5Pg3mP+pI2pJkseY/gmQit/8U5j9y5qcjUmfmP5x650lZZ+Y/twQy5uQo5j8WEgrTMQLmP4pwVBU+B+c/0jYkc1sl5T8X25Bt8EHmPw==\",\"dtype\":\"float64\",\"order\":\"little\",\"shape\":[50]}},\"selected\":{\"id\":\"1496\"},\"selection_policy\":{\"id\":\"1495\"}},\"id\":\"1482\",\"type\":\"ColumnDataSource\"},{\"attributes\":{},\"id\":\"1437\",\"type\":\"DataRange1d\"},{\"attributes\":{\"line_alpha\":0.1,\"line_color\":\"orange\",\"x\":{\"field\":\"x\"},\"y\":{\"field\":\"y\"}},\"id\":\"1484\",\"type\":\"Line\"},{\"attributes\":{\"data\":{\"x\":{\"__ndarray__\":\"mpmZmZmZ6T8p1eRxZwnrP7gQMEo1eew/SEx7IgPp7T/Xh8b60FjvP7PhiGlPZPA/en+uVTYc8T9CHdRBHdTxPwq7+S0EjPI/0VgfGutD8z+Z9kQG0vvzP2CUavK4s/Q/KDKQ3p9r9T/wz7XKhiP2P7ht27Zt2/Y/fwsBo1ST9z9GqSaPO0v4Pw5HTHsiA/k/1uRxZwm7+T+egpdT8HL6P2UgvT/XKvs/LL7iK77i+z/0WwgYpZr8P7z5LQSMUv0/g5dT8HIK/j9LNXncWcL+PxLTnshAev8/bThi2hMZAEBRB3VQB3UAQDTWh8b60ABAGKWaPO4sAUD8c62y4YgBQOBCwCjV5AFAxBHTnshAAkCo4OUUvJwCQIyv+Iqv+AJAb34LAaNUA0BTTR53lrADQDccMe2JDARAGutDY31oBED+uVbZcMQEQOKIaU9kIAVAxld8xVd8BUCqJo87S9gFQI71obE+NAZAcsS0JzKQBkBWk8edJewGQDhi2hMZSAdAHDHtiQykB0AAAAAAAAAIQA==\",\"dtype\":\"float64\",\"order\":\"little\",\"shape\":[50]},\"y\":{\"__ndarray__\":\"wUBonULS6T+Vdg8Y/rLpPzNOTIbLkek/RhMs91Fx6T+I8+c5J1TpP9WUth8lMek/elik2q0A6T9e278uwdDoP/4XoWP0rug/zQ9BdWaT6D+Z7pep63HoPxs5rbf/Teg/ttiH0XMx6D8Z+bk+VxboP8kL50Nb+Oc/mwCr9Wfa5z8eYDafvsHnP2bZ/UTvqec/XOSy2J2S5z9cbVhYAILnPzJ87exkdec/WuK//cd05z/bqSdVUXfnP84YxIuOb+c/wbYXoFti5z9NiMP2XVfnP6hPFsvPS+c/YQnpLyY25z+L87MTAhrnP8A43SIfB+c/JW50K3n65j+wwayQFOPmP4kYjn30yuY/B/KzpOq45j/vOx15BqbmPwStTG/CkeY/kvNJGWOF5j8vGwcAH3zmP2v6qYc6cuY/RR8anbJi5j8PBJv2J1rmPyKiFeSAWeY/QmT1WINV5j8c0YDTgU/mPxoZGpAETuY/Ap3/DzlB5j/ibhVK4i7mP/uhcLNPH+Y/0KrqJuYP5j/OVq3pZf7lPw==\",\"dtype\":\"float64\",\"order\":\"little\",\"shape\":[50]}},\"selected\":{\"id\":\"1560\"},\"selection_policy\":{\"id\":\"1559\"}},\"id\":\"1546\",\"type\":\"ColumnDataSource\"},{\"attributes\":{\"data_source\":{\"id\":\"1482\"},\"glyph\":{\"id\":\"1483\"},\"hover_glyph\":null,\"muted_glyph\":null,\"nonselection_glyph\":{\"id\":\"1484\"},\"selection_glyph\":null,\"view\":{\"id\":\"1486\"}},\"id\":\"1485\",\"type\":\"GlyphRenderer\"},{\"attributes\":{\"line_color\":\"orange\",\"x\":{\"field\":\"x\"},\"y\":{\"field\":\"y\"}},\"id\":\"1483\",\"type\":\"Line\"},{\"attributes\":{\"line_alpha\":0.1,\"line_color\":\"orange\",\"x\":{\"field\":\"x\"},\"y\":{\"field\":\"y\"}},\"id\":\"1548\",\"type\":\"Line\"},{\"attributes\":{},\"id\":\"1478\",\"type\":\"UnionRenderers\"},{\"attributes\":{\"source\":{\"id\":\"1546\"}},\"id\":\"1550\",\"type\":\"CDSView\"},{\"attributes\":{},\"id\":\"1479\",\"type\":\"Selection\"},{\"attributes\":{\"label\":{\"value\":\"Non-plagiarized\"},\"renderers\":[{\"id\":\"1470\"}]},\"id\":\"1481\",\"type\":\"LegendItem\"},{\"attributes\":{\"label\":{\"value\":\"Plagiarized\"},\"renderers\":[{\"id\":\"1485\"}]},\"id\":\"1497\",\"type\":\"LegendItem\"},{\"attributes\":{},\"id\":\"1475\",\"type\":\"BasicTickFormatter\"},{\"attributes\":{\"bottom_units\":\"screen\",\"fill_alpha\":0.5,\"fill_color\":\"lightgrey\",\"left_units\":\"screen\",\"level\":\"overlay\",\"line_alpha\":1.0,\"line_color\":\"black\",\"line_dash\":[4,4],\"line_width\":2,\"right_units\":\"screen\",\"top_units\":\"screen\"},\"id\":\"1459\",\"type\":\"BoxAnnotation\"},{\"attributes\":{},\"id\":\"1439\",\"type\":\"DataRange1d\"},{\"attributes\":{},\"id\":\"1496\",\"type\":\"Selection\"},{\"attributes\":{\"data\":{\"x\":{\"__ndarray__\":\"mpmZmZmZ6T8p1eRxZwnrP7gQMEo1eew/SEx7IgPp7T/Xh8b60FjvP7PhiGlPZPA/en+uVTYc8T9CHdRBHdTxPwq7+S0EjPI/0VgfGutD8z+Z9kQG0vvzP2CUavK4s/Q/KDKQ3p9r9T/wz7XKhiP2P7ht27Zt2/Y/fwsBo1ST9z9GqSaPO0v4Pw5HTHsiA/k/1uRxZwm7+T+egpdT8HL6P2UgvT/XKvs/LL7iK77i+z/0WwgYpZr8P7z5LQSMUv0/g5dT8HIK/j9LNXncWcL+PxLTnshAev8/bThi2hMZAEBRB3VQB3UAQDTWh8b60ABAGKWaPO4sAUD8c62y4YgBQOBCwCjV5AFAxBHTnshAAkCo4OUUvJwCQIyv+Iqv+AJAb34LAaNUA0BTTR53lrADQDccMe2JDARAGutDY31oBED+uVbZcMQEQOKIaU9kIAVAxld8xVd8BUCqJo87S9gFQI71obE+NAZAcsS0JzKQBkBWk8edJewGQDhi2hMZSAdAHDHtiQykB0AAAAAAAAAIQA==\",\"dtype\":\"float64\",\"order\":\"little\",\"shape\":[50]},\"y\":{\"__ndarray__\":\"HSZE77aS6D8/FHIXh7TnPxe11McJaek/i4O/ztHz6D+dfdcD+m7pP3VT7mOT/+g/1Xys/mck6T/VpaxLWFPqPzL9J63zP+k/NRY10DzR6T+HWth6XHXpP9YekZ9XT+o/IGHlZfNf6j8e+RF6+03qP1hj1fYsy+o/fq2HR6gH6j/OxWfDA7PqPyrOZYxViuo/01FAHhjz6j8OSX1bwg/rP7oS6F0l8+o/c7jjr5Xj6j9KPHrCRzrrP7ttcepFJus/vWedBuPZ6z89WHzbhJHrP8BQO3UwPus/e1RAtb136z94sjdMk63rP3aD04f6yes/buzpa+Cf6z/OEMPjBN7rPz6WYWPH0es/oH7XsOzd6z84QQHeBcbrP6buTj4jLOw/JsTOYT1K7D92PqoKxvPrP+4Svf3CB+w/CiKwBYtU7D+SuoRChSfsP8gjTvIZfuw/WtDF/T497D+tOP18UJDsP26DQRWyiuw/gj8psxd87D/L+xlVc47sP7i29Xwd5uw/dgoENcFV7D84qgL0msTsPw==\",\"dtype\":\"float64\",\"order\":\"little\",\"shape\":[50]}},\"selected\":{\"id\":\"1479\"},\"selection_policy\":{\"id\":\"1478\"}},\"id\":\"1467\",\"type\":\"ColumnDataSource\"},{\"attributes\":{},\"id\":\"1495\",\"type\":\"UnionRenderers\"},{\"attributes\":{\"toolbar\":{\"id\":\"1585\"},\"toolbar_location\":\"above\"},\"id\":\"1586\",\"type\":\"ToolbarBox\"},{\"attributes\":{\"active_drag\":\"auto\",\"active_inspect\":\"auto\",\"active_multi\":null,\"active_scroll\":\"auto\",\"active_tap\":\"auto\",\"tools\":[{\"id\":\"1453\"},{\"id\":\"1454\"},{\"id\":\"1455\"},{\"id\":\"1456\"},{\"id\":\"1457\"},{\"id\":\"1458\"}]},\"id\":\"1460\",\"type\":\"Toolbar\"},{\"attributes\":{\"axis_label\":\"F1\",\"formatter\":{\"id\":\"1539\"},\"ticker\":{\"id\":\"1514\"}},\"id\":\"1513\",\"type\":\"LinearAxis\"},{\"attributes\":{},\"id\":\"1501\",\"type\":\"DataRange1d\"},{\"attributes\":{},\"id\":\"1510\",\"type\":\"BasicTicker\"},{\"attributes\":{\"data_source\":{\"id\":\"1546\"},\"glyph\":{\"id\":\"1547\"},\"hover_glyph\":null,\"muted_glyph\":null,\"nonselection_glyph\":{\"id\":\"1548\"},\"selection_glyph\":null,\"view\":{\"id\":\"1550\"}},\"id\":\"1549\",\"type\":\"GlyphRenderer\"},{\"attributes\":{\"line_alpha\":0.1,\"line_color\":\"steelblue\",\"x\":{\"field\":\"x\"},\"y\":{\"field\":\"y\"}},\"id\":\"1469\",\"type\":\"Line\"},{\"attributes\":{\"text\":\"F1 score as a function of the proportion of texts in the data\"},\"id\":\"1499\",\"type\":\"Title\"},{\"attributes\":{\"items\":[{\"id\":\"1481\"},{\"id\":\"1497\"}]},\"id\":\"1480\",\"type\":\"Legend\"},{\"attributes\":{\"data\":{\"x\":{\"__ndarray__\":\"mpmZmZmZ6T8p1eRxZwnrP7gQMEo1eew/SEx7IgPp7T/Xh8b60FjvP7PhiGlPZPA/en+uVTYc8T9CHdRBHdTxPwq7+S0EjPI/0VgfGutD8z+Z9kQG0vvzP2CUavK4s/Q/KDKQ3p9r9T/wz7XKhiP2P7ht27Zt2/Y/fwsBo1ST9z9GqSaPO0v4Pw5HTHsiA/k/1uRxZwm7+T+egpdT8HL6P2UgvT/XKvs/LL7iK77i+z/0WwgYpZr8P7z5LQSMUv0/g5dT8HIK/j9LNXncWcL+PxLTnshAev8/bThi2hMZAEBRB3VQB3UAQDTWh8b60ABAGKWaPO4sAUD8c62y4YgBQOBCwCjV5AFAxBHTnshAAkCo4OUUvJwCQIyv+Iqv+AJAb34LAaNUA0BTTR53lrADQDccMe2JDARAGutDY31oBED+uVbZcMQEQOKIaU9kIAVAxld8xVd8BUCqJo87S9gFQI71obE+NAZAcsS0JzKQBkBWk8edJewGQDhi2hMZSAdAHDHtiQykB0AAAAAAAAAIQA==\",\"dtype\":\"float64\",\"order\":\"little\",\"shape\":[50]},\"y\":{\"__ndarray__\":\"9u8lK/5X6D/Dxu3nQozoP0OCPyjnveg/CIgxW1Hv6D/46jAG1CTpPzSOtN+9Uuk/nsQQNBht6T85Va69n4LpPxlOF6CEouk/zF51dFPJ6T8z6NIECO3pPwLjVgOvDeo/aeLpaLsw6j/4TXKpcFHqP14WpxK2bOo/SMJjMLGD6j8hFUfhr5rqP2544i70seo/9H82ru3I6j8PEpjl6OPqP7pY4d5K/uo/wK/Qiwcc6z9v1RPqMDfrPya/KcqZTOs/WjHWtIdg6z/HYkd1inXrP0rrDchPh+s/OtmNWViS6z8100J04ZrrP6uhmJSOqes/Sk1aSxi76z9UdfaBG8jrP7QHfpm41es/P+MWHdTm6z/rq7KeB/brP+ub5iWfAew/4MPD5igP7D/Q5o6zQR7sPwPEDqjjK+w/UN9qxcU17D/+KiWUZUPsPyjVxL6iVew/QpoqPtBl7D8WIgOhjnPsP/vuLbs/guw/liikl5uM7D/KOLjDMpTsP81Wna+0nOw/bhjayDGl7D/zTxEA8azsPw==\",\"dtype\":\"float64\",\"order\":\"little\",\"shape\":[50]}},\"selected\":{\"id\":\"1543\"},\"selection_policy\":{\"id\":\"1542\"}},\"id\":\"1531\",\"type\":\"ColumnDataSource\"},{\"attributes\":{},\"id\":\"1503\",\"type\":\"DataRange1d\"},{\"attributes\":{\"line_color\":\"steelblue\",\"x\":{\"field\":\"x\"},\"y\":{\"field\":\"y\"}},\"id\":\"1468\",\"type\":\"Line\"},{\"attributes\":{\"axis_label\":\"Relative proportion of non-plagiared to plagiarized\",\"formatter\":{\"id\":\"1537\"},\"ticker\":{\"id\":\"1510\"}},\"id\":\"1509\",\"type\":\"LinearAxis\"},{\"attributes\":{},\"id\":\"1507\",\"type\":\"LinearScale\"},{\"attributes\":{\"source\":{\"id\":\"1467\"}},\"id\":\"1471\",\"type\":\"CDSView\"},{\"attributes\":{},\"id\":\"1514\",\"type\":\"BasicTicker\"},{\"attributes\":{},\"id\":\"1505\",\"type\":\"LinearScale\"},{\"attributes\":{\"axis\":{\"id\":\"1509\"},\"ticker\":null},\"id\":\"1512\",\"type\":\"Grid\"},{\"attributes\":{\"axis\":{\"id\":\"1513\"},\"dimension\":1,\"ticker\":null},\"id\":\"1516\",\"type\":\"Grid\"},{\"attributes\":{},\"id\":\"1473\",\"type\":\"BasicTickFormatter\"},{\"attributes\":{},\"id\":\"1518\",\"type\":\"WheelZoomTool\"},{\"attributes\":{},\"id\":\"1517\",\"type\":\"PanTool\"},{\"attributes\":{\"active_drag\":\"auto\",\"active_inspect\":\"auto\",\"active_multi\":null,\"active_scroll\":\"auto\",\"active_tap\":\"auto\",\"tools\":[{\"id\":\"1517\"},{\"id\":\"1518\"},{\"id\":\"1519\"},{\"id\":\"1520\"},{\"id\":\"1521\"},{\"id\":\"1522\"}]},\"id\":\"1524\",\"type\":\"Toolbar\"},{\"attributes\":{},\"id\":\"1522\",\"type\":\"HelpTool\"},{\"attributes\":{\"overlay\":{\"id\":\"1523\"}},\"id\":\"1519\",\"type\":\"BoxZoomTool\"},{\"attributes\":{},\"id\":\"1520\",\"type\":\"SaveTool\"},{\"attributes\":{},\"id\":\"1521\",\"type\":\"ResetTool\"},{\"attributes\":{\"axis_label\":\"Relative proportion of non-plagiared to plagiarized\",\"formatter\":{\"id\":\"1473\"},\"ticker\":{\"id\":\"1446\"}},\"id\":\"1445\",\"type\":\"LinearAxis\"},{\"attributes\":{},\"id\":\"1443\",\"type\":\"LinearScale\"},{\"attributes\":{},\"id\":\"1441\",\"type\":\"LinearScale\"},{\"attributes\":{\"label\":{\"value\":\"Plagiarized\"},\"renderers\":[{\"id\":\"1549\"}]},\"id\":\"1561\",\"type\":\"LegendItem\"}],\"root_ids\":[\"1587\"]},\"title\":\"Bokeh Application\",\"version\":\"2.1.1\"}};\n",
       "  var render_items = [{\"docid\":\"eb8c7fd9-dc0a-4130-ac5a-40ad3b09b463\",\"root_ids\":[\"1587\"],\"roots\":{\"1587\":\"2c4d1879-6c6d-4c20-8ced-fe1223293746\"}}];\n",
       "  root.Bokeh.embed.embed_items_notebook(docs_json, render_items);\n",
       "\n",
       "  }\n",
       "  if (root.Bokeh !== undefined) {\n",
       "    embed_document(root);\n",
       "  } else {\n",
       "    var attempts = 0;\n",
       "    var timer = setInterval(function(root) {\n",
       "      if (root.Bokeh !== undefined) {\n",
       "        clearInterval(timer);\n",
       "        embed_document(root);\n",
       "      } else {\n",
       "        attempts++;\n",
       "        if (attempts > 100) {\n",
       "          clearInterval(timer);\n",
       "          console.log(\"Bokeh: ERROR: Unable to run BokehJS code because BokehJS library is missing\");\n",
       "        }\n",
       "      }\n",
       "    }, 10, root)\n",
       "  }\n",
       "})(window);"
      ],
      "application/vnd.bokehjs_exec.v0+json": ""
     },
     "metadata": {
      "application/vnd.bokehjs_exec.v0+json": {
       "id": "1587"
      }
     },
     "output_type": "display_data"
    }
   ],
   "source": [
    "# Lets try to optmize by changing proportion of data\n",
    "def calc_F1_prop(p):\n",
    "    n = len(df[df['plagiarized'] == 1])\n",
    "    m = round(p * n)\n",
    "    data = df[df['plagiarized'] == 1].append(df[df['plagiarized'] == 0].sample(n = m))\n",
    "    data.reset_index(inplace = True)\n",
    "    \n",
    "    X = data.drop([\"src\", \"sus\", \"plagiarized\"], axis=1, errors=\"ignore\")\n",
    "    y = data[\"plagiarized\"]\n",
    "    \n",
    "    clf = DecisionTreeClassifier()\n",
    "\n",
    "    # Make folds of data for cross validation\n",
    "    k_fold = KFold(n_splits = 10, shuffle = True)\n",
    "\n",
    "    results = []\n",
    "    for train, test in k_fold.split(data):\n",
    "        clf.fit(X.iloc[train], y.iloc[train])\n",
    "        results.append(f1_score(y.iloc[test], clf.predict(X.iloc[test]), average = None))\n",
    "    \n",
    "    return sum(results) / len(results)\n",
    "\n",
    "p = np.linspace(0.8, 3, num = 50)\n",
    "F1 = np.stack(list(map(calc_F1_prop, p.tolist())), axis = 0)\n",
    "# Filter F1\n",
    "filtered_F1 = np.column_stack((lowess(F1[:, 0], p, is_sorted=True, frac=0.2, it=0)[:, 1],\n",
    "                             lowess(F1[:, 1], p, is_sorted=True, frac=0.2, it=0)[:, 1]))\n",
    "\n",
    "# Normal plot\n",
    "prop_plot = figure(title = \"F1 score as a function of the proportion of texts in the data\",\n",
    "                   x_axis_label = \"Relative proportion of non-plagiared to plagiarized\",\n",
    "                   y_axis_label = \"F1\")\n",
    "prop_plot.line(p, F1[:, 0], legend_label = \"Non-plagiarized\", line_color = \"steelblue\")\n",
    "prop_plot.line(p, F1[:, 1], legend_label = \"Plagiarized\", line_color = \"orange\")\n",
    "\n",
    "\n",
    "# Filtered plot to remove some noise and better appreciate tendencies\n",
    "prop_filtered_plot = figure(title = \"F1 score as a function of the proportion of texts in the data\",\n",
    "                           x_axis_label = \"Relative proportion of non-plagiared to plagiarized\",\n",
    "                           y_axis_label = \"F1\")\n",
    "\n",
    "prop_filtered_plot.line(p, filtered_F1[:, 0], legend_label = \"Non-plagiarized\", line_color = \"steelblue\")\n",
    "prop_filtered_plot.line(p, filtered_F1[:, 1], legend_label = \"Plagiarized\", line_color = \"orange\")\n",
    "\n",
    "\n",
    "show(gridplot([[prop_plot, prop_filtered_plot]], sizing_mode='scale_both'))\n",
    "\n",
    "\n",
    "# The optimum point for the unbalanced data is obtained when both sets have the same proportion"
   ]
  },
  {
   "cell_type": "markdown",
   "metadata": {},
   "source": [
    "Como podemos observar, el compromiso optimo para ambas clases en cuanto a precisión se encuentra en p = 1, es decir, la misma cantidad de casos de plagio que de no plagio."
   ]
  },
  {
   "cell_type": "markdown",
   "metadata": {},
   "source": [
    "## Optimización del número mínimo de muestras por hoja"
   ]
  },
  {
   "cell_type": "markdown",
   "metadata": {},
   "source": [
    "En este apartado estuadiamos como varia el puntuador según la cantidad de muestras minimas que se necesitan en cada nueva hoja\n",
    "para poder formar un nuevo nodo."
   ]
  },
  {
   "cell_type": "code",
   "execution_count": 6,
   "metadata": {
    "scrolled": false
   },
   "outputs": [
    {
     "data": {
      "text/html": [
       "\n",
       "\n",
       "\n",
       "\n",
       "\n",
       "\n",
       "  <div class=\"bk-root\" id=\"d373ceaf-8d93-47d5-ac0d-25f519e27497\" data-root-id=\"1289\"></div>\n"
      ]
     },
     "metadata": {},
     "output_type": "display_data"
    },
    {
     "data": {
      "application/javascript": [
       "(function(root) {\n",
       "  function embed_document(root) {\n",
       "    \n",
       "  var docs_json = {\"28e1ff1c-7d76-459f-9637-c54d12c0ffaf\":{\"roots\":{\"references\":[{\"attributes\":{\"children\":[{\"id\":\"1288\"},{\"id\":\"1286\"}],\"sizing_mode\":\"scale_both\"},\"id\":\"1289\",\"type\":\"Column\"},{\"attributes\":{\"text\":\"F1 score as a function of the minimum samples per leaf\"},\"id\":\"1137\",\"type\":\"Title\"},{\"attributes\":{},\"id\":\"1260\",\"type\":\"Selection\"},{\"attributes\":{},\"id\":\"1261\",\"type\":\"UnionRenderers\"},{\"attributes\":{\"data_source\":{\"id\":\"1184\"},\"glyph\":{\"id\":\"1185\"},\"hover_glyph\":null,\"muted_glyph\":null,\"nonselection_glyph\":{\"id\":\"1186\"},\"selection_glyph\":null,\"view\":{\"id\":\"1188\"}},\"id\":\"1187\",\"type\":\"GlyphRenderer\"},{\"attributes\":{\"children\":[[{\"id\":\"1136\"},0,0],[{\"id\":\"1200\"},0,1]]},\"id\":\"1286\",\"type\":\"GridBox\"},{\"attributes\":{\"below\":[{\"id\":\"1147\"}],\"center\":[{\"id\":\"1150\"},{\"id\":\"1154\"},{\"id\":\"1182\"}],\"left\":[{\"id\":\"1151\"}],\"renderers\":[{\"id\":\"1172\"},{\"id\":\"1187\"}],\"sizing_mode\":\"scale_both\",\"title\":{\"id\":\"1137\"},\"toolbar\":{\"id\":\"1162\"},\"toolbar_location\":null,\"x_range\":{\"id\":\"1139\"},\"x_scale\":{\"id\":\"1143\"},\"y_range\":{\"id\":\"1141\"},\"y_scale\":{\"id\":\"1145\"}},\"id\":\"1136\",\"subtype\":\"Figure\",\"type\":\"Plot\"},{\"attributes\":{\"line_alpha\":0.1,\"line_color\":\"steelblue\",\"x\":{\"field\":\"x\"},\"y\":{\"field\":\"y\"}},\"id\":\"1171\",\"type\":\"Line\"},{\"attributes\":{\"items\":[{\"id\":\"1183\"},{\"id\":\"1199\"}]},\"id\":\"1182\",\"type\":\"Legend\"},{\"attributes\":{\"line_color\":\"steelblue\",\"x\":{\"field\":\"x\"},\"y\":{\"field\":\"y\"}},\"id\":\"1170\",\"type\":\"Line\"},{\"attributes\":{\"label\":{\"value\":\"Non-plagiarized\"},\"renderers\":[{\"id\":\"1172\"}]},\"id\":\"1183\",\"type\":\"LegendItem\"},{\"attributes\":{\"source\":{\"id\":\"1169\"}},\"id\":\"1173\",\"type\":\"CDSView\"},{\"attributes\":{},\"id\":\"1176\",\"type\":\"BasicTickFormatter\"},{\"attributes\":{},\"id\":\"1178\",\"type\":\"BasicTickFormatter\"},{\"attributes\":{},\"id\":\"1179\",\"type\":\"Selection\"},{\"attributes\":{},\"id\":\"1180\",\"type\":\"UnionRenderers\"},{\"attributes\":{\"line_alpha\":0.1,\"line_color\":\"steelblue\",\"x\":{\"field\":\"x\"},\"y\":{\"field\":\"y\"}},\"id\":\"1235\",\"type\":\"Line\"},{\"attributes\":{\"items\":[{\"id\":\"1247\"},{\"id\":\"1263\"}]},\"id\":\"1246\",\"type\":\"Legend\"},{\"attributes\":{\"line_color\":\"steelblue\",\"x\":{\"field\":\"x\"},\"y\":{\"field\":\"y\"}},\"id\":\"1234\",\"type\":\"Line\"},{\"attributes\":{\"toolbars\":[{\"id\":\"1162\"},{\"id\":\"1226\"}],\"tools\":[{\"id\":\"1155\"},{\"id\":\"1156\"},{\"id\":\"1157\"},{\"id\":\"1158\"},{\"id\":\"1159\"},{\"id\":\"1160\"},{\"id\":\"1219\"},{\"id\":\"1220\"},{\"id\":\"1221\"},{\"id\":\"1222\"},{\"id\":\"1223\"},{\"id\":\"1224\"}]},\"id\":\"1287\",\"type\":\"ProxyToolbar\"},{\"attributes\":{},\"id\":\"1203\",\"type\":\"DataRange1d\"},{\"attributes\":{\"source\":{\"id\":\"1233\"}},\"id\":\"1237\",\"type\":\"CDSView\"},{\"attributes\":{},\"id\":\"1212\",\"type\":\"BasicTicker\"},{\"attributes\":{\"line_color\":\"orange\",\"x\":{\"field\":\"x\"},\"y\":{\"field\":\"y\"}},\"id\":\"1185\",\"type\":\"Line\"},{\"attributes\":{\"data\":{\"x\":{\"__ndarray__\":\"AQAAAAIAAAADAAAABAAAAAUAAAAGAAAABwAAAAgAAAAJAAAACgAAAAsAAAAMAAAADQAAAA4AAAAPAAAAEAAAABEAAAASAAAAEwAAABQAAAAVAAAAFgAAABcAAAAYAAAAGQAAABoAAAAbAAAAHAAAAB0AAAAeAAAAHwAAACAAAAAhAAAAIgAAACMAAAAkAAAAJQAAACYAAAAnAAAAKAAAACkAAAAqAAAAKwAAACwAAAAtAAAALgAAAC8AAAAwAAAAMQAAADIAAAAzAAAANAAAADUAAAA2AAAANwAAADgAAAA5AAAAOgAAADsAAAA8AAAAPQAAAD4AAAA/AAAAQAAAAEEAAABCAAAAQwAAAEQAAABFAAAARgAAAEcAAABIAAAASQAAAEoAAABLAAAATAAAAE0AAABOAAAATwAAAFAAAABRAAAAUgAAAFMAAABUAAAAVQAAAFYAAABXAAAAWAAAAFkAAABaAAAAWwAAAFwAAABdAAAAXgAAAF8AAABgAAAAYQAAAGIAAABjAAAAZAAAAGUAAABmAAAAZwAAAGgAAABpAAAAagAAAGsAAABsAAAAbQAAAG4AAABvAAAAcAAAAHEAAAByAAAAcwAAAHQAAAB1AAAAdgAAAHcAAAB4AAAAeQAAAHoAAAB7AAAAfAAAAH0AAAB+AAAAfwAAAIAAAACBAAAAggAAAIMAAACEAAAAhQAAAIYAAACHAAAAiAAAAIkAAACKAAAAiwAAAIwAAACNAAAAjgAAAI8AAACQAAAAkQAAAJIAAACTAAAAlAAAAJUAAAA=\",\"dtype\":\"int32\",\"order\":\"little\",\"shape\":[149]},\"y\":{\"__ndarray__\":\"o3rJc4RS6T8i9MtY+GLpP4M6UN3Bguk/TWbzywW86T82XtLPH8npP1r+oKNHi+o/CKxNwcaS6j+qC5ENtP3pP/a57c2pO+o/7Rt8hot26j9DZZAY/sTqP+MpwSl0cOo/CunqNsZu6j9gm2mli0vqPxOSpX3KLOo/JgBcuiKW6j++0CAs6a3qP5gLFkJPgOo/LiUzXDZf6j+rzcBhbEDqP1Oieh4vhOo/mPb8rf0q6j89Deg5vnjqP5MW7Ge7I+o/o++HH1YX6j/qWS24/g3qP35Z8YgjaOo/dYUYhKss6j/1XCwjlITqP6itAuRJMeo/Gzyt4deQ6j+KpnZpqtPpP8pFAMucPOo/MEtqGEjZ6T9YAkodGx/qP22f6Ojp9Ok/baFNZx0E6j8WGOPsQvzpP5i6zA4BHeo/ktfn+D9L6j9DUUshLArqP/Nbxna5Euo/XqWIxau96T8taeQ4gL7pP/qUml14yek/fYjpooTD6T8axpdulebpP/sNJcThAeo/Iuui6TUD6j+GKJNaz+jpP0VAc3i+1+k/iE6VMyfX6T89gQwf6KDpP02KH+Du2Ok/ipXEDDN36T/2p1XnkJvpPxAEOeociuk/3XCGtxqf6T8j1cgppd3pP2t1ra110uk/Q/8B0zDq6T8wWti7j6rpP25Wdipnwuk/c8qOM5b06T+g2stlsNbpPw1MYPndn+k/eBH3Ns3Y6T9mZ6BY7gjqPzjYDP2Osuk/Sxr5BrXz6T92XR8lhbfpP8pE4VX92+k/3pBSK2W+6T8YTBcY5LbpP/PtXiOtw+k/TnYt89q36T/WmyZUbQfqP/hsvF8vwOk/4yvxtKV/6T/lspPB66LpP7KKASZFl+k/S+MOSiCS6T8+htvMyaTpP6vwZo/Rhek/Kdcx/3pF6T89KrG21GLpP2JH9YGdmuk/+mM0bDRK6T/CSkN44PnoP8vaDDPNSek/ra1gQ8hU6T+Se8RjLTzpP3ZHF0TRa+k/P4x4KApz6T8fWQuUjU/pP2ZWg5nkYuk/4oaMxrOr6T9DzhcWukHpPyS0EW46F+k/M1To6eRm6T+CKtgckEvpP2hetN3jROk/hd3viR4/6T8Kl6UZmDDpP0Lp+5+VQuk/imK8zdY96T/0YB840jPpP+1E6EYQQuk/fvbBrvBy6T+K08MW3iTpPx2oDdggYOk/s2CW/QGA6T+rPpV+2F/pP2kfeQlfNek/eJ0GH1GE6T8cwgBvFufoP8pn6XN0jOk/qaqQcz+H6T8DtKBtlT7pP3TCDyUORek/m9d0guh56T/QIEDgy0TpP4h63Pzjoek/9hnpSOqB6T+oKwfUp4DpP0+w6NmlWOk/9n/Zs7dg6T89c5vJjazpP0bREgH6e+k/epLis6SD6T9CV9mQUoDpP7/MyQGfi+k/4MxUjoor6T8GObiHtLvpP6UHMhwFiuk/bRBJmwJl6T/KtjIn1b7pP+VdTgX+kuk/s2fwxCHo6T/Ko+VA4KnpP6w7YRp6i+k/yLpjD6uU6T9QIxl2O7PpPz4f+JEYmuk/Xln0E+7R6T/aqv0PLazpPyqdaqO9kOk/dlHPMN+o6T/LKuC/vM/pPw==\",\"dtype\":\"float64\",\"order\":\"little\",\"shape\":[149]}},\"selected\":{\"id\":\"1196\"},\"selection_policy\":{\"id\":\"1197\"}},\"id\":\"1184\",\"type\":\"ColumnDataSource\"},{\"attributes\":{\"axis_label\":\"F1\",\"formatter\":{\"id\":\"1240\"},\"ticker\":{\"id\":\"1216\"}},\"id\":\"1215\",\"type\":\"LinearAxis\"},{\"attributes\":{\"line_alpha\":0.1,\"line_color\":\"orange\",\"x\":{\"field\":\"x\"},\"y\":{\"field\":\"y\"}},\"id\":\"1186\",\"type\":\"Line\"},{\"attributes\":{\"source\":{\"id\":\"1184\"}},\"id\":\"1188\",\"type\":\"CDSView\"},{\"attributes\":{},\"id\":\"1216\",\"type\":\"BasicTicker\"},{\"attributes\":{},\"id\":\"1205\",\"type\":\"DataRange1d\"},{\"attributes\":{},\"id\":\"1240\",\"type\":\"BasicTickFormatter\"},{\"attributes\":{\"below\":[{\"id\":\"1211\"}],\"center\":[{\"id\":\"1214\"},{\"id\":\"1218\"},{\"id\":\"1246\"}],\"left\":[{\"id\":\"1215\"}],\"renderers\":[{\"id\":\"1236\"},{\"id\":\"1251\"}],\"sizing_mode\":\"scale_both\",\"title\":{\"id\":\"1201\"},\"toolbar\":{\"id\":\"1226\"},\"toolbar_location\":null,\"x_range\":{\"id\":\"1203\"},\"x_scale\":{\"id\":\"1207\"},\"y_range\":{\"id\":\"1205\"},\"y_scale\":{\"id\":\"1209\"}},\"id\":\"1200\",\"subtype\":\"Figure\",\"type\":\"Plot\"},{\"attributes\":{},\"id\":\"1224\",\"type\":\"HelpTool\"},{\"attributes\":{\"data_source\":{\"id\":\"1169\"},\"glyph\":{\"id\":\"1170\"},\"hover_glyph\":null,\"muted_glyph\":null,\"nonselection_glyph\":{\"id\":\"1171\"},\"selection_glyph\":null,\"view\":{\"id\":\"1173\"}},\"id\":\"1172\",\"type\":\"GlyphRenderer\"},{\"attributes\":{},\"id\":\"1196\",\"type\":\"Selection\"},{\"attributes\":{\"axis_label\":\"Minimum samples per leaf\",\"formatter\":{\"id\":\"1242\"},\"ticker\":{\"id\":\"1212\"}},\"id\":\"1211\",\"type\":\"LinearAxis\"},{\"attributes\":{},\"id\":\"1209\",\"type\":\"LinearScale\"},{\"attributes\":{},\"id\":\"1207\",\"type\":\"LinearScale\"},{\"attributes\":{\"axis\":{\"id\":\"1211\"},\"ticker\":null},\"id\":\"1214\",\"type\":\"Grid\"},{\"attributes\":{\"data\":{\"x\":{\"__ndarray__\":\"AQAAAAIAAAADAAAABAAAAAUAAAAGAAAABwAAAAgAAAAJAAAACgAAAAsAAAAMAAAADQAAAA4AAAAPAAAAEAAAABEAAAASAAAAEwAAABQAAAAVAAAAFgAAABcAAAAYAAAAGQAAABoAAAAbAAAAHAAAAB0AAAAeAAAAHwAAACAAAAAhAAAAIgAAACMAAAAkAAAAJQAAACYAAAAnAAAAKAAAACkAAAAqAAAAKwAAACwAAAAtAAAALgAAAC8AAAAwAAAAMQAAADIAAAAzAAAANAAAADUAAAA2AAAANwAAADgAAAA5AAAAOgAAADsAAAA8AAAAPQAAAD4AAAA/AAAAQAAAAEEAAABCAAAAQwAAAEQAAABFAAAARgAAAEcAAABIAAAASQAAAEoAAABLAAAATAAAAE0AAABOAAAATwAAAFAAAABRAAAAUgAAAFMAAABUAAAAVQAAAFYAAABXAAAAWAAAAFkAAABaAAAAWwAAAFwAAABdAAAAXgAAAF8AAABgAAAAYQAAAGIAAABjAAAAZAAAAGUAAABmAAAAZwAAAGgAAABpAAAAagAAAGsAAABsAAAAbQAAAG4AAABvAAAAcAAAAHEAAAByAAAAcwAAAHQAAAB1AAAAdgAAAHcAAAB4AAAAeQAAAHoAAAB7AAAAfAAAAH0AAAB+AAAAfwAAAIAAAACBAAAAggAAAIMAAACEAAAAhQAAAIYAAACHAAAAiAAAAIkAAACKAAAAiwAAAIwAAACNAAAAjgAAAI8AAACQAAAAkQAAAJIAAACTAAAAlAAAAJUAAAA=\",\"dtype\":\"int32\",\"order\":\"little\",\"shape\":[149]},\"y\":{\"__ndarray__\":\"NgHbI8A06T+aDQ/17M/pP0INUbGUtuk/1XiD2hs36j+V9cvFWRvqP5UQNfEb5+o/o4LfFv3I6j8zO1EA54fqP+IqbH1Gguo/yGkYmaP76j/bSN38qQDrPyO1J19Mpeo/oBLACmCJ6j9CiipkvbXqP5Zfrkjjf+o/kOLuI9yk6j+QFf/J9M7qPx51mmoSuOo/KHlrPzp66j/zWIMOGozqPy2GbKRjuOo/mK4NV65v6j9u5sf9rbjqPz5n36n8YOo/KK7y7cGX6j8qjXN0RmzqP427Bz0bouo/6KGB4aSS6j+GSZUHhM3qP5W5tcDHUeo/2wOjMXny6j+wFvuuwEbqPwYzrTeIgeo/o9LtglSC6j/ayslunnDqP70BVIgoR+o/AC931Cpl6j+IrkJplRnqP8NtfyVfSeo/niaKkO6U6j8N7qP/tUzqP7qq84y+lOo/o8Tet85h6j/LgRWxz1HqP1ARxklyKeo/6nvzzrdU6j9mEIMHdFTqPyqUALIKk+o/Cr2zEoNp6j9a7JrOK4bqP5B8TmHWbuo/2PEFkdCB6j+mJTu/pDLqPyCoN2Zsb+o/HYKuKcIW6j8t/hbJICLqP3iH1pWMQ+o/E3a+dXqB6j81eaM52mvqPwPO5mIvZOo/8nv3wr1f6j9mA86vqE/qP90FQFOFn+o/wC94Ybqi6j/bGAgBMnTqP80KNFhnX+o/Rt0aDgN16j/2AXj98ZzqP+KFE6FkVuo/EzPDM/SY6j+dl4/PWUPqPyJcyn8cq+o/dUwEJsZ+6j/oQpQeP4vqP42om1Beduo/A7QaPMVf6j/mdNYNxMXqPzvLjzJOoeo/DnZOsfI06j9beSWfIGrqP648mdylf+o/9u3caW1+6j+SrwRy+5jqP0PZR2JfbOo/Ukk4bnpc6j+dLYWjnXnqP7jQ23GKmOo/6OPv0pWV6j9gbdY5GSvqP4Xr7jOcVOo/hgO4uv5x6j9yZHyZ95PqP/gesJWIeOo/O99VKK9r6j/gjtk47U/qP4P0DeeadOo/EBS4zaCq6j+rcpH6SGjqP80OW3vMUOo/c2mt2YAt6j+y5Y8wWTPqP6thlNkXHuo/pfz/tlBf6j/gALKzxh7qP8sefwqmJOo/QBmz/rEg6j87erf7izDqP6Ld+Nnq5uk/ixZv+tQ46j9TGBMWe//pP0WQkapOKuo/vfyObKoM6j/FEn5aqg/qPwr2CsUU++k/lpZMMOX76T92Wqx0se3pP/uHA/zYPOo/GM4yrlQa6j/DNmS9u/3pP6BTo9s/7+k/vjoVNan96T/OOFMlqtnpPxu/W+djCOo/u6N3k+rm6T86myVDhPTpP91lNIQqxOk/wgl7HK3p6T9b519lTfDpP0tKcOco0Ok/613YxMj86T9ly+pgaOXpPyPGROfy4ek/IpyRkFWo6T+KhWFW9O/pP9vzt0du9+k/mw2sXMTe6T/eG6q0kxnqPw2dyL1f6uk/dQHR9nkF6j8g9DUm3BDqP2PILdJI8uk/qn9ePRr46T/gdY8qOObpP156sRRA+Ok/etRdaCYL6j/mwsy8zALqP83pLhKB8Ok/QqfsUeDt6T/iUIHVbAXqPw==\",\"dtype\":\"float64\",\"order\":\"little\",\"shape\":[149]}},\"selected\":{\"id\":\"1179\"},\"selection_policy\":{\"id\":\"1180\"}},\"id\":\"1169\",\"type\":\"ColumnDataSource\"},{\"attributes\":{},\"id\":\"1143\",\"type\":\"LinearScale\"},{\"attributes\":{\"axis\":{\"id\":\"1215\"},\"dimension\":1,\"ticker\":null},\"id\":\"1218\",\"type\":\"Grid\"},{\"attributes\":{\"axis_label\":\"F1\",\"formatter\":{\"id\":\"1176\"},\"ticker\":{\"id\":\"1152\"}},\"id\":\"1151\",\"type\":\"LinearAxis\"},{\"attributes\":{},\"id\":\"1220\",\"type\":\"WheelZoomTool\"},{\"attributes\":{},\"id\":\"1148\",\"type\":\"BasicTicker\"},{\"attributes\":{\"axis_label\":\"Minimum samples per leaf\",\"formatter\":{\"id\":\"1178\"},\"ticker\":{\"id\":\"1148\"}},\"id\":\"1147\",\"type\":\"LinearAxis\"},{\"attributes\":{},\"id\":\"1242\",\"type\":\"BasicTickFormatter\"},{\"attributes\":{},\"id\":\"1219\",\"type\":\"PanTool\"},{\"attributes\":{},\"id\":\"1145\",\"type\":\"LinearScale\"},{\"attributes\":{},\"id\":\"1139\",\"type\":\"DataRange1d\"},{\"attributes\":{\"overlay\":{\"id\":\"1225\"}},\"id\":\"1221\",\"type\":\"BoxZoomTool\"},{\"attributes\":{},\"id\":\"1222\",\"type\":\"SaveTool\"},{\"attributes\":{\"axis\":{\"id\":\"1151\"},\"dimension\":1,\"ticker\":null},\"id\":\"1154\",\"type\":\"Grid\"},{\"attributes\":{},\"id\":\"1223\",\"type\":\"ResetTool\"},{\"attributes\":{\"active_drag\":\"auto\",\"active_inspect\":\"auto\",\"active_multi\":null,\"active_scroll\":\"auto\",\"active_tap\":\"auto\",\"tools\":[{\"id\":\"1155\"},{\"id\":\"1156\"},{\"id\":\"1157\"},{\"id\":\"1158\"},{\"id\":\"1159\"},{\"id\":\"1160\"}]},\"id\":\"1162\",\"type\":\"Toolbar\"},{\"attributes\":{},\"id\":\"1141\",\"type\":\"DataRange1d\"},{\"attributes\":{\"toolbar\":{\"id\":\"1287\"},\"toolbar_location\":\"above\"},\"id\":\"1288\",\"type\":\"ToolbarBox\"},{\"attributes\":{},\"id\":\"1156\",\"type\":\"WheelZoomTool\"},{\"attributes\":{},\"id\":\"1243\",\"type\":\"Selection\"},{\"attributes\":{},\"id\":\"1244\",\"type\":\"UnionRenderers\"},{\"attributes\":{},\"id\":\"1155\",\"type\":\"PanTool\"},{\"attributes\":{},\"id\":\"1152\",\"type\":\"BasicTicker\"},{\"attributes\":{\"axis\":{\"id\":\"1147\"},\"ticker\":null},\"id\":\"1150\",\"type\":\"Grid\"},{\"attributes\":{},\"id\":\"1160\",\"type\":\"HelpTool\"},{\"attributes\":{\"overlay\":{\"id\":\"1161\"}},\"id\":\"1157\",\"type\":\"BoxZoomTool\"},{\"attributes\":{\"bottom_units\":\"screen\",\"fill_alpha\":0.5,\"fill_color\":\"lightgrey\",\"left_units\":\"screen\",\"level\":\"overlay\",\"line_alpha\":1.0,\"line_color\":\"black\",\"line_dash\":[4,4],\"line_width\":2,\"right_units\":\"screen\",\"top_units\":\"screen\"},\"id\":\"1225\",\"type\":\"BoxAnnotation\"},{\"attributes\":{},\"id\":\"1158\",\"type\":\"SaveTool\"},{\"attributes\":{},\"id\":\"1159\",\"type\":\"ResetTool\"},{\"attributes\":{\"active_drag\":\"auto\",\"active_inspect\":\"auto\",\"active_multi\":null,\"active_scroll\":\"auto\",\"active_tap\":\"auto\",\"tools\":[{\"id\":\"1219\"},{\"id\":\"1220\"},{\"id\":\"1221\"},{\"id\":\"1222\"},{\"id\":\"1223\"},{\"id\":\"1224\"}]},\"id\":\"1226\",\"type\":\"Toolbar\"},{\"attributes\":{\"data_source\":{\"id\":\"1233\"},\"glyph\":{\"id\":\"1234\"},\"hover_glyph\":null,\"muted_glyph\":null,\"nonselection_glyph\":{\"id\":\"1235\"},\"selection_glyph\":null,\"view\":{\"id\":\"1237\"}},\"id\":\"1236\",\"type\":\"GlyphRenderer\"},{\"attributes\":{\"data\":{\"x\":{\"__ndarray__\":\"AQAAAAIAAAADAAAABAAAAAUAAAAGAAAABwAAAAgAAAAJAAAACgAAAAsAAAAMAAAADQAAAA4AAAAPAAAAEAAAABEAAAASAAAAEwAAABQAAAAVAAAAFgAAABcAAAAYAAAAGQAAABoAAAAbAAAAHAAAAB0AAAAeAAAAHwAAACAAAAAhAAAAIgAAACMAAAAkAAAAJQAAACYAAAAnAAAAKAAAACkAAAAqAAAAKwAAACwAAAAtAAAALgAAAC8AAAAwAAAAMQAAADIAAAAzAAAANAAAADUAAAA2AAAANwAAADgAAAA5AAAAOgAAADsAAAA8AAAAPQAAAD4AAAA/AAAAQAAAAEEAAABCAAAAQwAAAEQAAABFAAAARgAAAEcAAABIAAAASQAAAEoAAABLAAAATAAAAE0AAABOAAAATwAAAFAAAABRAAAAUgAAAFMAAABUAAAAVQAAAFYAAABXAAAAWAAAAFkAAABaAAAAWwAAAFwAAABdAAAAXgAAAF8AAABgAAAAYQAAAGIAAABjAAAAZAAAAGUAAABmAAAAZwAAAGgAAABpAAAAagAAAGsAAABsAAAAbQAAAG4AAABvAAAAcAAAAHEAAAByAAAAcwAAAHQAAAB1AAAAdgAAAHcAAAB4AAAAeQAAAHoAAAB7AAAAfAAAAH0AAAB+AAAAfwAAAIAAAACBAAAAggAAAIMAAACEAAAAhQAAAIYAAACHAAAAiAAAAIkAAACKAAAAiwAAAIwAAACNAAAAjgAAAI8AAACQAAAAkQAAAJIAAACTAAAAlAAAAJUAAAA=\",\"dtype\":\"int32\",\"order\":\"little\",\"shape\":[149]},\"y\":{\"__ndarray__\":\"ObgbnV5S6T+Dk2sjBJXpP7YWHH7J2Ok/zqT0q8Yc6j/GFWXR61bqP8I6NKLbfuo/nA3P2X6a6j+tgRxVJbPqPyrUE/eSvuo/mbrOG5q/6j/Iy5mVJcHqP8twTx8yvuo/tX9x9gmu6j8iZBOt4aDqP5Pw2qdJo+o/2rpvajWo6j+N1pbiD6bqP5CmSsSWpOo//6IBwjWh6j9EGbnXbpjqP93tfnO0k+o/jdiOrsSR6j9CLoTYwY3qP9XoqV9tiOo/yLmLk+eH6j+WSjsmdovqP3v3t9KOkuo/bF8l2jqX6j/yt8VVUp3qP7rZJS1zmeo/GG9aLbWP6j805k89xYfqP9XuX/sNf+o/cl8YKNBw6j86dGckJWfqP5TOAYpcWuo/LB6G9kZQ6j8H04brKFHqP/qZyM2jVuo/n0BNxYdg6j/9euRGDWvqP0e4QJUqauo/xKKARWNf6j/SyIIOylbqPxEroIPnUeo/VKyeV8JV6j+8b5tKLmDqP0EHLLbTbOo/t2AE0tR16j9563/XJHfqP9mfzdmbb+o/+lxrERtm6j8AqcJw6lbqPwGosOVKRuo/TQKbD8U+6j/MpPN+Y0PqP9ic/3D1S+o/jg7uT2dY6j9QjdAH5mLqP3SLM7c6Z+o/AnQ3TYRs6j+mK+ZXFXXqP4cdSmQce+o/f4o4Ywx+6j9XrzgNDYDqPwGd+AYPfeo/b8//86R36j8Qd9xUS3fqP95BDq8yeOo/BJOnlD566j8KRUz/Z3zqP/KMUvOpf+o/l2tk8nWA6j+RV3s1JYLqPzH8sYiyhuo/Hm6P266I6j9++RlXl4LqP89654fcfeo/nWfsZ8h66j+sm3oWTHTqP6kSwBZudOo/Ql0azB566j/bqvyzqXrqP5ReMA90eeo/wxyrZfl66j+9ytOFJXrqP8A5hE9jdOo/oSLUAvlu6j8LsHamR2vqP9L49jr/aOo/f59zK9tq6j+I2TyCInHqPypSzeQOc+o/SIk8051y6j/KuhOPBnTqP6nLU3vGc+o/Tlo7Welv6j88fWmzKmfqPye+q7t5Vuo/yNBOPYlD6j/a+da6uznqP6tVb4+bNOo/sBy7ehQx6j/1RNAKDC/qP/RbCeT6Keo/ZRCcW8If6j91/4ip0RrqPymw29g4GOo/brp4KwUW6j/A1G5PLRXqPxaYHBTcFOo/74LyIBQQ6j9/XkOEtgnqP8rP0M7NBOo/BkURUQUH6j/5YOooYgvqP8tkyin1DOo/s2y8SGcM6j98OxBTlAfqP1RSwb6W/Ok/u1d1/xf16T/12MQNWvLpP+ixwZ2Q7+k/WAtg4Lrq6T9oqLt6xufpP4yex7SW5Ok/pn99DuHh6T8rh/+xd+PpPy+jLqz25uk/3JxY9cjk6T8IkdEqgN7pP3/lyhnc3Ok/41g3mf3c6T+24aWaid/pP8wremvg6Ok/HBdBx3Tz6T8iZlFv0PnpP1eOz89t/uk/3AtNUzMA6j9+3QZxqv3pPyMdNpC5+uk/k3y4Hy346T/YpeUrqvfpPwL3W3Jc+ek/RzhRxVX66T857X3VHvvpP5FuUFkN++k/4prFi2H66T8k5DmrfPnpPw==\",\"dtype\":\"float64\",\"order\":\"little\",\"shape\":[149]}},\"selected\":{\"id\":\"1243\"},\"selection_policy\":{\"id\":\"1244\"}},\"id\":\"1233\",\"type\":\"ColumnDataSource\"},{\"attributes\":{\"label\":{\"value\":\"Non-plagiarized\"},\"renderers\":[{\"id\":\"1236\"}]},\"id\":\"1247\",\"type\":\"LegendItem\"},{\"attributes\":{\"label\":{\"value\":\"Plagiarized\"},\"renderers\":[{\"id\":\"1251\"}]},\"id\":\"1263\",\"type\":\"LegendItem\"},{\"attributes\":{\"line_color\":\"orange\",\"x\":{\"field\":\"x\"},\"y\":{\"field\":\"y\"}},\"id\":\"1249\",\"type\":\"Line\"},{\"attributes\":{\"label\":{\"value\":\"Plagiarized\"},\"renderers\":[{\"id\":\"1187\"}]},\"id\":\"1199\",\"type\":\"LegendItem\"},{\"attributes\":{\"data\":{\"x\":{\"__ndarray__\":\"AQAAAAIAAAADAAAABAAAAAUAAAAGAAAABwAAAAgAAAAJAAAACgAAAAsAAAAMAAAADQAAAA4AAAAPAAAAEAAAABEAAAASAAAAEwAAABQAAAAVAAAAFgAAABcAAAAYAAAAGQAAABoAAAAbAAAAHAAAAB0AAAAeAAAAHwAAACAAAAAhAAAAIgAAACMAAAAkAAAAJQAAACYAAAAnAAAAKAAAACkAAAAqAAAAKwAAACwAAAAtAAAALgAAAC8AAAAwAAAAMQAAADIAAAAzAAAANAAAADUAAAA2AAAANwAAADgAAAA5AAAAOgAAADsAAAA8AAAAPQAAAD4AAAA/AAAAQAAAAEEAAABCAAAAQwAAAEQAAABFAAAARgAAAEcAAABIAAAASQAAAEoAAABLAAAATAAAAE0AAABOAAAATwAAAFAAAABRAAAAUgAAAFMAAABUAAAAVQAAAFYAAABXAAAAWAAAAFkAAABaAAAAWwAAAFwAAABdAAAAXgAAAF8AAABgAAAAYQAAAGIAAABjAAAAZAAAAGUAAABmAAAAZwAAAGgAAABpAAAAagAAAGsAAABsAAAAbQAAAG4AAABvAAAAcAAAAHEAAAByAAAAcwAAAHQAAAB1AAAAdgAAAHcAAAB4AAAAeQAAAHoAAAB7AAAAfAAAAH0AAAB+AAAAfwAAAIAAAACBAAAAggAAAIMAAACEAAAAhQAAAIYAAACHAAAAiAAAAIkAAACKAAAAiwAAAIwAAACNAAAAjgAAAI8AAACQAAAAkQAAAJIAAACTAAAAlAAAAJUAAAA=\",\"dtype\":\"int32\",\"order\":\"little\",\"shape\":[149]},\"y\":{\"__ndarray__\":\"aZDfZ4c66T+etjoDU2fpPxk00ujgluk/6WeIbZPI6T+DzYjoTf/pP1m50TQUJOo/lYQduKs+6j9ZCpM+MlXqP7y+nGD/YOo/srMJRxNp6j9COFKewHXqP2XQpRoIeOo/CRZ+V8Js6j8NM8dCwGXqP4adDItQa+o/BH/dvnlz6j/p5fqG63jqP4TtmmB7eeo/R7i+rYVw6j/vY3J/wmHqP7X7Md6xWOo/wT4B98JQ6j+gHEhSA0TqP1SuJs51N+o/Fv8r8G8z6j8l/ocTcjPqP+D+ESyiPOo/fHlnwoZK6j+J52X8rVLqP85RqpKoSuo/wkZEHHQ86j/cTVKlEynqP0pSyYsDF+o/zpeNGbkI6j/vX0FR0APqP+RSKdF0Auo/dMojtAwI6j/hmIXqARHqP735JdhcF+o/gUs4/N8X6j8LA8R0QQ3qP1Pz7afT+Ok/iPSZ+kLi6T+N4zrbUNLpP3JwC53lzek/ZIcY26nW6T+UZ8wEVuPpP2wZFW/J6+k/P/KQcJbu6T+9+d5dtujpP73ScUpM2+k/kclZOMHM6T8FQV9YR7zpP9ipTH3RrOk/267nJTuh6T9f1H9c2ZzpPyTvN9eroek/5gYRWQmw6T8sY29iUr/pP3BfZLfEyOk/hyFjEvLN6T8HBwOAAdHpP495kUW9z+k/dFvUyY/L6T/RNWi1L8/pP42foNCG1Ok/G4TGgW/T6T/TLf60f9XpP6UrqgPx2Ok/8Nel9DPW6T9c5IiKD8/pP+MY6x63yek/YPvieqnE6T+TMOdP9MPpP95SErmCyOk/kc0LQqnJ6T90PPtBacPpP2NNJduRuuk/CnDPzVmu6T9WeP1cVZ/pPw1gQYUgmOk/Av+xZrWT6T+kJ2XuAojpPwhXECNEfek/TdC3dz526T/weYfVJGjpPyezOpzMVuk/1hA0uPdN6T+q70IRYkbpP9MSx658Puk/aGIuWndE6T+tHz0J/lLpP64WL4xKWuk/qEnnhBVh6T8h+JOd3GrpP7KEqNmnaOk/y3MsO+Je6T+zfkuD8lnpP/yxZ612Uuk/6PiorcpH6T8dP1Zw6kTpP+UeN7EORek/wWaX6jhB6T9HumohZT3pP/EPZwJYO+k/dh/5oLc96T9OIGTiUEPpP5RBrO6iRek/I24zoktL6T9MNwaGnVXpP7d0eGkiWuk/mshEnn5a6T+JFqa2ilvpP8wzWzlAU+k/yuyAtIxP6T84ZwUYpVTpPwt97URNVuk/aa2KDPZX6T8wTAlEUV/pP42h8nf7Xuk/G72mxTBi6T+Sk71PAG7pP5EMTP+iduk/nz7kybd36T+qJ+SjM3jpPyUJe8Mqeek/KzDdohB66T+OCnLLOX3pP9VZFqZrg+k/aGZuwVGD6T+s5bxyxHrpP58u4/SYeuk/CfzlO/p86T/XwoYy+X3pP5XtCuILh+k/0x9Hbl6V6T/10q6rpqDpP5qaqraDqek/I+Hctnqt6T+Mx566UqvpPy6HYPGwp+k/tAq/7POi6T9cPgHzxaXpP5EapZiXq+k/O3Vsmoms6T9iYHtQ/KzpP8rZPg72sOk/eRAhRDm06T9fdSWWGbjpPw==\",\"dtype\":\"float64\",\"order\":\"little\",\"shape\":[149]}},\"selected\":{\"id\":\"1260\"},\"selection_policy\":{\"id\":\"1261\"}},\"id\":\"1248\",\"type\":\"ColumnDataSource\"},{\"attributes\":{\"text\":\"F1 score as a function of the minimum samples per leaf\"},\"id\":\"1201\",\"type\":\"Title\"},{\"attributes\":{\"line_alpha\":0.1,\"line_color\":\"orange\",\"x\":{\"field\":\"x\"},\"y\":{\"field\":\"y\"}},\"id\":\"1250\",\"type\":\"Line\"},{\"attributes\":{},\"id\":\"1197\",\"type\":\"UnionRenderers\"},{\"attributes\":{\"source\":{\"id\":\"1248\"}},\"id\":\"1252\",\"type\":\"CDSView\"},{\"attributes\":{\"bottom_units\":\"screen\",\"fill_alpha\":0.5,\"fill_color\":\"lightgrey\",\"left_units\":\"screen\",\"level\":\"overlay\",\"line_alpha\":1.0,\"line_color\":\"black\",\"line_dash\":[4,4],\"line_width\":2,\"right_units\":\"screen\",\"top_units\":\"screen\"},\"id\":\"1161\",\"type\":\"BoxAnnotation\"},{\"attributes\":{\"data_source\":{\"id\":\"1248\"},\"glyph\":{\"id\":\"1249\"},\"hover_glyph\":null,\"muted_glyph\":null,\"nonselection_glyph\":{\"id\":\"1250\"},\"selection_glyph\":null,\"view\":{\"id\":\"1252\"}},\"id\":\"1251\",\"type\":\"GlyphRenderer\"}],\"root_ids\":[\"1289\"]},\"title\":\"Bokeh Application\",\"version\":\"2.1.1\"}};\n",
       "  var render_items = [{\"docid\":\"28e1ff1c-7d76-459f-9637-c54d12c0ffaf\",\"root_ids\":[\"1289\"],\"roots\":{\"1289\":\"d373ceaf-8d93-47d5-ac0d-25f519e27497\"}}];\n",
       "  root.Bokeh.embed.embed_items_notebook(docs_json, render_items);\n",
       "\n",
       "  }\n",
       "  if (root.Bokeh !== undefined) {\n",
       "    embed_document(root);\n",
       "  } else {\n",
       "    var attempts = 0;\n",
       "    var timer = setInterval(function(root) {\n",
       "      if (root.Bokeh !== undefined) {\n",
       "        clearInterval(timer);\n",
       "        embed_document(root);\n",
       "      } else {\n",
       "        attempts++;\n",
       "        if (attempts > 100) {\n",
       "          clearInterval(timer);\n",
       "          console.log(\"Bokeh: ERROR: Unable to run BokehJS code because BokehJS library is missing\");\n",
       "        }\n",
       "      }\n",
       "    }, 10, root)\n",
       "  }\n",
       "})(window);"
      ],
      "application/vnd.bokehjs_exec.v0+json": ""
     },
     "metadata": {
      "application/vnd.bokehjs_exec.v0+json": {
       "id": "1289"
      }
     },
     "output_type": "display_data"
    }
   ],
   "source": [
    "def calc_F1_leaf(leafs):\n",
    "    clf = DecisionTreeClassifier(min_samples_leaf = leafs)\n",
    "\n",
    "    # Make folds of data for cross validation\n",
    "    k_fold = KFold(n_splits = 10, shuffle = True)\n",
    "\n",
    "    results = []\n",
    "    for train, test in k_fold.split(X):\n",
    "        clf.fit(X.iloc[train], y.iloc[train])\n",
    "        results.append(f1_score(y.iloc[test], clf.predict(X.iloc[test]), average = None))\n",
    "    \n",
    "    return sum(results) / len(results)\n",
    "        \n",
    "leafs = np.arange(1, 150, 1)\n",
    "F1 = np.stack(list(map(calc_F1_leaf, leafs)), axis = 0)\n",
    "filtered_F1 = np.column_stack((lowess(F1[:, 0], leafs, is_sorted=True, frac=0.06, it=0)[:, 1],\n",
    "                             lowess(F1[:, 1], leafs, is_sorted=True, frac=0.06, it=0)[:, 1]))\n",
    "# Normal plot\n",
    "min_samples_plot = figure(title = \"F1 score as a function of the minimum samples per leaf\",\n",
    "                   x_axis_label = \"Minimum samples per leaf\",\n",
    "                   y_axis_label = \"F1\")\n",
    "\n",
    "min_samples_plot.line(leafs, F1[:, 0], legend_label = \"Non-plagiarized\", line_color = \"steelblue\")\n",
    "min_samples_plot.line(leafs, F1[:, 1], legend_label = \"Plagiarized\", line_color = \"orange\")\n",
    "\n",
    "\n",
    "# Filtered plot to remove some noise and better appreciate tendencies\n",
    "min_samples_plot_filtered = figure(title = \"F1 score as a function of the minimum samples per leaf\",\n",
    "                           x_axis_label = \"Minimum samples per leaf\",\n",
    "                           y_axis_label = \"F1\")\n",
    "\n",
    "min_samples_plot_filtered.line(leafs, filtered_F1[:, 0], legend_label = \"Non-plagiarized\", line_color = \"steelblue\")\n",
    "min_samples_plot_filtered.line(leafs, filtered_F1[:, 1], legend_label = \"Plagiarized\", line_color = \"orange\")\n",
    "\n",
    "\n",
    "show(gridplot([[min_samples_plot, min_samples_plot_filtered]], sizing_mode='scale_both'))"
   ]
  },
  {
   "cell_type": "markdown",
   "metadata": {},
   "source": [
    "Dado que el plot normal tiene mucho ruido, nos fijaremos en el suvizado por loess. Se puede ver una región en la que crece desde cero y la puntuación de los no plagiados cae rapidamente."
   ]
  },
  {
   "cell_type": "markdown",
   "metadata": {},
   "source": [
    "## Optimización del minimo número de muestras por división"
   ]
  },
  {
   "cell_type": "markdown",
   "metadata": {},
   "source": [
    "Ahora estudiaremos como afecta a la precisión el minimo numero de muestras necesario para dividir un nodo en sus hijos. En este caso lo estudiaremos como la fracción del total de las muestras que le hemos pasado al clasificador."
   ]
  },
  {
   "cell_type": "code",
   "execution_count": 7,
   "metadata": {
    "scrolled": false
   },
   "outputs": [
    {
     "data": {
      "text/html": [
       "\n",
       "\n",
       "\n",
       "\n",
       "\n",
       "\n",
       "  <div class=\"bk-root\" id=\"9989c40b-62af-4853-98b3-2341ccd9fb98\" data-root-id=\"1593\"></div>\n"
      ]
     },
     "metadata": {},
     "output_type": "display_data"
    },
    {
     "data": {
      "application/javascript": [
       "(function(root) {\n",
       "  function embed_document(root) {\n",
       "    \n",
       "  var docs_json = {\"ab498e61-5056-4e2b-9eba-60a655266d46\":{\"roots\":{\"references\":[{\"attributes\":{\"children\":[{\"id\":\"1592\"},{\"id\":\"1590\"}],\"sizing_mode\":\"scale_both\"},\"id\":\"1593\",\"type\":\"Column\"},{\"attributes\":{\"data\":{\"x\":{\"__ndarray__\":\"LUMc6+I2Gj898oQZePRwP7a5rlMKwIA/TvqamtgFiT9zncNw06WQP7+9OZS6yJQ/C96vt6HrmD9X/iXbiA6dP1IPTv+3mKA/eB8JkSuqoj+eL8Qin7ukP8Q/f7QSzaY/6k86RobeqD8QYPXX+e+qPzZwsGltAa0/XIBr++ASrz9BSJNGKpKwP1TQcA/kmrE/Z1hO2J2jsj964CuhV6yzP41oCWoRtbQ/oPDmMsu9tT+zeMT7hMa2P8YAosQ+z7c/2Yh/jfjXuD/sEF1WsuC5P/+YOh9s6bo/EiEY6CXyuz8lqfWw3/q8Pzgx03mZA74/S7mwQlMMvz+uIMeFhgrAP7jkNWrjjsA/wqikTkATwT/LbBMznZfBP9Qwghf6G8I/3vTw+1agwj/ouF/gsyTDP/F8zsQQqcM/+kA9qW0txD8EBayNyrHEPw7JGnInNsU/F42JVoS6xT8gUfg64T7GPyoVZx8+w8Y/NNnVA5tHxz89nUTo98vHP0Zhs8xUUMg/UCUisbHUyD9a6ZCVDlnJP2Ot/3lr3ck/bHFuXshhyj92Nd1CJebKP4D5SyeCass/ib26C9/uyz+SgSnwO3PMP5xFmNSY98w/pgkHufV7zT+vzXWdUgDOP7iR5IGvhM4/wlVTZgwJzz/MGcJKaY3PP+pumBfjCNA/79DPiRFL0D/0Mgf8P43QP/mUPm5uz9A//vZ14JwR0T8CWa1Sy1PRPwe75MT5ldE/DB0cNyjY0T8Qf1OpVhrSPxXhihuFXNI/GkPCjbOe0j8fpfn/4eDSPyQHMXIQI9M/KGlo5D5l0z8ty59WbafTPzIt18ib6dM/No8OO8or1D878UWt+G3UP0BTfR8nsNQ/RbW0kVXy1D9KF+wDhDTVP055I3aydtU/U9ta6OC41T9YPZJaD/vVP1yfycw9PdY/YQEBP2x/1j9mYzixmsHWP2vFbyPJA9c/cCenlfdF1z90id4HJojXP3nrFXpUytc/fk1N7IIM2D+Cr4ResU7YP4cRvNDfkNg/jHPzQg7T2D+R1Sq1PBXZP5Y3YidrV9k/mpmZmZmZ2T8=\",\"dtype\":\"float64\",\"order\":\"little\",\"shape\":[100]},\"y\":{\"__ndarray__\":\"Fg0fJbpB6T+qLMJggD3pP5tsfIXOwek/nndnDLn16T/7HBCRXDPqP92X9qBAJOo/Jf4rFZFP6j/FLwv7f1PqPyDPtccIl+o/9sGhdeZA6j8+eqjuw4nqP6UeBqTlFuo/k6UXw71O6j8it3SngvjpP1auoC4wLuo/6qSgr+Je6j9mFLxNka/qPxryXlATZuo/SGkw2l806j/Yk4+MldrpP+ZSC0tT8ek/yhjifkfj6T9uwOAQIdrpPzhw/sN99+k/6igYhwUL6j9FyfGjtyXqP30MzFfL7uk/FRWLx8TN6T+D9leHWMHpP4P6BqrSEOo/5U+EO/nP6T/gAZzLewjqP1IGOpiGHuo/IzfxC+Pb6T9WaTAsOqXpP70wTF/W8Ok/muKD12Oz6T/dxowjgfHpP8Z8Ih6m4+k/6jDenlId6j+guhfun9bpP4Bdk/L1y+k/rirbQp2o6T8KpqV9Ff7pP4VtxyHw7uk/WrWk0bv46T/AFIGSfzzqP80rxP5Jtek/+thO133O6T/ApVgFbuvpP5rwuZI5r+k/8onyLuex6T9XtAFdwo3pPyPHSrHKpek/a/v0bmm06T9NG9u0QL3pP2Oev6jWyek/NRJqiRyv6T+LRSlHYMDpP1BrXXFMvuk/yhAE2NC36T+GK1cYqrfpP1W1MTb0sek/koOhdaa+6T9g6s+hsKPpP/5C/HrDfek/kwo8CLu56T/qmBriVKrpP+BFtTZjdOk/7cFclp7B6T/4PGkoGMPpP8qO0rVrl+k/EiLaFje66T/enLWdC4DpPyN33FUqsOk/VpLFbuaw6T9DQ3ayqY7pP8aXtfgfu+k/ICgHHu6c6T/WHb71JqvpP2u3pjoXtuk/xMI2RzyE6T9I1SImlLDpP3UUuBxejuk/QJ1MzPnC6T+ow+IIXqPpP8rQCFGemOk/KpDrL0u46T+bzPYw4s3pP22McMh3zOk/VVn6yVCk6T8w6kUI5GzpPwNiK/cgzuk/GEEsSkOf6T9o7l+LUKXpP5PJHOEX0ek/BdSWMU+56T86th1uqn/pP5WhyMdtduk/PcbBmGa46T8=\",\"dtype\":\"float64\",\"order\":\"little\",\"shape\":[100]}},\"selected\":{\"id\":\"1500\"},\"selection_policy\":{\"id\":\"1501\"}},\"id\":\"1488\",\"type\":\"ColumnDataSource\"},{\"attributes\":{},\"id\":\"1500\",\"type\":\"Selection\"},{\"attributes\":{},\"id\":\"1501\",\"type\":\"UnionRenderers\"},{\"attributes\":{\"text\":\"F1 score as a function of the fraction of the minimum samples required to split\"},\"id\":\"1441\",\"type\":\"Title\"},{\"attributes\":{\"axis_label\":\"F1\",\"formatter\":{\"id\":\"1544\"},\"ticker\":{\"id\":\"1520\"}},\"id\":\"1519\",\"type\":\"LinearAxis\"},{\"attributes\":{},\"id\":\"1516\",\"type\":\"BasicTicker\"},{\"attributes\":{},\"id\":\"1507\",\"type\":\"DataRange1d\"},{\"attributes\":{\"line_alpha\":0.1,\"line_color\":\"steelblue\",\"x\":{\"field\":\"x\"},\"y\":{\"field\":\"y\"}},\"id\":\"1475\",\"type\":\"Line\"},{\"attributes\":{\"items\":[{\"id\":\"1487\"},{\"id\":\"1503\"}]},\"id\":\"1486\",\"type\":\"Legend\"},{\"attributes\":{\"data_source\":{\"id\":\"1552\"},\"glyph\":{\"id\":\"1553\"},\"hover_glyph\":null,\"muted_glyph\":null,\"nonselection_glyph\":{\"id\":\"1554\"},\"selection_glyph\":null,\"view\":{\"id\":\"1556\"}},\"id\":\"1555\",\"type\":\"GlyphRenderer\"},{\"attributes\":{\"text\":\"F1 score as a function of the fraction of minimum samples required to split\"},\"id\":\"1505\",\"type\":\"Title\"},{\"attributes\":{\"line_color\":\"steelblue\",\"x\":{\"field\":\"x\"},\"y\":{\"field\":\"y\"}},\"id\":\"1474\",\"type\":\"Line\"},{\"attributes\":{\"label\":{\"value\":\"Non-plagiarized\"},\"renderers\":[{\"id\":\"1476\"}]},\"id\":\"1487\",\"type\":\"LegendItem\"},{\"attributes\":{\"data\":{\"x\":{\"__ndarray__\":\"LUMc6+I2Gj898oQZePRwP7a5rlMKwIA/TvqamtgFiT9zncNw06WQP7+9OZS6yJQ/C96vt6HrmD9X/iXbiA6dP1IPTv+3mKA/eB8JkSuqoj+eL8Qin7ukP8Q/f7QSzaY/6k86RobeqD8QYPXX+e+qPzZwsGltAa0/XIBr++ASrz9BSJNGKpKwP1TQcA/kmrE/Z1hO2J2jsj964CuhV6yzP41oCWoRtbQ/oPDmMsu9tT+zeMT7hMa2P8YAosQ+z7c/2Yh/jfjXuD/sEF1WsuC5P/+YOh9s6bo/EiEY6CXyuz8lqfWw3/q8Pzgx03mZA74/S7mwQlMMvz+uIMeFhgrAP7jkNWrjjsA/wqikTkATwT/LbBMznZfBP9Qwghf6G8I/3vTw+1agwj/ouF/gsyTDP/F8zsQQqcM/+kA9qW0txD8EBayNyrHEPw7JGnInNsU/F42JVoS6xT8gUfg64T7GPyoVZx8+w8Y/NNnVA5tHxz89nUTo98vHP0Zhs8xUUMg/UCUisbHUyD9a6ZCVDlnJP2Ot/3lr3ck/bHFuXshhyj92Nd1CJebKP4D5SyeCass/ib26C9/uyz+SgSnwO3PMP5xFmNSY98w/pgkHufV7zT+vzXWdUgDOP7iR5IGvhM4/wlVTZgwJzz/MGcJKaY3PP+pumBfjCNA/79DPiRFL0D/0Mgf8P43QP/mUPm5uz9A//vZ14JwR0T8CWa1Sy1PRPwe75MT5ldE/DB0cNyjY0T8Qf1OpVhrSPxXhihuFXNI/GkPCjbOe0j8fpfn/4eDSPyQHMXIQI9M/KGlo5D5l0z8ty59WbafTPzIt18ib6dM/No8OO8or1D878UWt+G3UP0BTfR8nsNQ/RbW0kVXy1D9KF+wDhDTVP055I3aydtU/U9ta6OC41T9YPZJaD/vVP1yfycw9PdY/YQEBP2x/1j9mYzixmsHWP2vFbyPJA9c/cCenlfdF1z90id4HJojXP3nrFXpUytc/fk1N7IIM2D+Cr4ResU7YP4cRvNDfkNg/jHPzQg7T2D+R1Sq1PBXZP5Y3YidrV9k/mpmZmZmZ2T8=\",\"dtype\":\"float64\",\"order\":\"little\",\"shape\":[100]},\"y\":{\"__ndarray__\":\"owvtn0Qu6T+mnJYuTYXpP9V0YKva2uk/+EzJjNAl6j9W9D9Zk07qP+bc9hnPZ+o/ieE3Mth36j8AdTMjBYfqP5uh83yvkeo/F/De2eaS6j8+6l5qcoTqP/NpsJw8e+o/ubwM4wtp6j+xraJRXGnqPyu3wpcGguo/JV2Noneo6j9Y8oO/+cjqPxOXV4Wuyeo/onauYmKu6j893O9BppDqP6/xaruKd+o/vUcjsE1z6j8sVf8ZknjqP3vmy88Uhuo/sPZUHBKS6j+IF8dkypHqP5TUINBYieo/RVA/zx6G6j+1mfKTeorqP6ieHwxmj+o/NN4zuPCZ6j/jX/5ux53qP2Vy95FPmuo/zQhZEn2T6j/sVPaRTYTqP4UMdfuAfuo/SrhakLyA6j/L0XVV+oPqP9SL56aWh+o/9omtlh6C6j+gCpBjrHzqP2gnL3pGdeo/yySnGaR56j+ZdKNiZofqP5TXKzvEmuo/TvPQfJCi6j+wvPG2lJvqPwR2kTEWj+o/67GzrZV86j/y8GEwP2vqP4DL1SLzVuo/wdRIij9C6j+Do9TeyjTqP7Yi17j6Leo/A4Chw3gs6j9apfxQ1DLqP840eG+zK+o/VTq6XVcl6j+fgUW3vBrqP1zvQWtxEOo/8f6VFv0N6j/M+53u3AzqP9isijT8Cuo/xtt9SukE6j96bT6uO/vpP53Ba+9U9Ok/pQOaMZnv6T+JyYOxwvLpP9BFilTA+Ok/RiOsdoX66T/JypVf0gDqPwon7/0HA+o/VqIZx4P+6T/dS4folfvpP8D+YWmq9uk/zrGOHbf26T/0mIvtRPnpPxmjnZo7+Ok/6k2Neuz36T94zI9MuvfpPxLB4vN4+Ok/f8Vv/p336T/v+Od+P/TpP5iMNCtL9Ok/VOZxHEf06T/Xi4gn8PXpP2op5jNG9+k/7udukKH76T9RjJAiL/3pP+Eubisp+uk/2zkpoVX16T9/Lk59A/XpP7B0qEIq9+k/aZ4QT/L76T/HjXC5SPzpP8iOnvqQ+ek/5wvdVBP36T9Dgvxo7PHpP+UtGc6h7Ok/mG/yjL7n6T8=\",\"dtype\":\"float64\",\"order\":\"little\",\"shape\":[100]}},\"selected\":{\"id\":\"1547\"},\"selection_policy\":{\"id\":\"1548\"}},\"id\":\"1537\",\"type\":\"ColumnDataSource\"},{\"attributes\":{},\"id\":\"1509\",\"type\":\"DataRange1d\"},{\"attributes\":{\"axis_label\":\"fraction\",\"formatter\":{\"id\":\"1546\"},\"ticker\":{\"id\":\"1516\"}},\"id\":\"1515\",\"type\":\"LinearAxis\"},{\"attributes\":{\"source\":{\"id\":\"1473\"}},\"id\":\"1477\",\"type\":\"CDSView\"},{\"attributes\":{},\"id\":\"1513\",\"type\":\"LinearScale\"},{\"attributes\":{},\"id\":\"1520\",\"type\":\"BasicTicker\"},{\"attributes\":{},\"id\":\"1511\",\"type\":\"LinearScale\"},{\"attributes\":{\"axis\":{\"id\":\"1515\"},\"ticker\":null},\"id\":\"1518\",\"type\":\"Grid\"},{\"attributes\":{\"axis\":{\"id\":\"1519\"},\"dimension\":1,\"ticker\":null},\"id\":\"1522\",\"type\":\"Grid\"},{\"attributes\":{},\"id\":\"1524\",\"type\":\"WheelZoomTool\"},{\"attributes\":{},\"id\":\"1523\",\"type\":\"PanTool\"},{\"attributes\":{},\"id\":\"1480\",\"type\":\"BasicTickFormatter\"},{\"attributes\":{},\"id\":\"1528\",\"type\":\"HelpTool\"},{\"attributes\":{\"overlay\":{\"id\":\"1529\"}},\"id\":\"1525\",\"type\":\"BoxZoomTool\"},{\"attributes\":{},\"id\":\"1526\",\"type\":\"SaveTool\"},{\"attributes\":{},\"id\":\"1527\",\"type\":\"ResetTool\"},{\"attributes\":{\"toolbar\":{\"id\":\"1591\"},\"toolbar_location\":\"above\"},\"id\":\"1592\",\"type\":\"ToolbarBox\"},{\"attributes\":{},\"id\":\"1564\",\"type\":\"Selection\"},{\"attributes\":{},\"id\":\"1565\",\"type\":\"UnionRenderers\"},{\"attributes\":{\"bottom_units\":\"screen\",\"fill_alpha\":0.5,\"fill_color\":\"lightgrey\",\"left_units\":\"screen\",\"level\":\"overlay\",\"line_alpha\":1.0,\"line_color\":\"black\",\"line_dash\":[4,4],\"line_width\":2,\"right_units\":\"screen\",\"top_units\":\"screen\"},\"id\":\"1529\",\"type\":\"BoxAnnotation\"},{\"attributes\":{},\"id\":\"1482\",\"type\":\"BasicTickFormatter\"},{\"attributes\":{\"source\":{\"id\":\"1537\"}},\"id\":\"1541\",\"type\":\"CDSView\"},{\"attributes\":{},\"id\":\"1483\",\"type\":\"Selection\"},{\"attributes\":{},\"id\":\"1484\",\"type\":\"UnionRenderers\"},{\"attributes\":{\"children\":[[{\"id\":\"1440\"},0,0],[{\"id\":\"1504\"},0,1]]},\"id\":\"1590\",\"type\":\"GridBox\"},{\"attributes\":{\"line_color\":\"steelblue\",\"x\":{\"field\":\"x\"},\"y\":{\"field\":\"y\"}},\"id\":\"1538\",\"type\":\"Line\"},{\"attributes\":{\"active_drag\":\"auto\",\"active_inspect\":\"auto\",\"active_multi\":null,\"active_scroll\":\"auto\",\"active_tap\":\"auto\",\"tools\":[{\"id\":\"1523\"},{\"id\":\"1524\"},{\"id\":\"1525\"},{\"id\":\"1526\"},{\"id\":\"1527\"},{\"id\":\"1528\"}]},\"id\":\"1530\",\"type\":\"Toolbar\"},{\"attributes\":{\"line_alpha\":0.1,\"line_color\":\"steelblue\",\"x\":{\"field\":\"x\"},\"y\":{\"field\":\"y\"}},\"id\":\"1539\",\"type\":\"Line\"},{\"attributes\":{\"data_source\":{\"id\":\"1473\"},\"glyph\":{\"id\":\"1474\"},\"hover_glyph\":null,\"muted_glyph\":null,\"nonselection_glyph\":{\"id\":\"1475\"},\"selection_glyph\":null,\"view\":{\"id\":\"1477\"}},\"id\":\"1476\",\"type\":\"GlyphRenderer\"},{\"attributes\":{\"toolbars\":[{\"id\":\"1466\"},{\"id\":\"1530\"}],\"tools\":[{\"id\":\"1459\"},{\"id\":\"1460\"},{\"id\":\"1461\"},{\"id\":\"1462\"},{\"id\":\"1463\"},{\"id\":\"1464\"},{\"id\":\"1523\"},{\"id\":\"1524\"},{\"id\":\"1525\"},{\"id\":\"1526\"},{\"id\":\"1527\"},{\"id\":\"1528\"}]},\"id\":\"1591\",\"type\":\"ProxyToolbar\"},{\"attributes\":{\"items\":[{\"id\":\"1551\"},{\"id\":\"1567\"}]},\"id\":\"1550\",\"type\":\"Legend\"},{\"attributes\":{},\"id\":\"1445\",\"type\":\"DataRange1d\"},{\"attributes\":{\"axis_label\":\"fraction\",\"formatter\":{\"id\":\"1482\"},\"ticker\":{\"id\":\"1452\"}},\"id\":\"1451\",\"type\":\"LinearAxis\"},{\"attributes\":{\"data_source\":{\"id\":\"1537\"},\"glyph\":{\"id\":\"1538\"},\"hover_glyph\":null,\"muted_glyph\":null,\"nonselection_glyph\":{\"id\":\"1539\"},\"selection_glyph\":null,\"view\":{\"id\":\"1541\"}},\"id\":\"1540\",\"type\":\"GlyphRenderer\"},{\"attributes\":{},\"id\":\"1452\",\"type\":\"BasicTicker\"},{\"attributes\":{},\"id\":\"1544\",\"type\":\"BasicTickFormatter\"},{\"attributes\":{\"axis\":{\"id\":\"1455\"},\"dimension\":1,\"ticker\":null},\"id\":\"1458\",\"type\":\"Grid\"},{\"attributes\":{\"line_alpha\":0.1,\"line_color\":\"orange\",\"x\":{\"field\":\"x\"},\"y\":{\"field\":\"y\"}},\"id\":\"1490\",\"type\":\"Line\"},{\"attributes\":{},\"id\":\"1456\",\"type\":\"BasicTicker\"},{\"attributes\":{\"below\":[{\"id\":\"1515\"}],\"center\":[{\"id\":\"1518\"},{\"id\":\"1522\"},{\"id\":\"1550\"}],\"left\":[{\"id\":\"1519\"}],\"renderers\":[{\"id\":\"1540\"},{\"id\":\"1555\"}],\"sizing_mode\":\"scale_both\",\"title\":{\"id\":\"1505\"},\"toolbar\":{\"id\":\"1530\"},\"toolbar_location\":null,\"x_range\":{\"id\":\"1507\"},\"x_scale\":{\"id\":\"1511\"},\"y_range\":{\"id\":\"1509\"},\"y_scale\":{\"id\":\"1513\"}},\"id\":\"1504\",\"subtype\":\"Figure\",\"type\":\"Plot\"},{\"attributes\":{},\"id\":\"1546\",\"type\":\"BasicTickFormatter\"},{\"attributes\":{},\"id\":\"1449\",\"type\":\"LinearScale\"},{\"attributes\":{\"axis\":{\"id\":\"1451\"},\"ticker\":null},\"id\":\"1454\",\"type\":\"Grid\"},{\"attributes\":{\"source\":{\"id\":\"1488\"}},\"id\":\"1492\",\"type\":\"CDSView\"},{\"attributes\":{},\"id\":\"1547\",\"type\":\"Selection\"},{\"attributes\":{},\"id\":\"1548\",\"type\":\"UnionRenderers\"},{\"attributes\":{},\"id\":\"1462\",\"type\":\"SaveTool\"},{\"attributes\":{\"below\":[{\"id\":\"1451\"}],\"center\":[{\"id\":\"1454\"},{\"id\":\"1458\"},{\"id\":\"1486\"}],\"left\":[{\"id\":\"1455\"}],\"renderers\":[{\"id\":\"1476\"},{\"id\":\"1491\"}],\"sizing_mode\":\"scale_both\",\"title\":{\"id\":\"1441\"},\"toolbar\":{\"id\":\"1466\"},\"toolbar_location\":null,\"x_range\":{\"id\":\"1443\"},\"x_scale\":{\"id\":\"1447\"},\"y_range\":{\"id\":\"1445\"},\"y_scale\":{\"id\":\"1449\"}},\"id\":\"1440\",\"subtype\":\"Figure\",\"type\":\"Plot\"},{\"attributes\":{},\"id\":\"1464\",\"type\":\"HelpTool\"},{\"attributes\":{\"active_drag\":\"auto\",\"active_inspect\":\"auto\",\"active_multi\":null,\"active_scroll\":\"auto\",\"active_tap\":\"auto\",\"tools\":[{\"id\":\"1459\"},{\"id\":\"1460\"},{\"id\":\"1461\"},{\"id\":\"1462\"},{\"id\":\"1463\"},{\"id\":\"1464\"}]},\"id\":\"1466\",\"type\":\"Toolbar\"},{\"attributes\":{\"data_source\":{\"id\":\"1488\"},\"glyph\":{\"id\":\"1489\"},\"hover_glyph\":null,\"muted_glyph\":null,\"nonselection_glyph\":{\"id\":\"1490\"},\"selection_glyph\":null,\"view\":{\"id\":\"1492\"}},\"id\":\"1491\",\"type\":\"GlyphRenderer\"},{\"attributes\":{\"overlay\":{\"id\":\"1465\"}},\"id\":\"1461\",\"type\":\"BoxZoomTool\"},{\"attributes\":{\"data\":{\"x\":{\"__ndarray__\":\"LUMc6+I2Gj898oQZePRwP7a5rlMKwIA/TvqamtgFiT9zncNw06WQP7+9OZS6yJQ/C96vt6HrmD9X/iXbiA6dP1IPTv+3mKA/eB8JkSuqoj+eL8Qin7ukP8Q/f7QSzaY/6k86RobeqD8QYPXX+e+qPzZwsGltAa0/XIBr++ASrz9BSJNGKpKwP1TQcA/kmrE/Z1hO2J2jsj964CuhV6yzP41oCWoRtbQ/oPDmMsu9tT+zeMT7hMa2P8YAosQ+z7c/2Yh/jfjXuD/sEF1WsuC5P/+YOh9s6bo/EiEY6CXyuz8lqfWw3/q8Pzgx03mZA74/S7mwQlMMvz+uIMeFhgrAP7jkNWrjjsA/wqikTkATwT/LbBMznZfBP9Qwghf6G8I/3vTw+1agwj/ouF/gsyTDP/F8zsQQqcM/+kA9qW0txD8EBayNyrHEPw7JGnInNsU/F42JVoS6xT8gUfg64T7GPyoVZx8+w8Y/NNnVA5tHxz89nUTo98vHP0Zhs8xUUMg/UCUisbHUyD9a6ZCVDlnJP2Ot/3lr3ck/bHFuXshhyj92Nd1CJebKP4D5SyeCass/ib26C9/uyz+SgSnwO3PMP5xFmNSY98w/pgkHufV7zT+vzXWdUgDOP7iR5IGvhM4/wlVTZgwJzz/MGcJKaY3PP+pumBfjCNA/79DPiRFL0D/0Mgf8P43QP/mUPm5uz9A//vZ14JwR0T8CWa1Sy1PRPwe75MT5ldE/DB0cNyjY0T8Qf1OpVhrSPxXhihuFXNI/GkPCjbOe0j8fpfn/4eDSPyQHMXIQI9M/KGlo5D5l0z8ty59WbafTPzIt18ib6dM/No8OO8or1D878UWt+G3UP0BTfR8nsNQ/RbW0kVXy1D9KF+wDhDTVP055I3aydtU/U9ta6OC41T9YPZJaD/vVP1yfycw9PdY/YQEBP2x/1j9mYzixmsHWP2vFbyPJA9c/cCenlfdF1z90id4HJojXP3nrFXpUytc/fk1N7IIM2D+Cr4ResU7YP4cRvNDfkNg/jHPzQg7T2D+R1Sq1PBXZP5Y3YidrV9k/mpmZmZmZ2T8=\",\"dtype\":\"float64\",\"order\":\"little\",\"shape\":[100]},\"y\":{\"__ndarray__\":\"CIlB1aA36T8JcChuc2jpP/Yc1XSqAOo/0PgJ3gwY6j8tQPRZ6pnqP/r5Jn5dQOo/8L5JOmt06j8dMFiUDIjqP2OgG5A+xOo/8/szVYBd6j+yBmhgR7zqP/bUhGSHTuo/I1YaQmSS6j9VahQ5RDfqP+a99HetYuo/M6Zs/u276j9SoSdMz/bqP/sSdtjmy+o/2uHONq3F6j9VNqHLr2fqP+WoyxmkjOo/ggMjTFZN6j9DBcMjo4HqPwJHI842huo/EvvLf06W6j9tJKNRQaDqP4L8NEVikOo/xkRxKeRr6j/obuuh+HjqPw3flP+lvuo/Nhmj34J/6j+FexXnfo3qP9ZL4MiTyOo/KttkQoeL6j82uGI1D3fqP0V7h5Aiceo/qIrg1KKE6j8KW7CtNJvqP11hxCJgY+o/aqhVPwWm6j9ryQy2NXLqP6PFHuOOeeo/C8MDtAdS6j+DI93vaJrqP8ORTC38nuo/zZZTGwOr6j/lyX+drq7qPwjKlPWYfOo/SJd1CDeJ6j+l7/eATWbqP6WXZX9OX+o/2iR7TeM56j8+yXfo1C/qP72IZ1LqGuo/OpuiQcRN6j9NPQ/vkwLqP1Z4LhDoYeo/sxXchYwX6j9DAf9pGQvqPwMKP1O7F+o/vqn/f1AQ6j99p5egcQLqP+1ltQHSDuo/yvhtsAgS6j+dukyUef7pP6teFpPS2Ok/SHX/vhf86T/eq+FisffpP6OrTep84uk/hfyPH1QQ6j/2rPgHmPvpPxo3bV6b+ek/pYAs8egY6j94/8XVxevpPyZmUd5K8uk/Oqbhspz36T8STB5jdfrpP1tFc2DTAOo/HrNiZbft6T8lhliQcPXpP2VaYyE8Auo/tWkG1ezz6T8TIGw4o/rpPxaY3TFx4ek/6u6BOfEE6j/DV/tr1+/pP3PzIui6+ek/lm0EucPr6T+OkcIcGRPqP8BoIK6w/ek/UorZzBft6T/2oWCWA+DpPwJ/FHdxEOo/5grQlpv26T/r/P8Wc/XpP1I4bk9TA+o/Pf7zYT346T9GcXPGd+7pP9v15fUG7Ok/rrFBllzp6T8=\",\"dtype\":\"float64\",\"order\":\"little\",\"shape\":[100]}},\"selected\":{\"id\":\"1483\"},\"selection_policy\":{\"id\":\"1484\"}},\"id\":\"1473\",\"type\":\"ColumnDataSource\"},{\"attributes\":{},\"id\":\"1443\",\"type\":\"DataRange1d\"},{\"attributes\":{},\"id\":\"1460\",\"type\":\"WheelZoomTool\"},{\"attributes\":{},\"id\":\"1463\",\"type\":\"ResetTool\"},{\"attributes\":{},\"id\":\"1447\",\"type\":\"LinearScale\"},{\"attributes\":{\"label\":{\"value\":\"Non-plagiarized\"},\"renderers\":[{\"id\":\"1540\"}]},\"id\":\"1551\",\"type\":\"LegendItem\"},{\"attributes\":{\"label\":{\"value\":\"Plagiarized\"},\"renderers\":[{\"id\":\"1555\"}]},\"id\":\"1567\",\"type\":\"LegendItem\"},{\"attributes\":{\"line_color\":\"orange\",\"x\":{\"field\":\"x\"},\"y\":{\"field\":\"y\"}},\"id\":\"1489\",\"type\":\"Line\"},{\"attributes\":{\"line_color\":\"orange\",\"x\":{\"field\":\"x\"},\"y\":{\"field\":\"y\"}},\"id\":\"1553\",\"type\":\"Line\"},{\"attributes\":{},\"id\":\"1459\",\"type\":\"PanTool\"},{\"attributes\":{\"data\":{\"x\":{\"__ndarray__\":\"LUMc6+I2Gj898oQZePRwP7a5rlMKwIA/TvqamtgFiT9zncNw06WQP7+9OZS6yJQ/C96vt6HrmD9X/iXbiA6dP1IPTv+3mKA/eB8JkSuqoj+eL8Qin7ukP8Q/f7QSzaY/6k86RobeqD8QYPXX+e+qPzZwsGltAa0/XIBr++ASrz9BSJNGKpKwP1TQcA/kmrE/Z1hO2J2jsj964CuhV6yzP41oCWoRtbQ/oPDmMsu9tT+zeMT7hMa2P8YAosQ+z7c/2Yh/jfjXuD/sEF1WsuC5P/+YOh9s6bo/EiEY6CXyuz8lqfWw3/q8Pzgx03mZA74/S7mwQlMMvz+uIMeFhgrAP7jkNWrjjsA/wqikTkATwT/LbBMznZfBP9Qwghf6G8I/3vTw+1agwj/ouF/gsyTDP/F8zsQQqcM/+kA9qW0txD8EBayNyrHEPw7JGnInNsU/F42JVoS6xT8gUfg64T7GPyoVZx8+w8Y/NNnVA5tHxz89nUTo98vHP0Zhs8xUUMg/UCUisbHUyD9a6ZCVDlnJP2Ot/3lr3ck/bHFuXshhyj92Nd1CJebKP4D5SyeCass/ib26C9/uyz+SgSnwO3PMP5xFmNSY98w/pgkHufV7zT+vzXWdUgDOP7iR5IGvhM4/wlVTZgwJzz/MGcJKaY3PP+pumBfjCNA/79DPiRFL0D/0Mgf8P43QP/mUPm5uz9A//vZ14JwR0T8CWa1Sy1PRPwe75MT5ldE/DB0cNyjY0T8Qf1OpVhrSPxXhihuFXNI/GkPCjbOe0j8fpfn/4eDSPyQHMXIQI9M/KGlo5D5l0z8ty59WbafTPzIt18ib6dM/No8OO8or1D878UWt+G3UP0BTfR8nsNQ/RbW0kVXy1D9KF+wDhDTVP055I3aydtU/U9ta6OC41T9YPZJaD/vVP1yfycw9PdY/YQEBP2x/1j9mYzixmsHWP2vFbyPJA9c/cCenlfdF1z90id4HJojXP3nrFXpUytc/fk1N7IIM2D+Cr4ResU7YP4cRvNDfkNg/jHPzQg7T2D+R1Sq1PBXZP5Y3YidrV9k/mpmZmZmZ2T8=\",\"dtype\":\"float64\",\"order\":\"little\",\"shape\":[100]},\"y\":{\"__ndarray__\":\"Coeb5nUp6T+/B9ywRmvpP8aVwSu+q+k/dHPcYHDq6T9zYTccJRfqP+Fcb55NM+o/CHvgbsxJ6j/GwgDUN13qPyUcPl8oZ+o/kTAk31Jn6j/EakMjDlXqP7NNPdrTQ+o/3fx9uvYs6j+MBRoPqinqPwsR7/0cPeo/U6LV8Y9d6j+uNXHGxG7qP3eMf8V/Xeo/iNU6rLYv6j+5K6YiQwbqPx0frwJI7Ok/9D0g1a/l6T9gtfZEN+vpP0zqb8eS9+k/GIaefyQF6j+IjD7jXQPqP9Tiqniv8uk/ftzdQI/i6T9PhvMi697pP0SCWblG5Ok/ocOR93v16T/ktxvSBPzpP54ywhnL8+k/Dk3wNYTl6T9VzR4TLtTpP5ex1Bqry+k/WOcjHnvW6T882HEjWOLpPy8MMjzb7+k/S8N8oOLv6T/oQlRXt+LpP2ZK7MLJ0uk/4boTwDrT6T8XVpK6vN7pP9AXw4UO9uk/eKvpH2IB6j+++84gsfXpP53TiteU6uk/DciV3VPX6T/gK3vpZsnpP0W7744gv+k/UYkcYH6s6T//EOo+Z6TpP5zsAw3wpuk/7NmS5TSx6T9+LjVcc7rpP9vnIzCrvOk/1Mn/IFO96T9lz1bfgbvpPyafoV/8uuk/GwwghrW56T9Y1VIVmrfpP94xkB/Vtek/mJu9r0qt6T+5xzTGgqTpPzBh0jvQoek/FKWguEOd6T95e+/tUZ7pP4d9zQfVpOk/HL3g7qSn6T+1Q/Vvwa7pP3J31xNsrek/YUIZbEOi6T/mVYEBhqLpP39Pp4Groek/vGEQmBGk6T/nvWeqnqfpP+coaeFcpek/ZxZpa2ip6T9McdbDA6jpP3XpqmZvo+k//Ka+TEuh6T/ryICp1J7pP5yUZdO2pek/6B0mHU6n6T9DV2hEtajpP0wXVxIQrek/6EDB96G16T+j5mExf77pP0jNwHr0tuk/YvWaF76o6T82xb9UoqLpP9qvIVjqoOk/cq4op8as6T9O4LhIErXpPxQJammjsuk/TOTyne+n6T/gOrt15pnpPyD88J4YmOk/zw8gzAmZ6T8=\",\"dtype\":\"float64\",\"order\":\"little\",\"shape\":[100]}},\"selected\":{\"id\":\"1564\"},\"selection_policy\":{\"id\":\"1565\"}},\"id\":\"1552\",\"type\":\"ColumnDataSource\"},{\"attributes\":{\"line_alpha\":0.1,\"line_color\":\"orange\",\"x\":{\"field\":\"x\"},\"y\":{\"field\":\"y\"}},\"id\":\"1554\",\"type\":\"Line\"},{\"attributes\":{\"source\":{\"id\":\"1552\"}},\"id\":\"1556\",\"type\":\"CDSView\"},{\"attributes\":{\"axis_label\":\"F1\",\"formatter\":{\"id\":\"1480\"},\"ticker\":{\"id\":\"1456\"}},\"id\":\"1455\",\"type\":\"LinearAxis\"},{\"attributes\":{\"label\":{\"value\":\"Plagiarized\"},\"renderers\":[{\"id\":\"1491\"}]},\"id\":\"1503\",\"type\":\"LegendItem\"},{\"attributes\":{\"bottom_units\":\"screen\",\"fill_alpha\":0.5,\"fill_color\":\"lightgrey\",\"left_units\":\"screen\",\"level\":\"overlay\",\"line_alpha\":1.0,\"line_color\":\"black\",\"line_dash\":[4,4],\"line_width\":2,\"right_units\":\"screen\",\"top_units\":\"screen\"},\"id\":\"1465\",\"type\":\"BoxAnnotation\"}],\"root_ids\":[\"1593\"]},\"title\":\"Bokeh Application\",\"version\":\"2.1.1\"}};\n",
       "  var render_items = [{\"docid\":\"ab498e61-5056-4e2b-9eba-60a655266d46\",\"root_ids\":[\"1593\"],\"roots\":{\"1593\":\"9989c40b-62af-4853-98b3-2341ccd9fb98\"}}];\n",
       "  root.Bokeh.embed.embed_items_notebook(docs_json, render_items);\n",
       "\n",
       "  }\n",
       "  if (root.Bokeh !== undefined) {\n",
       "    embed_document(root);\n",
       "  } else {\n",
       "    var attempts = 0;\n",
       "    var timer = setInterval(function(root) {\n",
       "      if (root.Bokeh !== undefined) {\n",
       "        clearInterval(timer);\n",
       "        embed_document(root);\n",
       "      } else {\n",
       "        attempts++;\n",
       "        if (attempts > 100) {\n",
       "          clearInterval(timer);\n",
       "          console.log(\"Bokeh: ERROR: Unable to run BokehJS code because BokehJS library is missing\");\n",
       "        }\n",
       "      }\n",
       "    }, 10, root)\n",
       "  }\n",
       "})(window);"
      ],
      "application/vnd.bokehjs_exec.v0+json": ""
     },
     "metadata": {
      "application/vnd.bokehjs_exec.v0+json": {
       "id": "1593"
      }
     },
     "output_type": "display_data"
    }
   ],
   "source": [
    "def calc_F1_split(split):\n",
    "    clf = DecisionTreeClassifier(min_samples_split = split)\n",
    "\n",
    "    # Make folds of data for cross validation\n",
    "    k_fold = KFold(n_splits = 10, shuffle = True)\n",
    "\n",
    "    results = []\n",
    "    for train, test in k_fold.split(X):\n",
    "        clf.fit(X.iloc[train], y.iloc[train])\n",
    "        results.append(f1_score(y.iloc[test], clf.predict(X.iloc[test]), average = None))\n",
    "    \n",
    "    return sum(results) / len(results)\n",
    "        \n",
    "splits = np.linspace(0.0001, 0.4, num = 100)\n",
    "F1 = np.stack(list(map(calc_F1_split, splits)), axis = 0)\n",
    "filtered_F1 = np.column_stack((lowess(F1[:, 0], splits, is_sorted=True, frac=0.06, it=0)[:, 1],\n",
    "                               lowess(F1[:, 1], splits, is_sorted=True, frac=0.06, it=0)[:, 1]))\n",
    "# Normal plot\n",
    "split_plot = figure(title = \"F1 score as a function of the fraction of the minimum samples required to split\",\n",
    "                   x_axis_label = \"fraction\",\n",
    "                   y_axis_label = \"F1\")\n",
    "\n",
    "split_plot.line(splits, F1[:, 0], legend_label = \"Non-plagiarized\", line_color = \"steelblue\")\n",
    "split_plot.line(splits, F1[:, 1], legend_label = \"Plagiarized\", line_color = \"orange\")\n",
    "\n",
    "\n",
    "# Filtered plot to remove some noise and better appreciate tendencies\n",
    "split_plot_filtered = figure(title = \"F1 score as a function of the fraction of minimum samples required to split\",\n",
    "                            x_axis_label = \"fraction\",\n",
    "                            y_axis_label = \"F1\")\n",
    "\n",
    "split_plot_filtered.line(splits, filtered_F1[:, 0], legend_label = \"Non-plagiarized\", line_color = \"steelblue\")\n",
    "split_plot_filtered.line(splits, filtered_F1[:, 1], legend_label = \"Plagiarized\", line_color = \"orange\")\n",
    "\n",
    "\n",
    "show(gridplot([[split_plot, split_plot_filtered]], sizing_mode='scale_both'))\n",
    "\n"
   ]
  },
  {
   "cell_type": "markdown",
   "metadata": {},
   "source": [
    "## Optimización del desdeco minimo en la impureza"
   ]
  },
  {
   "cell_type": "markdown",
   "metadata": {},
   "source": [
    "La impureza de un nodo mide a groso modo la homegenidad de de las etiquetas que tiene dicho nodo. El parametro que \n",
    "estamos estudiando lo que hace es ajustar si creara un nueva división en base a si la reducción en la impureza que supone es \n",
    "igual o menor a un valor establecido."
   ]
  },
  {
   "cell_type": "code",
   "execution_count": 8,
   "metadata": {},
   "outputs": [
    {
     "data": {
      "text/html": [
       "\n",
       "\n",
       "\n",
       "\n",
       "\n",
       "\n",
       "  <div class=\"bk-root\" id=\"041a22ef-4d0b-4c43-bce7-108465efff59\" data-root-id=\"1917\"></div>\n"
      ]
     },
     "metadata": {},
     "output_type": "display_data"
    },
    {
     "data": {
      "application/javascript": [
       "(function(root) {\n",
       "  function embed_document(root) {\n",
       "    \n",
       "  var docs_json = {\"e557aa5b-2948-4065-89ae-3d12cfb77e6c\":{\"roots\":{\"references\":[{\"attributes\":{\"children\":[{\"id\":\"1916\"},{\"id\":\"1914\"}],\"sizing_mode\":\"scale_both\"},\"id\":\"1917\",\"type\":\"Column\"},{\"attributes\":{},\"id\":\"1868\",\"type\":\"BasicTickFormatter\"},{\"attributes\":{\"axis_label\":\"F1\",\"formatter\":{\"id\":\"1868\"},\"ticker\":{\"id\":\"1844\"}},\"id\":\"1843\",\"type\":\"LinearAxis\"},{\"attributes\":{},\"id\":\"1831\",\"type\":\"DataRange1d\"},{\"attributes\":{},\"id\":\"1840\",\"type\":\"BasicTicker\"},{\"attributes\":{\"data_source\":{\"id\":\"1876\"},\"glyph\":{\"id\":\"1877\"},\"hover_glyph\":null,\"muted_glyph\":null,\"nonselection_glyph\":{\"id\":\"1878\"},\"selection_glyph\":null,\"view\":{\"id\":\"1880\"}},\"id\":\"1879\",\"type\":\"GlyphRenderer\"},{\"attributes\":{\"text\":\"F1 score as a function of the minimum entropy decrease required to split\"},\"id\":\"1829\",\"type\":\"Title\"},{\"attributes\":{\"data\":{\"x\":{\"__ndarray__\":\"AAAAAAAAAABbv1Kg1q+EP1u/UqDWr5Q/CB988MEHnz9bv1Kg1q+kPzJvZ0jM26k/CB988MEHrz9wZ0jM2xmyP1u/UqDWr7Q/RhdddNFFtz8yb2dIzNu5Px3HcRzHcbw/CB988MEHvz96O0Ni3s7AP3BnSMzbGcI/ZZNNNtlkwz9bv1Kg1q/EP1HrVwrU+sU/RhdddNFFxz88Q2LezpDIPzJvZ0jM28k/J5tssskmyz8dx3Ecx3HMPxPzdobEvM0/CB988MEHzz9/pUCtXynQP3o7Q2LeztA/ddFFF1100T9wZ0jM2xnSP2r9SoFav9I/ZZNNNtlk0z9gKVDrVwrUP1u/UqDWr9Q/VlVVVVVV1T9R61cK1PrVP0yBWr9SoNY/RhdddNFF1z9BrV8pUOvXPzxDYt7OkNg/N9lkk0022T8yb2dIzNvZPy0Fav1Kgdo/J5tssskm2z8iMW9nSMzbPx3HcRzHcdw/GF100UUX3T8T83aGxLzdPw6JeTtDYt4/CB988MEH3z8DtX6lQK3fP3+lQK1fKeA/ffDBBx984D96O0Ni3s7gP3eGxLydIeE/ddFFF1104T9yHMdxHMfhP3BnSMzbGeI/bbLJJpts4j9q/UqBWr/iP2hIzNsZEuM/ZZNNNtlk4z9j3s6QmLfjP2ApUOtXCuQ/XnTRRRdd5D9bv1Kg1q/kP1gK1PqVAuU/VlVVVVVV5T9ToNavFKjlP1HrVwrU+uU/TjbZZJNN5j9MgVq/UqDmP0nM2xkS8+Y/RhdddNFF5z9EYt7OkJjnP0GtXylQ6+c/P/jggw8+6D88Q2LezpDoPzmO4ziO4+g/N9lkk0026T80JObtDInpPzJvZ0jM2+k/L7rooosu6j8tBWr9SoHqPypQ61cK1Oo/J5tssskm6z8l5u0MiXnrPyIxb2dIzOs/IHzwwQcf7D8dx3Ecx3HsPxsS83aGxOw/GF100UUX7T8VqPUrBWrtPxPzdobEvO0/ED744IMP7j8OiXk7Q2LuPwvU+pUCte4/CB988MEH7z8Gav1KgVrvPwO1fqVAre8/AAAAAAAA8D8=\",\"dtype\":\"float64\",\"order\":\"little\",\"shape\":[100]},\"y\":{\"__ndarray__\":\"1n8muQQG6j8yy+3liAPqPywGqQzOAeo/hAJ3vSgB6j9mxriotf3pP8d3vWzZ8+k/7qL/YKfw6T+1VKv5BvPpPxTHXMwf9Ok/l9f1GB306T/h7xj7bfPpP/u9EPRU8+k/NX5mBCT06T85m4JllvXpP6INsBfe9+k/O8u3euP76T+uVN0DycHpP5FQQQ2wvOg/v8DLUGTm5j9ypMPqnq7kP6EciNp/a+I/QSta50AX4D95+ikp5QfcP6lpoaFlYtk/45HOnXiC2D98ex8dKjbYPxx36zd0tdc/oa/hlpII1z8LEN31DFDWP965ImeJmtU/f+RIa08h1T8a6Q5469DUPywb+qLMsNQ/TZYK/Hr+1D8vvG/SMl7VP64TqhoccNU/yVzI+oBk1T/xymOk/GzVP2MDfSPwYdU/iB+R3dtI1T+e+C/+EVTVP0lvkxsBotU/mPXDW4l71T9/FaCy/pfUP+2KEuATZdM/ciccDhNj0j9F96oXNJjRP9lwnIjsZNE/Znod068c0j9wSrnMc3fTP1cpgCxHv9Q/fM264abU1T8MEgEaFmvWP4P+h6dQW9Y/R8hWa5Kt1T+Fn6993cLUP+6vhQs1VtQ/VCigU2Lq0z+o57V0F+7SPyusfES36tE/+ekcoMhH0T8QuFrhMifRP9PD9o+6r9E/jgBXVxjW0j9Gfads8GnUP1hdEt6XCdY/dWE9f0xa1z+xriD0Iy7YP7QTWpNpJtg/7i6n9ll11z9v5KQK+6fWP0E7tZ0QINY/x53YU4+41T+mOf/7Q4nVPx3M8R3F2tU/3UVYoLA91j++fm4rAGbWP2cflKn+kNY/Rf1UbZJu1j/wjyheZMPVP7O1EqCSrtQ//467axrf0z89G2wlpYrTP8k2l4U+bdM/E2iHY/8Y0z/mUh4rAgLTPxaqUlu/x9I/hPb+auuZ0j/uZtTcN2nSP9b1HiOcgNI/eLD8NvDH0j+orTlN4inTP0/ekqncm9M/tBZErjEQ1D9VgJkXz0vUPz21mGEzYNQ/PT5S+9E51D8sGp5mWwjUPwyd+YxN49M/3o3Zj/vD0z8=\",\"dtype\":\"float64\",\"order\":\"little\",\"shape\":[100]}},\"selected\":{\"id\":\"1871\"},\"selection_policy\":{\"id\":\"1872\"}},\"id\":\"1861\",\"type\":\"ColumnDataSource\"},{\"attributes\":{\"axis\":{\"id\":\"1775\"},\"ticker\":null},\"id\":\"1778\",\"type\":\"Grid\"},{\"attributes\":{},\"id\":\"1833\",\"type\":\"DataRange1d\"},{\"attributes\":{\"axis_label\":\"fraction\",\"formatter\":{\"id\":\"1870\"},\"ticker\":{\"id\":\"1840\"}},\"id\":\"1839\",\"type\":\"LinearAxis\"},{\"attributes\":{},\"id\":\"1837\",\"type\":\"LinearScale\"},{\"attributes\":{},\"id\":\"1844\",\"type\":\"BasicTicker\"},{\"attributes\":{},\"id\":\"1835\",\"type\":\"LinearScale\"},{\"attributes\":{\"axis\":{\"id\":\"1839\"},\"ticker\":null},\"id\":\"1842\",\"type\":\"Grid\"},{\"attributes\":{\"axis\":{\"id\":\"1843\"},\"dimension\":1,\"ticker\":null},\"id\":\"1846\",\"type\":\"Grid\"},{\"attributes\":{},\"id\":\"1848\",\"type\":\"WheelZoomTool\"},{\"attributes\":{},\"id\":\"1847\",\"type\":\"PanTool\"},{\"attributes\":{},\"id\":\"1852\",\"type\":\"HelpTool\"},{\"attributes\":{},\"id\":\"1870\",\"type\":\"BasicTickFormatter\"},{\"attributes\":{\"overlay\":{\"id\":\"1789\"}},\"id\":\"1785\",\"type\":\"BoxZoomTool\"},{\"attributes\":{\"overlay\":{\"id\":\"1853\"}},\"id\":\"1849\",\"type\":\"BoxZoomTool\"},{\"attributes\":{},\"id\":\"1850\",\"type\":\"SaveTool\"},{\"attributes\":{},\"id\":\"1851\",\"type\":\"ResetTool\"},{\"attributes\":{\"line_color\":\"orange\",\"x\":{\"field\":\"x\"},\"y\":{\"field\":\"y\"}},\"id\":\"1813\",\"type\":\"Line\"},{\"attributes\":{\"data_source\":{\"id\":\"1861\"},\"glyph\":{\"id\":\"1862\"},\"hover_glyph\":null,\"muted_glyph\":null,\"nonselection_glyph\":{\"id\":\"1863\"},\"selection_glyph\":null,\"view\":{\"id\":\"1865\"}},\"id\":\"1864\",\"type\":\"GlyphRenderer\"},{\"attributes\":{\"label\":{\"value\":\"Plagiarized\"},\"renderers\":[{\"id\":\"1879\"}]},\"id\":\"1891\",\"type\":\"LegendItem\"},{\"attributes\":{\"toolbars\":[{\"id\":\"1790\"},{\"id\":\"1854\"}],\"tools\":[{\"id\":\"1783\"},{\"id\":\"1784\"},{\"id\":\"1785\"},{\"id\":\"1786\"},{\"id\":\"1787\"},{\"id\":\"1788\"},{\"id\":\"1847\"},{\"id\":\"1848\"},{\"id\":\"1849\"},{\"id\":\"1850\"},{\"id\":\"1851\"},{\"id\":\"1852\"}]},\"id\":\"1915\",\"type\":\"ProxyToolbar\"},{\"attributes\":{},\"id\":\"1871\",\"type\":\"Selection\"},{\"attributes\":{},\"id\":\"1872\",\"type\":\"UnionRenderers\"},{\"attributes\":{},\"id\":\"1888\",\"type\":\"Selection\"},{\"attributes\":{\"label\":{\"value\":\"Plagiarized\"},\"renderers\":[{\"id\":\"1815\"}]},\"id\":\"1827\",\"type\":\"LegendItem\"},{\"attributes\":{},\"id\":\"1889\",\"type\":\"UnionRenderers\"},{\"attributes\":{\"bottom_units\":\"screen\",\"fill_alpha\":0.5,\"fill_color\":\"lightgrey\",\"left_units\":\"screen\",\"level\":\"overlay\",\"line_alpha\":1.0,\"line_color\":\"black\",\"line_dash\":[4,4],\"line_width\":2,\"right_units\":\"screen\",\"top_units\":\"screen\"},\"id\":\"1853\",\"type\":\"BoxAnnotation\"},{\"attributes\":{\"source\":{\"id\":\"1812\"}},\"id\":\"1816\",\"type\":\"CDSView\"},{\"attributes\":{},\"id\":\"1783\",\"type\":\"PanTool\"},{\"attributes\":{},\"id\":\"1787\",\"type\":\"ResetTool\"},{\"attributes\":{},\"id\":\"1788\",\"type\":\"HelpTool\"},{\"attributes\":{},\"id\":\"1784\",\"type\":\"WheelZoomTool\"},{\"attributes\":{},\"id\":\"1786\",\"type\":\"SaveTool\"},{\"attributes\":{\"line_color\":\"orange\",\"x\":{\"field\":\"x\"},\"y\":{\"field\":\"y\"}},\"id\":\"1877\",\"type\":\"Line\"},{\"attributes\":{\"data\":{\"x\":{\"__ndarray__\":\"AAAAAAAAAABbv1Kg1q+EP1u/UqDWr5Q/CB988MEHnz9bv1Kg1q+kPzJvZ0jM26k/CB988MEHrz9wZ0jM2xmyP1u/UqDWr7Q/RhdddNFFtz8yb2dIzNu5Px3HcRzHcbw/CB988MEHvz96O0Ni3s7AP3BnSMzbGcI/ZZNNNtlkwz9bv1Kg1q/EP1HrVwrU+sU/RhdddNFFxz88Q2LezpDIPzJvZ0jM28k/J5tssskmyz8dx3Ecx3HMPxPzdobEvM0/CB988MEHzz9/pUCtXynQP3o7Q2LeztA/ddFFF1100T9wZ0jM2xnSP2r9SoFav9I/ZZNNNtlk0z9gKVDrVwrUP1u/UqDWr9Q/VlVVVVVV1T9R61cK1PrVP0yBWr9SoNY/RhdddNFF1z9BrV8pUOvXPzxDYt7OkNg/N9lkk0022T8yb2dIzNvZPy0Fav1Kgdo/J5tssskm2z8iMW9nSMzbPx3HcRzHcdw/GF100UUX3T8T83aGxLzdPw6JeTtDYt4/CB988MEH3z8DtX6lQK3fP3+lQK1fKeA/ffDBBx984D96O0Ni3s7gP3eGxLydIeE/ddFFF1104T9yHMdxHMfhP3BnSMzbGeI/bbLJJpts4j9q/UqBWr/iP2hIzNsZEuM/ZZNNNtlk4z9j3s6QmLfjP2ApUOtXCuQ/XnTRRRdd5D9bv1Kg1q/kP1gK1PqVAuU/VlVVVVVV5T9ToNavFKjlP1HrVwrU+uU/TjbZZJNN5j9MgVq/UqDmP0nM2xkS8+Y/RhdddNFF5z9EYt7OkJjnP0GtXylQ6+c/P/jggw8+6D88Q2LezpDoPzmO4ziO4+g/N9lkk0026T80JObtDInpPzJvZ0jM2+k/L7rooosu6j8tBWr9SoHqPypQ61cK1Oo/J5tssskm6z8l5u0MiXnrPyIxb2dIzOs/IHzwwQcf7D8dx3Ecx3HsPxsS83aGxOw/GF100UUX7T8VqPUrBWrtPxPzdobEvO0/ED744IMP7j8OiXk7Q2LuPwvU+pUCte4/CB988MEH7z8Gav1KgVrvPwO1fqVAre8/AAAAAAAA8D8=\",\"dtype\":\"float64\",\"order\":\"little\",\"shape\":[100]},\"y\":{\"__ndarray__\":\"5FHIn1Ki6T/FHE0rQKPpPy44x9WmpOk/5APmQX2m6T+/+pWnL6fpPxQHMI62pek/upkD/UWn6T/M5lyApqfpP0IKHBORouk/tvp9wh2d6T+sauW2F5vpP8mlYGSNm+k/jnGv3bmc6T8s/SuraaHpP975bZbFq+k/5+nRsu+26T9TGRidT5bpP86XOt6nxOg/EeGhvvTb5j/kfLNT2xvkP7eVYYvl/+A/Yh484jHy2z/FDa3UZ3fWPw/w4uXHXNI/QbHn8jNV0D9N2ZtyWhDQP+dYFAuuitA/a5F4OnxK0T8/MPeqUS/SP+60xAKXG9M/7XV41rXD0z/8qkyuVDLUP8Oonq9cWNQ//NEFePAD1D9LsXL/epnTP0Geogj/f9M/HlXQrTuJ0z9GzPcT3YHTPyUFMmsUitM/738+GU2Z0z8C/0zr6ILTPzIked+lMNM/AECKMu9e0z9ouEzX5k3UP90Cn+sTftU/J/sfrgp01j8XueiBBDjXPzssie6UYdc/wpCJq6if1j8Z2JMi+T/VP8odkU8PANQ/PVTbTUb+0j8H/f6ZCXfSP3XbhyAyiNI/Q5eTarUu0z+n62nfDQTUP9sKJNyyVdQ/ah4PKDao1D+ty4QS75fVP59gKa/7ntY/NG0FNy9T1z/feT3LZobXP0/x2hRsGtc/f94gRu4V1j8/N9oQCaLUP7Nal4bdEdM/Yx3ACAbC0T/KR2iFWOfQP4qw/oII5dA/ihXGrFOC0T8Dzo3qLzDSP64retsomNI/MrGIpLDr0j9LhewR2hrTP1fSVm4709I/+yZrCFyF0j+chFshz3LSP5XuiRXgXdI/wAFfUmOS0j/eNUhCdVHTP3zlXH7Pb9Q/YzHSSuM01T/sVrwvR3nVPx24/kiHjtU/ID7TyH3N1T9agpWfHr3VPyuuALKO0NU/h82+Rbfl1T/Ml8cZbhDWP3jhG3qb9NU/xNtpmDeq1T+gSldVU0LVP9v7hSp+zdQ/tlCps1Zf1D+KV7L7HinUP7JFDwQbEdQ/hLVQ7ylD1D/okjYh04XUP56ol7a9vNQ/6sgabbDs1D8=\",\"dtype\":\"float64\",\"order\":\"little\",\"shape\":[100]}},\"selected\":{\"id\":\"1888\"},\"selection_policy\":{\"id\":\"1889\"}},\"id\":\"1876\",\"type\":\"ColumnDataSource\"},{\"attributes\":{\"line_alpha\":0.1,\"line_color\":\"orange\",\"x\":{\"field\":\"x\"},\"y\":{\"field\":\"y\"}},\"id\":\"1878\",\"type\":\"Line\"},{\"attributes\":{\"source\":{\"id\":\"1876\"}},\"id\":\"1880\",\"type\":\"CDSView\"},{\"attributes\":{\"active_drag\":\"auto\",\"active_inspect\":\"auto\",\"active_multi\":null,\"active_scroll\":\"auto\",\"active_tap\":\"auto\",\"tools\":[{\"id\":\"1783\"},{\"id\":\"1784\"},{\"id\":\"1785\"},{\"id\":\"1786\"},{\"id\":\"1787\"},{\"id\":\"1788\"}]},\"id\":\"1790\",\"type\":\"Toolbar\"},{\"attributes\":{\"line_alpha\":0.1,\"line_color\":\"orange\",\"x\":{\"field\":\"x\"},\"y\":{\"field\":\"y\"}},\"id\":\"1814\",\"type\":\"Line\"},{\"attributes\":{\"active_drag\":\"auto\",\"active_inspect\":\"auto\",\"active_multi\":null,\"active_scroll\":\"auto\",\"active_tap\":\"auto\",\"tools\":[{\"id\":\"1847\"},{\"id\":\"1848\"},{\"id\":\"1849\"},{\"id\":\"1850\"},{\"id\":\"1851\"},{\"id\":\"1852\"}]},\"id\":\"1854\",\"type\":\"Toolbar\"},{\"attributes\":{\"bottom_units\":\"screen\",\"fill_alpha\":0.5,\"fill_color\":\"lightgrey\",\"left_units\":\"screen\",\"level\":\"overlay\",\"line_alpha\":1.0,\"line_color\":\"black\",\"line_dash\":[4,4],\"line_width\":2,\"right_units\":\"screen\",\"top_units\":\"screen\"},\"id\":\"1789\",\"type\":\"BoxAnnotation\"},{\"attributes\":{\"line_alpha\":0.1,\"line_color\":\"steelblue\",\"x\":{\"field\":\"x\"},\"y\":{\"field\":\"y\"}},\"id\":\"1863\",\"type\":\"Line\"},{\"attributes\":{\"items\":[{\"id\":\"1875\"},{\"id\":\"1891\"}]},\"id\":\"1874\",\"type\":\"Legend\"},{\"attributes\":{\"line_color\":\"steelblue\",\"x\":{\"field\":\"x\"},\"y\":{\"field\":\"y\"}},\"id\":\"1862\",\"type\":\"Line\"},{\"attributes\":{\"label\":{\"value\":\"Non-plagiarized\"},\"renderers\":[{\"id\":\"1864\"}]},\"id\":\"1875\",\"type\":\"LegendItem\"},{\"attributes\":{\"source\":{\"id\":\"1861\"}},\"id\":\"1865\",\"type\":\"CDSView\"},{\"attributes\":{\"toolbar\":{\"id\":\"1915\"},\"toolbar_location\":\"above\"},\"id\":\"1916\",\"type\":\"ToolbarBox\"},{\"attributes\":{\"line_alpha\":0.1,\"line_color\":\"steelblue\",\"x\":{\"field\":\"x\"},\"y\":{\"field\":\"y\"}},\"id\":\"1799\",\"type\":\"Line\"},{\"attributes\":{\"items\":[{\"id\":\"1811\"},{\"id\":\"1827\"}]},\"id\":\"1810\",\"type\":\"Legend\"},{\"attributes\":{\"line_color\":\"steelblue\",\"x\":{\"field\":\"x\"},\"y\":{\"field\":\"y\"}},\"id\":\"1798\",\"type\":\"Line\"},{\"attributes\":{\"below\":[{\"id\":\"1775\"}],\"center\":[{\"id\":\"1778\"},{\"id\":\"1782\"},{\"id\":\"1810\"}],\"left\":[{\"id\":\"1779\"}],\"renderers\":[{\"id\":\"1800\"},{\"id\":\"1815\"}],\"sizing_mode\":\"scale_both\",\"title\":{\"id\":\"1765\"},\"toolbar\":{\"id\":\"1790\"},\"toolbar_location\":null,\"x_range\":{\"id\":\"1767\"},\"x_scale\":{\"id\":\"1771\"},\"y_range\":{\"id\":\"1769\"},\"y_scale\":{\"id\":\"1773\"}},\"id\":\"1764\",\"subtype\":\"Figure\",\"type\":\"Plot\"},{\"attributes\":{},\"id\":\"1773\",\"type\":\"LinearScale\"},{\"attributes\":{},\"id\":\"1776\",\"type\":\"BasicTicker\"},{\"attributes\":{\"source\":{\"id\":\"1797\"}},\"id\":\"1801\",\"type\":\"CDSView\"},{\"attributes\":{\"data_source\":{\"id\":\"1812\"},\"glyph\":{\"id\":\"1813\"},\"hover_glyph\":null,\"muted_glyph\":null,\"nonselection_glyph\":{\"id\":\"1814\"},\"selection_glyph\":null,\"view\":{\"id\":\"1816\"}},\"id\":\"1815\",\"type\":\"GlyphRenderer\"},{\"attributes\":{\"axis_label\":\"fraction\",\"formatter\":{\"id\":\"1806\"},\"ticker\":{\"id\":\"1776\"}},\"id\":\"1775\",\"type\":\"LinearAxis\"},{\"attributes\":{\"data\":{\"x\":{\"__ndarray__\":\"AAAAAAAAAABbv1Kg1q+EP1u/UqDWr5Q/CB988MEHnz9bv1Kg1q+kPzJvZ0jM26k/CB988MEHrz9wZ0jM2xmyP1u/UqDWr7Q/RhdddNFFtz8yb2dIzNu5Px3HcRzHcbw/CB988MEHvz96O0Ni3s7AP3BnSMzbGcI/ZZNNNtlkwz9bv1Kg1q/EP1HrVwrU+sU/RhdddNFFxz88Q2LezpDIPzJvZ0jM28k/J5tssskmyz8dx3Ecx3HMPxPzdobEvM0/CB988MEHzz9/pUCtXynQP3o7Q2LeztA/ddFFF1100T9wZ0jM2xnSP2r9SoFav9I/ZZNNNtlk0z9gKVDrVwrUP1u/UqDWr9Q/VlVVVVVV1T9R61cK1PrVP0yBWr9SoNY/RhdddNFF1z9BrV8pUOvXPzxDYt7OkNg/N9lkk0022T8yb2dIzNvZPy0Fav1Kgdo/J5tssskm2z8iMW9nSMzbPx3HcRzHcdw/GF100UUX3T8T83aGxLzdPw6JeTtDYt4/CB988MEH3z8DtX6lQK3fP3+lQK1fKeA/ffDBBx984D96O0Ni3s7gP3eGxLydIeE/ddFFF1104T9yHMdxHMfhP3BnSMzbGeI/bbLJJpts4j9q/UqBWr/iP2hIzNsZEuM/ZZNNNtlk4z9j3s6QmLfjP2ApUOtXCuQ/XnTRRRdd5D9bv1Kg1q/kP1gK1PqVAuU/VlVVVVVV5T9ToNavFKjlP1HrVwrU+uU/TjbZZJNN5j9MgVq/UqDmP0nM2xkS8+Y/RhdddNFF5z9EYt7OkJjnP0GtXylQ6+c/P/jggw8+6D88Q2LezpDoPzmO4ziO4+g/N9lkk0026T80JObtDInpPzJvZ0jM2+k/L7rooosu6j8tBWr9SoHqPypQ61cK1Oo/J5tssskm6z8l5u0MiXnrPyIxb2dIzOs/IHzwwQcf7D8dx3Ecx3HsPxsS83aGxOw/GF100UUX7T8VqPUrBWrtPxPzdobEvO0/ED744IMP7j8OiXk7Q2LuPwvU+pUCte4/CB988MEH7z8Gav1KgVrvPwO1fqVAre8/AAAAAAAA8D8=\",\"dtype\":\"float64\",\"order\":\"little\",\"shape\":[100]},\"y\":{\"__ndarray__\":\"MPUdeNGK6T8VegpEZqnqP8YwKH20Buo/46ASvK/k6T+zeRlqU+zpPx7lmEID4Ok/TpD75xPz6T+jMddFTgrqP/1WGKk44ek/Jn6c8EH66T96LkrhSQ/qP6hOTuf0x+k/kn+Z5PoC6j+lfMu7ae/pPxauLX5t/Ok/w8CKGXrz6T/4xy1DlBHqP3C8jL9S7uk/5erlvoIP6j8G80DPcwbqP1tJEyOVPNw/MfsHsKRR2D8ORX95v8rYPzhGMxXTCN0/juQ5idk81D8W3y4awznYP8Q2MZXfRtg/7SRy5A361z/3m7sgFJLYPxQ5jruzi9Q/unVwXP2W1D/dafajgG3QPxJ21aRQl9Q/n82EHwKS2D9u83O/x3/UP1ofpQDPXtQ/nE8akozg2D/OLlSyf2jUPxOECkaYSdA/3iOxEpGp2D8yYke7V6jYP32uq5Z9QdA/uv92U2Bu2D+1vzfuGIDUP748d2lzqdg/boSAxCtu0D8lOp/2AGPQPw7xjTXYAMc/g6dLeN63zz94s1PQKYrUPy+glK6uOdQ/OH5O5N0U3T88d4lAZNXYPytfK1muEtA/S0VtvIO12D/X9oLMT5fUP8YFqOWQM9Q/JnxXewp21D/gMOzj7YXPP64x74sCfdg/86iMZ8pwzz8STDrt6hXIP4IMnySoNtA/8hug8l1W0D+I8lMwMTPUP0m3o1pt4dg/IsGSgEAg3T/WttqC9c3UP3IIcdp77Ng/LvEFCcyP2D8FJWy0Zp/YPxjGfPM9UdQ/ZVvUfhaB1D8ekLirqhfUP45b37uxZdQ/nNc88pBa2D898ElGCqDUP83ySMce3tw/I+QvNZfu1D/7laLSORPQPxOyz+w7Cd0/qprc+Yo20D+9zW9lU63UPx3eHxEWiMg/86jwTTZQ2D8X3VKaCz/QP5K+dJ1h1Ng/W8ztdqJuzz8lHCzDtwLUP9FhgCjFosc/jvPPuFwD1D+YFwbJQ4zUP5kpgL10SNQ/+IDHf16G2D8KnXtWFcrOP1NsOdhhR9Q/LIKixyei1D+UEWRvgjDUP7YkUnhXfdg/vJhxpScU0D8=\",\"dtype\":\"float64\",\"order\":\"little\",\"shape\":[100]}},\"selected\":{\"id\":\"1807\"},\"selection_policy\":{\"id\":\"1808\"}},\"id\":\"1797\",\"type\":\"ColumnDataSource\"},{\"attributes\":{},\"id\":\"1780\",\"type\":\"BasicTicker\"},{\"attributes\":{\"axis\":{\"id\":\"1779\"},\"dimension\":1,\"ticker\":null},\"id\":\"1782\",\"type\":\"Grid\"},{\"attributes\":{},\"id\":\"1771\",\"type\":\"LinearScale\"},{\"attributes\":{\"axis_label\":\"F1\",\"formatter\":{\"id\":\"1804\"},\"ticker\":{\"id\":\"1780\"}},\"id\":\"1779\",\"type\":\"LinearAxis\"},{\"attributes\":{},\"id\":\"1804\",\"type\":\"BasicTickFormatter\"},{\"attributes\":{\"text\":\"F1 score as a function of the minimum entropy decrease required to split\"},\"id\":\"1765\",\"type\":\"Title\"},{\"attributes\":{\"children\":[[{\"id\":\"1764\"},0,0],[{\"id\":\"1828\"},0,1]]},\"id\":\"1914\",\"type\":\"GridBox\"},{\"attributes\":{\"data_source\":{\"id\":\"1797\"},\"glyph\":{\"id\":\"1798\"},\"hover_glyph\":null,\"muted_glyph\":null,\"nonselection_glyph\":{\"id\":\"1799\"},\"selection_glyph\":null,\"view\":{\"id\":\"1801\"}},\"id\":\"1800\",\"type\":\"GlyphRenderer\"},{\"attributes\":{},\"id\":\"1767\",\"type\":\"DataRange1d\"},{\"attributes\":{},\"id\":\"1808\",\"type\":\"UnionRenderers\"},{\"attributes\":{\"below\":[{\"id\":\"1839\"}],\"center\":[{\"id\":\"1842\"},{\"id\":\"1846\"},{\"id\":\"1874\"}],\"left\":[{\"id\":\"1843\"}],\"renderers\":[{\"id\":\"1864\"},{\"id\":\"1879\"}],\"sizing_mode\":\"scale_both\",\"title\":{\"id\":\"1829\"},\"toolbar\":{\"id\":\"1854\"},\"toolbar_location\":null,\"x_range\":{\"id\":\"1831\"},\"x_scale\":{\"id\":\"1835\"},\"y_range\":{\"id\":\"1833\"},\"y_scale\":{\"id\":\"1837\"}},\"id\":\"1828\",\"subtype\":\"Figure\",\"type\":\"Plot\"},{\"attributes\":{},\"id\":\"1806\",\"type\":\"BasicTickFormatter\"},{\"attributes\":{},\"id\":\"1807\",\"type\":\"Selection\"},{\"attributes\":{},\"id\":\"1769\",\"type\":\"DataRange1d\"},{\"attributes\":{\"label\":{\"value\":\"Non-plagiarized\"},\"renderers\":[{\"id\":\"1800\"}]},\"id\":\"1811\",\"type\":\"LegendItem\"},{\"attributes\":{\"data\":{\"x\":{\"__ndarray__\":\"AAAAAAAAAABbv1Kg1q+EP1u/UqDWr5Q/CB988MEHnz9bv1Kg1q+kPzJvZ0jM26k/CB988MEHrz9wZ0jM2xmyP1u/UqDWr7Q/RhdddNFFtz8yb2dIzNu5Px3HcRzHcbw/CB988MEHvz96O0Ni3s7AP3BnSMzbGcI/ZZNNNtlkwz9bv1Kg1q/EP1HrVwrU+sU/RhdddNFFxz88Q2LezpDIPzJvZ0jM28k/J5tssskmyz8dx3Ecx3HMPxPzdobEvM0/CB988MEHzz9/pUCtXynQP3o7Q2LeztA/ddFFF1100T9wZ0jM2xnSP2r9SoFav9I/ZZNNNtlk0z9gKVDrVwrUP1u/UqDWr9Q/VlVVVVVV1T9R61cK1PrVP0yBWr9SoNY/RhdddNFF1z9BrV8pUOvXPzxDYt7OkNg/N9lkk0022T8yb2dIzNvZPy0Fav1Kgdo/J5tssskm2z8iMW9nSMzbPx3HcRzHcdw/GF100UUX3T8T83aGxLzdPw6JeTtDYt4/CB988MEH3z8DtX6lQK3fP3+lQK1fKeA/ffDBBx984D96O0Ni3s7gP3eGxLydIeE/ddFFF1104T9yHMdxHMfhP3BnSMzbGeI/bbLJJpts4j9q/UqBWr/iP2hIzNsZEuM/ZZNNNtlk4z9j3s6QmLfjP2ApUOtXCuQ/XnTRRRdd5D9bv1Kg1q/kP1gK1PqVAuU/VlVVVVVV5T9ToNavFKjlP1HrVwrU+uU/TjbZZJNN5j9MgVq/UqDmP0nM2xkS8+Y/RhdddNFF5z9EYt7OkJjnP0GtXylQ6+c/P/jggw8+6D88Q2LezpDoPzmO4ziO4+g/N9lkk0026T80JObtDInpPzJvZ0jM2+k/L7rooosu6j8tBWr9SoHqPypQ61cK1Oo/J5tssskm6z8l5u0MiXnrPyIxb2dIzOs/IHzwwQcf7D8dx3Ecx3HsPxsS83aGxOw/GF100UUX7T8VqPUrBWrtPxPzdobEvO0/ED744IMP7j8OiXk7Q2LuPwvU+pUCte4/CB988MEH7z8Gav1KgVrvPwO1fqVAre8/AAAAAAAA8D8=\",\"dtype\":\"float64\",\"order\":\"little\",\"shape\":[100]},\"y\":{\"__ndarray__\":\"gDPp1mN66T9NrYq31uDpP4KPLCAYo+k/9IWb2rKQ6T8tSp2lnKfpP3CIm7ZEm+k/OuPkZjWy6T8OZCCzPbfpP0HhqdPIjuk/Zj7ORRbO6T8iUXYSJZPpP1iqL0n5Tek/mqVMbf6n6T/wuRDzQrfpP+qcXg8atuk/Iz+VHkeY6T8lTs0spdbpP1aWtJBQv+k/apDkvcnO6T9L/KCKAsLpP2419ZduReI/Ik7JLP+Kzz9MFdvMIT/QP/uLsleQ7Mc/Buf5B4w01D9Op1nKO0zPPwZ7W7kchM8/shzT/A7Xzj+qfwdvpQnQP28rj47Si9Q/uur7gNyX1D88wrXbbvbYPzMKw0YDktQ/Ms1fC7wI0D9WFtQh34DUP64VVZ18XtQ/LbJa/WZX0D/X261BamrUP6D6hrB81Ng/dqkMJ9kd0D8bG7a83h/QP1YYsVdnydg/FjwOFDTOzz9WVek8cH/UP7lZI1wTH9A/N9c/Gjf32D9+HXWwlezYP8s4eJhUl9w/JwAIMTNk2D+vpbVMQYzUPyBkgpuTOdQ/vvXxmsn6xz+nXbJ7Gk3QPwmqujzTntg/k2BV5Voq0D9DtOlPpJfUP/41oAFzMdQ/kkcF4iN21D/AHQoeqEzYP2Zb1Vtf4c8/Vgwpcw9B2D8+QqXwkiDdP5WPToquwNg/EoYsw8Tg2D9JgIHPnTzUP75uq7iDV9A/hQWfQ1EYyD+7ewGAfs7UP5HEWLdNYNA/vfSGPxIJ0D8Nhcqw/A/QP4ReYOSiU9Q/nIxLFr+B1D+OXbA2ixfUP8YwhqtnatQ/+jzBmdugzz9GvXvKnqHUP4NfQPvfjsc/u+kvF3ru1D/0gTLyoJ7YP/K1kGlp58c/KdvVUHbA2D8eQCv2F6vUP2LVrIdtV90/Y9h7sshwzz+2IuG+F8vYP5DHFc3/S9A/C6FCFzdA2D+PJXqY3gTUP8YP7xW759w/stIUAaIE1D9i5o4xm4vUPyuZV+jLSdQ/o5U26An6zz9mEbf2ze7XP+WD/T8xSNQ/E3Bw5lug1D+dxOOgczLUP2YQZv4t4M8/XiXR/Lmf2D8=\",\"dtype\":\"float64\",\"order\":\"little\",\"shape\":[100]}},\"selected\":{\"id\":\"1824\"},\"selection_policy\":{\"id\":\"1825\"}},\"id\":\"1812\",\"type\":\"ColumnDataSource\"},{\"attributes\":{},\"id\":\"1824\",\"type\":\"Selection\"},{\"attributes\":{},\"id\":\"1825\",\"type\":\"UnionRenderers\"}],\"root_ids\":[\"1917\"]},\"title\":\"Bokeh Application\",\"version\":\"2.1.1\"}};\n",
       "  var render_items = [{\"docid\":\"e557aa5b-2948-4065-89ae-3d12cfb77e6c\",\"root_ids\":[\"1917\"],\"roots\":{\"1917\":\"041a22ef-4d0b-4c43-bce7-108465efff59\"}}];\n",
       "  root.Bokeh.embed.embed_items_notebook(docs_json, render_items);\n",
       "\n",
       "  }\n",
       "  if (root.Bokeh !== undefined) {\n",
       "    embed_document(root);\n",
       "  } else {\n",
       "    var attempts = 0;\n",
       "    var timer = setInterval(function(root) {\n",
       "      if (root.Bokeh !== undefined) {\n",
       "        clearInterval(timer);\n",
       "        embed_document(root);\n",
       "      } else {\n",
       "        attempts++;\n",
       "        if (attempts > 100) {\n",
       "          clearInterval(timer);\n",
       "          console.log(\"Bokeh: ERROR: Unable to run BokehJS code because BokehJS library is missing\");\n",
       "        }\n",
       "      }\n",
       "    }, 10, root)\n",
       "  }\n",
       "})(window);"
      ],
      "application/vnd.bokehjs_exec.v0+json": ""
     },
     "metadata": {
      "application/vnd.bokehjs_exec.v0+json": {
       "id": "1917"
      }
     },
     "output_type": "display_data"
    }
   ],
   "source": [
    "def calc_F1_impurity(imp):\n",
    "    clf = DecisionTreeClassifier(min_impurity_decrease = imp)\n",
    "\n",
    "    # Make folds of data for cross validation\n",
    "    k_fold = KFold(n_splits = 10, shuffle = True)\n",
    "\n",
    "    results = []\n",
    "    for train, test in k_fold.split(X):\n",
    "        clf.fit(X.iloc[train], y.iloc[train])\n",
    "        results.append(f1_score(y.iloc[test], clf.predict(X.iloc[test]), average = None))\n",
    "    \n",
    "    return sum(results) / len(results)\n",
    "        \n",
    "imp = np.linspace(0, 1, num = 100)\n",
    "F1 = np.stack(list(map(calc_F1_impurity, imp)), axis = 0)\n",
    "filtered_F1 = np.column_stack((lowess(F1[:, 0], imp, is_sorted=True, frac=0.1, it=0)[:, 1],\n",
    "                               lowess(F1[:, 1], imp, is_sorted=True, frac=0.1, it=0)[:, 1]))\n",
    "# Normal plot\n",
    "imp_plot = figure(title = \"F1 score as a function of the minimum entropy decrease required to split\",\n",
    "                   x_axis_label = \"fraction\",\n",
    "                   y_axis_label = \"F1\")\n",
    "\n",
    "imp_plot.line(imp, F1[:, 0], legend_label = \"Non-plagiarized\", line_color = \"steelblue\")\n",
    "imp_plot.line(imp, F1[:, 1], legend_label = \"Plagiarized\", line_color = \"orange\")\n",
    "\n",
    "\n",
    "# Filtered plot to remove some noise and better appreciate tendencies\n",
    "imp_plot_filtered = figure(title = \"F1 score as a function of the minimum entropy decrease required to split\",\n",
    "                            x_axis_label = \"fraction\",\n",
    "                            y_axis_label = \"F1\")\n",
    "\n",
    "imp_plot_filtered.line(imp, filtered_F1[:, 0], legend_label = \"Non-plagiarized\", line_color = \"steelblue\")\n",
    "imp_plot_filtered.line(imp, filtered_F1[:, 1], legend_label = \"Plagiarized\", line_color = \"orange\")\n",
    "\n",
    "\n",
    "show(gridplot([[imp_plot, imp_plot_filtered]], sizing_mode='scale_both'))\n",
    "\n",
    "# Any value that isn't zero will make our score drop quickly, no too interesting"
   ]
  },
  {
   "cell_type": "markdown",
   "metadata": {},
   "source": [
    "Como podemos observar, a partir de 0.2 cae de forma drastica y oscila para ambas categorias. Por lo tanto lo dejaremos como nulo."
   ]
  },
  {
   "cell_type": "markdown",
   "metadata": {},
   "source": [
    "## Evalución del modelo depurado"
   ]
  },
  {
   "cell_type": "code",
   "execution_count": 9,
   "metadata": {},
   "outputs": [
    {
     "data": {
      "text/html": [
       "<div>\n",
       "<style scoped>\n",
       "    .dataframe tbody tr th:only-of-type {\n",
       "        vertical-align: middle;\n",
       "    }\n",
       "\n",
       "    .dataframe tbody tr th {\n",
       "        vertical-align: top;\n",
       "    }\n",
       "\n",
       "    .dataframe thead th {\n",
       "        text-align: right;\n",
       "    }\n",
       "</style>\n",
       "<table border=\"1\" class=\"dataframe\">\n",
       "  <thead>\n",
       "    <tr style=\"text-align: right;\">\n",
       "      <th></th>\n",
       "      <th>Avg. non-plagiarized</th>\n",
       "      <th>Avg. plagiarized</th>\n",
       "      <th>Std. non-plagiarized</th>\n",
       "      <th>Std. plagiarized</th>\n",
       "    </tr>\n",
       "    <tr>\n",
       "      <th>Score type</th>\n",
       "      <th></th>\n",
       "      <th></th>\n",
       "      <th></th>\n",
       "      <th></th>\n",
       "    </tr>\n",
       "  </thead>\n",
       "  <tbody>\n",
       "    <tr>\n",
       "      <th>precision</th>\n",
       "      <td>0.817517</td>\n",
       "      <td>0.843297</td>\n",
       "      <td>0.021160</td>\n",
       "      <td>0.028116</td>\n",
       "    </tr>\n",
       "    <tr>\n",
       "      <th>recall</th>\n",
       "      <td>0.848443</td>\n",
       "      <td>0.812233</td>\n",
       "      <td>0.028836</td>\n",
       "      <td>0.018294</td>\n",
       "    </tr>\n",
       "    <tr>\n",
       "      <th>F1</th>\n",
       "      <td>0.832096</td>\n",
       "      <td>0.826821</td>\n",
       "      <td>0.021440</td>\n",
       "      <td>0.019130</td>\n",
       "    </tr>\n",
       "    <tr>\n",
       "      <th>support</th>\n",
       "      <td>68.500000</td>\n",
       "      <td>68.500000</td>\n",
       "      <td>2.402323</td>\n",
       "      <td>2.402323</td>\n",
       "    </tr>\n",
       "  </tbody>\n",
       "</table>\n",
       "</div>"
      ],
      "text/plain": [
       "            Avg. non-plagiarized  Avg. plagiarized  Std. non-plagiarized  \\\n",
       "Score type                                                                 \n",
       "precision               0.817517          0.843297              0.021160   \n",
       "recall                  0.848443          0.812233              0.028836   \n",
       "F1                      0.832096          0.826821              0.021440   \n",
       "support                68.500000         68.500000              2.402323   \n",
       "\n",
       "            Std. plagiarized  \n",
       "Score type                    \n",
       "precision           0.028116  \n",
       "recall              0.018294  \n",
       "F1                  0.019130  \n",
       "support             2.402323  "
      ]
     },
     "execution_count": 9,
     "metadata": {},
     "output_type": "execute_result"
    }
   ],
   "source": [
    "# Reevaluate the model with the slight optimizations found earlier\n",
    "# Igual hay que hacerlo dinamicamente\n",
    "clf = DecisionTreeClassifier(max_depth = 5, min_samples_split = 0.05, min_samples_leaf = 20)\n",
    "eval_model_table(X, y, clf)"
   ]
  },
  {
   "cell_type": "markdown",
   "metadata": {},
   "source": [
    "Como podemos ver, hemos mejorado (muy ligeramente) el modelo, llegando a tener un precisión cercana al 70%. Finalmente, guardamos el modelo para poder ser reusado posteriormente."
   ]
  },
  {
   "cell_type": "code",
   "execution_count": 24,
   "metadata": {},
   "outputs": [],
   "source": [
    "import pickle\n",
    "# We improved a bit, lets save it and work with this one\n",
    "with open(\"../models/ngram_tok.model\", \"wb\") as f:\n",
    "    pickle.dump(clf, f)"
   ]
  },
  {
   "cell_type": "code",
   "execution_count": 25,
   "metadata": {},
   "outputs": [
    {
     "data": {
      "text/plain": [
       "array([1, 1, 1, ..., 1, 0, 0], dtype=int64)"
      ]
     },
     "execution_count": 25,
     "metadata": {},
     "output_type": "execute_result"
    }
   ],
   "source": [
    "clf.predict(X)"
   ]
  },
  {
   "cell_type": "code",
   "execution_count": 26,
   "metadata": {},
   "outputs": [
    {
     "data": {
      "text/plain": [
       "array([[0.        , 1.        ],\n",
       "       [0.375     , 0.625     ],\n",
       "       [0.16814159, 0.83185841],\n",
       "       ...,\n",
       "       [0.375     , 0.625     ],\n",
       "       [0.54761905, 0.45238095],\n",
       "       [0.93495935, 0.06504065]])"
      ]
     },
     "execution_count": 26,
     "metadata": {},
     "output_type": "execute_result"
    }
   ],
   "source": [
    "clf.predict_proba(X)"
   ]
  },
  {
   "cell_type": "code",
   "execution_count": null,
   "metadata": {},
   "outputs": [],
   "source": []
  }
 ],
 "metadata": {
  "kernelspec": {
   "display_name": "Python 3",
   "language": "python",
   "name": "python3"
  },
  "language_info": {
   "codemirror_mode": {
    "name": "ipython",
    "version": 3
   },
   "file_extension": ".py",
   "mimetype": "text/x-python",
   "name": "python",
   "nbconvert_exporter": "python",
   "pygments_lexer": "ipython3",
   "version": "3.8.3"
  }
 },
 "nbformat": 4,
 "nbformat_minor": 2
}
