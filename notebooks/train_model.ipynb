{
 "cells": [
  {
   "cell_type": "markdown",
   "metadata": {
    "pycharm": {
     "name": "#%% Decision Tree\n"
    }
   },
   "source": [
    "# Decision Tree Classifier for a plagiarism detector"
   ]
  },
  {
   "cell_type": "markdown",
   "metadata": {},
   "source": [
    "## Building the data dataframe"
   ]
  },
  {
   "cell_type": "code",
   "execution_count": 1,
   "metadata": {
    "pycharm": {
     "name": "#%%\n"
    }
   },
   "outputs": [
    {
     "name": "stdout",
     "output_type": "stream",
     "text": [
      "Plagiarized = 683\n",
      "Non-plagiarized = 330567\n"
     ]
    }
   ],
   "source": [
    "# Load modules and packages\n",
    "import pandas as pd\n",
    "import numpy as np\n",
    "\n",
    "df = pd.read_csv(\"../data/subset.csv\")\n",
    "df.columns = [\"src\", \"sus\", \"jaccard\", \"containment\", \"dep\", \"plagiarized\"]\n",
    "\n",
    "# Purge dataframe from erros introduced when writing the csv \n",
    "df = df[~df.isin([np.nan, np.inf, -np.inf]).any(1)]\n",
    "\n",
    "print(f\"Plagiarized = {len(df[df['plagiarized'] == 1])}\")\n",
    "print(f\"Non-plagiarized = {len(df[df['plagiarized'] == 0])}\")"
   ]
  },
  {
   "cell_type": "markdown",
   "metadata": {},
   "source": [
    "# Training a tree classificator"
   ]
  },
  {
   "cell_type": "code",
   "execution_count": 27,
   "metadata": {
    "scrolled": true
   },
   "outputs": [
    {
     "data": {
      "text/html": [
       "\n",
       "    <div class=\"bk-root\">\n",
       "        <a href=\"https://bokeh.org\" target=\"_blank\" class=\"bk-logo bk-logo-small bk-logo-notebook\"></a>\n",
       "        <span id=\"4385\">Loading BokehJS ...</span>\n",
       "    </div>"
      ]
     },
     "metadata": {},
     "output_type": "display_data"
    },
    {
     "data": {
      "application/javascript": [
       "\n",
       "(function(root) {\n",
       "  function now() {\n",
       "    return new Date();\n",
       "  }\n",
       "\n",
       "  var force = true;\n",
       "\n",
       "  if (typeof root._bokeh_onload_callbacks === \"undefined\" || force === true) {\n",
       "    root._bokeh_onload_callbacks = [];\n",
       "    root._bokeh_is_loading = undefined;\n",
       "  }\n",
       "\n",
       "  var JS_MIME_TYPE = 'application/javascript';\n",
       "  var HTML_MIME_TYPE = 'text/html';\n",
       "  var EXEC_MIME_TYPE = 'application/vnd.bokehjs_exec.v0+json';\n",
       "  var CLASS_NAME = 'output_bokeh rendered_html';\n",
       "\n",
       "  /**\n",
       "   * Render data to the DOM node\n",
       "   */\n",
       "  function render(props, node) {\n",
       "    var script = document.createElement(\"script\");\n",
       "    node.appendChild(script);\n",
       "  }\n",
       "\n",
       "  /**\n",
       "   * Handle when an output is cleared or removed\n",
       "   */\n",
       "  function handleClearOutput(event, handle) {\n",
       "    var cell = handle.cell;\n",
       "\n",
       "    var id = cell.output_area._bokeh_element_id;\n",
       "    var server_id = cell.output_area._bokeh_server_id;\n",
       "    // Clean up Bokeh references\n",
       "    if (id != null && id in Bokeh.index) {\n",
       "      Bokeh.index[id].model.document.clear();\n",
       "      delete Bokeh.index[id];\n",
       "    }\n",
       "\n",
       "    if (server_id !== undefined) {\n",
       "      // Clean up Bokeh references\n",
       "      var cmd = \"from bokeh.io.state import curstate; print(curstate().uuid_to_server['\" + server_id + \"'].get_sessions()[0].document.roots[0]._id)\";\n",
       "      cell.notebook.kernel.execute(cmd, {\n",
       "        iopub: {\n",
       "          output: function(msg) {\n",
       "            var id = msg.content.text.trim();\n",
       "            if (id in Bokeh.index) {\n",
       "              Bokeh.index[id].model.document.clear();\n",
       "              delete Bokeh.index[id];\n",
       "            }\n",
       "          }\n",
       "        }\n",
       "      });\n",
       "      // Destroy server and session\n",
       "      var cmd = \"import bokeh.io.notebook as ion; ion.destroy_server('\" + server_id + \"')\";\n",
       "      cell.notebook.kernel.execute(cmd);\n",
       "    }\n",
       "  }\n",
       "\n",
       "  /**\n",
       "   * Handle when a new output is added\n",
       "   */\n",
       "  function handleAddOutput(event, handle) {\n",
       "    var output_area = handle.output_area;\n",
       "    var output = handle.output;\n",
       "\n",
       "    // limit handleAddOutput to display_data with EXEC_MIME_TYPE content only\n",
       "    if ((output.output_type != \"display_data\") || (!output.data.hasOwnProperty(EXEC_MIME_TYPE))) {\n",
       "      return\n",
       "    }\n",
       "\n",
       "    var toinsert = output_area.element.find(\".\" + CLASS_NAME.split(' ')[0]);\n",
       "\n",
       "    if (output.metadata[EXEC_MIME_TYPE][\"id\"] !== undefined) {\n",
       "      toinsert[toinsert.length - 1].firstChild.textContent = output.data[JS_MIME_TYPE];\n",
       "      // store reference to embed id on output_area\n",
       "      output_area._bokeh_element_id = output.metadata[EXEC_MIME_TYPE][\"id\"];\n",
       "    }\n",
       "    if (output.metadata[EXEC_MIME_TYPE][\"server_id\"] !== undefined) {\n",
       "      var bk_div = document.createElement(\"div\");\n",
       "      bk_div.innerHTML = output.data[HTML_MIME_TYPE];\n",
       "      var script_attrs = bk_div.children[0].attributes;\n",
       "      for (var i = 0; i < script_attrs.length; i++) {\n",
       "        toinsert[toinsert.length - 1].firstChild.setAttribute(script_attrs[i].name, script_attrs[i].value);\n",
       "        toinsert[toinsert.length - 1].firstChild.textContent = bk_div.children[0].textContent\n",
       "      }\n",
       "      // store reference to server id on output_area\n",
       "      output_area._bokeh_server_id = output.metadata[EXEC_MIME_TYPE][\"server_id\"];\n",
       "    }\n",
       "  }\n",
       "\n",
       "  function register_renderer(events, OutputArea) {\n",
       "\n",
       "    function append_mime(data, metadata, element) {\n",
       "      // create a DOM node to render to\n",
       "      var toinsert = this.create_output_subarea(\n",
       "        metadata,\n",
       "        CLASS_NAME,\n",
       "        EXEC_MIME_TYPE\n",
       "      );\n",
       "      this.keyboard_manager.register_events(toinsert);\n",
       "      // Render to node\n",
       "      var props = {data: data, metadata: metadata[EXEC_MIME_TYPE]};\n",
       "      render(props, toinsert[toinsert.length - 1]);\n",
       "      element.append(toinsert);\n",
       "      return toinsert\n",
       "    }\n",
       "\n",
       "    /* Handle when an output is cleared or removed */\n",
       "    events.on('clear_output.CodeCell', handleClearOutput);\n",
       "    events.on('delete.Cell', handleClearOutput);\n",
       "\n",
       "    /* Handle when a new output is added */\n",
       "    events.on('output_added.OutputArea', handleAddOutput);\n",
       "\n",
       "    /**\n",
       "     * Register the mime type and append_mime function with output_area\n",
       "     */\n",
       "    OutputArea.prototype.register_mime_type(EXEC_MIME_TYPE, append_mime, {\n",
       "      /* Is output safe? */\n",
       "      safe: true,\n",
       "      /* Index of renderer in `output_area.display_order` */\n",
       "      index: 0\n",
       "    });\n",
       "  }\n",
       "\n",
       "  // register the mime type if in Jupyter Notebook environment and previously unregistered\n",
       "  if (root.Jupyter !== undefined) {\n",
       "    var events = require('base/js/events');\n",
       "    var OutputArea = require('notebook/js/outputarea').OutputArea;\n",
       "\n",
       "    if (OutputArea.prototype.mime_types().indexOf(EXEC_MIME_TYPE) == -1) {\n",
       "      register_renderer(events, OutputArea);\n",
       "    }\n",
       "  }\n",
       "\n",
       "  \n",
       "  if (typeof (root._bokeh_timeout) === \"undefined\" || force === true) {\n",
       "    root._bokeh_timeout = Date.now() + 5000;\n",
       "    root._bokeh_failed_load = false;\n",
       "  }\n",
       "\n",
       "  var NB_LOAD_WARNING = {'data': {'text/html':\n",
       "     \"<div style='background-color: #fdd'>\\n\"+\n",
       "     \"<p>\\n\"+\n",
       "     \"BokehJS does not appear to have successfully loaded. If loading BokehJS from CDN, this \\n\"+\n",
       "     \"may be due to a slow or bad network connection. Possible fixes:\\n\"+\n",
       "     \"</p>\\n\"+\n",
       "     \"<ul>\\n\"+\n",
       "     \"<li>re-rerun `output_notebook()` to attempt to load from CDN again, or</li>\\n\"+\n",
       "     \"<li>use INLINE resources instead, as so:</li>\\n\"+\n",
       "     \"</ul>\\n\"+\n",
       "     \"<code>\\n\"+\n",
       "     \"from bokeh.resources import INLINE\\n\"+\n",
       "     \"output_notebook(resources=INLINE)\\n\"+\n",
       "     \"</code>\\n\"+\n",
       "     \"</div>\"}};\n",
       "\n",
       "  function display_loaded() {\n",
       "    var el = document.getElementById(\"4385\");\n",
       "    if (el != null) {\n",
       "      el.textContent = \"BokehJS is loading...\";\n",
       "    }\n",
       "    if (root.Bokeh !== undefined) {\n",
       "      if (el != null) {\n",
       "        el.textContent = \"BokehJS \" + root.Bokeh.version + \" successfully loaded.\";\n",
       "      }\n",
       "    } else if (Date.now() < root._bokeh_timeout) {\n",
       "      setTimeout(display_loaded, 100)\n",
       "    }\n",
       "  }\n",
       "\n",
       "\n",
       "  function run_callbacks() {\n",
       "    try {\n",
       "      root._bokeh_onload_callbacks.forEach(function(callback) {\n",
       "        if (callback != null)\n",
       "          callback();\n",
       "      });\n",
       "    } finally {\n",
       "      delete root._bokeh_onload_callbacks\n",
       "    }\n",
       "    console.debug(\"Bokeh: all callbacks have finished\");\n",
       "  }\n",
       "\n",
       "  function load_libs(css_urls, js_urls, callback) {\n",
       "    if (css_urls == null) css_urls = [];\n",
       "    if (js_urls == null) js_urls = [];\n",
       "\n",
       "    root._bokeh_onload_callbacks.push(callback);\n",
       "    if (root._bokeh_is_loading > 0) {\n",
       "      console.debug(\"Bokeh: BokehJS is being loaded, scheduling callback at\", now());\n",
       "      return null;\n",
       "    }\n",
       "    if (js_urls == null || js_urls.length === 0) {\n",
       "      run_callbacks();\n",
       "      return null;\n",
       "    }\n",
       "    console.debug(\"Bokeh: BokehJS not loaded, scheduling load and callback at\", now());\n",
       "    root._bokeh_is_loading = css_urls.length + js_urls.length;\n",
       "\n",
       "    function on_load() {\n",
       "      root._bokeh_is_loading--;\n",
       "      if (root._bokeh_is_loading === 0) {\n",
       "        console.debug(\"Bokeh: all BokehJS libraries/stylesheets loaded\");\n",
       "        run_callbacks()\n",
       "      }\n",
       "    }\n",
       "\n",
       "    function on_error() {\n",
       "      console.error(\"failed to load \" + url);\n",
       "    }\n",
       "\n",
       "    for (var i = 0; i < css_urls.length; i++) {\n",
       "      var url = css_urls[i];\n",
       "      const element = document.createElement(\"link\");\n",
       "      element.onload = on_load;\n",
       "      element.onerror = on_error;\n",
       "      element.rel = \"stylesheet\";\n",
       "      element.type = \"text/css\";\n",
       "      element.href = url;\n",
       "      console.debug(\"Bokeh: injecting link tag for BokehJS stylesheet: \", url);\n",
       "      document.body.appendChild(element);\n",
       "    }\n",
       "\n",
       "    const hashes = {\"https://cdn.bokeh.org/bokeh/release/bokeh-2.2.3.min.js\": \"T2yuo9Oe71Cz/I4X9Ac5+gpEa5a8PpJCDlqKYO0CfAuEszu1JrXLl8YugMqYe3sM\", \"https://cdn.bokeh.org/bokeh/release/bokeh-widgets-2.2.3.min.js\": \"98GDGJ0kOMCUMUePhksaQ/GYgB3+NH9h996V88sh3aOiUNX3N+fLXAtry6xctSZ6\", \"https://cdn.bokeh.org/bokeh/release/bokeh-tables-2.2.3.min.js\": \"89bArO+nlbP3sgakeHjCo1JYxYR5wufVgA3IbUvDY+K7w4zyxJqssu7wVnfeKCq8\"};\n",
       "\n",
       "    for (var i = 0; i < js_urls.length; i++) {\n",
       "      var url = js_urls[i];\n",
       "      var element = document.createElement('script');\n",
       "      element.onload = on_load;\n",
       "      element.onerror = on_error;\n",
       "      element.async = false;\n",
       "      element.src = url;\n",
       "      if (url in hashes) {\n",
       "        element.crossOrigin = \"anonymous\";\n",
       "        element.integrity = \"sha384-\" + hashes[url];\n",
       "      }\n",
       "      console.debug(\"Bokeh: injecting script tag for BokehJS library: \", url);\n",
       "      document.head.appendChild(element);\n",
       "    }\n",
       "  };\n",
       "\n",
       "  function inject_raw_css(css) {\n",
       "    const element = document.createElement(\"style\");\n",
       "    element.appendChild(document.createTextNode(css));\n",
       "    document.body.appendChild(element);\n",
       "  }\n",
       "\n",
       "  \n",
       "  var js_urls = [\"https://cdn.bokeh.org/bokeh/release/bokeh-2.2.3.min.js\", \"https://cdn.bokeh.org/bokeh/release/bokeh-widgets-2.2.3.min.js\", \"https://cdn.bokeh.org/bokeh/release/bokeh-tables-2.2.3.min.js\"];\n",
       "  var css_urls = [];\n",
       "  \n",
       "\n",
       "  var inline_js = [\n",
       "    function(Bokeh) {\n",
       "      Bokeh.set_log_level(\"info\");\n",
       "    },\n",
       "    function(Bokeh) {\n",
       "    \n",
       "    \n",
       "    }\n",
       "  ];\n",
       "\n",
       "  function run_inline_js() {\n",
       "    \n",
       "    if (root.Bokeh !== undefined || force === true) {\n",
       "      \n",
       "    for (var i = 0; i < inline_js.length; i++) {\n",
       "      inline_js[i].call(root, root.Bokeh);\n",
       "    }\n",
       "    if (force === true) {\n",
       "        display_loaded();\n",
       "      }} else if (Date.now() < root._bokeh_timeout) {\n",
       "      setTimeout(run_inline_js, 100);\n",
       "    } else if (!root._bokeh_failed_load) {\n",
       "      console.log(\"Bokeh: BokehJS failed to load within specified timeout.\");\n",
       "      root._bokeh_failed_load = true;\n",
       "    } else if (force !== true) {\n",
       "      var cell = $(document.getElementById(\"4385\")).parents('.cell').data().cell;\n",
       "      cell.output_area.append_execute_result(NB_LOAD_WARNING)\n",
       "    }\n",
       "\n",
       "  }\n",
       "\n",
       "  if (root._bokeh_is_loading === 0) {\n",
       "    console.debug(\"Bokeh: BokehJS loaded, going straight to plotting\");\n",
       "    run_inline_js();\n",
       "  } else {\n",
       "    load_libs(css_urls, js_urls, function() {\n",
       "      console.debug(\"Bokeh: BokehJS plotting callback run at\", now());\n",
       "      run_inline_js();\n",
       "    });\n",
       "  }\n",
       "}(window));"
      ],
      "application/vnd.bokehjs_load.v0+json": "\n(function(root) {\n  function now() {\n    return new Date();\n  }\n\n  var force = true;\n\n  if (typeof root._bokeh_onload_callbacks === \"undefined\" || force === true) {\n    root._bokeh_onload_callbacks = [];\n    root._bokeh_is_loading = undefined;\n  }\n\n  \n\n  \n  if (typeof (root._bokeh_timeout) === \"undefined\" || force === true) {\n    root._bokeh_timeout = Date.now() + 5000;\n    root._bokeh_failed_load = false;\n  }\n\n  var NB_LOAD_WARNING = {'data': {'text/html':\n     \"<div style='background-color: #fdd'>\\n\"+\n     \"<p>\\n\"+\n     \"BokehJS does not appear to have successfully loaded. If loading BokehJS from CDN, this \\n\"+\n     \"may be due to a slow or bad network connection. Possible fixes:\\n\"+\n     \"</p>\\n\"+\n     \"<ul>\\n\"+\n     \"<li>re-rerun `output_notebook()` to attempt to load from CDN again, or</li>\\n\"+\n     \"<li>use INLINE resources instead, as so:</li>\\n\"+\n     \"</ul>\\n\"+\n     \"<code>\\n\"+\n     \"from bokeh.resources import INLINE\\n\"+\n     \"output_notebook(resources=INLINE)\\n\"+\n     \"</code>\\n\"+\n     \"</div>\"}};\n\n  function display_loaded() {\n    var el = document.getElementById(\"4385\");\n    if (el != null) {\n      el.textContent = \"BokehJS is loading...\";\n    }\n    if (root.Bokeh !== undefined) {\n      if (el != null) {\n        el.textContent = \"BokehJS \" + root.Bokeh.version + \" successfully loaded.\";\n      }\n    } else if (Date.now() < root._bokeh_timeout) {\n      setTimeout(display_loaded, 100)\n    }\n  }\n\n\n  function run_callbacks() {\n    try {\n      root._bokeh_onload_callbacks.forEach(function(callback) {\n        if (callback != null)\n          callback();\n      });\n    } finally {\n      delete root._bokeh_onload_callbacks\n    }\n    console.debug(\"Bokeh: all callbacks have finished\");\n  }\n\n  function load_libs(css_urls, js_urls, callback) {\n    if (css_urls == null) css_urls = [];\n    if (js_urls == null) js_urls = [];\n\n    root._bokeh_onload_callbacks.push(callback);\n    if (root._bokeh_is_loading > 0) {\n      console.debug(\"Bokeh: BokehJS is being loaded, scheduling callback at\", now());\n      return null;\n    }\n    if (js_urls == null || js_urls.length === 0) {\n      run_callbacks();\n      return null;\n    }\n    console.debug(\"Bokeh: BokehJS not loaded, scheduling load and callback at\", now());\n    root._bokeh_is_loading = css_urls.length + js_urls.length;\n\n    function on_load() {\n      root._bokeh_is_loading--;\n      if (root._bokeh_is_loading === 0) {\n        console.debug(\"Bokeh: all BokehJS libraries/stylesheets loaded\");\n        run_callbacks()\n      }\n    }\n\n    function on_error() {\n      console.error(\"failed to load \" + url);\n    }\n\n    for (var i = 0; i < css_urls.length; i++) {\n      var url = css_urls[i];\n      const element = document.createElement(\"link\");\n      element.onload = on_load;\n      element.onerror = on_error;\n      element.rel = \"stylesheet\";\n      element.type = \"text/css\";\n      element.href = url;\n      console.debug(\"Bokeh: injecting link tag for BokehJS stylesheet: \", url);\n      document.body.appendChild(element);\n    }\n\n    const hashes = {\"https://cdn.bokeh.org/bokeh/release/bokeh-2.2.3.min.js\": \"T2yuo9Oe71Cz/I4X9Ac5+gpEa5a8PpJCDlqKYO0CfAuEszu1JrXLl8YugMqYe3sM\", \"https://cdn.bokeh.org/bokeh/release/bokeh-widgets-2.2.3.min.js\": \"98GDGJ0kOMCUMUePhksaQ/GYgB3+NH9h996V88sh3aOiUNX3N+fLXAtry6xctSZ6\", \"https://cdn.bokeh.org/bokeh/release/bokeh-tables-2.2.3.min.js\": \"89bArO+nlbP3sgakeHjCo1JYxYR5wufVgA3IbUvDY+K7w4zyxJqssu7wVnfeKCq8\"};\n\n    for (var i = 0; i < js_urls.length; i++) {\n      var url = js_urls[i];\n      var element = document.createElement('script');\n      element.onload = on_load;\n      element.onerror = on_error;\n      element.async = false;\n      element.src = url;\n      if (url in hashes) {\n        element.crossOrigin = \"anonymous\";\n        element.integrity = \"sha384-\" + hashes[url];\n      }\n      console.debug(\"Bokeh: injecting script tag for BokehJS library: \", url);\n      document.head.appendChild(element);\n    }\n  };\n\n  function inject_raw_css(css) {\n    const element = document.createElement(\"style\");\n    element.appendChild(document.createTextNode(css));\n    document.body.appendChild(element);\n  }\n\n  \n  var js_urls = [\"https://cdn.bokeh.org/bokeh/release/bokeh-2.2.3.min.js\", \"https://cdn.bokeh.org/bokeh/release/bokeh-widgets-2.2.3.min.js\", \"https://cdn.bokeh.org/bokeh/release/bokeh-tables-2.2.3.min.js\"];\n  var css_urls = [];\n  \n\n  var inline_js = [\n    function(Bokeh) {\n      Bokeh.set_log_level(\"info\");\n    },\n    function(Bokeh) {\n    \n    \n    }\n  ];\n\n  function run_inline_js() {\n    \n    if (root.Bokeh !== undefined || force === true) {\n      \n    for (var i = 0; i < inline_js.length; i++) {\n      inline_js[i].call(root, root.Bokeh);\n    }\n    if (force === true) {\n        display_loaded();\n      }} else if (Date.now() < root._bokeh_timeout) {\n      setTimeout(run_inline_js, 100);\n    } else if (!root._bokeh_failed_load) {\n      console.log(\"Bokeh: BokehJS failed to load within specified timeout.\");\n      root._bokeh_failed_load = true;\n    } else if (force !== true) {\n      var cell = $(document.getElementById(\"4385\")).parents('.cell').data().cell;\n      cell.output_area.append_execute_result(NB_LOAD_WARNING)\n    }\n\n  }\n\n  if (root._bokeh_is_loading === 0) {\n    console.debug(\"Bokeh: BokehJS loaded, going straight to plotting\");\n    run_inline_js();\n  } else {\n    load_libs(css_urls, js_urls, function() {\n      console.debug(\"Bokeh: BokehJS plotting callback run at\", now());\n      run_inline_js();\n    });\n  }\n}(window));"
     },
     "metadata": {},
     "output_type": "display_data"
    }
   ],
   "source": [
    "from bokeh.plotting import *\n",
    "\n",
    "# Tell bokeh where to output\n",
    "output_notebook()"
   ]
  },
  {
   "cell_type": "markdown",
   "metadata": {},
   "source": [
    "Tenemos un problema con los datos, por la propia naturaleza del problema, hay muchos más casos de documentos original que de plagiados. Si no lo tenemeos en cuenta, dado que el calisificador busca el mayor acierto posible tomará la ruta más fácil que es decir siempre que no se trata de un documento plagiado. Dado que se trata de un prueba de concepto, simplemente recortamos nuestra muestre e introducimos en los datos para el entrenamiento y validación la misma cantidad de entradas de documentos original como plagiados.\n",
    "\n",
    "Otra solución que se podría explorar es la asignación de pesos a los datos."
   ]
  },
  {
   "cell_type": "code",
   "execution_count": 3,
   "metadata": {},
   "outputs": [],
   "source": [
    "# Balance dataframe by undersampling, we assume naively that they should be in equal\n",
    "n = len(df[df['plagiarized'] == 1])\n",
    "data = df[df['plagiarized'] == 1].append(df[df['plagiarized'] == 0].sample(n = n))\n",
    "data.reset_index(inplace = True)\n",
    "\n",
    "# Select data to model\n",
    "features = [\"jaccard\", \"containment\", \"dep\"]\n",
    "X = data[features]\n",
    "y = data[\"plagiarized\"]"
   ]
  },
  {
   "cell_type": "markdown",
   "metadata": {},
   "source": [
    "A continuación comprobaremos como de bien se desenvuelve un clasificador base con nuestros datos. Para medir esto usaremos el puntuador F1, ya que nos da una buena idea de la precision a la hora de clasificar cada tipo de documento. Para ello, usaremos K-Folds, ya que no tenemos tantos datos como para poder dividirls directamente en test y validación"
   ]
  },
  {
   "cell_type": "code",
   "execution_count": 221,
   "metadata": {},
   "outputs": [
    {
     "data": {
      "text/html": [
       "<div>\n",
       "<style scoped>\n",
       "    .dataframe tbody tr th:only-of-type {\n",
       "        vertical-align: middle;\n",
       "    }\n",
       "\n",
       "    .dataframe tbody tr th {\n",
       "        vertical-align: top;\n",
       "    }\n",
       "\n",
       "    .dataframe thead th {\n",
       "        text-align: right;\n",
       "    }\n",
       "</style>\n",
       "<table border=\"1\" class=\"dataframe\">\n",
       "  <thead>\n",
       "    <tr style=\"text-align: right;\">\n",
       "      <th></th>\n",
       "      <th>Avg. non-plagiarized</th>\n",
       "      <th>Avg. plagiarized</th>\n",
       "      <th>Std. non-plagiarized</th>\n",
       "      <th>Std. plagiarized</th>\n",
       "    </tr>\n",
       "    <tr>\n",
       "      <th>Score type</th>\n",
       "      <th></th>\n",
       "      <th></th>\n",
       "      <th></th>\n",
       "      <th></th>\n",
       "    </tr>\n",
       "  </thead>\n",
       "  <tbody>\n",
       "    <tr>\n",
       "      <th>precision</th>\n",
       "      <td>0.666925</td>\n",
       "      <td>0.668296</td>\n",
       "      <td>0.024214</td>\n",
       "      <td>0.017017</td>\n",
       "    </tr>\n",
       "    <tr>\n",
       "      <th>recall</th>\n",
       "      <td>0.664029</td>\n",
       "      <td>0.670102</td>\n",
       "      <td>0.031301</td>\n",
       "      <td>0.017350</td>\n",
       "    </tr>\n",
       "    <tr>\n",
       "      <th>F1</th>\n",
       "      <td>0.664890</td>\n",
       "      <td>0.668527</td>\n",
       "      <td>0.025375</td>\n",
       "      <td>0.012329</td>\n",
       "    </tr>\n",
       "    <tr>\n",
       "      <th>support</th>\n",
       "      <td>68.300000</td>\n",
       "      <td>68.300000</td>\n",
       "      <td>2.565287</td>\n",
       "      <td>2.477495</td>\n",
       "    </tr>\n",
       "  </tbody>\n",
       "</table>\n",
       "</div>"
      ],
      "text/plain": [
       "            Avg. non-plagiarized  Avg. plagiarized  Std. non-plagiarized  \\\n",
       "Score type                                                                 \n",
       "precision               0.666925          0.668296              0.024214   \n",
       "recall                  0.664029          0.670102              0.031301   \n",
       "F1                      0.664890          0.668527              0.025375   \n",
       "support                68.300000         68.300000              2.565287   \n",
       "\n",
       "            Std. plagiarized  \n",
       "Score type                    \n",
       "precision           0.017017  \n",
       "recall              0.017350  \n",
       "F1                  0.012329  \n",
       "support             2.477495  "
      ]
     },
     "execution_count": 221,
     "metadata": {},
     "output_type": "execute_result"
    }
   ],
   "source": [
    "import matplotlib.pyplot as plt\n",
    "from sklearn import metrics\n",
    "from sklearn.metrics import plot_confusion_matrix\n",
    "from sklearn.tree import DecisionTreeClassifier\n",
    "from sklearn.metrics import precision_recall_fscore_support as score\n",
    "from sklearn.model_selection import KFold\n",
    "import numpy as np\n",
    "\n",
    "def eval_model_table(X, y, clf):\n",
    "    # Make folds of data for cross validation\n",
    "    k_fold = KFold(n_splits = 10, shuffle = True)\n",
    "\n",
    "    results = []\n",
    "    for train, test in k_fold.split(X):\n",
    "        clf.fit(X.iloc[train], y.iloc[train])\n",
    "        sc = score(y.iloc[test], clf.predict(X.iloc[test]), average = None, labels = [0, 1])\n",
    "        results.append(np.stack(sc, axis = 0))\n",
    "\n",
    "    avg_results = sum(results) / len(results)\n",
    "    std_results = [np.abs(x - avg_results)**2 for x in results]\n",
    "    std_results = np.sqrt(sum(std_results) / (len(std_results) * np.sqrt(len(std_results))))\n",
    "    \n",
    "    # Calculation of scores\n",
    "    scores = pd.DataFrame(np.concatenate((avg_results, std_results), axis = 1))\n",
    "    scores.columns = [\"Avg. non-plagiarized\", \"Avg. plagiarized\", \"Std. non-plagiarized\", \"Std. plagiarized\"]\n",
    "    scores.insert(0, \"Score type\", [\"precision\", \"recall\", \"F1\", \"support\"])\n",
    "    scores.set_index(\"Score type\", inplace = True)\n",
    "    \n",
    "    return(scores)\n",
    "\n",
    "# Init classifier, maybe SV could be useful?\n",
    "clf = DecisionTreeClassifier()\n",
    "eval_model_table(X, y, clf)"
   ]
  },
  {
   "cell_type": "markdown",
   "metadata": {},
   "source": [
    "Como podemos ver en la tabla, nos encontramos en torno a un 66%. No está mal para una prueba, pero veamos si podemos depurar el modelo."
   ]
  },
  {
   "cell_type": "markdown",
   "metadata": {},
   "source": [
    "## Optimización de la profundidad máxima del arbol"
   ]
  },
  {
   "cell_type": "markdown",
   "metadata": {},
   "source": [
    "Uno de los parametros que podemos cambiar es la produnidad máxima del arbol. Es importante no elegir un numero muy pequeño porque no podremos llegar a ajustar correctamente, ni muy alto porque sobreajustariamos y el modelo perdería generalidad. Para ver como impacta es parametro en F1, hacemos un plot y vemos si hay algun tipo de maximos o tendencias."
   ]
  },
  {
   "cell_type": "code",
   "execution_count": 223,
   "metadata": {},
   "outputs": [
    {
     "data": {
      "text/html": [
       "\n",
       "\n",
       "\n",
       "\n",
       "\n",
       "\n",
       "  <div class=\"bk-root\" id=\"5cedaedd-cacd-48d4-85d9-e7535a746ec5\" data-root-id=\"71126\"></div>\n"
      ]
     },
     "metadata": {},
     "output_type": "display_data"
    },
    {
     "data": {
      "application/javascript": [
       "(function(root) {\n",
       "  function embed_document(root) {\n",
       "    \n",
       "  var docs_json = {\"b73b61ca-b1a3-4804-9c0f-e9607a0fc0e1\":{\"roots\":{\"references\":[{\"attributes\":{\"below\":[{\"id\":\"71137\"}],\"center\":[{\"id\":\"71140\"},{\"id\":\"71144\"},{\"id\":\"71172\"}],\"left\":[{\"id\":\"71141\"}],\"renderers\":[{\"id\":\"71162\"},{\"id\":\"71177\"}],\"sizing_mode\":\"stretch_width\",\"title\":{\"id\":\"71127\"},\"toolbar\":{\"id\":\"71152\"},\"x_range\":{\"id\":\"71129\"},\"x_scale\":{\"id\":\"71133\"},\"y_range\":{\"id\":\"71131\"},\"y_scale\":{\"id\":\"71135\"}},\"id\":\"71126\",\"subtype\":\"Figure\",\"type\":\"Plot\"},{\"attributes\":{\"text\":\"F1 score as a function of the maximum depth of the tree\"},\"id\":\"71127\",\"type\":\"Title\"},{\"attributes\":{\"axis_label\":\"Depth\",\"formatter\":{\"id\":\"71165\"},\"ticker\":{\"id\":\"71138\"}},\"id\":\"71137\",\"type\":\"LinearAxis\"},{\"attributes\":{},\"id\":\"71170\",\"type\":\"UnionRenderers\"},{\"attributes\":{\"data_source\":{\"id\":\"71174\"},\"glyph\":{\"id\":\"71175\"},\"hover_glyph\":null,\"muted_glyph\":null,\"nonselection_glyph\":{\"id\":\"71176\"},\"selection_glyph\":null,\"view\":{\"id\":\"71178\"}},\"id\":\"71177\",\"type\":\"GlyphRenderer\"},{\"attributes\":{},\"id\":\"71150\",\"type\":\"HelpTool\"},{\"attributes\":{},\"id\":\"71148\",\"type\":\"SaveTool\"},{\"attributes\":{},\"id\":\"71138\",\"type\":\"BasicTicker\"},{\"attributes\":{\"axis\":{\"id\":\"71141\"},\"dimension\":1,\"ticker\":null},\"id\":\"71144\",\"type\":\"Grid\"},{\"attributes\":{\"bottom_units\":\"screen\",\"fill_alpha\":0.5,\"fill_color\":\"lightgrey\",\"left_units\":\"screen\",\"level\":\"overlay\",\"line_alpha\":1.0,\"line_color\":\"black\",\"line_dash\":[4,4],\"line_width\":2,\"right_units\":\"screen\",\"top_units\":\"screen\"},\"id\":\"71151\",\"type\":\"BoxAnnotation\"},{\"attributes\":{\"axis\":{\"id\":\"71137\"},\"ticker\":null},\"id\":\"71140\",\"type\":\"Grid\"},{\"attributes\":{},\"id\":\"71135\",\"type\":\"LinearScale\"},{\"attributes\":{\"data\":{\"x\":{\"__ndarray__\":\"AQAAAAIAAAADAAAABAAAAAUAAAAGAAAABwAAAAgAAAAJAAAACgAAAAsAAAAMAAAADQAAAA4AAAAPAAAAEAAAABEAAAASAAAAEwAAABQAAAAVAAAAFgAAABcAAAAYAAAAGQAAABoAAAAbAAAAHAAAAB0AAAAeAAAAHwAAACAAAAAhAAAAIgAAACMAAAAkAAAAJQAAACYAAAAnAAAAKAAAACkAAAAqAAAAKwAAACwAAAAtAAAALgAAAC8AAAAwAAAAMQAAADIAAAAzAAAANAAAADUAAAA2AAAANwAAADgAAAA5AAAAOgAAADsAAAA8AAAAPQAAAD4AAAA/AAAAQAAAAEEAAABCAAAAQwAAAEQAAABFAAAARgAAAEcAAABIAAAASQAAAEoAAABLAAAATAAAAE0AAABOAAAATwAAAFAAAABRAAAAUgAAAFMAAABUAAAAVQAAAFYAAABXAAAAWAAAAFkAAABaAAAAWwAAAFwAAABdAAAAXgAAAF8AAABgAAAAYQAAAGIAAABjAAAA\",\"dtype\":\"int32\",\"order\":\"little\",\"shape\":[99]},\"y\":{\"__ndarray__\":\"amDmLcDt5j88d4wQQPjmP76muTwOAec/Wck4zst45z9AfP64lfflP0R7LX2eB+c/YKNoET9C5j/IaKSJEe7lP26+EyhDqOU/jgCaMNmU5T93Nh0BlrDlP2HXvl/Fk+Y/2U8ShNj95T+FpMTGQvPkP7pHbDipNOU/QRhT/PBC5T8GTAeQBW3lP2sBaXeUeeU/mn2NMYcY5j/B4L/3H0nlP/7l7zOKduU/tCyKoDha5T+Lc8E4zc3lPzc8YA4FNeU/pZDFICGi5T8rWCVI8mnlPxbOJTZ9+uQ/ho7xAxJP5T+IUn1/ZKjkP5G+BDeGFeU/MEKFKK3n5T94mHueRqflP+Iw3hfuK+U/w34Ba9XB5D8Aknll/7vlP637SaYdsuU/Dw+JkOWn5T+q22qieEnlPxTCH4lRoeU/XRSXpZJX5T+EK+FHjH/lP/DLNBZ2guU/oW+XVnN45T9MJYP4SKPlP+emLbbYAuY/xsy40L7z5T96A7Y8NfrkPywCCR1boeU/6Jo1kiyT5T/SbXzU1y3lP/PhWKS4X+U/OgKKztSR5T8FCP9CapTlP32BvscNKeU/F5m8Arue5T+StzjzMhTlPyKSJVQyb+U/+obJ54VD5T/DaIyr/lLlP2h04jgsm+U/qtoFqdNP5T+NkxISssXlPyYeTfXEk+U/x1w3vMhe5T8+G+PbIwTlP90cP/JSU+U/XNNCLSHl5T/i48oDP9nkP1RgmIuxPOU/qmjIjYRp5T/4XFkbEBflPyE4gezdh+U/dVjDOW/25D+iNHCrxNflP+I2NiSm3OU/ARWfcn1v5T/jn85S22flP1JiNG/67OQ/cfFWuCs+5T+WNrSl4ZvlPzHpm7aQqeU/wjWZ9CMH5T+cLMKu5xTlP3vPXCGRQeU/OX7p91rM5T96vNQqZpHlPzv0vCx1H+U/DDxOmUVU5T9V4F7xA1LlP60bIn5d9eU/dK6j8F175T/r8rYHsQjlP/crUthlJuU/ph1rQ6Ut5T/N4CnW8q/lPzzYu6xvuOQ/jyayWzi25T/bc1BDtqjlP7OG2gmi/+U/\",\"dtype\":\"float64\",\"order\":\"little\",\"shape\":[99]}},\"selected\":{\"id\":\"71169\"},\"selection_policy\":{\"id\":\"71170\"}},\"id\":\"71159\",\"type\":\"ColumnDataSource\"},{\"attributes\":{\"axis_label\":\"F1\",\"formatter\":{\"id\":\"71167\"},\"ticker\":{\"id\":\"71142\"}},\"id\":\"71141\",\"type\":\"LinearAxis\"},{\"attributes\":{\"label\":{\"value\":\"Non-plagiarized\"},\"renderers\":[{\"id\":\"71162\"}]},\"id\":\"71173\",\"type\":\"LegendItem\"},{\"attributes\":{\"items\":[{\"id\":\"71173\"},{\"id\":\"71189\"}]},\"id\":\"71172\",\"type\":\"Legend\"},{\"attributes\":{},\"id\":\"71142\",\"type\":\"BasicTicker\"},{\"attributes\":{\"active_drag\":\"auto\",\"active_inspect\":\"auto\",\"active_multi\":null,\"active_scroll\":\"auto\",\"active_tap\":\"auto\",\"tools\":[{\"id\":\"71145\"},{\"id\":\"71146\"},{\"id\":\"71147\"},{\"id\":\"71148\"},{\"id\":\"71149\"},{\"id\":\"71150\"}]},\"id\":\"71152\",\"type\":\"Toolbar\"},{\"attributes\":{\"line_color\":\"steelblue\",\"x\":{\"field\":\"x\"},\"y\":{\"field\":\"y\"}},\"id\":\"71160\",\"type\":\"Line\"},{\"attributes\":{\"line_alpha\":0.1,\"line_color\":\"orange\",\"x\":{\"field\":\"x\"},\"y\":{\"field\":\"y\"}},\"id\":\"71176\",\"type\":\"Line\"},{\"attributes\":{\"source\":{\"id\":\"71174\"}},\"id\":\"71178\",\"type\":\"CDSView\"},{\"attributes\":{\"data\":{\"x\":{\"__ndarray__\":\"AQAAAAIAAAADAAAABAAAAAUAAAAGAAAABwAAAAgAAAAJAAAACgAAAAsAAAAMAAAADQAAAA4AAAAPAAAAEAAAABEAAAASAAAAEwAAABQAAAAVAAAAFgAAABcAAAAYAAAAGQAAABoAAAAbAAAAHAAAAB0AAAAeAAAAHwAAACAAAAAhAAAAIgAAACMAAAAkAAAAJQAAACYAAAAnAAAAKAAAACkAAAAqAAAAKwAAACwAAAAtAAAALgAAAC8AAAAwAAAAMQAAADIAAAAzAAAANAAAADUAAAA2AAAANwAAADgAAAA5AAAAOgAAADsAAAA8AAAAPQAAAD4AAAA/AAAAQAAAAEEAAABCAAAAQwAAAEQAAABFAAAARgAAAEcAAABIAAAASQAAAEoAAABLAAAATAAAAE0AAABOAAAATwAAAFAAAABRAAAAUgAAAFMAAABUAAAAVQAAAFYAAABXAAAAWAAAAFkAAABaAAAAWwAAAFwAAABdAAAAXgAAAF8AAABgAAAAYQAAAGIAAABjAAAA\",\"dtype\":\"int32\",\"order\":\"little\",\"shape\":[99]},\"y\":{\"__ndarray__\":\"iq+FlzCI4z83nlfwBmzjPz4osTBk5eQ/91QF53kG5T/29k4HrM7lP/Db53Z2E+U/LNT3sYJK5T+I3i5a2lDlP3YMsn8RVOU/037DVVcg5T9D2IpbVEDlPyJz88amveU/ih5uuOe05T/ryC4wcQvlP49OjaelQuU/j7trDRXG5D/eBgopRATlP4It5stGH+U//YZQFl8D5j8YyH4WsFDlP1DM5Zp+MuU/loOYjDxd5T96raxgDeHlP8LASfE9NOU/4aZo5UuB5T+SO3BDKxLlP0sL3mbLJeU/2fHhEnJ75T8QzfJh0eTkPyh13UlW3OQ/RGsCDTOB5T82TS26DkDlP2IVq8iBO+U/oBR7Y1LL5D8So8h7TZjlP/sAvbQe0eU/Pr8TSoeM5T/MSnZ9GZLlPyYlL5MB0OU/OTyIG7405T/6/A/NDoDlP8RQFdxDh+U/fCHDnu//5D9fgxJuHIjlP6CkUpDG1+U/Y1E2qSaf5T9qu0ID3dLkP/Ym2W9teOU/sFnMZkA+5T+ikWVwLsfkP7zKEHyL8eQ/KwZ/HSaf5T8Ys+a6eWTlP8JiPDt2AeU/N+7p7P1R5T8M/4w0en7lPz3MH3/NbOU/b+tw7EIt5T8wFvdrvQ/lP15GJppAVeU/iezMPTB45T+K18tpp6flP8Io4Vqjh+U/mtpMo2sf5T/ANwnqmX7lP/P9wGx6leU/nUUtfOtD5T9YHhl3TvTkP/DYMzhhEuU/4wRfZRaV5T/7g7AKY0flP8UO4wYoHuU/BuhugF8+5T9BYH4blGvlPzSsAlTA5eU/BdVILbou5T/hdRuI7VnlP8pfCZ+Vy+Q/BAY6JThe5T+mWqMPDbXlP97mY5k3WuU/o8Rbo4XD5D+Kbrmrfk7lP+JCnPBxMeU/gi+cUjCu5T+seTaRZsHlP1k+f71uNuU/rk7SAJKo5T8xjadcgATlP9KyKuv9+eU/1JpndciZ5T9OF5agOxjlP7lR8vvKZOU/eowx4SkL5T8QN06ap2zlP+RchWGmf+U/+HxiGSZ+5T/VoHDtNrzlP+2dsj8RF+Y/\",\"dtype\":\"float64\",\"order\":\"little\",\"shape\":[99]}},\"selected\":{\"id\":\"71186\"},\"selection_policy\":{\"id\":\"71187\"}},\"id\":\"71174\",\"type\":\"ColumnDataSource\"},{\"attributes\":{\"data_source\":{\"id\":\"71159\"},\"glyph\":{\"id\":\"71160\"},\"hover_glyph\":null,\"muted_glyph\":null,\"nonselection_glyph\":{\"id\":\"71161\"},\"selection_glyph\":null,\"view\":{\"id\":\"71163\"}},\"id\":\"71162\",\"type\":\"GlyphRenderer\"},{\"attributes\":{\"line_alpha\":0.1,\"line_color\":\"steelblue\",\"x\":{\"field\":\"x\"},\"y\":{\"field\":\"y\"}},\"id\":\"71161\",\"type\":\"Line\"},{\"attributes\":{},\"id\":\"71187\",\"type\":\"UnionRenderers\"},{\"attributes\":{},\"id\":\"71129\",\"type\":\"DataRange1d\"},{\"attributes\":{},\"id\":\"71131\",\"type\":\"DataRange1d\"},{\"attributes\":{\"line_color\":\"orange\",\"x\":{\"field\":\"x\"},\"y\":{\"field\":\"y\"}},\"id\":\"71175\",\"type\":\"Line\"},{\"attributes\":{},\"id\":\"71165\",\"type\":\"BasicTickFormatter\"},{\"attributes\":{\"label\":{\"value\":\"Plagiarized\"},\"renderers\":[{\"id\":\"71177\"}]},\"id\":\"71189\",\"type\":\"LegendItem\"},{\"attributes\":{},\"id\":\"71186\",\"type\":\"Selection\"},{\"attributes\":{},\"id\":\"71133\",\"type\":\"LinearScale\"},{\"attributes\":{},\"id\":\"71145\",\"type\":\"PanTool\"},{\"attributes\":{},\"id\":\"71149\",\"type\":\"ResetTool\"},{\"attributes\":{},\"id\":\"71167\",\"type\":\"BasicTickFormatter\"},{\"attributes\":{},\"id\":\"71146\",\"type\":\"WheelZoomTool\"},{\"attributes\":{\"overlay\":{\"id\":\"71151\"}},\"id\":\"71147\",\"type\":\"BoxZoomTool\"},{\"attributes\":{},\"id\":\"71169\",\"type\":\"Selection\"},{\"attributes\":{\"source\":{\"id\":\"71159\"}},\"id\":\"71163\",\"type\":\"CDSView\"}],\"root_ids\":[\"71126\"]},\"title\":\"Bokeh Application\",\"version\":\"2.2.3\"}};\n",
       "  var render_items = [{\"docid\":\"b73b61ca-b1a3-4804-9c0f-e9607a0fc0e1\",\"root_ids\":[\"71126\"],\"roots\":{\"71126\":\"5cedaedd-cacd-48d4-85d9-e7535a746ec5\"}}];\n",
       "  root.Bokeh.embed.embed_items_notebook(docs_json, render_items);\n",
       "\n",
       "  }\n",
       "  if (root.Bokeh !== undefined) {\n",
       "    embed_document(root);\n",
       "  } else {\n",
       "    var attempts = 0;\n",
       "    var timer = setInterval(function(root) {\n",
       "      if (root.Bokeh !== undefined) {\n",
       "        clearInterval(timer);\n",
       "        embed_document(root);\n",
       "      } else {\n",
       "        attempts++;\n",
       "        if (attempts > 100) {\n",
       "          clearInterval(timer);\n",
       "          console.log(\"Bokeh: ERROR: Unable to run BokehJS code because BokehJS library is missing\");\n",
       "        }\n",
       "      }\n",
       "    }, 10, root)\n",
       "  }\n",
       "})(window);"
      ],
      "application/vnd.bokehjs_exec.v0+json": ""
     },
     "metadata": {
      "application/vnd.bokehjs_exec.v0+json": {
       "id": "71126"
      }
     },
     "output_type": "display_data"
    }
   ],
   "source": [
    "# Lets try to optimize max_depth\n",
    "from sklearn.metrics import f1_score\n",
    "from statsmodels.nonparametric.smoothers_lowess import lowess\n",
    "\n",
    "\n",
    "def calc_F1_depth(depth):\n",
    "    clf = DecisionTreeClassifier(max_depth = depth)\n",
    "\n",
    "    # Make folds of data for cross validation\n",
    "    k_fold = KFold(n_splits = 10, shuffle = True)\n",
    "\n",
    "    results = []\n",
    "    for train, test in k_fold.split(X):\n",
    "        clf.fit(X.iloc[train], y.iloc[train])\n",
    "        results.append(f1_score(y.iloc[test], clf.predict(X.iloc[test]), average = None))\n",
    "    \n",
    "    return sum(results) / len(results)\n",
    "        \n",
    "depth = np.arange(1, 100, 1)\n",
    "F1 = np.stack(list(map(calc_F1_depth, depth.tolist())), axis = 0)\n",
    "\n",
    "depth_plot = figure(title = \"F1 score as a function of the maximum depth of the tree\",\n",
    "                   x_axis_label = \"Depth\",\n",
    "                   y_axis_label = \"F1\",\n",
    "                   sizing_mode = \"stretch_width\")\n",
    "\n",
    "depth_plot.line(depth, F1[:, 0], legend_label = \"Non-plagiarized\", line_color = \"steelblue\")\n",
    "depth_plot.line(depth, F1[:, 1], legend_label = \"Plagiarized\", line_color = \"orange\")\n",
    "show(depth_plot)\n",
    "\n",
    "\n",
    "# At some point, although the max_depth is changed, the scores vary too much around the mean\n",
    "# Doesn't seem like its worth it to specify it"
   ]
  },
  {
   "cell_type": "markdown",
   "metadata": {},
   "source": [
    "Como podemos ver, aunque localmente el resultado varie considerablemente, llega un momento donde oscila en torno al mismo valor. Dejaremos que el propio clasificador use el numero de niveles que la haga falta."
   ]
  },
  {
   "cell_type": "markdown",
   "metadata": {},
   "source": [
    "## Optimización de la proporcion de datos"
   ]
  },
  {
   "cell_type": "markdown",
   "metadata": {},
   "source": [
    "Como hemos dicho antes, nuestros datos no estan balanceados. Lo que haremos a continuación es estudiar el impacto de tener más o menos datos de casos que no son plagia en relación a los que si lo son."
   ]
  },
  {
   "cell_type": "code",
   "execution_count": 107,
   "metadata": {},
   "outputs": [
    {
     "data": {
      "text/html": [
       "\n",
       "\n",
       "\n",
       "\n",
       "\n",
       "\n",
       "  <div class=\"bk-root\" id=\"3b481ce2-ef05-4978-828a-6dee0a199d0b\" data-root-id=\"65375\"></div>\n"
      ]
     },
     "metadata": {},
     "output_type": "display_data"
    },
    {
     "data": {
      "application/javascript": [
       "(function(root) {\n",
       "  function embed_document(root) {\n",
       "    \n",
       "  var docs_json = {\"540ad3be-9a4a-4c6b-a248-813b2c2081cb\":{\"roots\":{\"references\":[{\"attributes\":{\"children\":[{\"id\":\"65374\"},{\"id\":\"65372\"}],\"sizing_mode\":\"scale_both\"},\"id\":\"65375\",\"type\":\"Column\"},{\"attributes\":{\"label\":{\"value\":\"Plagiarized\"},\"renderers\":[{\"id\":\"65273\"}]},\"id\":\"65285\",\"type\":\"LegendItem\"},{\"attributes\":{},\"id\":\"65242\",\"type\":\"WheelZoomTool\"},{\"attributes\":{\"text\":\"F1 score as a function of the proportion of texts in the data\"},\"id\":\"65287\",\"type\":\"Title\"},{\"attributes\":{},\"id\":\"65325\",\"type\":\"BasicTickFormatter\"},{\"attributes\":{},\"id\":\"65293\",\"type\":\"LinearScale\"},{\"attributes\":{},\"id\":\"65289\",\"type\":\"DataRange1d\"},{\"attributes\":{},\"id\":\"65347\",\"type\":\"UnionRenderers\"},{\"attributes\":{},\"id\":\"65330\",\"type\":\"UnionRenderers\"},{\"attributes\":{\"axis\":{\"id\":\"65301\"},\"dimension\":1,\"ticker\":null},\"id\":\"65304\",\"type\":\"Grid\"},{\"attributes\":{},\"id\":\"65329\",\"type\":\"Selection\"},{\"attributes\":{},\"id\":\"65291\",\"type\":\"DataRange1d\"},{\"attributes\":{\"source\":{\"id\":\"65334\"}},\"id\":\"65338\",\"type\":\"CDSView\"},{\"attributes\":{\"data_source\":{\"id\":\"65334\"},\"glyph\":{\"id\":\"65335\"},\"hover_glyph\":null,\"muted_glyph\":null,\"nonselection_glyph\":{\"id\":\"65336\"},\"selection_glyph\":null,\"view\":{\"id\":\"65338\"}},\"id\":\"65337\",\"type\":\"GlyphRenderer\"},{\"attributes\":{},\"id\":\"65295\",\"type\":\"LinearScale\"},{\"attributes\":{},\"id\":\"65298\",\"type\":\"BasicTicker\"},{\"attributes\":{\"axis_label\":\"Relative proportion of non-plagiared to plagiarized\",\"formatter\":{\"id\":\"65325\"},\"ticker\":{\"id\":\"65298\"}},\"id\":\"65297\",\"type\":\"LinearAxis\"},{\"attributes\":{\"label\":{\"value\":\"Plagiarized\"},\"renderers\":[{\"id\":\"65337\"}]},\"id\":\"65349\",\"type\":\"LegendItem\"},{\"attributes\":{\"overlay\":{\"id\":\"65247\"}},\"id\":\"65243\",\"type\":\"BoxZoomTool\"},{\"attributes\":{\"axis_label\":\"F1\",\"formatter\":{\"id\":\"65327\"},\"ticker\":{\"id\":\"65302\"}},\"id\":\"65301\",\"type\":\"LinearAxis\"},{\"attributes\":{},\"id\":\"65346\",\"type\":\"Selection\"},{\"attributes\":{\"axis\":{\"id\":\"65297\"},\"ticker\":null},\"id\":\"65300\",\"type\":\"Grid\"},{\"attributes\":{\"toolbar\":{\"id\":\"65373\"},\"toolbar_location\":\"above\"},\"id\":\"65374\",\"type\":\"ToolbarBox\"},{\"attributes\":{},\"id\":\"65302\",\"type\":\"BasicTicker\"},{\"attributes\":{\"toolbars\":[{\"id\":\"65248\"},{\"id\":\"65312\"}],\"tools\":[{\"id\":\"65241\"},{\"id\":\"65242\"},{\"id\":\"65243\"},{\"id\":\"65244\"},{\"id\":\"65245\"},{\"id\":\"65246\"},{\"id\":\"65305\"},{\"id\":\"65306\"},{\"id\":\"65307\"},{\"id\":\"65308\"},{\"id\":\"65309\"},{\"id\":\"65310\"}]},\"id\":\"65373\",\"type\":\"ProxyToolbar\"},{\"attributes\":{},\"id\":\"65246\",\"type\":\"HelpTool\"},{\"attributes\":{},\"id\":\"65245\",\"type\":\"ResetTool\"},{\"attributes\":{\"source\":{\"id\":\"65319\"}},\"id\":\"65323\",\"type\":\"CDSView\"},{\"attributes\":{},\"id\":\"65244\",\"type\":\"SaveTool\"},{\"attributes\":{},\"id\":\"65241\",\"type\":\"PanTool\"},{\"attributes\":{\"line_alpha\":0.1,\"line_color\":\"steelblue\",\"x\":{\"field\":\"x\"},\"y\":{\"field\":\"y\"}},\"id\":\"65321\",\"type\":\"Line\"},{\"attributes\":{\"source\":{\"id\":\"65270\"}},\"id\":\"65274\",\"type\":\"CDSView\"},{\"attributes\":{\"data_source\":{\"id\":\"65319\"},\"glyph\":{\"id\":\"65320\"},\"hover_glyph\":null,\"muted_glyph\":null,\"nonselection_glyph\":{\"id\":\"65321\"},\"selection_glyph\":null,\"view\":{\"id\":\"65323\"}},\"id\":\"65322\",\"type\":\"GlyphRenderer\"},{\"attributes\":{\"line_color\":\"orange\",\"x\":{\"field\":\"x\"},\"y\":{\"field\":\"y\"}},\"id\":\"65271\",\"type\":\"Line\"},{\"attributes\":{},\"id\":\"65305\",\"type\":\"PanTool\"},{\"attributes\":{},\"id\":\"65309\",\"type\":\"ResetTool\"},{\"attributes\":{\"data_source\":{\"id\":\"65270\"},\"glyph\":{\"id\":\"65271\"},\"hover_glyph\":null,\"muted_glyph\":null,\"nonselection_glyph\":{\"id\":\"65272\"},\"selection_glyph\":null,\"view\":{\"id\":\"65274\"}},\"id\":\"65273\",\"type\":\"GlyphRenderer\"},{\"attributes\":{},\"id\":\"65306\",\"type\":\"WheelZoomTool\"},{\"attributes\":{\"overlay\":{\"id\":\"65311\"}},\"id\":\"65307\",\"type\":\"BoxZoomTool\"},{\"attributes\":{\"label\":{\"value\":\"Non-plagiarized\"},\"renderers\":[{\"id\":\"65258\"}]},\"id\":\"65269\",\"type\":\"LegendItem\"},{\"attributes\":{},\"id\":\"65308\",\"type\":\"SaveTool\"},{\"attributes\":{},\"id\":\"65265\",\"type\":\"Selection\"},{\"attributes\":{\"below\":[{\"id\":\"65297\"}],\"center\":[{\"id\":\"65300\"},{\"id\":\"65304\"},{\"id\":\"65332\"}],\"left\":[{\"id\":\"65301\"}],\"renderers\":[{\"id\":\"65322\"},{\"id\":\"65337\"}],\"sizing_mode\":\"scale_both\",\"title\":{\"id\":\"65287\"},\"toolbar\":{\"id\":\"65312\"},\"toolbar_location\":null,\"x_range\":{\"id\":\"65289\"},\"x_scale\":{\"id\":\"65293\"},\"y_range\":{\"id\":\"65291\"},\"y_scale\":{\"id\":\"65295\"}},\"id\":\"65286\",\"subtype\":\"Figure\",\"type\":\"Plot\"},{\"attributes\":{\"active_drag\":\"auto\",\"active_inspect\":\"auto\",\"active_multi\":null,\"active_scroll\":\"auto\",\"active_tap\":\"auto\",\"tools\":[{\"id\":\"65241\"},{\"id\":\"65242\"},{\"id\":\"65243\"},{\"id\":\"65244\"},{\"id\":\"65245\"},{\"id\":\"65246\"}]},\"id\":\"65248\",\"type\":\"Toolbar\"},{\"attributes\":{},\"id\":\"65327\",\"type\":\"BasicTickFormatter\"},{\"attributes\":{\"bottom_units\":\"screen\",\"fill_alpha\":0.5,\"fill_color\":\"lightgrey\",\"left_units\":\"screen\",\"level\":\"overlay\",\"line_alpha\":1.0,\"line_color\":\"black\",\"line_dash\":[4,4],\"line_width\":2,\"right_units\":\"screen\",\"top_units\":\"screen\"},\"id\":\"65247\",\"type\":\"BoxAnnotation\"},{\"attributes\":{},\"id\":\"65310\",\"type\":\"HelpTool\"},{\"attributes\":{},\"id\":\"65266\",\"type\":\"UnionRenderers\"},{\"attributes\":{},\"id\":\"65225\",\"type\":\"DataRange1d\"},{\"attributes\":{\"items\":[{\"id\":\"65269\"},{\"id\":\"65285\"}]},\"id\":\"65268\",\"type\":\"Legend\"},{\"attributes\":{\"data\":{\"x\":{\"__ndarray__\":\"mpmZmZmZ6T8p1eRxZwnrP7gQMEo1eew/SEx7IgPp7T/Xh8b60FjvP7PhiGlPZPA/en+uVTYc8T9CHdRBHdTxPwq7+S0EjPI/0VgfGutD8z+Z9kQG0vvzP2CUavK4s/Q/KDKQ3p9r9T/wz7XKhiP2P7ht27Zt2/Y/fwsBo1ST9z9GqSaPO0v4Pw5HTHsiA/k/1uRxZwm7+T+egpdT8HL6P2UgvT/XKvs/LL7iK77i+z/0WwgYpZr8P7z5LQSMUv0/g5dT8HIK/j9LNXncWcL+PxLTnshAev8/bThi2hMZAEBRB3VQB3UAQDTWh8b60ABAGKWaPO4sAUD8c62y4YgBQOBCwCjV5AFAxBHTnshAAkCo4OUUvJwCQIyv+Iqv+AJAb34LAaNUA0BTTR53lrADQDccMe2JDARAGutDY31oBED+uVbZcMQEQOKIaU9kIAVAxld8xVd8BUCqJo87S9gFQI71obE+NAZAcsS0JzKQBkBWk8edJewGQDhi2hMZSAdAHDHtiQykB0AAAAAAAAAIQA==\",\"dtype\":\"float64\",\"order\":\"little\",\"shape\":[50]},\"y\":{\"__ndarray__\":\"DOyyrPPw5T+Km6J1fLvlP+DpxCtpheU/NChr+gFO5T/2dDW7kxjlP8I0r0wa7uQ/hJmxSWHF5D/y4QVZSZbkP4EnJWAaZ+Q/167mg5I65D/dP2nO+gvkP8ZdJwHk2eM/N/POHU6n4z+KwG9bDXHjP9IezD4HRuM/6avStUQf4z+wT4eCH/ziP7NbY4Es2OI/LHcyfO664j/gw5BJFZ3iP3V54a8peuI/b/sso9NX4j/lGzk4HkPiP09JYRULK+I/dTN7jtcP4j9APRdT1PThP+wNl0Cx3uE/uvEgtXzC4T9iiY4mHp/hP9U8nF/ce+E/FJaVvTRY4T8j5eCTbCfhP4T11w2p9uA/LR63cDjS4D9WW5FQTq/gP1yWWNFAi+A/5JwEOGZy4D9Jd71mOnDgP/TcfxezduA/fPlOdgN14D9TSCgE7mrgPwMurewgXeA/f03yullH4D9ff4i7+zTgPzdApIIQJ+A/Qn6vpfEV4D+PO/o8ywDgPzogwS6M3N8/3gaAFam63z+qJCjVfJXfPw==\",\"dtype\":\"float64\",\"order\":\"little\",\"shape\":[50]}},\"selected\":{\"id\":\"65346\"},\"selection_policy\":{\"id\":\"65347\"}},\"id\":\"65334\",\"type\":\"ColumnDataSource\"},{\"attributes\":{\"text\":\"F1 score as a function of the proportion of texts in the data\"},\"id\":\"65223\",\"type\":\"Title\"},{\"attributes\":{},\"id\":\"65261\",\"type\":\"BasicTickFormatter\"},{\"attributes\":{\"line_alpha\":0.1,\"line_color\":\"orange\",\"x\":{\"field\":\"x\"},\"y\":{\"field\":\"y\"}},\"id\":\"65336\",\"type\":\"Line\"},{\"attributes\":{},\"id\":\"65263\",\"type\":\"BasicTickFormatter\"},{\"attributes\":{\"line_color\":\"orange\",\"x\":{\"field\":\"x\"},\"y\":{\"field\":\"y\"}},\"id\":\"65335\",\"type\":\"Line\"},{\"attributes\":{\"label\":{\"value\":\"Non-plagiarized\"},\"renderers\":[{\"id\":\"65322\"}]},\"id\":\"65333\",\"type\":\"LegendItem\"},{\"attributes\":{\"line_color\":\"steelblue\",\"x\":{\"field\":\"x\"},\"y\":{\"field\":\"y\"}},\"id\":\"65320\",\"type\":\"Line\"},{\"attributes\":{\"items\":[{\"id\":\"65333\"},{\"id\":\"65349\"}]},\"id\":\"65332\",\"type\":\"Legend\"},{\"attributes\":{\"data\":{\"x\":{\"__ndarray__\":\"mpmZmZmZ6T8p1eRxZwnrP7gQMEo1eew/SEx7IgPp7T/Xh8b60FjvP7PhiGlPZPA/en+uVTYc8T9CHdRBHdTxPwq7+S0EjPI/0VgfGutD8z+Z9kQG0vvzP2CUavK4s/Q/KDKQ3p9r9T/wz7XKhiP2P7ht27Zt2/Y/fwsBo1ST9z9GqSaPO0v4Pw5HTHsiA/k/1uRxZwm7+T+egpdT8HL6P2UgvT/XKvs/LL7iK77i+z/0WwgYpZr8P7z5LQSMUv0/g5dT8HIK/j9LNXncWcL+PxLTnshAev8/bThi2hMZAEBRB3VQB3UAQDTWh8b60ABAGKWaPO4sAUD8c62y4YgBQOBCwCjV5AFAxBHTnshAAkCo4OUUvJwCQIyv+Iqv+AJAb34LAaNUA0BTTR53lrADQDccMe2JDARAGutDY31oBED+uVbZcMQEQOKIaU9kIAVAxld8xVd8BUCqJo87S9gFQI71obE+NAZAcsS0JzKQBkBWk8edJewGQDhi2hMZSAdAHDHtiQykB0AAAAAAAAAIQA==\",\"dtype\":\"float64\",\"order\":\"little\",\"shape\":[50]},\"y\":{\"__ndarray__\":\"0SB1Byaw4z+eMOd1y/vjP8SZhBFKR+Q/bOd8HJiQ5D9Rv4J9tdnkP3UnaI8vKeU/VWxjsHB55T9Mup4H5b7lP38mIjMo+OU/WVP33pYv5j/gASBVB2bmP76bL4OrnOY/nmqNC+jS5j8GnQ9Am//mP9KdxYwBLOc/PSnuEGBZ5z/ikrG3dITnP6XKxhlWp+c/8tVRqmvH5z+lkx/JXeLnP+5WC1iz++c/y4Ga2UYX6D+pk6R3FznoPxhbDFGAV+g/fX3i+ux06D/YQEYdv5PoP2TSZ7Jdueg/0jDLg7vb6D+2HjUMDPfoPx1onhqvDek/Te/rJ18k6T8hzVXOYjbpP52zmk+oRuk/0CbK6t1X6T/OKtiu+2fpPzJvappwd+k/XEI/XkaK6T9CEXwzC6PpP39/l5K+vuk/PF52Xgja6T+6i98Nm/TpPzSqiBuCD+o/tA01kfYj6j8GzgG80DbqP4K+3Cn/Seo/maMmXlJa6j+V1FpGIWrqP8QP7BIFe+o/YdTfZhKN6j/Y9b2xXJ/qPw==\",\"dtype\":\"float64\",\"order\":\"little\",\"shape\":[50]}},\"selected\":{\"id\":\"65329\"},\"selection_policy\":{\"id\":\"65330\"}},\"id\":\"65319\",\"type\":\"ColumnDataSource\"},{\"attributes\":{\"active_drag\":\"auto\",\"active_inspect\":\"auto\",\"active_multi\":null,\"active_scroll\":\"auto\",\"active_tap\":\"auto\",\"tools\":[{\"id\":\"65305\"},{\"id\":\"65306\"},{\"id\":\"65307\"},{\"id\":\"65308\"},{\"id\":\"65309\"},{\"id\":\"65310\"}]},\"id\":\"65312\",\"type\":\"Toolbar\"},{\"attributes\":{\"below\":[{\"id\":\"65233\"}],\"center\":[{\"id\":\"65236\"},{\"id\":\"65240\"},{\"id\":\"65268\"}],\"left\":[{\"id\":\"65237\"}],\"renderers\":[{\"id\":\"65258\"},{\"id\":\"65273\"}],\"sizing_mode\":\"scale_both\",\"title\":{\"id\":\"65223\"},\"toolbar\":{\"id\":\"65248\"},\"toolbar_location\":null,\"x_range\":{\"id\":\"65225\"},\"x_scale\":{\"id\":\"65229\"},\"y_range\":{\"id\":\"65227\"},\"y_scale\":{\"id\":\"65231\"}},\"id\":\"65222\",\"subtype\":\"Figure\",\"type\":\"Plot\"},{\"attributes\":{\"line_alpha\":0.1,\"line_color\":\"orange\",\"x\":{\"field\":\"x\"},\"y\":{\"field\":\"y\"}},\"id\":\"65272\",\"type\":\"Line\"},{\"attributes\":{},\"id\":\"65282\",\"type\":\"Selection\"},{\"attributes\":{\"bottom_units\":\"screen\",\"fill_alpha\":0.5,\"fill_color\":\"lightgrey\",\"left_units\":\"screen\",\"level\":\"overlay\",\"line_alpha\":1.0,\"line_color\":\"black\",\"line_dash\":[4,4],\"line_width\":2,\"right_units\":\"screen\",\"top_units\":\"screen\"},\"id\":\"65311\",\"type\":\"BoxAnnotation\"},{\"attributes\":{},\"id\":\"65283\",\"type\":\"UnionRenderers\"},{\"attributes\":{},\"id\":\"65231\",\"type\":\"LinearScale\"},{\"attributes\":{\"axis\":{\"id\":\"65233\"},\"ticker\":null},\"id\":\"65236\",\"type\":\"Grid\"},{\"attributes\":{\"line_color\":\"steelblue\",\"x\":{\"field\":\"x\"},\"y\":{\"field\":\"y\"}},\"id\":\"65256\",\"type\":\"Line\"},{\"attributes\":{\"axis_label\":\"Relative proportion of non-plagiared to plagiarized\",\"formatter\":{\"id\":\"65261\"},\"ticker\":{\"id\":\"65234\"}},\"id\":\"65233\",\"type\":\"LinearAxis\"},{\"attributes\":{},\"id\":\"65227\",\"type\":\"DataRange1d\"},{\"attributes\":{\"axis\":{\"id\":\"65237\"},\"dimension\":1,\"ticker\":null},\"id\":\"65240\",\"type\":\"Grid\"},{\"attributes\":{},\"id\":\"65229\",\"type\":\"LinearScale\"},{\"attributes\":{\"data\":{\"x\":{\"__ndarray__\":\"mpmZmZmZ6T8p1eRxZwnrP7gQMEo1eew/SEx7IgPp7T/Xh8b60FjvP7PhiGlPZPA/en+uVTYc8T9CHdRBHdTxPwq7+S0EjPI/0VgfGutD8z+Z9kQG0vvzP2CUavK4s/Q/KDKQ3p9r9T/wz7XKhiP2P7ht27Zt2/Y/fwsBo1ST9z9GqSaPO0v4Pw5HTHsiA/k/1uRxZwm7+T+egpdT8HL6P2UgvT/XKvs/LL7iK77i+z/0WwgYpZr8P7z5LQSMUv0/g5dT8HIK/j9LNXncWcL+PxLTnshAev8/bThi2hMZAEBRB3VQB3UAQDTWh8b60ABAGKWaPO4sAUD8c62y4YgBQOBCwCjV5AFAxBHTnshAAkCo4OUUvJwCQIyv+Iqv+AJAb34LAaNUA0BTTR53lrADQDccMe2JDARAGutDY31oBED+uVbZcMQEQOKIaU9kIAVAxld8xVd8BUCqJo87S9gFQI71obE+NAZAcsS0JzKQBkBWk8edJewGQDhi2hMZSAdAHDHtiQykB0AAAAAAAAAIQA==\",\"dtype\":\"float64\",\"order\":\"little\",\"shape\":[50]},\"y\":{\"__ndarray__\":\"1vEkuDxB5j9zY0p7IGzlPwwHeR2XSeU/cH8rERw65T8KfXLbTt/lP2UgYpHAU+Q/iFwHHKGs5D8SnTy2etPkP3JaUyNyAeQ/4bEKMJjZ5D9ReCgNi8PjP5IrMaqTGuQ/97jg0KMu4z9Oa3hNnrnjPyMqJVBIH+M/1v/jVxlH4z82KRMSyIriP7qqt8VsVeM/MardUw5f4j8TcxxnasriPzcgWryGTeI/8BDU896u4j+bEQSv4h3iP9tkSRda2+E/QVkJ5H/c4T9QCu2bntHiP8pJ86DOUOE/bgQgyAv84T/wvnRKr4jhP1uGxbYdlOE/y/O6eLIm4T9ks2LS9ULhP0TZNYUTdOE/33qEUtmQ4D+uwHuuYj3gP5A2NsrJRuA/v3hY3H0Y4T9gbHI7IhDgPzJSHLcQV+A/MutWCJ1c4D8dvgaQTpbgP77mWI0uvOA/WhDGaMlK4D9PoZlJ+DPgP/0NadFwwt8/ktCqAvbl3j+VaCbucaPgP0x/kdHdX+A/nm82rxKb3z/umGOsy+fePw==\",\"dtype\":\"float64\",\"order\":\"little\",\"shape\":[50]}},\"selected\":{\"id\":\"65282\"},\"selection_policy\":{\"id\":\"65283\"}},\"id\":\"65270\",\"type\":\"ColumnDataSource\"},{\"attributes\":{},\"id\":\"65234\",\"type\":\"BasicTicker\"},{\"attributes\":{},\"id\":\"65238\",\"type\":\"BasicTicker\"},{\"attributes\":{\"axis_label\":\"F1\",\"formatter\":{\"id\":\"65263\"},\"ticker\":{\"id\":\"65238\"}},\"id\":\"65237\",\"type\":\"LinearAxis\"},{\"attributes\":{\"data_source\":{\"id\":\"65255\"},\"glyph\":{\"id\":\"65256\"},\"hover_glyph\":null,\"muted_glyph\":null,\"nonselection_glyph\":{\"id\":\"65257\"},\"selection_glyph\":null,\"view\":{\"id\":\"65259\"}},\"id\":\"65258\",\"type\":\"GlyphRenderer\"},{\"attributes\":{\"children\":[[{\"id\":\"65222\"},0,0],[{\"id\":\"65286\"},0,1]]},\"id\":\"65372\",\"type\":\"GridBox\"},{\"attributes\":{\"data\":{\"x\":{\"__ndarray__\":\"mpmZmZmZ6T8p1eRxZwnrP7gQMEo1eew/SEx7IgPp7T/Xh8b60FjvP7PhiGlPZPA/en+uVTYc8T9CHdRBHdTxPwq7+S0EjPI/0VgfGutD8z+Z9kQG0vvzP2CUavK4s/Q/KDKQ3p9r9T/wz7XKhiP2P7ht27Zt2/Y/fwsBo1ST9z9GqSaPO0v4Pw5HTHsiA/k/1uRxZwm7+T+egpdT8HL6P2UgvT/XKvs/LL7iK77i+z/0WwgYpZr8P7z5LQSMUv0/g5dT8HIK/j9LNXncWcL+PxLTnshAev8/bThi2hMZAEBRB3VQB3UAQDTWh8b60ABAGKWaPO4sAUD8c62y4YgBQOBCwCjV5AFAxBHTnshAAkCo4OUUvJwCQIyv+Iqv+AJAb34LAaNUA0BTTR53lrADQDccMe2JDARAGutDY31oBED+uVbZcMQEQOKIaU9kIAVAxld8xVd8BUCqJo87S9gFQI71obE+NAZAcsS0JzKQBkBWk8edJewGQDhi2hMZSAdAHDHtiQykB0AAAAAAAAAIQA==\",\"dtype\":\"float64\",\"order\":\"little\",\"shape\":[50]},\"y\":{\"__ndarray__\":\"kr/KN+IA5D/fMxeRpt3jP9KMt4Al2eM/QzwpX9855D9repT4TePlP2sja/3pueQ/Tj8CfINo5T/mqzvOgP/lP07npZV1hOU/bSgkoCuq5j/H8B7H2JLmP+IUpcTyh+Y/3W6wR/1g5j+tL3torDLnPw3BGWRZPOc/6iq9Qg2m5z+RoKZgLGDnP4bzicMtvOc/H3bX2Dl65z8Gb4C0XyfoP2mDNx5n5uc/TlfoyhJx6D9VEi6Z9+vnP2Kk3g9KKOg/OARB9NRU6D81MWpuYRbpP76melcZfug/tV9kay/56D/SpRURXcDoP32Jcm7TQek/5tcbbhcX6T+4arptLFXpP2w41mjLVOk/TqvnhoBD6T+POqXLjknpPw6iRuG5Xuk/ZgiCeEbf6T+I61to3WzpPxtrKzFItuk/o2SFGb3L6T+qJGbrVvHpP61movSNKuo/cBJZZe9D6j/QsWrDHzbqP7V+/j9XY+o/XiiT6ojy6T9qwxkaaI/qP/OSwoGsrOo/+JRj3WJ46j+TJy3R+ZfqPw==\",\"dtype\":\"float64\",\"order\":\"little\",\"shape\":[50]}},\"selected\":{\"id\":\"65265\"},\"selection_policy\":{\"id\":\"65266\"}},\"id\":\"65255\",\"type\":\"ColumnDataSource\"},{\"attributes\":{\"line_alpha\":0.1,\"line_color\":\"steelblue\",\"x\":{\"field\":\"x\"},\"y\":{\"field\":\"y\"}},\"id\":\"65257\",\"type\":\"Line\"},{\"attributes\":{\"source\":{\"id\":\"65255\"}},\"id\":\"65259\",\"type\":\"CDSView\"}],\"root_ids\":[\"65375\"]},\"title\":\"Bokeh Application\",\"version\":\"2.2.3\"}};\n",
       "  var render_items = [{\"docid\":\"540ad3be-9a4a-4c6b-a248-813b2c2081cb\",\"root_ids\":[\"65375\"],\"roots\":{\"65375\":\"3b481ce2-ef05-4978-828a-6dee0a199d0b\"}}];\n",
       "  root.Bokeh.embed.embed_items_notebook(docs_json, render_items);\n",
       "\n",
       "  }\n",
       "  if (root.Bokeh !== undefined) {\n",
       "    embed_document(root);\n",
       "  } else {\n",
       "    var attempts = 0;\n",
       "    var timer = setInterval(function(root) {\n",
       "      if (root.Bokeh !== undefined) {\n",
       "        clearInterval(timer);\n",
       "        embed_document(root);\n",
       "      } else {\n",
       "        attempts++;\n",
       "        if (attempts > 100) {\n",
       "          clearInterval(timer);\n",
       "          console.log(\"Bokeh: ERROR: Unable to run BokehJS code because BokehJS library is missing\");\n",
       "        }\n",
       "      }\n",
       "    }, 10, root)\n",
       "  }\n",
       "})(window);"
      ],
      "application/vnd.bokehjs_exec.v0+json": ""
     },
     "metadata": {
      "application/vnd.bokehjs_exec.v0+json": {
       "id": "65375"
      }
     },
     "output_type": "display_data"
    }
   ],
   "source": [
    "# Lets try to optmize by changing proportion of data\n",
    "def calc_F1_prop(p):\n",
    "    n = len(df[df['plagiarized'] == 1])\n",
    "    m = round(p * n)\n",
    "    data = df[df['plagiarized'] == 1].append(df[df['plagiarized'] == 0].sample(n = m))\n",
    "    data.reset_index(inplace = True)\n",
    "    \n",
    "    features = [\"jaccard\", \"containment\", \"dep\"]\n",
    "    X = data[features]\n",
    "    y = data[\"plagiarized\"]\n",
    "    \n",
    "    clf = DecisionTreeClassifier()\n",
    "\n",
    "    # Make folds of data for cross validation\n",
    "    k_fold = KFold(n_splits = 10, shuffle = True)\n",
    "\n",
    "    results = []\n",
    "    for train, test in k_fold.split(data):\n",
    "        clf.fit(X.iloc[train], y.iloc[train])\n",
    "        results.append(f1_score(y.iloc[test], clf.predict(X.iloc[test]), average = None))\n",
    "    \n",
    "    return sum(results) / len(results)\n",
    "\n",
    "p = np.linspace(0.8, 3, num = 50)\n",
    "F1 = np.stack(list(map(calc_F1_prop, p.tolist())), axis = 0)\n",
    "# Filter F1\n",
    "filtered_F1 = np.column_stack((lowess(F1[:, 0], p, is_sorted=True, frac=0.2, it=0)[:, 1],\n",
    "                             lowess(F1[:, 1], p, is_sorted=True, frac=0.2, it=0)[:, 1]))\n",
    "\n",
    "# Normal plot\n",
    "prop_plot = figure(title = \"F1 score as a function of the proportion of texts in the data\",\n",
    "                   x_axis_label = \"Relative proportion of non-plagiared to plagiarized\",\n",
    "                   y_axis_label = \"F1\")\n",
    "prop_plot.line(p, F1[:, 0], legend_label = \"Non-plagiarized\", line_color = \"steelblue\")\n",
    "prop_plot.line(p, F1[:, 1], legend_label = \"Plagiarized\", line_color = \"orange\")\n",
    "\n",
    "\n",
    "# Filtered plot to remove some noise and better appreciate tendencies\n",
    "prop_filtered_plot = figure(title = \"F1 score as a function of the proportion of texts in the data\",\n",
    "                           x_axis_label = \"Relative proportion of non-plagiared to plagiarized\",\n",
    "                           y_axis_label = \"F1\")\n",
    "\n",
    "prop_filtered_plot.line(p, filtered_F1[:, 0], legend_label = \"Non-plagiarized\", line_color = \"steelblue\")\n",
    "prop_filtered_plot.line(p, filtered_F1[:, 1], legend_label = \"Plagiarized\", line_color = \"orange\")\n",
    "\n",
    "\n",
    "show(gridplot([[prop_plot, prop_filtered_plot]], sizing_mode='scale_both'))\n",
    "\n",
    "\n",
    "# The optimum point for the unbalanced data is obtained when both sets have the same proportion"
   ]
  },
  {
   "cell_type": "markdown",
   "metadata": {},
   "source": [
    "Como podemos observar, el compromiso optimo para ambas clases en cuanto a precisión se encuentra en p = 1, es decir, la misma cantidad de casos de plagio que de no plagio."
   ]
  },
  {
   "cell_type": "markdown",
   "metadata": {},
   "source": [
    "## Optimización del número mínimo de muestras por hoja"
   ]
  },
  {
   "cell_type": "markdown",
   "metadata": {},
   "source": [
    "En este apartado estuadiamos como varia el puntuador según la cantidad de muestras minimas que se necesitan en cada nueva hoja\n",
    "para poder formar un nuevo nodo."
   ]
  },
  {
   "cell_type": "code",
   "execution_count": 226,
   "metadata": {
    "scrolled": false
   },
   "outputs": [
    {
     "data": {
      "text/html": [
       "\n",
       "\n",
       "\n",
       "\n",
       "\n",
       "\n",
       "  <div class=\"bk-root\" id=\"b800dfb3-745f-450f-82c1-404f703c1ac5\" data-root-id=\"74371\"></div>\n"
      ]
     },
     "metadata": {},
     "output_type": "display_data"
    },
    {
     "data": {
      "application/javascript": [
       "(function(root) {\n",
       "  function embed_document(root) {\n",
       "    \n",
       "  var docs_json = {\"785bb30a-c50d-470c-88f0-b8fb944b95b9\":{\"roots\":{\"references\":[{\"attributes\":{\"children\":[{\"id\":\"74370\"},{\"id\":\"74368\"}],\"sizing_mode\":\"scale_both\"},\"id\":\"74371\",\"type\":\"Column\"},{\"attributes\":{\"data\":{\"x\":{\"__ndarray__\":\"AQAAAAIAAAADAAAABAAAAAUAAAAGAAAABwAAAAgAAAAJAAAACgAAAAsAAAAMAAAADQAAAA4AAAAPAAAAEAAAABEAAAASAAAAEwAAABQAAAAVAAAAFgAAABcAAAAYAAAAGQAAABoAAAAbAAAAHAAAAB0AAAAeAAAAHwAAACAAAAAhAAAAIgAAACMAAAAkAAAAJQAAACYAAAAnAAAAKAAAACkAAAAqAAAAKwAAACwAAAAtAAAALgAAAC8AAAAwAAAAMQAAADIAAAAzAAAANAAAADUAAAA2AAAANwAAADgAAAA5AAAAOgAAADsAAAA8AAAAPQAAAD4AAAA/AAAAQAAAAEEAAABCAAAAQwAAAEQAAABFAAAARgAAAEcAAABIAAAASQAAAEoAAABLAAAATAAAAE0AAABOAAAATwAAAFAAAABRAAAAUgAAAFMAAABUAAAAVQAAAFYAAABXAAAAWAAAAFkAAABaAAAAWwAAAFwAAABdAAAAXgAAAF8AAABgAAAAYQAAAGIAAABjAAAAZAAAAGUAAABmAAAAZwAAAGgAAABpAAAAagAAAGsAAABsAAAAbQAAAG4AAABvAAAAcAAAAHEAAAByAAAAcwAAAHQAAAB1AAAAdgAAAHcAAAB4AAAAeQAAAHoAAAB7AAAAfAAAAH0AAAB+AAAAfwAAAIAAAACBAAAAggAAAIMAAACEAAAAhQAAAIYAAACHAAAAiAAAAIkAAACKAAAAiwAAAIwAAACNAAAAjgAAAI8AAACQAAAAkQAAAJIAAACTAAAAlAAAAJUAAAA=\",\"dtype\":\"int32\",\"order\":\"little\",\"shape\":[149]},\"y\":{\"__ndarray__\":\"oOJaxP8j5T8kmrtBtEHlP2RawiWvYOU/vNuHbJl+5T/mBerrnZjlP0DzllUbs+U/gj+jh/vR5T80ZcIYlu/lP5gU//BXA+Y/hGusPPwD5j95whAKoP3lP0iHKnTQ7eU/QDTwelXi5T86EPaKFeLlPy5bhNqJ8eU/GPipcnz+5T+FLGhXOQbmP1MzDTopBeY/jO3eluwB5j9+BggefgDmP3I6/rNQ9+U/v2Rs5hrs5T/z95U84eTlP3na/0P65eU/OOPIUgnu5T+tPBflifTlPzovX3Rw8eU/wWmIqtzp5T/svIriAdrlPyK8zPMx0+U/bXMyMive5T8k4M0i/OzlPwkhTWvX8eU/O87xMC7o5T8U5xfx8MrlP9aq380ksOU/O2jeyTWp5T/1CHv5pa7lPweDIC1puuU//Je9pGrI5T8CCiP0zczlP2edGwW0x+U/bzF4j3vL5T9hqUReBtHlP2fBeJI/xuU/MM56vUu35T9N+FgdpLLlPysbHca1sOU/SbqdL4iz5T8QGYKCBcLlPwJa9TVYz+U/pZXlaF7J5T+nYSDGPsLlPxgY+UyQyeU/WqKBsYvZ5T8PVEpVBevlP46X4/bF++U/RdOZ5zL75T++/q7VuvLlP+99QKTp8uU/8u0zpOv25T9sZgoBXwHmP3PwIVAaF+Y/bJygKAgq5j94ChlsjS/mP136u+GxNOY/hUjAvNA15j88IpQsNyvmP9XijGU2FeY/q67Oe6H55T8wUynl99blP0upwP0tseU/euiiakaH5T+XdJiwxmDlP74FbuA6P+U/SryCU0gq5T8PHn+XwiflP0VKnhJoM+U/K4Lgcm9F5T/CY5dpfVzlP2Xsr5BWdeU/08EmrceL5T/tHcRKBaDlP5f8Pal5seU/yNz4A2bE5T+QtqYAAd7lP7kvrLoP/OU/yIOWcq4X5j9Zy/zfTDLmP5ww/sDVU+Y/LGUoMdt05j92PUjwNYvmP9c4ArGlneY/zpjzKOex5j9jYLli/7zmP0QqCfvkwuY/7t8BB3nS5j+Qgn9yoePmP3LiTlu65uY/Szw+CCXg5j9FojnNsdXmP66GycqZz+Y/8Hpe7d7P5j/vPPnsD9TmP9JJAjLd2uY/eTfQ0gjg5j+U5lsLe9/mP5yVz1fy3uY/4VsS5Nre5j9pNZzNkdvmP37Zkfus2OY/9dMGhjzP5j82dGfKysLmP62FDZDMvOY/oUKoMeO65j9asNFdJrbmPyqd4tnuq+Y/gqQPgaCd5j8GUEohvJHmP5Q+5T5Pi+Y/9Tzlk/SL5j/JEEXhYJXmP89jeuzDm+Y/x8PT7lGY5j8bYBCthZPmP9FSw1J1keY/5cHCbkeT5j81TcTf6pTmP4nWpdU/leY/SKQeXtuX5j/xHD7HcZ3mP8CS4f9Hn+Y/pSoatEqb5j/0YmmX+JXmP+XEf5qBj+Y/EphF8YWH5j8FbtbdyX/mP2iKquaReeY/7xr/umRx5j81dCrismPmP5EZBC8rVOY/FdgGSu1P5j/ufIAEqFHmP7YHfgDmS+Y/I//WARRG5j8mfkQnxUDmP558g9D9NuY/miSQV4Mt5j/DBQONbyXmPw==\",\"dtype\":\"float64\",\"order\":\"little\",\"shape\":[149]}},\"selected\":{\"id\":\"74325\"},\"selection_policy\":{\"id\":\"74326\"}},\"id\":\"74315\",\"type\":\"ColumnDataSource\"},{\"attributes\":{\"axis_label\":\"F1\",\"formatter\":{\"id\":\"74259\"},\"ticker\":{\"id\":\"74234\"}},\"id\":\"74233\",\"type\":\"LinearAxis\"},{\"attributes\":{\"toolbars\":[{\"id\":\"74244\"},{\"id\":\"74308\"}],\"tools\":[{\"id\":\"74237\"},{\"id\":\"74238\"},{\"id\":\"74239\"},{\"id\":\"74240\"},{\"id\":\"74241\"},{\"id\":\"74242\"},{\"id\":\"74301\"},{\"id\":\"74302\"},{\"id\":\"74303\"},{\"id\":\"74304\"},{\"id\":\"74305\"},{\"id\":\"74306\"}]},\"id\":\"74369\",\"type\":\"ProxyToolbar\"},{\"attributes\":{\"active_drag\":\"auto\",\"active_inspect\":\"auto\",\"active_multi\":null,\"active_scroll\":\"auto\",\"active_tap\":\"auto\",\"tools\":[{\"id\":\"74301\"},{\"id\":\"74302\"},{\"id\":\"74303\"},{\"id\":\"74304\"},{\"id\":\"74305\"},{\"id\":\"74306\"}]},\"id\":\"74308\",\"type\":\"Toolbar\"},{\"attributes\":{},\"id\":\"74321\",\"type\":\"BasicTickFormatter\"},{\"attributes\":{\"bottom_units\":\"screen\",\"fill_alpha\":0.5,\"fill_color\":\"lightgrey\",\"left_units\":\"screen\",\"level\":\"overlay\",\"line_alpha\":1.0,\"line_color\":\"black\",\"line_dash\":[4,4],\"line_width\":2,\"right_units\":\"screen\",\"top_units\":\"screen\"},\"id\":\"74307\",\"type\":\"BoxAnnotation\"},{\"attributes\":{},\"id\":\"74234\",\"type\":\"BasicTicker\"},{\"attributes\":{},\"id\":\"74259\",\"type\":\"BasicTickFormatter\"},{\"attributes\":{\"axis\":{\"id\":\"74229\"},\"ticker\":null},\"id\":\"74232\",\"type\":\"Grid\"},{\"attributes\":{},\"id\":\"74326\",\"type\":\"UnionRenderers\"},{\"attributes\":{\"items\":[{\"id\":\"74329\"},{\"id\":\"74345\"}]},\"id\":\"74328\",\"type\":\"Legend\"},{\"attributes\":{},\"id\":\"74343\",\"type\":\"UnionRenderers\"},{\"attributes\":{},\"id\":\"74230\",\"type\":\"BasicTicker\"},{\"attributes\":{},\"id\":\"74323\",\"type\":\"BasicTickFormatter\"},{\"attributes\":{\"axis\":{\"id\":\"74233\"},\"dimension\":1,\"ticker\":null},\"id\":\"74236\",\"type\":\"Grid\"},{\"attributes\":{},\"id\":\"74325\",\"type\":\"Selection\"},{\"attributes\":{\"label\":{\"value\":\"Non-plagiarized\"},\"renderers\":[{\"id\":\"74318\"}]},\"id\":\"74329\",\"type\":\"LegendItem\"},{\"attributes\":{\"line_color\":\"orange\",\"x\":{\"field\":\"x\"},\"y\":{\"field\":\"y\"}},\"id\":\"74331\",\"type\":\"Line\"},{\"attributes\":{\"active_drag\":\"auto\",\"active_inspect\":\"auto\",\"active_multi\":null,\"active_scroll\":\"auto\",\"active_tap\":\"auto\",\"tools\":[{\"id\":\"74237\"},{\"id\":\"74238\"},{\"id\":\"74239\"},{\"id\":\"74240\"},{\"id\":\"74241\"},{\"id\":\"74242\"}]},\"id\":\"74244\",\"type\":\"Toolbar\"},{\"attributes\":{\"text\":\"F1 score as a function of the minimum samples per leaf\"},\"id\":\"74219\",\"type\":\"Title\"},{\"attributes\":{\"source\":{\"id\":\"74251\"}},\"id\":\"74255\",\"type\":\"CDSView\"},{\"attributes\":{},\"id\":\"74237\",\"type\":\"PanTool\"},{\"attributes\":{\"source\":{\"id\":\"74330\"}},\"id\":\"74334\",\"type\":\"CDSView\"},{\"attributes\":{},\"id\":\"74241\",\"type\":\"ResetTool\"},{\"attributes\":{\"data_source\":{\"id\":\"74330\"},\"glyph\":{\"id\":\"74331\"},\"hover_glyph\":null,\"muted_glyph\":null,\"nonselection_glyph\":{\"id\":\"74332\"},\"selection_glyph\":null,\"view\":{\"id\":\"74334\"}},\"id\":\"74333\",\"type\":\"GlyphRenderer\"},{\"attributes\":{},\"id\":\"74238\",\"type\":\"WheelZoomTool\"},{\"attributes\":{\"overlay\":{\"id\":\"74243\"}},\"id\":\"74239\",\"type\":\"BoxZoomTool\"},{\"attributes\":{},\"id\":\"74240\",\"type\":\"SaveTool\"},{\"attributes\":{\"line_alpha\":0.1,\"line_color\":\"orange\",\"x\":{\"field\":\"x\"},\"y\":{\"field\":\"y\"}},\"id\":\"74332\",\"type\":\"Line\"},{\"attributes\":{},\"id\":\"74242\",\"type\":\"HelpTool\"},{\"attributes\":{\"toolbar\":{\"id\":\"74369\"},\"toolbar_location\":\"above\"},\"id\":\"74370\",\"type\":\"ToolbarBox\"},{\"attributes\":{},\"id\":\"74342\",\"type\":\"Selection\"},{\"attributes\":{\"label\":{\"value\":\"Plagiarized\"},\"renderers\":[{\"id\":\"74269\"}]},\"id\":\"74281\",\"type\":\"LegendItem\"},{\"attributes\":{},\"id\":\"74279\",\"type\":\"UnionRenderers\"},{\"attributes\":{\"source\":{\"id\":\"74266\"}},\"id\":\"74270\",\"type\":\"CDSView\"},{\"attributes\":{},\"id\":\"74278\",\"type\":\"Selection\"},{\"attributes\":{\"line_alpha\":0.1,\"line_color\":\"steelblue\",\"x\":{\"field\":\"x\"},\"y\":{\"field\":\"y\"}},\"id\":\"74253\",\"type\":\"Line\"},{\"attributes\":{\"bottom_units\":\"screen\",\"fill_alpha\":0.5,\"fill_color\":\"lightgrey\",\"left_units\":\"screen\",\"level\":\"overlay\",\"line_alpha\":1.0,\"line_color\":\"black\",\"line_dash\":[4,4],\"line_width\":2,\"right_units\":\"screen\",\"top_units\":\"screen\"},\"id\":\"74243\",\"type\":\"BoxAnnotation\"},{\"attributes\":{\"line_color\":\"orange\",\"x\":{\"field\":\"x\"},\"y\":{\"field\":\"y\"}},\"id\":\"74267\",\"type\":\"Line\"},{\"attributes\":{\"data_source\":{\"id\":\"74251\"},\"glyph\":{\"id\":\"74252\"},\"hover_glyph\":null,\"muted_glyph\":null,\"nonselection_glyph\":{\"id\":\"74253\"},\"selection_glyph\":null,\"view\":{\"id\":\"74255\"}},\"id\":\"74254\",\"type\":\"GlyphRenderer\"},{\"attributes\":{},\"id\":\"74257\",\"type\":\"BasicTickFormatter\"},{\"attributes\":{\"line_color\":\"steelblue\",\"x\":{\"field\":\"x\"},\"y\":{\"field\":\"y\"}},\"id\":\"74252\",\"type\":\"Line\"},{\"attributes\":{},\"id\":\"74262\",\"type\":\"UnionRenderers\"},{\"attributes\":{\"data\":{\"x\":{\"__ndarray__\":\"AQAAAAIAAAADAAAABAAAAAUAAAAGAAAABwAAAAgAAAAJAAAACgAAAAsAAAAMAAAADQAAAA4AAAAPAAAAEAAAABEAAAASAAAAEwAAABQAAAAVAAAAFgAAABcAAAAYAAAAGQAAABoAAAAbAAAAHAAAAB0AAAAeAAAAHwAAACAAAAAhAAAAIgAAACMAAAAkAAAAJQAAACYAAAAnAAAAKAAAACkAAAAqAAAAKwAAACwAAAAtAAAALgAAAC8AAAAwAAAAMQAAADIAAAAzAAAANAAAADUAAAA2AAAANwAAADgAAAA5AAAAOgAAADsAAAA8AAAAPQAAAD4AAAA/AAAAQAAAAEEAAABCAAAAQwAAAEQAAABFAAAARgAAAEcAAABIAAAASQAAAEoAAABLAAAATAAAAE0AAABOAAAATwAAAFAAAABRAAAAUgAAAFMAAABUAAAAVQAAAFYAAABXAAAAWAAAAFkAAABaAAAAWwAAAFwAAABdAAAAXgAAAF8AAABgAAAAYQAAAGIAAABjAAAAZAAAAGUAAABmAAAAZwAAAGgAAABpAAAAagAAAGsAAABsAAAAbQAAAG4AAABvAAAAcAAAAHEAAAByAAAAcwAAAHQAAAB1AAAAdgAAAHcAAAB4AAAAeQAAAHoAAAB7AAAAfAAAAH0AAAB+AAAAfwAAAIAAAACBAAAAggAAAIMAAACEAAAAhQAAAIYAAACHAAAAiAAAAIkAAACKAAAAiwAAAIwAAACNAAAAjgAAAI8AAACQAAAAkQAAAJIAAACTAAAAlAAAAJUAAAA=\",\"dtype\":\"int32\",\"order\":\"little\",\"shape\":[149]},\"y\":{\"__ndarray__\":\"abpv7Ick5T8nErG3ZGflP3Hy/76JGeU/ZVPuk4Wg5T/qpll5+47lP5oigmpm4uU/wXLuIpDB5T+bn1KdE5PlPw0b+DtecuY/tTUoBCP65T83zoh6r5XmP2KfvSoLJuU/IE/EoysS5j8FwT1VqrLlP3qC1X9RJeY/hr1Eq7UJ5j+TAchsLO3lP/qC7g8bDuY/Uww+pTQX5j94ww85ofzlPw/hVIPb4eU/bWcCZx8h5j8pJTSKla7lPwE2WyiO9OU/J1P0N1G65T/uKNn4Zg3mP4MZrIPiMeY/VaMHiVr85T8+Q1cmPY/lPylbbwJ19OU/ncXyy5J15T+ltNA4+ijmP+gXx4ThLeY/3qCZG0T75T85QZpO8tXlP9Iw685bieU/hFiOQwxi5T+rOnRCyJ3lPywXrqs+/eU/JthevaHe5T/SJ9o9ta/lPyB2OkSQw+U/uQpt1aTV5T/u7OXDbqHlP8qMSB9pDuY/VuSuzqvy5T/A6d8z1VzlPyB7cckFZuU/x2LmOMXb5T8i2pcCT/HlP5f+5t1f2uU/AayLeLuX5T9+783rvQzmPxeu42GAauU/uCu7tcDV5T8I1s5oW/3lPz+1Um0hFuY/mPvNv9Ie5j/MHeB4kAjmP9f5zNpEp+U/bRHcotu85T/fN3+0/FHmP0bptD5DFeY/w249uMkc5j9PkbVmUSLmP2cYO5K2Y+Y/PNj4xNcV5j/unyu0CGHmP0bUa4/4DOY/G7SY3JgN5j8E32PUM7/lPyUsc3GuyOU/mtZRVEB65T8eq9rs+YblP9xEET+Y9+Q/yvbERzIz5T8MzIpJ5/vkP2jC01iJHuU/7DrlTrNy5T/OhoY1w0PlPzGykQvKfOU/Eh2iCLh05T9wW8DSwLLlP4ryBIqU0eU/dUpwfIGt5T/rY6wi1sflP+rtZo5p0uU/MaFGKRpF5j8uhN5xPGrmPx6VUUC1KeY/9ntM1Ygr5j+qwW4EyazmPwGbhExSBuc/mvvVzW6r5j/HMgjhU1nmP3qmBymW3eY/uNM3HpHo5j+D8IBYl/HmP3yluvbt8+Y/xgRmy7Xm5j+iarTAIsfmP/M9/UEq3eY/451X+F+d5j8h95CPtObmP5iH5JyS5uY/kpXdJZfb5j/DzqcubvnmP6nQAVojyeY/NB4CRk7U5j/ig4xrnOHmPytqWpFg/OY/43X0utKz5j9APsnyDOrmP7hJDfkrjOY//fskRKWd5j+mzwLZdunmP3Qz2gSNt+Y/I+ATWgbC5j/fxNaYGVPmPyMIRu1JWOY/J0+2UaK65j8GHRcsc5rmP8KoksTIoOY/dDDv7baY5j9pwpTDbZXmP5TUs13EheY/JT2XvWSR5j+H+aaYZYbmP6E0stmMuOY/GB2gwDiR5j/amaooZILmP1E8VbP9meY/TPGsxl6+5j9KFRPmwL3mPyzNgdOhXeY/v48UJDt45j8mtzMdhoPmPwPkR1fMnOY/jTAhEJN85j8SZ0PCKEbmP2pJzmEbVuY/VvKdHZhP5j9oQaq1yCTmP3xZbXhxdeY/il9H8kJ75j/GMny/OP/lP/WshBP+PuY/wBItJEkp5j/+f7AW0zLmPw==\",\"dtype\":\"float64\",\"order\":\"little\",\"shape\":[149]}},\"selected\":{\"id\":\"74261\"},\"selection_policy\":{\"id\":\"74262\"}},\"id\":\"74251\",\"type\":\"ColumnDataSource\"},{\"attributes\":{\"items\":[{\"id\":\"74265\"},{\"id\":\"74281\"}]},\"id\":\"74264\",\"type\":\"Legend\"},{\"attributes\":{},\"id\":\"74261\",\"type\":\"Selection\"},{\"attributes\":{\"label\":{\"value\":\"Non-plagiarized\"},\"renderers\":[{\"id\":\"74254\"}]},\"id\":\"74265\",\"type\":\"LegendItem\"},{\"attributes\":{\"line_alpha\":0.1,\"line_color\":\"orange\",\"x\":{\"field\":\"x\"},\"y\":{\"field\":\"y\"}},\"id\":\"74268\",\"type\":\"Line\"},{\"attributes\":{},\"id\":\"74289\",\"type\":\"LinearScale\"},{\"attributes\":{\"text\":\"F1 score as a function of the minimum samples per leaf\"},\"id\":\"74283\",\"type\":\"Title\"},{\"attributes\":{},\"id\":\"74285\",\"type\":\"DataRange1d\"},{\"attributes\":{\"data\":{\"x\":{\"__ndarray__\":\"AQAAAAIAAAADAAAABAAAAAUAAAAGAAAABwAAAAgAAAAJAAAACgAAAAsAAAAMAAAADQAAAA4AAAAPAAAAEAAAABEAAAASAAAAEwAAABQAAAAVAAAAFgAAABcAAAAYAAAAGQAAABoAAAAbAAAAHAAAAB0AAAAeAAAAHwAAACAAAAAhAAAAIgAAACMAAAAkAAAAJQAAACYAAAAnAAAAKAAAACkAAAAqAAAAKwAAACwAAAAtAAAALgAAAC8AAAAwAAAAMQAAADIAAAAzAAAANAAAADUAAAA2AAAANwAAADgAAAA5AAAAOgAAADsAAAA8AAAAPQAAAD4AAAA/AAAAQAAAAEEAAABCAAAAQwAAAEQAAABFAAAARgAAAEcAAABIAAAASQAAAEoAAABLAAAATAAAAE0AAABOAAAATwAAAFAAAABRAAAAUgAAAFMAAABUAAAAVQAAAFYAAABXAAAAWAAAAFkAAABaAAAAWwAAAFwAAABdAAAAXgAAAF8AAABgAAAAYQAAAGIAAABjAAAAZAAAAGUAAABmAAAAZwAAAGgAAABpAAAAagAAAGsAAABsAAAAbQAAAG4AAABvAAAAcAAAAHEAAAByAAAAcwAAAHQAAAB1AAAAdgAAAHcAAAB4AAAAeQAAAHoAAAB7AAAAfAAAAH0AAAB+AAAAfwAAAIAAAACBAAAAggAAAIMAAACEAAAAhQAAAIYAAACHAAAAiAAAAIkAAACKAAAAiwAAAIwAAACNAAAAjgAAAI8AAACQAAAAkQAAAJIAAACTAAAAlAAAAJUAAAA=\",\"dtype\":\"int32\",\"order\":\"little\",\"shape\":[149]},\"y\":{\"__ndarray__\":\"slb38ygj5T8DQ6hxZ4XkP0uCf9uUreQ/Ud2Yno6v5D9Rnou7P+bkP3E0X7lnLeU/cjuUwvVA5T9H5avjpubkP1DZluOz9OU/ZVRbHJNo5T/25G0x1frlP25u780Gl+Q/pTbmkgW35T9KUqH9YkXlP52bVZEyveU/UvQoxmlZ5T/gV0Q9OknlP93qRABCbuU/S7bT+E3c5T+SWQNNb2jlPz/qXg+lfeU/oRnRw4TQ5T/RMg9rBl/lPxUOxPQLgOU/dlZItRe15T/N/lMBC8vlP3KDo9td/eU/w1Zk1Pib5T+ye2s4XWXlPy8QirFlC+Y/tiYq8qGy5T/AyLQ3Yj7mP7Z+HTC2/uU/+utjWSIC5j8z7RPG5vzlP27k8uunbeU/oqPIRUO55T+jfGQQWy7mP/g549bcH+Y/6ljooUFv5j8smNPyauHlP502jABTOuY/Oh39mL9r5j82F6nl0EHmP8yhVz2cmOY/Lqo8XDqo5j/XB7gg+DrmP3SP3j0VY+Y/qMpZ4CfF5j8u+5yoYaDmP5bk4Nb5euY/8jaueWBN5j/pmVmhFqHmP2ezMAHsCOY/zGWKKoST5j+GFQRpbpvmPwIzJfejY+Y/MpR5e6165j/IrgRG4yrmP3ZzK2EyTuY/3ahrF0tv5j/7EIUyA7fmP9gn4eFFnuY/EiPLhUyv5j82p9gX78HmPxefePrzhuY/GPu//JaD5j85Zf4ho6nmP05Xjsz2m+Y/lexzUdir5j+eYrgtwjTmPxjUigK/qeY/zoE1grGk5j8AjRUAHw3nP9Jc+SFUyOY/5VpjZzU05j/GZpPFwi7mP7Z6G2f+kuY/MjhMAdwM5j8oGhIc8GzmP8sH1QgQF+Y/OtbRn1pc5j/EXR1TFHjmPy6AIzxwcuY//PQ3+Eg/5j/SWMDjQSfmP45+fcSS3eU/BvnRZa9m5j/bkTPDZmrmP6NHuLW/FeY/cvazhPAD5j/2bt2hxMDlP6/bvKJOxOU/2wqYRJNi5T+7WkW0KHvlPzrZDzTKpOU/ZRPfQ+KU5T9NV39aiYnlPw5RdzhIauU//ZVKhYdm5T8F5s2ATDvlP2wxGXigYeU/tNAdMdJ35T/Cr/f9nJPlP3xJYAz8n+U/BgH3Itpn5T+qkZHY74vlP+h2/OfPOOU/JOqi0Jeg5T/rQVdwyoTlP9X0ci8MjOU/houtCUWB5T8a5nbyM6DlP26d6jHcZOU/MroSM9Gq5T+n3Ox7TaPlPwLE2OTUjuU/EKXFGeBo5T/DKdEzOEflP16Pdv4xZuU/Gwlc+BiI5T/EXLwQMYjlP3DskreSfuU/69DIfViR5T8d9CSjIZLlP0G2eI/cpuU/FpYkwwJ55T+jXcVbX2rlP9Nkl8cus+U/UZRSOg6Z5T9SXHsb0YjlP44jhcQNquU/Bmu36rzB5T/8+73D0LPlP3r3I+jEY+U/WgZHCmKO5T+l2bPEPnzlP22dos57MeU/zOWQUU+V5T/ioDr+8jTlP4o9xnsfj+U/df8QZjiN5T/LSnwUU2DlP3V9NJ56lOU/7F7oSeKH5T/esnosHlLlP5JyhimjdeU/jnYp1vpx5T/vaZxXnXflPw==\",\"dtype\":\"float64\",\"order\":\"little\",\"shape\":[149]}},\"selected\":{\"id\":\"74278\"},\"selection_policy\":{\"id\":\"74279\"}},\"id\":\"74266\",\"type\":\"ColumnDataSource\"},{\"attributes\":{\"data_source\":{\"id\":\"74266\"},\"glyph\":{\"id\":\"74267\"},\"hover_glyph\":null,\"muted_glyph\":null,\"nonselection_glyph\":{\"id\":\"74268\"},\"selection_glyph\":null,\"view\":{\"id\":\"74270\"}},\"id\":\"74269\",\"type\":\"GlyphRenderer\"},{\"attributes\":{\"axis\":{\"id\":\"74297\"},\"dimension\":1,\"ticker\":null},\"id\":\"74300\",\"type\":\"Grid\"},{\"attributes\":{\"data\":{\"x\":{\"__ndarray__\":\"AQAAAAIAAAADAAAABAAAAAUAAAAGAAAABwAAAAgAAAAJAAAACgAAAAsAAAAMAAAADQAAAA4AAAAPAAAAEAAAABEAAAASAAAAEwAAABQAAAAVAAAAFgAAABcAAAAYAAAAGQAAABoAAAAbAAAAHAAAAB0AAAAeAAAAHwAAACAAAAAhAAAAIgAAACMAAAAkAAAAJQAAACYAAAAnAAAAKAAAACkAAAAqAAAAKwAAACwAAAAtAAAALgAAAC8AAAAwAAAAMQAAADIAAAAzAAAANAAAADUAAAA2AAAANwAAADgAAAA5AAAAOgAAADsAAAA8AAAAPQAAAD4AAAA/AAAAQAAAAEEAAABCAAAAQwAAAEQAAABFAAAARgAAAEcAAABIAAAASQAAAEoAAABLAAAATAAAAE0AAABOAAAATwAAAFAAAABRAAAAUgAAAFMAAABUAAAAVQAAAFYAAABXAAAAWAAAAFkAAABaAAAAWwAAAFwAAABdAAAAXgAAAF8AAABgAAAAYQAAAGIAAABjAAAAZAAAAGUAAABmAAAAZwAAAGgAAABpAAAAagAAAGsAAABsAAAAbQAAAG4AAABvAAAAcAAAAHEAAAByAAAAcwAAAHQAAAB1AAAAdgAAAHcAAAB4AAAAeQAAAHoAAAB7AAAAfAAAAH0AAAB+AAAAfwAAAIAAAACBAAAAggAAAIMAAACEAAAAhQAAAIYAAACHAAAAiAAAAIkAAACKAAAAiwAAAIwAAACNAAAAjgAAAI8AAACQAAAAkQAAAJIAAACTAAAAlAAAAJUAAAA=\",\"dtype\":\"int32\",\"order\":\"little\",\"shape\":[149]},\"y\":{\"__ndarray__\":\"IHYjtWnO5D9zxLqLUszkPxQcrg/DzeQ/+WoXEGTR5D+nH/nCierkP7tLeIlXCeU/6rqcUs4y5T9nstVzVlnlPyeW/XBIcOU/dUTLHhF05T892z+2t3XlP48utHLkbeU/ez7/bN9n5T840oBs2mblP7oe9tLHbuU/qH07rRl05T9HzzOtWXvlP1szyYNdfeU/trhS8eeE5T+iwuGi2JLlPyxsddwNk+U/bw1PGcSM5T+dmJvu8pLlP95lX/LEn+U/fma8RMus5T9iKrEcfrblP6gNqrHlueU/nqatS6+95T+FR8fXNsHlP7Rn10gZzeU/kqPcM97j5T8/DD6hpvjlP2M1Mxq+++U/TQWhfj7t5T9fDKnmxNvlP8k8aJaB2eU/wNr2Sgrl5T/aX39NhvvlP4ARfzMAFeY/frZS4fIo5j8dK9+9KjXmP7aZ+7rCPeY/gvKJcxlO5j+SlxvnumXmP66yhOvFb+Y/1A3kGWh05j9nHzqRvn/mP/BYi2EZheY/mOstU3+E5j+TK2bkMIfmPwioN2XFg+Y/uZ7DMQRy5j+qa7JrzGjmP4PucvxibOY/pVdNsLJv5j/4AuQl8m/mPyBn+/XnbeY/QFIgqmBk5j+/dZx0NV/mP85+XcuOZ+Y/deDbF0p35j/3XMuRgI3mPz3bBhjsoOY/eDGg0Wum5j9xFMgkUqLmP1z7XLoYn+Y/H93dvyac5j8DNUSMb5bmPzxyzF1Nj+Y/Av2t2HaN5j+Ue3tTWZLmP/7pJfD+n+Y/p4ROXs6r5j/s0j2XcqnmP9tTOgAmmeY/iValxK+B5j/GIJ+brWHmP0xQzKGaTOY/xzAT1pNH5j9DupUDdkjmP3XFCaeHTOY/3ADLidxU5j+kf+UHJFfmP35d7NH9UOY/5NvD6M5B5j9oYz6EPjfmP3hNXWb/M+Y/M+49xJgw5j+uK/bKKivmP3PCJUwvHeY/bny4Bsj85T/tLn94KdLlP1xZcvUqsOU/athOqsSb5T88BDC1dpDlPzfd2w5PiuU/7ebx8umH5T/HK2fFdIDlP6qZgWdjceU/+7gAy2hl5T8lZFO7kmLlP2JBIbozaeU/CQXIrKR05T9F02c74n7lP89wtvVGguU/aMmVR2R95T9xglw5TnnlP0YGam3XeOU/OqzNOuF75T+0wTWL9IHlPyb6XlcdieU/RfuHwEuJ5T8cLnFEOovlPw+F5ET+j+U/fqSV7s6Q5T8m7LZvMYvlPzhjdiV7geU/ItE0Cd915T9ctbfKzW7lPz0Ryo/PbuU/eyCkV3d15T8p5XhsToDlP/lJKO9IieU/IIzlsweO5T820z+RtI3lP5DvpaUijOU/ixKM5NON5T/oUGQky47lP2hvxIpjj+U/i/i+4iiX5T+QT0i84KHlPw9zxMN9pOU/q2pmgVig5T/pHxOcRZvlPxWsn275juU/NcJVH0p85T+GdOjsBHDlP78vklRaaeU/my03d8hn5T/exkn4YmzlPxUIwy2ecuU/JPwCGMZ45T9rl3Z0Yn7lP56YbK//euU/FIt0mlx25T9qLrYV2nTlP/ykgi/3cuU/shL6dXdx5T883M749XDlPw==\",\"dtype\":\"float64\",\"order\":\"little\",\"shape\":[149]}},\"selected\":{\"id\":\"74342\"},\"selection_policy\":{\"id\":\"74343\"}},\"id\":\"74330\",\"type\":\"ColumnDataSource\"},{\"attributes\":{\"below\":[{\"id\":\"74229\"}],\"center\":[{\"id\":\"74232\"},{\"id\":\"74236\"},{\"id\":\"74264\"}],\"left\":[{\"id\":\"74233\"}],\"renderers\":[{\"id\":\"74254\"},{\"id\":\"74269\"}],\"sizing_mode\":\"scale_both\",\"title\":{\"id\":\"74219\"},\"toolbar\":{\"id\":\"74244\"},\"toolbar_location\":null,\"x_range\":{\"id\":\"74221\"},\"x_scale\":{\"id\":\"74225\"},\"y_range\":{\"id\":\"74223\"},\"y_scale\":{\"id\":\"74227\"}},\"id\":\"74218\",\"subtype\":\"Figure\",\"type\":\"Plot\"},{\"attributes\":{},\"id\":\"74221\",\"type\":\"DataRange1d\"},{\"attributes\":{},\"id\":\"74287\",\"type\":\"DataRange1d\"},{\"attributes\":{},\"id\":\"74291\",\"type\":\"LinearScale\"},{\"attributes\":{},\"id\":\"74294\",\"type\":\"BasicTicker\"},{\"attributes\":{\"axis_label\":\"Minimum samples per leaf\",\"formatter\":{\"id\":\"74321\"},\"ticker\":{\"id\":\"74294\"}},\"id\":\"74293\",\"type\":\"LinearAxis\"},{\"attributes\":{},\"id\":\"74225\",\"type\":\"LinearScale\"},{\"attributes\":{\"axis_label\":\"F1\",\"formatter\":{\"id\":\"74323\"},\"ticker\":{\"id\":\"74298\"}},\"id\":\"74297\",\"type\":\"LinearAxis\"},{\"attributes\":{\"axis\":{\"id\":\"74293\"},\"ticker\":null},\"id\":\"74296\",\"type\":\"Grid\"},{\"attributes\":{},\"id\":\"74298\",\"type\":\"BasicTicker\"},{\"attributes\":{\"children\":[[{\"id\":\"74218\"},0,0],[{\"id\":\"74282\"},0,1]]},\"id\":\"74368\",\"type\":\"GridBox\"},{\"attributes\":{\"line_color\":\"steelblue\",\"x\":{\"field\":\"x\"},\"y\":{\"field\":\"y\"}},\"id\":\"74316\",\"type\":\"Line\"},{\"attributes\":{\"data_source\":{\"id\":\"74315\"},\"glyph\":{\"id\":\"74316\"},\"hover_glyph\":null,\"muted_glyph\":null,\"nonselection_glyph\":{\"id\":\"74317\"},\"selection_glyph\":null,\"view\":{\"id\":\"74319\"}},\"id\":\"74318\",\"type\":\"GlyphRenderer\"},{\"attributes\":{\"line_alpha\":0.1,\"line_color\":\"steelblue\",\"x\":{\"field\":\"x\"},\"y\":{\"field\":\"y\"}},\"id\":\"74317\",\"type\":\"Line\"},{\"attributes\":{\"source\":{\"id\":\"74315\"}},\"id\":\"74319\",\"type\":\"CDSView\"},{\"attributes\":{\"label\":{\"value\":\"Plagiarized\"},\"renderers\":[{\"id\":\"74333\"}]},\"id\":\"74345\",\"type\":\"LegendItem\"},{\"attributes\":{},\"id\":\"74301\",\"type\":\"PanTool\"},{\"attributes\":{},\"id\":\"74305\",\"type\":\"ResetTool\"},{\"attributes\":{},\"id\":\"74302\",\"type\":\"WheelZoomTool\"},{\"attributes\":{},\"id\":\"74223\",\"type\":\"DataRange1d\"},{\"attributes\":{\"overlay\":{\"id\":\"74307\"}},\"id\":\"74303\",\"type\":\"BoxZoomTool\"},{\"attributes\":{},\"id\":\"74304\",\"type\":\"SaveTool\"},{\"attributes\":{},\"id\":\"74227\",\"type\":\"LinearScale\"},{\"attributes\":{},\"id\":\"74306\",\"type\":\"HelpTool\"},{\"attributes\":{\"below\":[{\"id\":\"74293\"}],\"center\":[{\"id\":\"74296\"},{\"id\":\"74300\"},{\"id\":\"74328\"}],\"left\":[{\"id\":\"74297\"}],\"renderers\":[{\"id\":\"74318\"},{\"id\":\"74333\"}],\"sizing_mode\":\"scale_both\",\"title\":{\"id\":\"74283\"},\"toolbar\":{\"id\":\"74308\"},\"toolbar_location\":null,\"x_range\":{\"id\":\"74285\"},\"x_scale\":{\"id\":\"74289\"},\"y_range\":{\"id\":\"74287\"},\"y_scale\":{\"id\":\"74291\"}},\"id\":\"74282\",\"subtype\":\"Figure\",\"type\":\"Plot\"},{\"attributes\":{\"axis_label\":\"Minimum samples per leaf\",\"formatter\":{\"id\":\"74257\"},\"ticker\":{\"id\":\"74230\"}},\"id\":\"74229\",\"type\":\"LinearAxis\"}],\"root_ids\":[\"74371\"]},\"title\":\"Bokeh Application\",\"version\":\"2.2.3\"}};\n",
       "  var render_items = [{\"docid\":\"785bb30a-c50d-470c-88f0-b8fb944b95b9\",\"root_ids\":[\"74371\"],\"roots\":{\"74371\":\"b800dfb3-745f-450f-82c1-404f703c1ac5\"}}];\n",
       "  root.Bokeh.embed.embed_items_notebook(docs_json, render_items);\n",
       "\n",
       "  }\n",
       "  if (root.Bokeh !== undefined) {\n",
       "    embed_document(root);\n",
       "  } else {\n",
       "    var attempts = 0;\n",
       "    var timer = setInterval(function(root) {\n",
       "      if (root.Bokeh !== undefined) {\n",
       "        clearInterval(timer);\n",
       "        embed_document(root);\n",
       "      } else {\n",
       "        attempts++;\n",
       "        if (attempts > 100) {\n",
       "          clearInterval(timer);\n",
       "          console.log(\"Bokeh: ERROR: Unable to run BokehJS code because BokehJS library is missing\");\n",
       "        }\n",
       "      }\n",
       "    }, 10, root)\n",
       "  }\n",
       "})(window);"
      ],
      "application/vnd.bokehjs_exec.v0+json": ""
     },
     "metadata": {
      "application/vnd.bokehjs_exec.v0+json": {
       "id": "74371"
      }
     },
     "output_type": "display_data"
    }
   ],
   "source": [
    "def calc_F1_leaf(leafs):\n",
    "    clf = DecisionTreeClassifier(min_samples_leaf = leafs)\n",
    "\n",
    "    # Make folds of data for cross validation\n",
    "    k_fold = KFold(n_splits = 10, shuffle = True)\n",
    "\n",
    "    results = []\n",
    "    for train, test in k_fold.split(X):\n",
    "        clf.fit(X.iloc[train], y.iloc[train])\n",
    "        results.append(f1_score(y.iloc[test], clf.predict(X.iloc[test]), average = None))\n",
    "    \n",
    "    return sum(results) / len(results)\n",
    "        \n",
    "leafs = np.arange(1, 150, 1)\n",
    "F1 = np.stack(list(map(calc_F1_leaf, leafs)), axis = 0)\n",
    "filtered_F1 = np.column_stack((lowess(F1[:, 0], leafs, is_sorted=True, frac=0.06, it=0)[:, 1],\n",
    "                             lowess(F1[:, 1], leafs, is_sorted=True, frac=0.06, it=0)[:, 1]))\n",
    "# Normal plot\n",
    "min_samples_plot = figure(title = \"F1 score as a function of the minimum samples per leaf\",\n",
    "                   x_axis_label = \"Minimum samples per leaf\",\n",
    "                   y_axis_label = \"F1\")\n",
    "\n",
    "min_samples_plot.line(leafs, F1[:, 0], legend_label = \"Non-plagiarized\", line_color = \"steelblue\")\n",
    "min_samples_plot.line(leafs, F1[:, 1], legend_label = \"Plagiarized\", line_color = \"orange\")\n",
    "\n",
    "\n",
    "# Filtered plot to remove some noise and better appreciate tendencies\n",
    "min_samples_plot_filtered = figure(title = \"F1 score as a function of the minimum samples per leaf\",\n",
    "                           x_axis_label = \"Minimum samples per leaf\",\n",
    "                           y_axis_label = \"F1\")\n",
    "\n",
    "min_samples_plot_filtered.line(leafs, filtered_F1[:, 0], legend_label = \"Non-plagiarized\", line_color = \"steelblue\")\n",
    "min_samples_plot_filtered.line(leafs, filtered_F1[:, 1], legend_label = \"Plagiarized\", line_color = \"orange\")\n",
    "\n",
    "\n",
    "show(gridplot([[min_samples_plot, min_samples_plot_filtered]], sizing_mode='scale_both'))\n",
    "\n",
    "# The region around 60 samples seems to be a good choice"
   ]
  },
  {
   "cell_type": "markdown",
   "metadata": {},
   "source": [
    "Dado que el plot normal tiene mucho ruido, nos fijaremos en el suvizado por loess. Se puede ver una región en la que crece desde cero y la puntuación de los no plagiados cae rapidamente. Dado que no queremos mejorar mucho el reconocimiento de un tipo de document a cambio de empeorar otro, tomaremos como valor optimo el que se situa en torno a 60 muestras"
   ]
  },
  {
   "cell_type": "markdown",
   "metadata": {},
   "source": [
    "## Optimización del minimo número de muestras por división"
   ]
  },
  {
   "cell_type": "markdown",
   "metadata": {},
   "source": [
    "Ahora estudiaremos como afecta a la precisión el minimo numero de muestras necesario para dividir un nodo en sus hijos. En este caso lo estudiaremos como la fracción del total de las muestras que le hemos pasado al clasificador."
   ]
  },
  {
   "cell_type": "code",
   "execution_count": 103,
   "metadata": {
    "scrolled": false
   },
   "outputs": [
    {
     "data": {
      "text/html": [
       "\n",
       "\n",
       "\n",
       "\n",
       "\n",
       "\n",
       "  <div class=\"bk-root\" id=\"c6fcc285-a328-46f9-ab8a-725620077a95\" data-root-id=\"60730\"></div>\n"
      ]
     },
     "metadata": {},
     "output_type": "display_data"
    },
    {
     "data": {
      "application/javascript": [
       "(function(root) {\n",
       "  function embed_document(root) {\n",
       "    \n",
       "  var docs_json = {\"ecc3f095-69aa-4ad4-a42c-fce0fbcc4ad2\":{\"roots\":{\"references\":[{\"attributes\":{\"children\":[{\"id\":\"60729\"},{\"id\":\"60727\"}],\"sizing_mode\":\"scale_both\"},\"id\":\"60730\",\"type\":\"Column\"},{\"attributes\":{\"children\":[[{\"id\":\"60577\"},0,0],[{\"id\":\"60641\"},0,1]]},\"id\":\"60727\",\"type\":\"GridBox\"},{\"attributes\":{},\"id\":\"60589\",\"type\":\"BasicTicker\"},{\"attributes\":{},\"id\":\"60593\",\"type\":\"BasicTicker\"},{\"attributes\":{\"line_alpha\":0.1,\"line_color\":\"steelblue\",\"x\":{\"field\":\"x\"},\"y\":{\"field\":\"y\"}},\"id\":\"60612\",\"type\":\"Line\"},{\"attributes\":{\"axis_label\":\"F1\",\"formatter\":{\"id\":\"60618\"},\"ticker\":{\"id\":\"60593\"}},\"id\":\"60592\",\"type\":\"LinearAxis\"},{\"attributes\":{\"axis\":{\"id\":\"60588\"},\"ticker\":null},\"id\":\"60591\",\"type\":\"Grid\"},{\"attributes\":{\"axis_label\":\"fraction\",\"formatter\":{\"id\":\"60616\"},\"ticker\":{\"id\":\"60589\"}},\"id\":\"60588\",\"type\":\"LinearAxis\"},{\"attributes\":{\"axis\":{\"id\":\"60592\"},\"dimension\":1,\"ticker\":null},\"id\":\"60595\",\"type\":\"Grid\"},{\"attributes\":{\"data\":{\"x\":{\"__ndarray__\":\"LUMc6+I2Gj898oQZePRwP7a5rlMKwIA/TvqamtgFiT9zncNw06WQP7+9OZS6yJQ/C96vt6HrmD9X/iXbiA6dP1IPTv+3mKA/eB8JkSuqoj+eL8Qin7ukP8Q/f7QSzaY/6k86RobeqD8QYPXX+e+qPzZwsGltAa0/XIBr++ASrz9BSJNGKpKwP1TQcA/kmrE/Z1hO2J2jsj964CuhV6yzP41oCWoRtbQ/oPDmMsu9tT+zeMT7hMa2P8YAosQ+z7c/2Yh/jfjXuD/sEF1WsuC5P/+YOh9s6bo/EiEY6CXyuz8lqfWw3/q8Pzgx03mZA74/S7mwQlMMvz+uIMeFhgrAP7jkNWrjjsA/wqikTkATwT/LbBMznZfBP9Qwghf6G8I/3vTw+1agwj/ouF/gsyTDP/F8zsQQqcM/+kA9qW0txD8EBayNyrHEPw7JGnInNsU/F42JVoS6xT8gUfg64T7GPyoVZx8+w8Y/NNnVA5tHxz89nUTo98vHP0Zhs8xUUMg/UCUisbHUyD9a6ZCVDlnJP2Ot/3lr3ck/bHFuXshhyj92Nd1CJebKP4D5SyeCass/ib26C9/uyz+SgSnwO3PMP5xFmNSY98w/pgkHufV7zT+vzXWdUgDOP7iR5IGvhM4/wlVTZgwJzz/MGcJKaY3PP+pumBfjCNA/79DPiRFL0D/0Mgf8P43QP/mUPm5uz9A//vZ14JwR0T8CWa1Sy1PRPwe75MT5ldE/DB0cNyjY0T8Qf1OpVhrSPxXhihuFXNI/GkPCjbOe0j8fpfn/4eDSPyQHMXIQI9M/KGlo5D5l0z8ty59WbafTPzIt18ib6dM/No8OO8or1D878UWt+G3UP0BTfR8nsNQ/RbW0kVXy1D9KF+wDhDTVP055I3aydtU/U9ta6OC41T9YPZJaD/vVP1yfycw9PdY/YQEBP2x/1j9mYzixmsHWP2vFbyPJA9c/cCenlfdF1z90id4HJojXP3nrFXpUytc/fk1N7IIM2D+Cr4ResU7YP4cRvNDfkNg/jHPzQg7T2D+R1Sq1PBXZP5Y3YidrV9k/mpmZmZmZ2T8=\",\"dtype\":\"float64\",\"order\":\"little\",\"shape\":[100]},\"y\":{\"__ndarray__\":\"+TwNBdE05T/8cKjei2vlPwWEmqXIoeU/ZBCwSdPn5T+tNSNJLBfmP4v1b/7fFeY/w/0yxtH45T/RMwQEVuflP/YAmL9i9eU/c21lI8wO5j/+7HtR2R/mPyJEwsM+IeY/KJyJT6Ae5j9n0ts4igvmP/eVvyEqB+Y/ln819eME5j9k0NIBdg3mP+NcVflGEuY/P+eEMjME5j/ydEjzVALmPwX56oRIFuY/pv8SSNop5j8AszCzOEHmPydYoNaXROY/ygJszLg75j8pMPrNFCHmP6xhl79G+uU/N6IGRNv85T+Vc/rZYyDmP9mFXGNFX+Y/sRah1MGQ5j/guKeIHJrmPxjBgIJXm+Y/MASVo82W5j8Uy6MK9JvmP1a4M6nkkeY/Rm6dFT+C5j+OeKSn2nPmP5ZaOJt+WeY/BZOahtE15j+u3QOROPnlP/f6wX+NteU/yp5lW8WS5T8fBJwB9YblP0MeY7HqkOU/5AdqHfih5T91wXvBW7TlPzOWICNct+U/E8YmDBnH5T+O7Qzyc9DlPxi8Z+mexOU/wGNBH9a75T/OLluJrZzlP5Qze1O3iOU/sldRdjCs5T+NInwzY+nlP1+RSq+8IuY/VV09HYlL5j9S/ZKvvGzmP4Ue4POziuY/HUcZA3y75j9vDODcT8nmP9zPsiQTxuY/MA0IB/PQ5j82X3nGW+HmP3FkQDZt8+Y/sO739Lj35j9AyyJaQfbmP2E/x87n+OY/+OUrND7+5j9qlUxUVgTnPwFtO2eoB+c/qdfQyvcJ5z8Lp745CgnnP1LtV6iXAuc/b01zdNP65j8pZKTfpebmP7qYAjZux+Y/ur526ju35j/SfyKbca3mP4wsqYjUtuY/R01dmEq85j/aOV1i6LLmPxK3qK02ruY/LyAzPrix5j/KvqwoNL7mPwfoiLHk0eY/7si7mJXa5j/+t4DrE9jmP8dYpe4O0+Y/BW5M7KHQ5j/EfhpADtXmP+hRvURC3+Y/K39KZy7h5j99d5mzQuHmP6bk5WjY4OY/TZBf2FTf5j+vJ94AMuTmPxCaiHK46uY/K7mNm4Lx5j8=\",\"dtype\":\"float64\",\"order\":\"little\",\"shape\":[100]}},\"selected\":{\"id\":\"60684\"},\"selection_policy\":{\"id\":\"60685\"}},\"id\":\"60674\",\"type\":\"ColumnDataSource\"},{\"attributes\":{\"below\":[{\"id\":\"60652\"}],\"center\":[{\"id\":\"60655\"},{\"id\":\"60659\"},{\"id\":\"60687\"}],\"left\":[{\"id\":\"60656\"}],\"renderers\":[{\"id\":\"60677\"},{\"id\":\"60692\"}],\"sizing_mode\":\"scale_both\",\"title\":{\"id\":\"60642\"},\"toolbar\":{\"id\":\"60667\"},\"toolbar_location\":null,\"x_range\":{\"id\":\"60644\"},\"x_scale\":{\"id\":\"60648\"},\"y_range\":{\"id\":\"60646\"},\"y_scale\":{\"id\":\"60650\"}},\"id\":\"60641\",\"subtype\":\"Figure\",\"type\":\"Plot\"},{\"attributes\":{\"data_source\":{\"id\":\"60610\"},\"glyph\":{\"id\":\"60611\"},\"hover_glyph\":null,\"muted_glyph\":null,\"nonselection_glyph\":{\"id\":\"60612\"},\"selection_glyph\":null,\"view\":{\"id\":\"60614\"}},\"id\":\"60613\",\"type\":\"GlyphRenderer\"},{\"attributes\":{},\"id\":\"60618\",\"type\":\"BasicTickFormatter\"},{\"attributes\":{\"source\":{\"id\":\"60610\"}},\"id\":\"60614\",\"type\":\"CDSView\"},{\"attributes\":{\"line_alpha\":0.1,\"line_color\":\"orange\",\"x\":{\"field\":\"x\"},\"y\":{\"field\":\"y\"}},\"id\":\"60627\",\"type\":\"Line\"},{\"attributes\":{},\"id\":\"60596\",\"type\":\"PanTool\"},{\"attributes\":{},\"id\":\"60600\",\"type\":\"ResetTool\"},{\"attributes\":{},\"id\":\"60597\",\"type\":\"WheelZoomTool\"},{\"attributes\":{\"overlay\":{\"id\":\"60602\"}},\"id\":\"60598\",\"type\":\"BoxZoomTool\"},{\"attributes\":{},\"id\":\"60599\",\"type\":\"SaveTool\"},{\"attributes\":{},\"id\":\"60582\",\"type\":\"DataRange1d\"},{\"attributes\":{},\"id\":\"60601\",\"type\":\"HelpTool\"},{\"attributes\":{},\"id\":\"60685\",\"type\":\"UnionRenderers\"},{\"attributes\":{\"line_color\":\"steelblue\",\"x\":{\"field\":\"x\"},\"y\":{\"field\":\"y\"}},\"id\":\"60675\",\"type\":\"Line\"},{\"attributes\":{},\"id\":\"60660\",\"type\":\"PanTool\"},{\"attributes\":{\"label\":{\"value\":\"Plagiarized\"},\"renderers\":[{\"id\":\"60628\"}]},\"id\":\"60640\",\"type\":\"LegendItem\"},{\"attributes\":{},\"id\":\"60664\",\"type\":\"ResetTool\"},{\"attributes\":{},\"id\":\"60661\",\"type\":\"WheelZoomTool\"},{\"attributes\":{\"text\":\"F1 score as a function of the fraction of minimum samples required to split\"},\"id\":\"60642\",\"type\":\"Title\"},{\"attributes\":{\"overlay\":{\"id\":\"60666\"}},\"id\":\"60662\",\"type\":\"BoxZoomTool\"},{\"attributes\":{},\"id\":\"60663\",\"type\":\"SaveTool\"},{\"attributes\":{\"line_color\":\"steelblue\",\"x\":{\"field\":\"x\"},\"y\":{\"field\":\"y\"}},\"id\":\"60611\",\"type\":\"Line\"},{\"attributes\":{\"data\":{\"x\":{\"__ndarray__\":\"LUMc6+I2Gj898oQZePRwP7a5rlMKwIA/TvqamtgFiT9zncNw06WQP7+9OZS6yJQ/C96vt6HrmD9X/iXbiA6dP1IPTv+3mKA/eB8JkSuqoj+eL8Qin7ukP8Q/f7QSzaY/6k86RobeqD8QYPXX+e+qPzZwsGltAa0/XIBr++ASrz9BSJNGKpKwP1TQcA/kmrE/Z1hO2J2jsj964CuhV6yzP41oCWoRtbQ/oPDmMsu9tT+zeMT7hMa2P8YAosQ+z7c/2Yh/jfjXuD/sEF1WsuC5P/+YOh9s6bo/EiEY6CXyuz8lqfWw3/q8Pzgx03mZA74/S7mwQlMMvz+uIMeFhgrAP7jkNWrjjsA/wqikTkATwT/LbBMznZfBP9Qwghf6G8I/3vTw+1agwj/ouF/gsyTDP/F8zsQQqcM/+kA9qW0txD8EBayNyrHEPw7JGnInNsU/F42JVoS6xT8gUfg64T7GPyoVZx8+w8Y/NNnVA5tHxz89nUTo98vHP0Zhs8xUUMg/UCUisbHUyD9a6ZCVDlnJP2Ot/3lr3ck/bHFuXshhyj92Nd1CJebKP4D5SyeCass/ib26C9/uyz+SgSnwO3PMP5xFmNSY98w/pgkHufV7zT+vzXWdUgDOP7iR5IGvhM4/wlVTZgwJzz/MGcJKaY3PP+pumBfjCNA/79DPiRFL0D/0Mgf8P43QP/mUPm5uz9A//vZ14JwR0T8CWa1Sy1PRPwe75MT5ldE/DB0cNyjY0T8Qf1OpVhrSPxXhihuFXNI/GkPCjbOe0j8fpfn/4eDSPyQHMXIQI9M/KGlo5D5l0z8ty59WbafTPzIt18ib6dM/No8OO8or1D878UWt+G3UP0BTfR8nsNQ/RbW0kVXy1D9KF+wDhDTVP055I3aydtU/U9ta6OC41T9YPZJaD/vVP1yfycw9PdY/YQEBP2x/1j9mYzixmsHWP2vFbyPJA9c/cCenlfdF1z90id4HJojXP3nrFXpUytc/fk1N7IIM2D+Cr4ResU7YP4cRvNDfkNg/jHPzQg7T2D+R1Sq1PBXZP5Y3YidrV9k/mpmZmZmZ2T8=\",\"dtype\":\"float64\",\"order\":\"little\",\"shape\":[100]},\"y\":{\"__ndarray__\":\"+qkwGFZe5T83i5/uTiTlP5ghggdIu+U/JpIHUaDh5T+yb2yj/jnmP+c7W723XOY/ooRpzyTm5T8VX8VKlZzlP4nQwWea2eU/uUKJ7LZu5j9HtnW0AQHmP8ZMU8xoGeY/+lNL7wIF5j8e8pNnOIXmPzZEtIw5jOU/br4YqnX35T/UyjWYV0/mPy3vE0aGIeY/Ys6kI5vW5T9GT43ixP3lP9YEIpg7AeY/iys7YRhj5j8ma7BRWwzmPy3geuFWZeY/nHu5+49l5j+W/gfcvQPmPwtSQ6nSF+Y/ihjW2UKZ5T920kPOixrmP7Puf8iYguY/6ihW2laY5j9qdGcsx93mP+JQqrYhUOY/93+F8o6x5j8CcuBxAJPmP8pbnMPiweY/7vTBN+Zo5j9C05/3tU7mP92N0pU2m+Y/Wtb0PqBH5j8qvESg69blPxUWDE4t2eU/2tMRXtxC5T8GBD0jpI3lP9Iq8+mqjOU/Ir1552rB5T+QTM8lR3flP1zfg+sHAOY/NrjQ+/Sn5T83Q9BkcKjlPzh/ck/0LOY/iuPmQHCO5T+W92Ig8IjlP1oDYBsTsuU/FnSKJbUy5T+7qW9/IujlPwQOerxcg+Y/nAgc/Nlt5j9zZsRLLNPlP3p0/z/V8eY/5iBDweC25j/M6TQBs+TmPxTztN8ivOY/ygYlqDKj5j/j0w9LsPzmP7+SyiK+Bec/I+QCLzT65j/Rotp//uXmPyYOYDwj9eY/7URqei0O5z+505LDXvzmP+5CmV7lBOc/mz/dfsAP5z/dVHo3PxHnPz6dTOdPAec/Qp22Uzz45j/HTpQOGO7mP3sboOjX++Y/I2bAQzxT5j97RDcT5MbmP8qDHQdox+Y/7maSxaW65j+1dTGP67fmP4pRE+QgpeY/JZlbUYCf5j9e9KePrcjmP1ZJfxc8xeY/q7nwD+H15j8CgKVDA+TmPw67izq2vOY/0hcVX27C5j8GVc2dhu/mP+0PlGXjyeY/cuCIssft5j/9/hbfhOrmP9oftzlx0uY/Hod1Y/Tj5j9dZqOMfNzmPzDhFuAx7+Y/SJorN4Dw5j8=\",\"dtype\":\"float64\",\"order\":\"little\",\"shape\":[100]}},\"selected\":{\"id\":\"60620\"},\"selection_policy\":{\"id\":\"60621\"}},\"id\":\"60610\",\"type\":\"ColumnDataSource\"},{\"attributes\":{},\"id\":\"60637\",\"type\":\"Selection\"},{\"attributes\":{\"active_drag\":\"auto\",\"active_inspect\":\"auto\",\"active_multi\":null,\"active_scroll\":\"auto\",\"active_tap\":\"auto\",\"tools\":[{\"id\":\"60596\"},{\"id\":\"60597\"},{\"id\":\"60598\"},{\"id\":\"60599\"},{\"id\":\"60600\"},{\"id\":\"60601\"}]},\"id\":\"60603\",\"type\":\"Toolbar\"},{\"attributes\":{},\"id\":\"60680\",\"type\":\"BasicTickFormatter\"},{\"attributes\":{\"text\":\"F1 score as a function of the fraction of the minimum samples required to split\"},\"id\":\"60578\",\"type\":\"Title\"},{\"attributes\":{},\"id\":\"60584\",\"type\":\"LinearScale\"},{\"attributes\":{\"bottom_units\":\"screen\",\"fill_alpha\":0.5,\"fill_color\":\"lightgrey\",\"left_units\":\"screen\",\"level\":\"overlay\",\"line_alpha\":1.0,\"line_color\":\"black\",\"line_dash\":[4,4],\"line_width\":2,\"right_units\":\"screen\",\"top_units\":\"screen\"},\"id\":\"60602\",\"type\":\"BoxAnnotation\"},{\"attributes\":{},\"id\":\"60665\",\"type\":\"HelpTool\"},{\"attributes\":{},\"id\":\"60616\",\"type\":\"BasicTickFormatter\"},{\"attributes\":{},\"id\":\"60586\",\"type\":\"LinearScale\"},{\"attributes\":{\"items\":[{\"id\":\"60624\"},{\"id\":\"60640\"}]},\"id\":\"60623\",\"type\":\"Legend\"},{\"attributes\":{\"below\":[{\"id\":\"60588\"}],\"center\":[{\"id\":\"60591\"},{\"id\":\"60595\"},{\"id\":\"60623\"}],\"left\":[{\"id\":\"60592\"}],\"renderers\":[{\"id\":\"60613\"},{\"id\":\"60628\"}],\"sizing_mode\":\"scale_both\",\"title\":{\"id\":\"60578\"},\"toolbar\":{\"id\":\"60603\"},\"toolbar_location\":null,\"x_range\":{\"id\":\"60580\"},\"x_scale\":{\"id\":\"60584\"},\"y_range\":{\"id\":\"60582\"},\"y_scale\":{\"id\":\"60586\"}},\"id\":\"60577\",\"subtype\":\"Figure\",\"type\":\"Plot\"},{\"attributes\":{},\"id\":\"60621\",\"type\":\"UnionRenderers\"},{\"attributes\":{\"toolbars\":[{\"id\":\"60603\"},{\"id\":\"60667\"}],\"tools\":[{\"id\":\"60596\"},{\"id\":\"60597\"},{\"id\":\"60598\"},{\"id\":\"60599\"},{\"id\":\"60600\"},{\"id\":\"60601\"},{\"id\":\"60660\"},{\"id\":\"60661\"},{\"id\":\"60662\"},{\"id\":\"60663\"},{\"id\":\"60664\"},{\"id\":\"60665\"}]},\"id\":\"60728\",\"type\":\"ProxyToolbar\"},{\"attributes\":{\"toolbar\":{\"id\":\"60728\"},\"toolbar_location\":\"above\"},\"id\":\"60729\",\"type\":\"ToolbarBox\"},{\"attributes\":{},\"id\":\"60620\",\"type\":\"Selection\"},{\"attributes\":{\"label\":{\"value\":\"Non-plagiarized\"},\"renderers\":[{\"id\":\"60613\"}]},\"id\":\"60624\",\"type\":\"LegendItem\"},{\"attributes\":{\"active_drag\":\"auto\",\"active_inspect\":\"auto\",\"active_multi\":null,\"active_scroll\":\"auto\",\"active_tap\":\"auto\",\"tools\":[{\"id\":\"60660\"},{\"id\":\"60661\"},{\"id\":\"60662\"},{\"id\":\"60663\"},{\"id\":\"60664\"},{\"id\":\"60665\"}]},\"id\":\"60667\",\"type\":\"Toolbar\"},{\"attributes\":{\"line_color\":\"orange\",\"x\":{\"field\":\"x\"},\"y\":{\"field\":\"y\"}},\"id\":\"60626\",\"type\":\"Line\"},{\"attributes\":{\"data_source\":{\"id\":\"60674\"},\"glyph\":{\"id\":\"60675\"},\"hover_glyph\":null,\"muted_glyph\":null,\"nonselection_glyph\":{\"id\":\"60676\"},\"selection_glyph\":null,\"view\":{\"id\":\"60678\"}},\"id\":\"60677\",\"type\":\"GlyphRenderer\"},{\"attributes\":{},\"id\":\"60648\",\"type\":\"LinearScale\"},{\"attributes\":{\"bottom_units\":\"screen\",\"fill_alpha\":0.5,\"fill_color\":\"lightgrey\",\"left_units\":\"screen\",\"level\":\"overlay\",\"line_alpha\":1.0,\"line_color\":\"black\",\"line_dash\":[4,4],\"line_width\":2,\"right_units\":\"screen\",\"top_units\":\"screen\"},\"id\":\"60666\",\"type\":\"BoxAnnotation\"},{\"attributes\":{\"source\":{\"id\":\"60625\"}},\"id\":\"60629\",\"type\":\"CDSView\"},{\"attributes\":{},\"id\":\"60638\",\"type\":\"UnionRenderers\"},{\"attributes\":{\"line_alpha\":0.1,\"line_color\":\"steelblue\",\"x\":{\"field\":\"x\"},\"y\":{\"field\":\"y\"}},\"id\":\"60676\",\"type\":\"Line\"},{\"attributes\":{},\"id\":\"60702\",\"type\":\"UnionRenderers\"},{\"attributes\":{\"data\":{\"x\":{\"__ndarray__\":\"LUMc6+I2Gj898oQZePRwP7a5rlMKwIA/TvqamtgFiT9zncNw06WQP7+9OZS6yJQ/C96vt6HrmD9X/iXbiA6dP1IPTv+3mKA/eB8JkSuqoj+eL8Qin7ukP8Q/f7QSzaY/6k86RobeqD8QYPXX+e+qPzZwsGltAa0/XIBr++ASrz9BSJNGKpKwP1TQcA/kmrE/Z1hO2J2jsj964CuhV6yzP41oCWoRtbQ/oPDmMsu9tT+zeMT7hMa2P8YAosQ+z7c/2Yh/jfjXuD/sEF1WsuC5P/+YOh9s6bo/EiEY6CXyuz8lqfWw3/q8Pzgx03mZA74/S7mwQlMMvz+uIMeFhgrAP7jkNWrjjsA/wqikTkATwT/LbBMznZfBP9Qwghf6G8I/3vTw+1agwj/ouF/gsyTDP/F8zsQQqcM/+kA9qW0txD8EBayNyrHEPw7JGnInNsU/F42JVoS6xT8gUfg64T7GPyoVZx8+w8Y/NNnVA5tHxz89nUTo98vHP0Zhs8xUUMg/UCUisbHUyD9a6ZCVDlnJP2Ot/3lr3ck/bHFuXshhyj92Nd1CJebKP4D5SyeCass/ib26C9/uyz+SgSnwO3PMP5xFmNSY98w/pgkHufV7zT+vzXWdUgDOP7iR5IGvhM4/wlVTZgwJzz/MGcJKaY3PP+pumBfjCNA/79DPiRFL0D/0Mgf8P43QP/mUPm5uz9A//vZ14JwR0T8CWa1Sy1PRPwe75MT5ldE/DB0cNyjY0T8Qf1OpVhrSPxXhihuFXNI/GkPCjbOe0j8fpfn/4eDSPyQHMXIQI9M/KGlo5D5l0z8ty59WbafTPzIt18ib6dM/No8OO8or1D878UWt+G3UP0BTfR8nsNQ/RbW0kVXy1D9KF+wDhDTVP055I3aydtU/U9ta6OC41T9YPZJaD/vVP1yfycw9PdY/YQEBP2x/1j9mYzixmsHWP2vFbyPJA9c/cCenlfdF1z90id4HJojXP3nrFXpUytc/fk1N7IIM2D+Cr4ResU7YP4cRvNDfkNg/jHPzQg7T2D+R1Sq1PBXZP5Y3YidrV9k/mpmZmZmZ2T8=\",\"dtype\":\"float64\",\"order\":\"little\",\"shape\":[100]},\"y\":{\"__ndarray__\":\"AhkJTEwo5T9ZiymaPSblP1M/W6akKeU/GShxRLhT5T/A4KI+SI7lP5ByhyHNrOU/5704VcqZ5T+w5oUn937lPwoxbJdIcuU/eyLN2xSQ5T/lJwniBa3lP7MWhJx6reU/RbVKUWua5T9lhXJyL4blP4z8N91MmOU/2UHnmHa65T8K7hY2yMrlPxTrOXjT1eU/zvIq9Ebj5T/FKQqL5v/lP58004bELuY/2/W90/c65j8try3yIDbmPw13g/moOuY/Kv5+JU485j9wyWiAXkjmPz4ZyXAoReY/BL/BX+U25j/YtB5b9UPmP17W2w5MXOY/oFKarulu5j8hppiX31jmP3jZMxrpKOY/mhhRUD0R5j9wbD7HXBjmP/ww2zdiNuY/9kWGOXNC5j9Ee9WK8UHmPy5qPE0AOOY/xGMDMMQ75j9StLjoWjXmP6Dr5wOuKOY/kjGA/bAi5j9Mdd+frB3mP7fJayFDIeY/crqlOKYn5j/evhFEvR3mPxgWZrsfDeY/8sr2zDDp5T/xKOTxVr/lP/k7Xl1hmOU/0O9DDnST5T8L9cvF7arlP/K/TN0Qs+U/vhBOoDfI5T/uec8bvrPlP3FhaRPxjuU/LhsBqxpn5T/sChBL2i7lP4cqGErFIeU/pPsz71ga5T+BtdB7Ug3lP3qKyhFT++Q/4rOkGibh5D+tz3iICtzkP1Yetw3h2+Q/ht7OXKja5D8WGqz2VtnkP7HHdzXQ2OQ/W26tTwLf5D8tszLaYujkP5iQeEai9+Q/A4EFp5P95D9E2TLTP/TkP46o2axuy+Q/5agVzzCS5D9EfDedY1HkPz8XtAd8E+Q/7usOPbvu4z/kmA0AdM3jPwtlM4khv+M/bDinB+Cv4z8TqSK6NZjjPy9xaItBf+M/u7Rv6ORo4z8p0IN5Q2PjP50TP7ehauM/zNyt1Cl64z9P94l5nIDjP379BX+HeOM/ALFgWxJu4z8tSs+BMmfjP3rfLSpqZeM/kUlQ9oBo4z/Roeg0O23jPyXBUtrPdeM/RcVGazB64z+joUu6eXXjP0Gw5Vu+b+M/SrYq0Fxo4z8=\",\"dtype\":\"float64\",\"order\":\"little\",\"shape\":[100]}},\"selected\":{\"id\":\"60701\"},\"selection_policy\":{\"id\":\"60702\"}},\"id\":\"60689\",\"type\":\"ColumnDataSource\"},{\"attributes\":{},\"id\":\"60644\",\"type\":\"DataRange1d\"},{\"attributes\":{\"items\":[{\"id\":\"60688\"},{\"id\":\"60704\"}]},\"id\":\"60687\",\"type\":\"Legend\"},{\"attributes\":{},\"id\":\"60580\",\"type\":\"DataRange1d\"},{\"attributes\":{\"data_source\":{\"id\":\"60625\"},\"glyph\":{\"id\":\"60626\"},\"hover_glyph\":null,\"muted_glyph\":null,\"nonselection_glyph\":{\"id\":\"60627\"},\"selection_glyph\":null,\"view\":{\"id\":\"60629\"}},\"id\":\"60628\",\"type\":\"GlyphRenderer\"},{\"attributes\":{\"source\":{\"id\":\"60674\"}},\"id\":\"60678\",\"type\":\"CDSView\"},{\"attributes\":{\"data\":{\"x\":{\"__ndarray__\":\"LUMc6+I2Gj898oQZePRwP7a5rlMKwIA/TvqamtgFiT9zncNw06WQP7+9OZS6yJQ/C96vt6HrmD9X/iXbiA6dP1IPTv+3mKA/eB8JkSuqoj+eL8Qin7ukP8Q/f7QSzaY/6k86RobeqD8QYPXX+e+qPzZwsGltAa0/XIBr++ASrz9BSJNGKpKwP1TQcA/kmrE/Z1hO2J2jsj964CuhV6yzP41oCWoRtbQ/oPDmMsu9tT+zeMT7hMa2P8YAosQ+z7c/2Yh/jfjXuD/sEF1WsuC5P/+YOh9s6bo/EiEY6CXyuz8lqfWw3/q8Pzgx03mZA74/S7mwQlMMvz+uIMeFhgrAP7jkNWrjjsA/wqikTkATwT/LbBMznZfBP9Qwghf6G8I/3vTw+1agwj/ouF/gsyTDP/F8zsQQqcM/+kA9qW0txD8EBayNyrHEPw7JGnInNsU/F42JVoS6xT8gUfg64T7GPyoVZx8+w8Y/NNnVA5tHxz89nUTo98vHP0Zhs8xUUMg/UCUisbHUyD9a6ZCVDlnJP2Ot/3lr3ck/bHFuXshhyj92Nd1CJebKP4D5SyeCass/ib26C9/uyz+SgSnwO3PMP5xFmNSY98w/pgkHufV7zT+vzXWdUgDOP7iR5IGvhM4/wlVTZgwJzz/MGcJKaY3PP+pumBfjCNA/79DPiRFL0D/0Mgf8P43QP/mUPm5uz9A//vZ14JwR0T8CWa1Sy1PRPwe75MT5ldE/DB0cNyjY0T8Qf1OpVhrSPxXhihuFXNI/GkPCjbOe0j8fpfn/4eDSPyQHMXIQI9M/KGlo5D5l0z8ty59WbafTPzIt18ib6dM/No8OO8or1D878UWt+G3UP0BTfR8nsNQ/RbW0kVXy1D9KF+wDhDTVP055I3aydtU/U9ta6OC41T9YPZJaD/vVP1yfycw9PdY/YQEBP2x/1j9mYzixmsHWP2vFbyPJA9c/cCenlfdF1z90id4HJojXP3nrFXpUytc/fk1N7IIM2D+Cr4ResU7YP4cRvNDfkNg/jHPzQg7T2D+R1Sq1PBXZP5Y3YidrV9k/mpmZmZmZ2T8=\",\"dtype\":\"float64\",\"order\":\"little\",\"shape\":[100]},\"y\":{\"__ndarray__\":\"rnwcGUlP5T/ZhIpBI/7kP+4TRFpQDuU/Ko1tV+wv5T841pXM0LHlP8CEcznC0OU/8gVd2brv5T9scFthJArlP76fCUVjbuU/aX3WhvCF5T+UjrgsgtjlP+fPyiXfz+U/NXg6jrh55T8KW3N+sIjlP1uv5N+fXuU/mEcIXKC65T/5R7yMbizmP6KoXNwPs+U/Cv4+DOaE5T90/mh5PEbmP5vyyFXtJuY/2ObGmBVa5j/3aqhSAETmPw2YVSqd8uU/kLJy3GNu5j9UW1eFfU3mP9HV7LmtNeY/rjfRC+Vd5j82cUOTm/PlPy0MCrXuX+Y/a5Qleqyu5j8XpRtucYnmP3Hq4EKmFeY/xgHdm9WW5T/N4gPVX1nmP9p6Gi4nNOY/Xi7HYzZl5j/8kZyCrArmP5Qo1J1Ue+Y/Kj9mK+kA5j+vim0i5UrmP9/uAh0bTOY/O09m+af95T+3TEnOWwHmP49z4ooOUOY/jrOy6XAR5j9O6/iP4DjmP7TqIR/7+eU/kx/da7AY5j8vmZoh/bHlPwdinL6gc+U/Bha8bhCI5T/jnFonumnlP5CnFSwTUuY/Z1+lWV5K5T9mWQZq+t3lP1ZbcB/V9uU/zNZaik/+5D8Tlim6d1HlP3wsrkMY5OQ/eYJdDH4/5T9AePYG1i/lPxCt9CaXzOQ/bxG4/tH45D98JFj+H73kP/0I2u2F3+Q/Pko524rx5D/6IAOcxsvkP+Sil4Av0OQ/ttBvuYTT5D+23bmy0QflP/KepFGg0OQ/Ofvy3r0Y5T8friE9YA3lP97TlXIU8OQ/9Pxv4PB85D+yO2g+HDXkP+oaLYTpUeQ/Ff1Yg+iS4z/+XxeMMOrjP1EhlgVYveM/tVMVTdS14z/N/ign+5njP30HsVQQeuM/1syBu1dv4z/ZkA7H4DvjP7V8vnmobOM/HxqC9XWG4z+AYPdumZDjP53h82BGfuM/eFVHaq5d4z/yUPZiOmHjP9KDjFn4ceM/WQUwWAde4z/wxG3fxWbjP7q60GgEeuM/bRA83jeB4z/eJ8sE1orjP7h51bI3T+M/37MRsJR34z8=\",\"dtype\":\"float64\",\"order\":\"little\",\"shape\":[100]}},\"selected\":{\"id\":\"60637\"},\"selection_policy\":{\"id\":\"60638\"}},\"id\":\"60625\",\"type\":\"ColumnDataSource\"},{\"attributes\":{},\"id\":\"60682\",\"type\":\"BasicTickFormatter\"},{\"attributes\":{\"axis\":{\"id\":\"60656\"},\"dimension\":1,\"ticker\":null},\"id\":\"60659\",\"type\":\"Grid\"},{\"attributes\":{},\"id\":\"60684\",\"type\":\"Selection\"},{\"attributes\":{\"label\":{\"value\":\"Non-plagiarized\"},\"renderers\":[{\"id\":\"60677\"}]},\"id\":\"60688\",\"type\":\"LegendItem\"},{\"attributes\":{},\"id\":\"60646\",\"type\":\"DataRange1d\"},{\"attributes\":{},\"id\":\"60650\",\"type\":\"LinearScale\"},{\"attributes\":{\"line_color\":\"orange\",\"x\":{\"field\":\"x\"},\"y\":{\"field\":\"y\"}},\"id\":\"60690\",\"type\":\"Line\"},{\"attributes\":{},\"id\":\"60653\",\"type\":\"BasicTicker\"},{\"attributes\":{\"source\":{\"id\":\"60689\"}},\"id\":\"60693\",\"type\":\"CDSView\"},{\"attributes\":{\"axis_label\":\"fraction\",\"formatter\":{\"id\":\"60680\"},\"ticker\":{\"id\":\"60653\"}},\"id\":\"60652\",\"type\":\"LinearAxis\"},{\"attributes\":{\"data_source\":{\"id\":\"60689\"},\"glyph\":{\"id\":\"60690\"},\"hover_glyph\":null,\"muted_glyph\":null,\"nonselection_glyph\":{\"id\":\"60691\"},\"selection_glyph\":null,\"view\":{\"id\":\"60693\"}},\"id\":\"60692\",\"type\":\"GlyphRenderer\"},{\"attributes\":{\"axis_label\":\"F1\",\"formatter\":{\"id\":\"60682\"},\"ticker\":{\"id\":\"60657\"}},\"id\":\"60656\",\"type\":\"LinearAxis\"},{\"attributes\":{\"axis\":{\"id\":\"60652\"},\"ticker\":null},\"id\":\"60655\",\"type\":\"Grid\"},{\"attributes\":{},\"id\":\"60657\",\"type\":\"BasicTicker\"},{\"attributes\":{\"line_alpha\":0.1,\"line_color\":\"orange\",\"x\":{\"field\":\"x\"},\"y\":{\"field\":\"y\"}},\"id\":\"60691\",\"type\":\"Line\"},{\"attributes\":{\"label\":{\"value\":\"Plagiarized\"},\"renderers\":[{\"id\":\"60692\"}]},\"id\":\"60704\",\"type\":\"LegendItem\"},{\"attributes\":{},\"id\":\"60701\",\"type\":\"Selection\"}],\"root_ids\":[\"60730\"]},\"title\":\"Bokeh Application\",\"version\":\"2.2.3\"}};\n",
       "  var render_items = [{\"docid\":\"ecc3f095-69aa-4ad4-a42c-fce0fbcc4ad2\",\"root_ids\":[\"60730\"],\"roots\":{\"60730\":\"c6fcc285-a328-46f9-ab8a-725620077a95\"}}];\n",
       "  root.Bokeh.embed.embed_items_notebook(docs_json, render_items);\n",
       "\n",
       "  }\n",
       "  if (root.Bokeh !== undefined) {\n",
       "    embed_document(root);\n",
       "  } else {\n",
       "    var attempts = 0;\n",
       "    var timer = setInterval(function(root) {\n",
       "      if (root.Bokeh !== undefined) {\n",
       "        clearInterval(timer);\n",
       "        embed_document(root);\n",
       "      } else {\n",
       "        attempts++;\n",
       "        if (attempts > 100) {\n",
       "          clearInterval(timer);\n",
       "          console.log(\"Bokeh: ERROR: Unable to run BokehJS code because BokehJS library is missing\");\n",
       "        }\n",
       "      }\n",
       "    }, 10, root)\n",
       "  }\n",
       "})(window);"
      ],
      "application/vnd.bokehjs_exec.v0+json": ""
     },
     "metadata": {
      "application/vnd.bokehjs_exec.v0+json": {
       "id": "60730"
      }
     },
     "output_type": "display_data"
    }
   ],
   "source": [
    "def calc_F1_split(split):\n",
    "    clf = DecisionTreeClassifier(min_samples_split = split)\n",
    "\n",
    "    # Make folds of data for cross validation\n",
    "    k_fold = KFold(n_splits = 10, shuffle = True)\n",
    "\n",
    "    results = []\n",
    "    for train, test in k_fold.split(X):\n",
    "        clf.fit(X.iloc[train], y.iloc[train])\n",
    "        results.append(f1_score(y.iloc[test], clf.predict(X.iloc[test]), average = None))\n",
    "    \n",
    "    return sum(results) / len(results)\n",
    "        \n",
    "splits = np.linspace(0.0001, 0.4, num = 100)\n",
    "F1 = np.stack(list(map(calc_F1_split, splits)), axis = 0)\n",
    "filtered_F1 = np.column_stack((lowess(F1[:, 0], splits, is_sorted=True, frac=0.06, it=0)[:, 1],\n",
    "                               lowess(F1[:, 1], splits, is_sorted=True, frac=0.06, it=0)[:, 1]))\n",
    "# Normal plot\n",
    "split_plot = figure(title = \"F1 score as a function of the fraction of the minimum samples required to split\",\n",
    "                   x_axis_label = \"fraction\",\n",
    "                   y_axis_label = \"F1\")\n",
    "\n",
    "split_plot.line(splits, F1[:, 0], legend_label = \"Non-plagiarized\", line_color = \"steelblue\")\n",
    "split_plot.line(splits, F1[:, 1], legend_label = \"Plagiarized\", line_color = \"orange\")\n",
    "\n",
    "\n",
    "# Filtered plot to remove some noise and better appreciate tendencies\n",
    "split_plot_filtered = figure(title = \"F1 score as a function of the fraction of minimum samples required to split\",\n",
    "                            x_axis_label = \"fraction\",\n",
    "                            y_axis_label = \"F1\")\n",
    "\n",
    "split_plot_filtered.line(splits, filtered_F1[:, 0], legend_label = \"Non-plagiarized\", line_color = \"steelblue\")\n",
    "split_plot_filtered.line(splits, filtered_F1[:, 1], legend_label = \"Plagiarized\", line_color = \"orange\")\n",
    "\n",
    "\n",
    "show(gridplot([[split_plot, split_plot_filtered]], sizing_mode='scale_both'))\n",
    "\n",
    "# A small maximum can be seen before the the scores split, pushing our score over 0.7 sometimes"
   ]
  },
  {
   "cell_type": "markdown",
   "metadata": {},
   "source": [
    "Vemos un ligero crecimiento para valores inferiores a aproximadamente 0.15 y finalmente un separación abrupta, donde el reconocimiento de plagios cae."
   ]
  },
  {
   "cell_type": "markdown",
   "metadata": {},
   "source": [
    "## Optimización del desdeco minimo en la impureza"
   ]
  },
  {
   "cell_type": "code",
   "execution_count": 227,
   "metadata": {},
   "outputs": [
    {
     "ename": "SyntaxError",
     "evalue": "invalid syntax (<ipython-input-227-027d2e21bd24>, line 1)",
     "output_type": "error",
     "traceback": [
      "\u001b[1;36m  File \u001b[1;32m\"<ipython-input-227-027d2e21bd24>\"\u001b[1;36m, line \u001b[1;32m1\u001b[0m\n\u001b[1;33m    La impureza de un nodo mide a groso modo la homegenidad de de las etiquetas que tiene dicho nodo. El parametro que\u001b[0m\n\u001b[1;37m              ^\u001b[0m\n\u001b[1;31mSyntaxError\u001b[0m\u001b[1;31m:\u001b[0m invalid syntax\n"
     ]
    }
   ],
   "source": [
    "La impureza de un nodo mide a groso modo la homegenidad de de las etiquetas que tiene dicho nodo. El parametro que \n",
    "estamos estudiando lo que hace es ajustar si creara un nueva división en base a si la reducción en la impureza que supone es \n",
    "igual o menor a un valor establecido."
   ]
  },
  {
   "cell_type": "code",
   "execution_count": 106,
   "metadata": {},
   "outputs": [
    {
     "data": {
      "text/html": [
       "\n",
       "\n",
       "\n",
       "\n",
       "\n",
       "\n",
       "  <div class=\"bk-root\" id=\"b32f7956-60c8-41ec-829a-2e1a00b1d4bb\" data-root-id=\"63829\"></div>\n"
      ]
     },
     "metadata": {},
     "output_type": "display_data"
    },
    {
     "data": {
      "application/javascript": [
       "(function(root) {\n",
       "  function embed_document(root) {\n",
       "    \n",
       "  var docs_json = {\"bad01860-8cdd-4dab-8fb4-df7469351d39\":{\"roots\":{\"references\":[{\"attributes\":{\"children\":[{\"id\":\"63828\"},{\"id\":\"63826\"}],\"sizing_mode\":\"scale_both\"},\"id\":\"63829\",\"type\":\"Column\"},{\"attributes\":{\"children\":[[{\"id\":\"63676\"},0,0],[{\"id\":\"63740\"},0,1]]},\"id\":\"63826\",\"type\":\"GridBox\"},{\"attributes\":{\"below\":[{\"id\":\"63751\"}],\"center\":[{\"id\":\"63754\"},{\"id\":\"63758\"},{\"id\":\"63786\"}],\"left\":[{\"id\":\"63755\"}],\"renderers\":[{\"id\":\"63776\"},{\"id\":\"63791\"}],\"sizing_mode\":\"scale_both\",\"title\":{\"id\":\"63741\"},\"toolbar\":{\"id\":\"63766\"},\"toolbar_location\":null,\"x_range\":{\"id\":\"63743\"},\"x_scale\":{\"id\":\"63747\"},\"y_range\":{\"id\":\"63745\"},\"y_scale\":{\"id\":\"63749\"}},\"id\":\"63740\",\"subtype\":\"Figure\",\"type\":\"Plot\"},{\"attributes\":{},\"id\":\"63679\",\"type\":\"DataRange1d\"},{\"attributes\":{},\"id\":\"63683\",\"type\":\"LinearScale\"},{\"attributes\":{},\"id\":\"63692\",\"type\":\"BasicTicker\"},{\"attributes\":{\"axis_label\":\"F1\",\"formatter\":{\"id\":\"63717\"},\"ticker\":{\"id\":\"63692\"}},\"id\":\"63691\",\"type\":\"LinearAxis\"},{\"attributes\":{\"data\":{\"x\":{\"__ndarray__\":\"AAAAAAAAAABbv1Kg1q+EP1u/UqDWr5Q/CB988MEHnz9bv1Kg1q+kPzJvZ0jM26k/CB988MEHrz9wZ0jM2xmyP1u/UqDWr7Q/RhdddNFFtz8yb2dIzNu5Px3HcRzHcbw/CB988MEHvz96O0Ni3s7AP3BnSMzbGcI/ZZNNNtlkwz9bv1Kg1q/EP1HrVwrU+sU/RhdddNFFxz88Q2LezpDIPzJvZ0jM28k/J5tssskmyz8dx3Ecx3HMPxPzdobEvM0/CB988MEHzz9/pUCtXynQP3o7Q2LeztA/ddFFF1100T9wZ0jM2xnSP2r9SoFav9I/ZZNNNtlk0z9gKVDrVwrUP1u/UqDWr9Q/VlVVVVVV1T9R61cK1PrVP0yBWr9SoNY/RhdddNFF1z9BrV8pUOvXPzxDYt7OkNg/N9lkk0022T8yb2dIzNvZPy0Fav1Kgdo/J5tssskm2z8iMW9nSMzbPx3HcRzHcdw/GF100UUX3T8T83aGxLzdPw6JeTtDYt4/CB988MEH3z8DtX6lQK3fP3+lQK1fKeA/ffDBBx984D96O0Ni3s7gP3eGxLydIeE/ddFFF1104T9yHMdxHMfhP3BnSMzbGeI/bbLJJpts4j9q/UqBWr/iP2hIzNsZEuM/ZZNNNtlk4z9j3s6QmLfjP2ApUOtXCuQ/XnTRRRdd5D9bv1Kg1q/kP1gK1PqVAuU/VlVVVVVV5T9ToNavFKjlP1HrVwrU+uU/TjbZZJNN5j9MgVq/UqDmP0nM2xkS8+Y/RhdddNFF5z9EYt7OkJjnP0GtXylQ6+c/P/jggw8+6D88Q2LezpDoPzmO4ziO4+g/N9lkk0026T80JObtDInpPzJvZ0jM2+k/L7rooosu6j8tBWr9SoHqPypQ61cK1Oo/J5tssskm6z8l5u0MiXnrPyIxb2dIzOs/IHzwwQcf7D8dx3Ecx3HsPxsS83aGxOw/GF100UUX7T8VqPUrBWrtPxPzdobEvO0/ED744IMP7j8OiXk7Q2LuPwvU+pUCte4/CB988MEH7z8Gav1KgVrvPwO1fqVAre8/AAAAAAAA8D8=\",\"dtype\":\"float64\",\"order\":\"little\",\"shape\":[100]},\"y\":{\"__ndarray__\":\"xV2yR7Gt5T/3GWGO5m3jP+asgKxAc+M/mTful2V54z89dJNjvG/jP62RpyWvcuM/GRhlyI924z/VqV2i9uPZP3a69LKk2M8/fmsgiJgx1D9mF18dCv3TPx2A3O6dIdQ/qCPbiCVn2D9qRNt52H7UP2YfkfdSLdA/UBuM3mdp1D+0nW8U9EzYP31tl8Qoo9g/LnN8UNZX1D+/S+GGUmHUP7YaioAOU9Q/mkdXNkwC2T9WlQNXhUbQP3CLJxZt3sc/F05pV0N62D8beoNCM0zQP9KEC2KYLdA/zqo4WtwH0D+wjUuOYDvQP+NFv9lvF9k/V3pC1dg70D8yqDI7W3rUP5P6xlitAMg/D0mWm2Nn0D8lmvftzmPUPxh+SXiWKdA/fiJIrCN01D+xFCJAecvYPzvXS3CqSdQ/XgRlVzZb0D+bLyaO9evYPwUvZEipr8c/Pev1Wfsa3T/SctrRZh7UPwX6uQLtvtg/xnpcLKVu1D87YKSsT3jYP759vuRpx88/vhNRJ+Lk2D+4gJmB5lHUP8fjC4ljo9g/S+i7BwjK2D/Q623UkSnIP27Mnxa7ZNQ/BXZ/kzPqzz+Ud/PHaeDHPzCOaHxfP88/eDdJEuhC0D+GXiSpzbrHP5VcPjZrKMc/Vr6JQgPB3D/zpopAxI/PPwZJFm50UNA/ilFoyE67xz8uC85/0fzOP3BwJzdgR9A/V49vaKaf0z/qFMLBxrnYP/YomKvyedQ/rRwAbsYz0D94b1ru1DTUPzsk8hTY/Nw/alWVr73V2D+oNjse9KvUPxohbb4pZNQ/6s1Vq7eixz/a5xVblILUPwqJChTAyc8/KFjImbDb2D+85Yil1JbUPwp7gPVdddg/7lsfdEht1D/y3jjOg9bPP35XBwzeoMc/LoYKYKDJxz/iEiZCWB3QP9viDKyTOtA/WrY2opVC0D+W17pF1qfUP0Ub9gCSZ9A/i41m6PV72D9yCYU1zv3TP0t3OWQEGdA/WoA3gqfS3D/4si60WA7IP/1cTeUIxcc/DpOL+8MX1D+pLzqX6bDUP7EJSwjTfdQ/Y9Vtad/Uzz8=\",\"dtype\":\"float64\",\"order\":\"little\",\"shape\":[100]}},\"selected\":{\"id\":\"63736\"},\"selection_policy\":{\"id\":\"63737\"}},\"id\":\"63724\",\"type\":\"ColumnDataSource\"},{\"attributes\":{\"axis\":{\"id\":\"63687\"},\"ticker\":null},\"id\":\"63690\",\"type\":\"Grid\"},{\"attributes\":{},\"id\":\"63685\",\"type\":\"LinearScale\"},{\"attributes\":{},\"id\":\"63688\",\"type\":\"BasicTicker\"},{\"attributes\":{\"items\":[{\"id\":\"63787\"},{\"id\":\"63803\"}]},\"id\":\"63786\",\"type\":\"Legend\"},{\"attributes\":{},\"id\":\"63779\",\"type\":\"BasicTickFormatter\"},{\"attributes\":{},\"id\":\"63720\",\"type\":\"UnionRenderers\"},{\"attributes\":{},\"id\":\"63737\",\"type\":\"UnionRenderers\"},{\"attributes\":{\"axis\":{\"id\":\"63691\"},\"dimension\":1,\"ticker\":null},\"id\":\"63694\",\"type\":\"Grid\"},{\"attributes\":{\"label\":{\"value\":\"Plagiarized\"},\"renderers\":[{\"id\":\"63727\"}]},\"id\":\"63739\",\"type\":\"LegendItem\"},{\"attributes\":{\"label\":{\"value\":\"Non-plagiarized\"},\"renderers\":[{\"id\":\"63776\"}]},\"id\":\"63787\",\"type\":\"LegendItem\"},{\"attributes\":{\"text\":\"F1 score as a function of the minimum entropy decrease required to split\"},\"id\":\"63741\",\"type\":\"Title\"},{\"attributes\":{\"line_color\":\"steelblue\",\"x\":{\"field\":\"x\"},\"y\":{\"field\":\"y\"}},\"id\":\"63710\",\"type\":\"Line\"},{\"attributes\":{\"line_alpha\":0.1,\"line_color\":\"orange\",\"x\":{\"field\":\"x\"},\"y\":{\"field\":\"y\"}},\"id\":\"63790\",\"type\":\"Line\"},{\"attributes\":{},\"id\":\"63752\",\"type\":\"BasicTicker\"},{\"attributes\":{\"active_drag\":\"auto\",\"active_inspect\":\"auto\",\"active_multi\":null,\"active_scroll\":\"auto\",\"active_tap\":\"auto\",\"tools\":[{\"id\":\"63695\"},{\"id\":\"63696\"},{\"id\":\"63697\"},{\"id\":\"63698\"},{\"id\":\"63699\"},{\"id\":\"63700\"}]},\"id\":\"63702\",\"type\":\"Toolbar\"},{\"attributes\":{\"source\":{\"id\":\"63709\"}},\"id\":\"63713\",\"type\":\"CDSView\"},{\"attributes\":{},\"id\":\"63745\",\"type\":\"DataRange1d\"},{\"attributes\":{\"axis\":{\"id\":\"63755\"},\"dimension\":1,\"ticker\":null},\"id\":\"63758\",\"type\":\"Grid\"},{\"attributes\":{},\"id\":\"63695\",\"type\":\"PanTool\"},{\"attributes\":{\"axis_label\":\"F1\",\"formatter\":{\"id\":\"63781\"},\"ticker\":{\"id\":\"63756\"}},\"id\":\"63755\",\"type\":\"LinearAxis\"},{\"attributes\":{\"source\":{\"id\":\"63788\"}},\"id\":\"63792\",\"type\":\"CDSView\"},{\"attributes\":{},\"id\":\"63699\",\"type\":\"ResetTool\"},{\"attributes\":{},\"id\":\"63696\",\"type\":\"WheelZoomTool\"},{\"attributes\":{\"axis\":{\"id\":\"63751\"},\"ticker\":null},\"id\":\"63754\",\"type\":\"Grid\"},{\"attributes\":{},\"id\":\"63801\",\"type\":\"UnionRenderers\"},{\"attributes\":{\"overlay\":{\"id\":\"63701\"}},\"id\":\"63697\",\"type\":\"BoxZoomTool\"},{\"attributes\":{},\"id\":\"63698\",\"type\":\"SaveTool\"},{\"attributes\":{\"data\":{\"x\":{\"__ndarray__\":\"AAAAAAAAAABbv1Kg1q+EP1u/UqDWr5Q/CB988MEHnz9bv1Kg1q+kPzJvZ0jM26k/CB988MEHrz9wZ0jM2xmyP1u/UqDWr7Q/RhdddNFFtz8yb2dIzNu5Px3HcRzHcbw/CB988MEHvz96O0Ni3s7AP3BnSMzbGcI/ZZNNNtlkwz9bv1Kg1q/EP1HrVwrU+sU/RhdddNFFxz88Q2LezpDIPzJvZ0jM28k/J5tssskmyz8dx3Ecx3HMPxPzdobEvM0/CB988MEHzz9/pUCtXynQP3o7Q2LeztA/ddFFF1100T9wZ0jM2xnSP2r9SoFav9I/ZZNNNtlk0z9gKVDrVwrUP1u/UqDWr9Q/VlVVVVVV1T9R61cK1PrVP0yBWr9SoNY/RhdddNFF1z9BrV8pUOvXPzxDYt7OkNg/N9lkk0022T8yb2dIzNvZPy0Fav1Kgdo/J5tssskm2z8iMW9nSMzbPx3HcRzHcdw/GF100UUX3T8T83aGxLzdPw6JeTtDYt4/CB988MEH3z8DtX6lQK3fP3+lQK1fKeA/ffDBBx984D96O0Ni3s7gP3eGxLydIeE/ddFFF1104T9yHMdxHMfhP3BnSMzbGeI/bbLJJpts4j9q/UqBWr/iP2hIzNsZEuM/ZZNNNtlk4z9j3s6QmLfjP2ApUOtXCuQ/XnTRRRdd5D9bv1Kg1q/kP1gK1PqVAuU/VlVVVVVV5T9ToNavFKjlP1HrVwrU+uU/TjbZZJNN5j9MgVq/UqDmP0nM2xkS8+Y/RhdddNFF5z9EYt7OkJjnP0GtXylQ6+c/P/jggw8+6D88Q2LezpDoPzmO4ziO4+g/N9lkk0026T80JObtDInpPzJvZ0jM2+k/L7rooosu6j8tBWr9SoHqPypQ61cK1Oo/J5tssskm6z8l5u0MiXnrPyIxb2dIzOs/IHzwwQcf7D8dx3Ecx3HsPxsS83aGxOw/GF100UUX7T8VqPUrBWrtPxPzdobEvO0/ED744IMP7j8OiXk7Q2LuPwvU+pUCte4/CB988MEH7z8Gav1KgVrvPwO1fqVAre8/AAAAAAAA8D8=\",\"dtype\":\"float64\",\"order\":\"little\",\"shape\":[100]},\"y\":{\"__ndarray__\":\"4XYNU5/C5T9+YErF0uHmPwgK9gGc/+Y/a+XLy5775j8u6XBdPvTmP4lVhMFA5+Y/Xr5fnNrR5j+ltslDw7PjP25H7BD+etg/biYuR7Uu1D8aE4/aNv3TP46DBv2+INQ/SqoAE7aqzz+FC4y3tn/UPy7jD4K/udg/XUekQbRq1D+ViiPm/YXPP1r6GIHeGNA/wk2RkCdW1D/qeeoZm2TUP4PXhM+kT9Q/cIUhtQd30D9APBWQ+dTYPyVCd5IuA90/raunWUPbzz9GZx7PldbYP7SahToyu9g/oI4BUtuQ2D/SzSaeLcLYP4TMAFg0jtA/4lJNL9HB2D+QsgJ1B3vUP7bAUZPsFN0/nmOPMMHx2D8OMtJBk2TUP62QLMuJs9g/IqpXaN901D/FcgHqfz/QP+JUMq4tS9Q//vgVKV3m2D/+LDvN0GLQP7DGTkN07tw/eK5QY9wMyD8v1XMdriDUP8Z+VOn9NtA/hbwv1b1r1D9Kodqxq93PP0ZTPlhxa9g//S8sZeFc0D+y6X9YE1PUPxmZZK7HFtA/sEl6K5k/0D9bf1EsPCvdPwqguixdYNQ/1NZZCcp92D9NJvhBOQTdP73JvVRbK9g/P3bdqsHP2D+TyvEik/PcP0aaHq2Oqtw/26SduqhXxz++M0mIjVfYP75HhG052tg/sKtE9Nry3D9z5/S6lArYP85c6Afoztg/wYiYaVOp0z8zcisbSy/QP8aFbkFletQ/IAu0KWi/2D8+C+rCpzXUP9t11hUaz8c/Ozj7RdNK0D+bMZGn5KzUP6OMiAGjaNQ/qkomFYzo3D9wDZM3JIbUP6K2Hwr/cdg/kOhrbHlR0D/yYZH6w5TUPwCGPe9P088/binkh7Vu1D8axvUyc3vYP6MFOhII7Nw/YIuqUJb33D815JmBC6nYPx9o1QDfxNg/8QVN05PP2D9q5X634qXUP7ymNBZt8dg/ntZOmvfczz/TnZE3nf7TP1Z9BKUEodg/Dr03AFdtxz8QZTOnlBrdPyM4rdij+dw/an3eN10Z1D9KXP2ADrLUP+VvNtd5fdQ/yrkRfwV12D8=\",\"dtype\":\"float64\",\"order\":\"little\",\"shape\":[100]}},\"selected\":{\"id\":\"63719\"},\"selection_policy\":{\"id\":\"63720\"}},\"id\":\"63709\",\"type\":\"ColumnDataSource\"},{\"attributes\":{},\"id\":\"63756\",\"type\":\"BasicTicker\"},{\"attributes\":{\"data_source\":{\"id\":\"63788\"},\"glyph\":{\"id\":\"63789\"},\"hover_glyph\":null,\"muted_glyph\":null,\"nonselection_glyph\":{\"id\":\"63790\"},\"selection_glyph\":null,\"view\":{\"id\":\"63792\"}},\"id\":\"63791\",\"type\":\"GlyphRenderer\"},{\"attributes\":{},\"id\":\"63715\",\"type\":\"BasicTickFormatter\"},{\"attributes\":{},\"id\":\"63783\",\"type\":\"Selection\"},{\"attributes\":{},\"id\":\"63700\",\"type\":\"HelpTool\"},{\"attributes\":{\"label\":{\"value\":\"Plagiarized\"},\"renderers\":[{\"id\":\"63791\"}]},\"id\":\"63803\",\"type\":\"LegendItem\"},{\"attributes\":{},\"id\":\"63800\",\"type\":\"Selection\"},{\"attributes\":{\"source\":{\"id\":\"63773\"}},\"id\":\"63777\",\"type\":\"CDSView\"},{\"attributes\":{\"toolbar\":{\"id\":\"63827\"},\"toolbar_location\":\"above\"},\"id\":\"63828\",\"type\":\"ToolbarBox\"},{\"attributes\":{\"toolbars\":[{\"id\":\"63702\"},{\"id\":\"63766\"}],\"tools\":[{\"id\":\"63695\"},{\"id\":\"63696\"},{\"id\":\"63697\"},{\"id\":\"63698\"},{\"id\":\"63699\"},{\"id\":\"63700\"},{\"id\":\"63759\"},{\"id\":\"63760\"},{\"id\":\"63761\"},{\"id\":\"63762\"},{\"id\":\"63763\"},{\"id\":\"63764\"}]},\"id\":\"63827\",\"type\":\"ProxyToolbar\"},{\"attributes\":{\"active_drag\":\"auto\",\"active_inspect\":\"auto\",\"active_multi\":null,\"active_scroll\":\"auto\",\"active_tap\":\"auto\",\"tools\":[{\"id\":\"63759\"},{\"id\":\"63760\"},{\"id\":\"63761\"},{\"id\":\"63762\"},{\"id\":\"63763\"},{\"id\":\"63764\"}]},\"id\":\"63766\",\"type\":\"Toolbar\"},{\"attributes\":{\"axis_label\":\"fraction\",\"formatter\":{\"id\":\"63779\"},\"ticker\":{\"id\":\"63752\"}},\"id\":\"63751\",\"type\":\"LinearAxis\"},{\"attributes\":{\"axis_label\":\"fraction\",\"formatter\":{\"id\":\"63715\"},\"ticker\":{\"id\":\"63688\"}},\"id\":\"63687\",\"type\":\"LinearAxis\"},{\"attributes\":{\"line_alpha\":0.1,\"line_color\":\"steelblue\",\"x\":{\"field\":\"x\"},\"y\":{\"field\":\"y\"}},\"id\":\"63775\",\"type\":\"Line\"},{\"attributes\":{},\"id\":\"63759\",\"type\":\"PanTool\"},{\"attributes\":{},\"id\":\"63763\",\"type\":\"ResetTool\"},{\"attributes\":{},\"id\":\"63760\",\"type\":\"WheelZoomTool\"},{\"attributes\":{\"overlay\":{\"id\":\"63765\"}},\"id\":\"63761\",\"type\":\"BoxZoomTool\"},{\"attributes\":{},\"id\":\"63743\",\"type\":\"DataRange1d\"},{\"attributes\":{\"below\":[{\"id\":\"63687\"}],\"center\":[{\"id\":\"63690\"},{\"id\":\"63694\"},{\"id\":\"63722\"}],\"left\":[{\"id\":\"63691\"}],\"renderers\":[{\"id\":\"63712\"},{\"id\":\"63727\"}],\"sizing_mode\":\"scale_both\",\"title\":{\"id\":\"63677\"},\"toolbar\":{\"id\":\"63702\"},\"toolbar_location\":null,\"x_range\":{\"id\":\"63679\"},\"x_scale\":{\"id\":\"63683\"},\"y_range\":{\"id\":\"63681\"},\"y_scale\":{\"id\":\"63685\"}},\"id\":\"63676\",\"subtype\":\"Figure\",\"type\":\"Plot\"},{\"attributes\":{},\"id\":\"63762\",\"type\":\"SaveTool\"},{\"attributes\":{},\"id\":\"63747\",\"type\":\"LinearScale\"},{\"attributes\":{},\"id\":\"63749\",\"type\":\"LinearScale\"},{\"attributes\":{},\"id\":\"63681\",\"type\":\"DataRange1d\"},{\"attributes\":{\"data_source\":{\"id\":\"63709\"},\"glyph\":{\"id\":\"63710\"},\"hover_glyph\":null,\"muted_glyph\":null,\"nonselection_glyph\":{\"id\":\"63711\"},\"selection_glyph\":null,\"view\":{\"id\":\"63713\"}},\"id\":\"63712\",\"type\":\"GlyphRenderer\"},{\"attributes\":{\"bottom_units\":\"screen\",\"fill_alpha\":0.5,\"fill_color\":\"lightgrey\",\"left_units\":\"screen\",\"level\":\"overlay\",\"line_alpha\":1.0,\"line_color\":\"black\",\"line_dash\":[4,4],\"line_width\":2,\"right_units\":\"screen\",\"top_units\":\"screen\"},\"id\":\"63701\",\"type\":\"BoxAnnotation\"},{\"attributes\":{},\"id\":\"63764\",\"type\":\"HelpTool\"},{\"attributes\":{},\"id\":\"63736\",\"type\":\"Selection\"},{\"attributes\":{\"items\":[{\"id\":\"63723\"},{\"id\":\"63739\"}]},\"id\":\"63722\",\"type\":\"Legend\"},{\"attributes\":{\"line_alpha\":0.1,\"line_color\":\"steelblue\",\"x\":{\"field\":\"x\"},\"y\":{\"field\":\"y\"}},\"id\":\"63711\",\"type\":\"Line\"},{\"attributes\":{},\"id\":\"63717\",\"type\":\"BasicTickFormatter\"},{\"attributes\":{},\"id\":\"63719\",\"type\":\"Selection\"},{\"attributes\":{\"label\":{\"value\":\"Non-plagiarized\"},\"renderers\":[{\"id\":\"63712\"}]},\"id\":\"63723\",\"type\":\"LegendItem\"},{\"attributes\":{\"data_source\":{\"id\":\"63773\"},\"glyph\":{\"id\":\"63774\"},\"hover_glyph\":null,\"muted_glyph\":null,\"nonselection_glyph\":{\"id\":\"63775\"},\"selection_glyph\":null,\"view\":{\"id\":\"63777\"}},\"id\":\"63776\",\"type\":\"GlyphRenderer\"},{\"attributes\":{\"text\":\"F1 score as a function of the minimum entropy decrease required to split\"},\"id\":\"63677\",\"type\":\"Title\"},{\"attributes\":{\"line_color\":\"orange\",\"x\":{\"field\":\"x\"},\"y\":{\"field\":\"y\"}},\"id\":\"63725\",\"type\":\"Line\"},{\"attributes\":{\"bottom_units\":\"screen\",\"fill_alpha\":0.5,\"fill_color\":\"lightgrey\",\"left_units\":\"screen\",\"level\":\"overlay\",\"line_alpha\":1.0,\"line_color\":\"black\",\"line_dash\":[4,4],\"line_width\":2,\"right_units\":\"screen\",\"top_units\":\"screen\"},\"id\":\"63765\",\"type\":\"BoxAnnotation\"},{\"attributes\":{\"line_color\":\"orange\",\"x\":{\"field\":\"x\"},\"y\":{\"field\":\"y\"}},\"id\":\"63789\",\"type\":\"Line\"},{\"attributes\":{\"data\":{\"x\":{\"__ndarray__\":\"AAAAAAAAAABbv1Kg1q+EP1u/UqDWr5Q/CB988MEHnz9bv1Kg1q+kPzJvZ0jM26k/CB988MEHrz9wZ0jM2xmyP1u/UqDWr7Q/RhdddNFFtz8yb2dIzNu5Px3HcRzHcbw/CB988MEHvz96O0Ni3s7AP3BnSMzbGcI/ZZNNNtlkwz9bv1Kg1q/EP1HrVwrU+sU/RhdddNFFxz88Q2LezpDIPzJvZ0jM28k/J5tssskmyz8dx3Ecx3HMPxPzdobEvM0/CB988MEHzz9/pUCtXynQP3o7Q2LeztA/ddFFF1100T9wZ0jM2xnSP2r9SoFav9I/ZZNNNtlk0z9gKVDrVwrUP1u/UqDWr9Q/VlVVVVVV1T9R61cK1PrVP0yBWr9SoNY/RhdddNFF1z9BrV8pUOvXPzxDYt7OkNg/N9lkk0022T8yb2dIzNvZPy0Fav1Kgdo/J5tssskm2z8iMW9nSMzbPx3HcRzHcdw/GF100UUX3T8T83aGxLzdPw6JeTtDYt4/CB988MEH3z8DtX6lQK3fP3+lQK1fKeA/ffDBBx984D96O0Ni3s7gP3eGxLydIeE/ddFFF1104T9yHMdxHMfhP3BnSMzbGeI/bbLJJpts4j9q/UqBWr/iP2hIzNsZEuM/ZZNNNtlk4z9j3s6QmLfjP2ApUOtXCuQ/XnTRRRdd5D9bv1Kg1q/kP1gK1PqVAuU/VlVVVVVV5T9ToNavFKjlP1HrVwrU+uU/TjbZZJNN5j9MgVq/UqDmP0nM2xkS8+Y/RhdddNFF5z9EYt7OkJjnP0GtXylQ6+c/P/jggw8+6D88Q2LezpDoPzmO4ziO4+g/N9lkk0026T80JObtDInpPzJvZ0jM2+k/L7rooosu6j8tBWr9SoHqPypQ61cK1Oo/J5tssskm6z8l5u0MiXnrPyIxb2dIzOs/IHzwwQcf7D8dx3Ecx3HsPxsS83aGxOw/GF100UUX7T8VqPUrBWrtPxPzdobEvO0/ED744IMP7j8OiXk7Q2LuPwvU+pUCte4/CB988MEH7z8Gav1KgVrvPwO1fqVAre8/AAAAAAAA8D8=\",\"dtype\":\"float64\",\"order\":\"little\",\"shape\":[100]},\"y\":{\"__ndarray__\":\"VgTqRCj65D+ycpll/3zkP3vH1g+79eM/t1HSyt9d4z/aAhmXYrniP/uYMGARY+E/s7SvDK+E3z9bH+oc5C3cPwz2ETNwDdk/+KwD/0iH1j9rA8UzEO/UP5de8htrVNQ/DdrSUMVg1D8ScOcn4bbUP876fW4QIdU/gMXxFL9I1T982Drw7UTVP6j7OPoChNU/D7RanT/c1T8fRnbeZXDVPw+GQf5uYNQ/drgibo+f0z+KT2EwyyzTP1u4jds3jtI/MVEK3cO80T/2GGs4XFjRP6eSVTyiv9E/UbiWPVUj0j8tt/Cwzx/SP4qUyO3d+9E/ll/E+Ers0T+JxkmbV9/RP56GnTrkptE/hyN+rtuK0T95BIlVMB3SP6g1L8aS8dI/jEcqHNyr0z/JNmQ8ihnUP+W0tEGLMtQ/arH26G9+1D/tXgLESrTUPzxifRAk+9Q/E0bvlkRq1T/NubaGY+PVPwzCsVv+AtY/xq7M7UcS1j95gCfvddTVP5fkjVv22tU/IJr0EhLe1T88ob6aB33VP93aoxr77tQ/RtOYhKEz1D8SfwJl0PTSPzydPyJYitE/VAKqF7RI0D9DeK6K0pvOP8NYrAA4wc0/ldc1gQhzzj9lRD0dLvnPPzafjHCnhtA/ujmtKxOK0D+Ocv9dFpTQP0LWV+Q3s9A/D4x6TTK20D9PAPAf0t/QPwCjz1Vvn9E/Q2ap7Wh40j+DFwoMYm3TP9trVEXjqNQ/0QZyMy+21T9STB+w5hzWP0H4Tnx59tU/uv6ASUSS1T+J0Zu3LwPVP5z0U173ENQ/pC5ZxU5A0z+rW/CqEA3TP74fF0PPi9M/Vkk2hfg61D+Hpa9In4bUP2swOyo64NM/OgoybmOh0j8X+CagmzfRP3hY3SPgCNA/gZy/Z5WOzj9U6Up6Q5POP2adUJTTCNA/5FHXtYBN0T/qVZK0eGnSPzGbSDPLLNM/OSbaoPPk0z++cPS2d/3TP4ogU5C+W9M/POdBNpCx0j/gp72C9lvSPyM7VNRBQNI/006zfEkl0j93tH7JUhXSP0q5stkmKdI/sCrpahBR0j8=\",\"dtype\":\"float64\",\"order\":\"little\",\"shape\":[100]}},\"selected\":{\"id\":\"63800\"},\"selection_policy\":{\"id\":\"63801\"}},\"id\":\"63788\",\"type\":\"ColumnDataSource\"},{\"attributes\":{\"source\":{\"id\":\"63724\"}},\"id\":\"63728\",\"type\":\"CDSView\"},{\"attributes\":{\"data_source\":{\"id\":\"63724\"},\"glyph\":{\"id\":\"63725\"},\"hover_glyph\":null,\"muted_glyph\":null,\"nonselection_glyph\":{\"id\":\"63726\"},\"selection_glyph\":null,\"view\":{\"id\":\"63728\"}},\"id\":\"63727\",\"type\":\"GlyphRenderer\"},{\"attributes\":{\"line_color\":\"steelblue\",\"x\":{\"field\":\"x\"},\"y\":{\"field\":\"y\"}},\"id\":\"63774\",\"type\":\"Line\"},{\"attributes\":{},\"id\":\"63784\",\"type\":\"UnionRenderers\"},{\"attributes\":{},\"id\":\"63781\",\"type\":\"BasicTickFormatter\"},{\"attributes\":{\"data\":{\"x\":{\"__ndarray__\":\"AAAAAAAAAABbv1Kg1q+EP1u/UqDWr5Q/CB988MEHnz9bv1Kg1q+kPzJvZ0jM26k/CB988MEHrz9wZ0jM2xmyP1u/UqDWr7Q/RhdddNFFtz8yb2dIzNu5Px3HcRzHcbw/CB988MEHvz96O0Ni3s7AP3BnSMzbGcI/ZZNNNtlkwz9bv1Kg1q/EP1HrVwrU+sU/RhdddNFFxz88Q2LezpDIPzJvZ0jM28k/J5tssskmyz8dx3Ecx3HMPxPzdobEvM0/CB988MEHzz9/pUCtXynQP3o7Q2LeztA/ddFFF1100T9wZ0jM2xnSP2r9SoFav9I/ZZNNNtlk0z9gKVDrVwrUP1u/UqDWr9Q/VlVVVVVV1T9R61cK1PrVP0yBWr9SoNY/RhdddNFF1z9BrV8pUOvXPzxDYt7OkNg/N9lkk0022T8yb2dIzNvZPy0Fav1Kgdo/J5tssskm2z8iMW9nSMzbPx3HcRzHcdw/GF100UUX3T8T83aGxLzdPw6JeTtDYt4/CB988MEH3z8DtX6lQK3fP3+lQK1fKeA/ffDBBx984D96O0Ni3s7gP3eGxLydIeE/ddFFF1104T9yHMdxHMfhP3BnSMzbGeI/bbLJJpts4j9q/UqBWr/iP2hIzNsZEuM/ZZNNNtlk4z9j3s6QmLfjP2ApUOtXCuQ/XnTRRRdd5D9bv1Kg1q/kP1gK1PqVAuU/VlVVVVVV5T9ToNavFKjlP1HrVwrU+uU/TjbZZJNN5j9MgVq/UqDmP0nM2xkS8+Y/RhdddNFF5z9EYt7OkJjnP0GtXylQ6+c/P/jggw8+6D88Q2LezpDoPzmO4ziO4+g/N9lkk0026T80JObtDInpPzJvZ0jM2+k/L7rooosu6j8tBWr9SoHqPypQ61cK1Oo/J5tssskm6z8l5u0MiXnrPyIxb2dIzOs/IHzwwQcf7D8dx3Ecx3HsPxsS83aGxOw/GF100UUX7T8VqPUrBWrtPxPzdobEvO0/ED744IMP7j8OiXk7Q2LuPwvU+pUCte4/CB988MEH7z8Gav1KgVrvPwO1fqVAre8/AAAAAAAA8D8=\",\"dtype\":\"float64\",\"order\":\"little\",\"shape\":[100]},\"y\":{\"__ndarray__\":\"o4oxLSKt5j9+xNhPCbHmP/6t8CIwqOY/gCNIb9aR5j/t1n4DAGzmPy1C85F0UeU/L42bTEuH4z/iv3IPf2XhPyAfKHmcTd4/fRIelS/e2T9FyIwph1zWP8GbhhcVlNQ/FKqwRsob1D8Xdi0BRtTTP+EBYCXweNM/tm0y9hNd0z+bl9wM1mTTP7YsvBwOJNM/H2jzlZrX0j9ixdFBt1zTPz3Q8tO6g9Q/NiMGKP5L1T8RmTGpTsPVP0YZOh+YY9Y/NrShtLcs1z//pnZdX4fXP2IXSd0SKNc/zDbeWIzV1j/UBYeZDObWP9PEPRAiEtc/TVN+fFot1z+ofRyAgD7XPz2NRc0wbNc/FcfO7b151z8JGtZP8d/WP9NrkDVIA9Y/SBzH4/dD1T92h78GUdnUP95psWWax9Q/SwhtOMd91D+ym8GYYkDUP40+9Ep58dM//DbajxN40z/6Nb45UOnSP+l3ZbnXstI/Z6DH0qGc0j+11RFjfNzSP4aIk5M+29I/XppL3VLf0j90TbbIiVHTP1GvP0EW8NM/pzIpIMKt1D9/ra1noeLVP07VYPU3Pdc/7Cx0jFhw2D+FpHclOFzZP2Rzqljnudk/158tXflS2T+K6baMmYfYP3yIuneyAtg/w085tUwF2D83eYFOFu/XP3hW+75QxNc/PT7aFMO31z+qKR27NIvXPxmZ2DP6ztY/3UWEkrL91T8N7JE80hbVPwhVhgph9NM/Ae4ySqgF0z9hOnqZD8HSP7lgGna09NI/lxKH4Epa0z879QxdzuvTP+IrJj263NQ/4oacvtan1T8soLQPsdPVPxBW8z60S9U/m5t4oyeV1D/51DQ6hUHUP49vRD6v4dQ/OUx6/T4c1j+9KWi2VIDXP9h74U4istg/o9p+yYCE2T8T1D4RGZrZPyb1G3EZ8tg/Sz+WKh2x1z/B5CG5PITWP3ZOZonbqtU/OWKg2tfd1D9j0I3vY7XUP5A5S8zOSdU/+qZfqxTw1T9UitpMIFjWPwAUCj7qitY/60c3JOOl1j/NQl33xLHWP7KewPkImtY/a9uKcqNt1j8=\",\"dtype\":\"float64\",\"order\":\"little\",\"shape\":[100]}},\"selected\":{\"id\":\"63783\"},\"selection_policy\":{\"id\":\"63784\"}},\"id\":\"63773\",\"type\":\"ColumnDataSource\"},{\"attributes\":{\"line_alpha\":0.1,\"line_color\":\"orange\",\"x\":{\"field\":\"x\"},\"y\":{\"field\":\"y\"}},\"id\":\"63726\",\"type\":\"Line\"}],\"root_ids\":[\"63829\"]},\"title\":\"Bokeh Application\",\"version\":\"2.2.3\"}};\n",
       "  var render_items = [{\"docid\":\"bad01860-8cdd-4dab-8fb4-df7469351d39\",\"root_ids\":[\"63829\"],\"roots\":{\"63829\":\"b32f7956-60c8-41ec-829a-2e1a00b1d4bb\"}}];\n",
       "  root.Bokeh.embed.embed_items_notebook(docs_json, render_items);\n",
       "\n",
       "  }\n",
       "  if (root.Bokeh !== undefined) {\n",
       "    embed_document(root);\n",
       "  } else {\n",
       "    var attempts = 0;\n",
       "    var timer = setInterval(function(root) {\n",
       "      if (root.Bokeh !== undefined) {\n",
       "        clearInterval(timer);\n",
       "        embed_document(root);\n",
       "      } else {\n",
       "        attempts++;\n",
       "        if (attempts > 100) {\n",
       "          clearInterval(timer);\n",
       "          console.log(\"Bokeh: ERROR: Unable to run BokehJS code because BokehJS library is missing\");\n",
       "        }\n",
       "      }\n",
       "    }, 10, root)\n",
       "  }\n",
       "})(window);"
      ],
      "application/vnd.bokehjs_exec.v0+json": ""
     },
     "metadata": {
      "application/vnd.bokehjs_exec.v0+json": {
       "id": "63829"
      }
     },
     "output_type": "display_data"
    }
   ],
   "source": [
    "def calc_F1_impurity(imp):\n",
    "    clf = DecisionTreeClassifier(min_impurity_decrease = imp)\n",
    "\n",
    "    # Make folds of data for cross validation\n",
    "    k_fold = KFold(n_splits = 10, shuffle = True)\n",
    "\n",
    "    results = []\n",
    "    for train, test in k_fold.split(X):\n",
    "        clf.fit(X.iloc[train], y.iloc[train])\n",
    "        results.append(f1_score(y.iloc[test], clf.predict(X.iloc[test]), average = None))\n",
    "    \n",
    "    return sum(results) / len(results)\n",
    "        \n",
    "imp = np.linspace(0, 1, num = 100)\n",
    "F1 = np.stack(list(map(calc_F1_impurity, imp)), axis = 0)\n",
    "filtered_F1 = np.column_stack((lowess(F1[:, 0], imp, is_sorted=True, frac=0.1, it=0)[:, 1],\n",
    "                               lowess(F1[:, 1], imp, is_sorted=True, frac=0.1, it=0)[:, 1]))\n",
    "# Normal plot\n",
    "imp_plot = figure(title = \"F1 score as a function of the minimum entropy decrease required to split\",\n",
    "                   x_axis_label = \"fraction\",\n",
    "                   y_axis_label = \"F1\")\n",
    "\n",
    "imp_plot.line(imp, F1[:, 0], legend_label = \"Non-plagiarized\", line_color = \"steelblue\")\n",
    "imp_plot.line(imp, F1[:, 1], legend_label = \"Plagiarized\", line_color = \"orange\")\n",
    "\n",
    "\n",
    "# Filtered plot to remove some noise and better appreciate tendencies\n",
    "imp_plot_filtered = figure(title = \"F1 score as a function of the minimum entropy decrease required to split\",\n",
    "                            x_axis_label = \"fraction\",\n",
    "                            y_axis_label = \"F1\")\n",
    "\n",
    "imp_plot_filtered.line(imp, filtered_F1[:, 0], legend_label = \"Non-plagiarized\", line_color = \"steelblue\")\n",
    "imp_plot_filtered.line(imp, filtered_F1[:, 1], legend_label = \"Plagiarized\", line_color = \"orange\")\n",
    "\n",
    "\n",
    "show(gridplot([[imp_plot, imp_plot_filtered]], sizing_mode='scale_both'))\n",
    "\n",
    "# Any value that isn't zero will make our score drop quickly, no too interesting"
   ]
  },
  {
   "cell_type": "markdown",
   "metadata": {},
   "source": [
    "Como podemos observar, a partir de cero cae de forma drastica y oscila para ambas categorias. Por lo tanto lo dejaremos como nulo."
   ]
  },
  {
   "cell_type": "markdown",
   "metadata": {},
   "source": [
    "## Evalución del modelo depurado"
   ]
  },
  {
   "cell_type": "code",
   "execution_count": 219,
   "metadata": {},
   "outputs": [
    {
     "data": {
      "text/html": [
       "<div>\n",
       "<style scoped>\n",
       "    .dataframe tbody tr th:only-of-type {\n",
       "        vertical-align: middle;\n",
       "    }\n",
       "\n",
       "    .dataframe tbody tr th {\n",
       "        vertical-align: top;\n",
       "    }\n",
       "\n",
       "    .dataframe thead th {\n",
       "        text-align: right;\n",
       "    }\n",
       "</style>\n",
       "<table border=\"1\" class=\"dataframe\">\n",
       "  <thead>\n",
       "    <tr style=\"text-align: right;\">\n",
       "      <th></th>\n",
       "      <th>Avg. non-plagiarized</th>\n",
       "      <th>Avg. plagiarized</th>\n",
       "      <th>Std. non-plagiarized</th>\n",
       "      <th>Std. plagiarized</th>\n",
       "    </tr>\n",
       "    <tr>\n",
       "      <th>Score type</th>\n",
       "      <th></th>\n",
       "      <th></th>\n",
       "      <th></th>\n",
       "      <th></th>\n",
       "    </tr>\n",
       "  </thead>\n",
       "  <tbody>\n",
       "    <tr>\n",
       "      <th>precision</th>\n",
       "      <td>0.701384</td>\n",
       "      <td>0.703107</td>\n",
       "      <td>0.023799</td>\n",
       "      <td>0.034566</td>\n",
       "    </tr>\n",
       "    <tr>\n",
       "      <th>recall</th>\n",
       "      <td>0.696028</td>\n",
       "      <td>0.703770</td>\n",
       "      <td>0.046674</td>\n",
       "      <td>0.031212</td>\n",
       "    </tr>\n",
       "    <tr>\n",
       "      <th>F1</th>\n",
       "      <td>0.695705</td>\n",
       "      <td>0.699708</td>\n",
       "      <td>0.025206</td>\n",
       "      <td>0.016688</td>\n",
       "    </tr>\n",
       "    <tr>\n",
       "      <th>support</th>\n",
       "      <td>68.300000</td>\n",
       "      <td>68.300000</td>\n",
       "      <td>3.503256</td>\n",
       "      <td>3.653488</td>\n",
       "    </tr>\n",
       "  </tbody>\n",
       "</table>\n",
       "</div>"
      ],
      "text/plain": [
       "            Avg. non-plagiarized  Avg. plagiarized  Std. non-plagiarized  \\\n",
       "Score type                                                                 \n",
       "precision               0.701384          0.703107              0.023799   \n",
       "recall                  0.696028          0.703770              0.046674   \n",
       "F1                      0.695705          0.699708              0.025206   \n",
       "support                68.300000         68.300000              3.503256   \n",
       "\n",
       "            Std. plagiarized  \n",
       "Score type                    \n",
       "precision           0.034566  \n",
       "recall              0.031212  \n",
       "F1                  0.016688  \n",
       "support             3.653488  "
      ]
     },
     "execution_count": 219,
     "metadata": {},
     "output_type": "execute_result"
    }
   ],
   "source": [
    "# Reevaluate the model with the slight optimizations found earlier\n",
    "clf = DecisionTreeClassifier(min_samples_split = 0.12, min_samples_leaf = 60)\n",
    "eval_model_table(X, y, clf)"
   ]
  },
  {
   "cell_type": "markdown",
   "metadata": {},
   "source": [
    "Como podemos ver, hemos mejorado (muy ligeramente) el modelo, llegando a tener un precisión cercana al 70%. Finalmente, guardamos el modelo para poder ser reusado posteriormente."
   ]
  },
  {
   "cell_type": "code",
   "execution_count": 220,
   "metadata": {},
   "outputs": [],
   "source": [
    "import pickle\n",
    "# We improved a bit, lets save it and work with this one\n",
    "with open(\"../models/tree_classifier.model\", \"wb\") as f:\n",
    "    pickle.dump(clf, f)"
   ]
  }
 ],
 "metadata": {
  "kernelspec": {
   "display_name": "Python 3",
   "language": "python",
   "name": "python3"
  },
  "language_info": {
   "codemirror_mode": {
    "name": "ipython",
    "version": 3
   },
   "file_extension": ".py",
   "mimetype": "text/x-python",
   "name": "python",
   "nbconvert_exporter": "python",
   "pygments_lexer": "ipython3",
   "version": "3.7.9"
  }
 },
 "nbformat": 4,
 "nbformat_minor": 2
}
