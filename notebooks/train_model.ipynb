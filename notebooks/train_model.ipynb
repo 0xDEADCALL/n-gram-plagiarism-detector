{
 "cells": [
  {
   "cell_type": "markdown",
   "metadata": {
    "pycharm": {
     "name": "#%% Decision Tree\n"
    }
   },
   "source": [
    "# Decision Tree Classifier for a plagiarism detector"
   ]
  },
  {
   "cell_type": "markdown",
   "metadata": {},
   "source": [
    "## Building the data dataframe"
   ]
  },
  {
   "cell_type": "code",
   "execution_count": 1,
   "metadata": {
    "pycharm": {
     "name": "#%%\n"
    }
   },
   "outputs": [
    {
     "name": "stdout",
     "output_type": "stream",
     "text": [
      "Plagiarized = 685\n",
      "Non-plagiarized = 331315\n"
     ]
    },
    {
     "data": {
      "text/html": [
       "<div>\n",
       "<style scoped>\n",
       "    .dataframe tbody tr th:only-of-type {\n",
       "        vertical-align: middle;\n",
       "    }\n",
       "\n",
       "    .dataframe tbody tr th {\n",
       "        vertical-align: top;\n",
       "    }\n",
       "\n",
       "    .dataframe thead th {\n",
       "        text-align: right;\n",
       "    }\n",
       "</style>\n",
       "<table border=\"1\" class=\"dataframe\">\n",
       "  <thead>\n",
       "    <tr style=\"text-align: right;\">\n",
       "      <th></th>\n",
       "      <th>src</th>\n",
       "      <th>sus</th>\n",
       "      <th>3-tok-lem-ngram</th>\n",
       "      <th>3-tok-lower-stop-alpha-ngram</th>\n",
       "      <th>3-tok-ngram</th>\n",
       "      <th>plagiarized</th>\n",
       "    </tr>\n",
       "  </thead>\n",
       "  <tbody>\n",
       "    <tr>\n",
       "      <th>0</th>\n",
       "      <td>source-document00094.txt</td>\n",
       "      <td>suspicious-document00019.txt</td>\n",
       "      <td>0.000000</td>\n",
       "      <td>0.0</td>\n",
       "      <td>0.000000</td>\n",
       "      <td>0</td>\n",
       "    </tr>\n",
       "    <tr>\n",
       "      <th>1</th>\n",
       "      <td>source-document00029.txt</td>\n",
       "      <td>suspicious-document00019.txt</td>\n",
       "      <td>0.003139</td>\n",
       "      <td>0.0</td>\n",
       "      <td>0.002788</td>\n",
       "      <td>0</td>\n",
       "    </tr>\n",
       "    <tr>\n",
       "      <th>2</th>\n",
       "      <td>source-document00095.txt</td>\n",
       "      <td>suspicious-document00019.txt</td>\n",
       "      <td>0.003399</td>\n",
       "      <td>0.0</td>\n",
       "      <td>0.003399</td>\n",
       "      <td>0</td>\n",
       "    </tr>\n",
       "    <tr>\n",
       "      <th>3</th>\n",
       "      <td>source-document00081.txt</td>\n",
       "      <td>suspicious-document00019.txt</td>\n",
       "      <td>0.001540</td>\n",
       "      <td>0.0</td>\n",
       "      <td>0.001368</td>\n",
       "      <td>0</td>\n",
       "    </tr>\n",
       "    <tr>\n",
       "      <th>4</th>\n",
       "      <td>source-document00005.txt</td>\n",
       "      <td>suspicious-document00019.txt</td>\n",
       "      <td>0.001892</td>\n",
       "      <td>0.0</td>\n",
       "      <td>0.001734</td>\n",
       "      <td>0</td>\n",
       "    </tr>\n",
       "  </tbody>\n",
       "</table>\n",
       "</div>"
      ],
      "text/plain": [
       "                        src                           sus  3-tok-lem-ngram  \\\n",
       "0  source-document00094.txt  suspicious-document00019.txt         0.000000   \n",
       "1  source-document00029.txt  suspicious-document00019.txt         0.003139   \n",
       "2  source-document00095.txt  suspicious-document00019.txt         0.003399   \n",
       "3  source-document00081.txt  suspicious-document00019.txt         0.001540   \n",
       "4  source-document00005.txt  suspicious-document00019.txt         0.001892   \n",
       "\n",
       "   3-tok-lower-stop-alpha-ngram  3-tok-ngram  plagiarized  \n",
       "0                           0.0     0.000000            0  \n",
       "1                           0.0     0.002788            0  \n",
       "2                           0.0     0.003399            0  \n",
       "3                           0.0     0.001368            0  \n",
       "4                           0.0     0.001734            0  "
      ]
     },
     "execution_count": 1,
     "metadata": {},
     "output_type": "execute_result"
    }
   ],
   "source": [
    "# Load modules and packages\n",
    "import pandas as pd\n",
    "import numpy as np\n",
    "\n",
    "df = pd.read_csv(\"../data/train_scores.csv\")\n",
    "\n",
    "print(f\"Plagiarized = {len(df[df['plagiarized'] == 1])}\")\n",
    "print(f\"Non-plagiarized = {len(df[df['plagiarized'] == 0])}\")\n",
    "df.head()"
   ]
  },
  {
   "cell_type": "markdown",
   "metadata": {},
   "source": [
    "# Training a tree classificator"
   ]
  },
  {
   "cell_type": "code",
   "execution_count": 2,
   "metadata": {
    "scrolled": true
   },
   "outputs": [
    {
     "data": {
      "text/html": [
       "\n",
       "    <div class=\"bk-root\">\n",
       "        <a href=\"https://bokeh.org\" target=\"_blank\" class=\"bk-logo bk-logo-small bk-logo-notebook\"></a>\n",
       "        <span id=\"1001\">Loading BokehJS ...</span>\n",
       "    </div>"
      ]
     },
     "metadata": {},
     "output_type": "display_data"
    },
    {
     "data": {
      "application/javascript": [
       "\n",
       "(function(root) {\n",
       "  function now() {\n",
       "    return new Date();\n",
       "  }\n",
       "\n",
       "  var force = true;\n",
       "\n",
       "  if (typeof root._bokeh_onload_callbacks === \"undefined\" || force === true) {\n",
       "    root._bokeh_onload_callbacks = [];\n",
       "    root._bokeh_is_loading = undefined;\n",
       "  }\n",
       "\n",
       "  var JS_MIME_TYPE = 'application/javascript';\n",
       "  var HTML_MIME_TYPE = 'text/html';\n",
       "  var EXEC_MIME_TYPE = 'application/vnd.bokehjs_exec.v0+json';\n",
       "  var CLASS_NAME = 'output_bokeh rendered_html';\n",
       "\n",
       "  /**\n",
       "   * Render data to the DOM node\n",
       "   */\n",
       "  function render(props, node) {\n",
       "    var script = document.createElement(\"script\");\n",
       "    node.appendChild(script);\n",
       "  }\n",
       "\n",
       "  /**\n",
       "   * Handle when an output is cleared or removed\n",
       "   */\n",
       "  function handleClearOutput(event, handle) {\n",
       "    var cell = handle.cell;\n",
       "\n",
       "    var id = cell.output_area._bokeh_element_id;\n",
       "    var server_id = cell.output_area._bokeh_server_id;\n",
       "    // Clean up Bokeh references\n",
       "    if (id != null && id in Bokeh.index) {\n",
       "      Bokeh.index[id].model.document.clear();\n",
       "      delete Bokeh.index[id];\n",
       "    }\n",
       "\n",
       "    if (server_id !== undefined) {\n",
       "      // Clean up Bokeh references\n",
       "      var cmd = \"from bokeh.io.state import curstate; print(curstate().uuid_to_server['\" + server_id + \"'].get_sessions()[0].document.roots[0]._id)\";\n",
       "      cell.notebook.kernel.execute(cmd, {\n",
       "        iopub: {\n",
       "          output: function(msg) {\n",
       "            var id = msg.content.text.trim();\n",
       "            if (id in Bokeh.index) {\n",
       "              Bokeh.index[id].model.document.clear();\n",
       "              delete Bokeh.index[id];\n",
       "            }\n",
       "          }\n",
       "        }\n",
       "      });\n",
       "      // Destroy server and session\n",
       "      var cmd = \"import bokeh.io.notebook as ion; ion.destroy_server('\" + server_id + \"')\";\n",
       "      cell.notebook.kernel.execute(cmd);\n",
       "    }\n",
       "  }\n",
       "\n",
       "  /**\n",
       "   * Handle when a new output is added\n",
       "   */\n",
       "  function handleAddOutput(event, handle) {\n",
       "    var output_area = handle.output_area;\n",
       "    var output = handle.output;\n",
       "\n",
       "    // limit handleAddOutput to display_data with EXEC_MIME_TYPE content only\n",
       "    if ((output.output_type != \"display_data\") || (!output.data.hasOwnProperty(EXEC_MIME_TYPE))) {\n",
       "      return\n",
       "    }\n",
       "\n",
       "    var toinsert = output_area.element.find(\".\" + CLASS_NAME.split(' ')[0]);\n",
       "\n",
       "    if (output.metadata[EXEC_MIME_TYPE][\"id\"] !== undefined) {\n",
       "      toinsert[toinsert.length - 1].firstChild.textContent = output.data[JS_MIME_TYPE];\n",
       "      // store reference to embed id on output_area\n",
       "      output_area._bokeh_element_id = output.metadata[EXEC_MIME_TYPE][\"id\"];\n",
       "    }\n",
       "    if (output.metadata[EXEC_MIME_TYPE][\"server_id\"] !== undefined) {\n",
       "      var bk_div = document.createElement(\"div\");\n",
       "      bk_div.innerHTML = output.data[HTML_MIME_TYPE];\n",
       "      var script_attrs = bk_div.children[0].attributes;\n",
       "      for (var i = 0; i < script_attrs.length; i++) {\n",
       "        toinsert[toinsert.length - 1].firstChild.setAttribute(script_attrs[i].name, script_attrs[i].value);\n",
       "        toinsert[toinsert.length - 1].firstChild.textContent = bk_div.children[0].textContent\n",
       "      }\n",
       "      // store reference to server id on output_area\n",
       "      output_area._bokeh_server_id = output.metadata[EXEC_MIME_TYPE][\"server_id\"];\n",
       "    }\n",
       "  }\n",
       "\n",
       "  function register_renderer(events, OutputArea) {\n",
       "\n",
       "    function append_mime(data, metadata, element) {\n",
       "      // create a DOM node to render to\n",
       "      var toinsert = this.create_output_subarea(\n",
       "        metadata,\n",
       "        CLASS_NAME,\n",
       "        EXEC_MIME_TYPE\n",
       "      );\n",
       "      this.keyboard_manager.register_events(toinsert);\n",
       "      // Render to node\n",
       "      var props = {data: data, metadata: metadata[EXEC_MIME_TYPE]};\n",
       "      render(props, toinsert[toinsert.length - 1]);\n",
       "      element.append(toinsert);\n",
       "      return toinsert\n",
       "    }\n",
       "\n",
       "    /* Handle when an output is cleared or removed */\n",
       "    events.on('clear_output.CodeCell', handleClearOutput);\n",
       "    events.on('delete.Cell', handleClearOutput);\n",
       "\n",
       "    /* Handle when a new output is added */\n",
       "    events.on('output_added.OutputArea', handleAddOutput);\n",
       "\n",
       "    /**\n",
       "     * Register the mime type and append_mime function with output_area\n",
       "     */\n",
       "    OutputArea.prototype.register_mime_type(EXEC_MIME_TYPE, append_mime, {\n",
       "      /* Is output safe? */\n",
       "      safe: true,\n",
       "      /* Index of renderer in `output_area.display_order` */\n",
       "      index: 0\n",
       "    });\n",
       "  }\n",
       "\n",
       "  // register the mime type if in Jupyter Notebook environment and previously unregistered\n",
       "  if (root.Jupyter !== undefined) {\n",
       "    var events = require('base/js/events');\n",
       "    var OutputArea = require('notebook/js/outputarea').OutputArea;\n",
       "\n",
       "    if (OutputArea.prototype.mime_types().indexOf(EXEC_MIME_TYPE) == -1) {\n",
       "      register_renderer(events, OutputArea);\n",
       "    }\n",
       "  }\n",
       "\n",
       "  \n",
       "  if (typeof (root._bokeh_timeout) === \"undefined\" || force === true) {\n",
       "    root._bokeh_timeout = Date.now() + 5000;\n",
       "    root._bokeh_failed_load = false;\n",
       "  }\n",
       "\n",
       "  var NB_LOAD_WARNING = {'data': {'text/html':\n",
       "     \"<div style='background-color: #fdd'>\\n\"+\n",
       "     \"<p>\\n\"+\n",
       "     \"BokehJS does not appear to have successfully loaded. If loading BokehJS from CDN, this \\n\"+\n",
       "     \"may be due to a slow or bad network connection. Possible fixes:\\n\"+\n",
       "     \"</p>\\n\"+\n",
       "     \"<ul>\\n\"+\n",
       "     \"<li>re-rerun `output_notebook()` to attempt to load from CDN again, or</li>\\n\"+\n",
       "     \"<li>use INLINE resources instead, as so:</li>\\n\"+\n",
       "     \"</ul>\\n\"+\n",
       "     \"<code>\\n\"+\n",
       "     \"from bokeh.resources import INLINE\\n\"+\n",
       "     \"output_notebook(resources=INLINE)\\n\"+\n",
       "     \"</code>\\n\"+\n",
       "     \"</div>\"}};\n",
       "\n",
       "  function display_loaded() {\n",
       "    var el = document.getElementById(\"1001\");\n",
       "    if (el != null) {\n",
       "      el.textContent = \"BokehJS is loading...\";\n",
       "    }\n",
       "    if (root.Bokeh !== undefined) {\n",
       "      if (el != null) {\n",
       "        el.textContent = \"BokehJS \" + root.Bokeh.version + \" successfully loaded.\";\n",
       "      }\n",
       "    } else if (Date.now() < root._bokeh_timeout) {\n",
       "      setTimeout(display_loaded, 100)\n",
       "    }\n",
       "  }\n",
       "\n",
       "\n",
       "  function run_callbacks() {\n",
       "    try {\n",
       "      root._bokeh_onload_callbacks.forEach(function(callback) {\n",
       "        if (callback != null)\n",
       "          callback();\n",
       "      });\n",
       "    } finally {\n",
       "      delete root._bokeh_onload_callbacks\n",
       "    }\n",
       "    console.debug(\"Bokeh: all callbacks have finished\");\n",
       "  }\n",
       "\n",
       "  function load_libs(css_urls, js_urls, callback) {\n",
       "    if (css_urls == null) css_urls = [];\n",
       "    if (js_urls == null) js_urls = [];\n",
       "\n",
       "    root._bokeh_onload_callbacks.push(callback);\n",
       "    if (root._bokeh_is_loading > 0) {\n",
       "      console.debug(\"Bokeh: BokehJS is being loaded, scheduling callback at\", now());\n",
       "      return null;\n",
       "    }\n",
       "    if (js_urls == null || js_urls.length === 0) {\n",
       "      run_callbacks();\n",
       "      return null;\n",
       "    }\n",
       "    console.debug(\"Bokeh: BokehJS not loaded, scheduling load and callback at\", now());\n",
       "    root._bokeh_is_loading = css_urls.length + js_urls.length;\n",
       "\n",
       "    function on_load() {\n",
       "      root._bokeh_is_loading--;\n",
       "      if (root._bokeh_is_loading === 0) {\n",
       "        console.debug(\"Bokeh: all BokehJS libraries/stylesheets loaded\");\n",
       "        run_callbacks()\n",
       "      }\n",
       "    }\n",
       "\n",
       "    function on_error() {\n",
       "      console.error(\"failed to load \" + url);\n",
       "    }\n",
       "\n",
       "    for (var i = 0; i < css_urls.length; i++) {\n",
       "      var url = css_urls[i];\n",
       "      const element = document.createElement(\"link\");\n",
       "      element.onload = on_load;\n",
       "      element.onerror = on_error;\n",
       "      element.rel = \"stylesheet\";\n",
       "      element.type = \"text/css\";\n",
       "      element.href = url;\n",
       "      console.debug(\"Bokeh: injecting link tag for BokehJS stylesheet: \", url);\n",
       "      document.body.appendChild(element);\n",
       "    }\n",
       "\n",
       "    const hashes = {\"https://cdn.bokeh.org/bokeh/release/bokeh-2.1.1.min.js\": \"kLr4fYcqcSpbuI95brIH3vnnYCquzzSxHPU6XGQCIkQRGJwhg0StNbj1eegrHs12\", \"https://cdn.bokeh.org/bokeh/release/bokeh-widgets-2.1.1.min.js\": \"xIGPmVtaOm+z0BqfSOMn4lOR6ciex448GIKG4eE61LsAvmGj48XcMQZtKcE/UXZe\", \"https://cdn.bokeh.org/bokeh/release/bokeh-tables-2.1.1.min.js\": \"Dc9u1wF/0zApGIWoBbH77iWEHtdmkuYWG839Uzmv8y8yBLXebjO9ZnERsde5Ln/P\", \"https://cdn.bokeh.org/bokeh/release/bokeh-gl-2.1.1.min.js\": \"cT9JaBz7GiRXdENrJLZNSC6eMNF3nh3fa5fTF51Svp+ukxPdwcU5kGXGPBgDCa2j\"};\n",
       "\n",
       "    for (var i = 0; i < js_urls.length; i++) {\n",
       "      var url = js_urls[i];\n",
       "      var element = document.createElement('script');\n",
       "      element.onload = on_load;\n",
       "      element.onerror = on_error;\n",
       "      element.async = false;\n",
       "      element.src = url;\n",
       "      if (url in hashes) {\n",
       "        element.crossOrigin = \"anonymous\";\n",
       "        element.integrity = \"sha384-\" + hashes[url];\n",
       "      }\n",
       "      console.debug(\"Bokeh: injecting script tag for BokehJS library: \", url);\n",
       "      document.head.appendChild(element);\n",
       "    }\n",
       "  };\n",
       "\n",
       "  function inject_raw_css(css) {\n",
       "    const element = document.createElement(\"style\");\n",
       "    element.appendChild(document.createTextNode(css));\n",
       "    document.body.appendChild(element);\n",
       "  }\n",
       "\n",
       "  \n",
       "  var js_urls = [\"https://cdn.bokeh.org/bokeh/release/bokeh-2.1.1.min.js\", \"https://cdn.bokeh.org/bokeh/release/bokeh-widgets-2.1.1.min.js\", \"https://cdn.bokeh.org/bokeh/release/bokeh-tables-2.1.1.min.js\", \"https://cdn.bokeh.org/bokeh/release/bokeh-gl-2.1.1.min.js\"];\n",
       "  var css_urls = [];\n",
       "  \n",
       "\n",
       "  var inline_js = [\n",
       "    function(Bokeh) {\n",
       "      Bokeh.set_log_level(\"info\");\n",
       "    },\n",
       "    function(Bokeh) {\n",
       "    \n",
       "    \n",
       "    }\n",
       "  ];\n",
       "\n",
       "  function run_inline_js() {\n",
       "    \n",
       "    if (root.Bokeh !== undefined || force === true) {\n",
       "      \n",
       "    for (var i = 0; i < inline_js.length; i++) {\n",
       "      inline_js[i].call(root, root.Bokeh);\n",
       "    }\n",
       "    if (force === true) {\n",
       "        display_loaded();\n",
       "      }} else if (Date.now() < root._bokeh_timeout) {\n",
       "      setTimeout(run_inline_js, 100);\n",
       "    } else if (!root._bokeh_failed_load) {\n",
       "      console.log(\"Bokeh: BokehJS failed to load within specified timeout.\");\n",
       "      root._bokeh_failed_load = true;\n",
       "    } else if (force !== true) {\n",
       "      var cell = $(document.getElementById(\"1001\")).parents('.cell').data().cell;\n",
       "      cell.output_area.append_execute_result(NB_LOAD_WARNING)\n",
       "    }\n",
       "\n",
       "  }\n",
       "\n",
       "  if (root._bokeh_is_loading === 0) {\n",
       "    console.debug(\"Bokeh: BokehJS loaded, going straight to plotting\");\n",
       "    run_inline_js();\n",
       "  } else {\n",
       "    load_libs(css_urls, js_urls, function() {\n",
       "      console.debug(\"Bokeh: BokehJS plotting callback run at\", now());\n",
       "      run_inline_js();\n",
       "    });\n",
       "  }\n",
       "}(window));"
      ],
      "application/vnd.bokehjs_load.v0+json": "\n(function(root) {\n  function now() {\n    return new Date();\n  }\n\n  var force = true;\n\n  if (typeof root._bokeh_onload_callbacks === \"undefined\" || force === true) {\n    root._bokeh_onload_callbacks = [];\n    root._bokeh_is_loading = undefined;\n  }\n\n  \n\n  \n  if (typeof (root._bokeh_timeout) === \"undefined\" || force === true) {\n    root._bokeh_timeout = Date.now() + 5000;\n    root._bokeh_failed_load = false;\n  }\n\n  var NB_LOAD_WARNING = {'data': {'text/html':\n     \"<div style='background-color: #fdd'>\\n\"+\n     \"<p>\\n\"+\n     \"BokehJS does not appear to have successfully loaded. If loading BokehJS from CDN, this \\n\"+\n     \"may be due to a slow or bad network connection. Possible fixes:\\n\"+\n     \"</p>\\n\"+\n     \"<ul>\\n\"+\n     \"<li>re-rerun `output_notebook()` to attempt to load from CDN again, or</li>\\n\"+\n     \"<li>use INLINE resources instead, as so:</li>\\n\"+\n     \"</ul>\\n\"+\n     \"<code>\\n\"+\n     \"from bokeh.resources import INLINE\\n\"+\n     \"output_notebook(resources=INLINE)\\n\"+\n     \"</code>\\n\"+\n     \"</div>\"}};\n\n  function display_loaded() {\n    var el = document.getElementById(\"1001\");\n    if (el != null) {\n      el.textContent = \"BokehJS is loading...\";\n    }\n    if (root.Bokeh !== undefined) {\n      if (el != null) {\n        el.textContent = \"BokehJS \" + root.Bokeh.version + \" successfully loaded.\";\n      }\n    } else if (Date.now() < root._bokeh_timeout) {\n      setTimeout(display_loaded, 100)\n    }\n  }\n\n\n  function run_callbacks() {\n    try {\n      root._bokeh_onload_callbacks.forEach(function(callback) {\n        if (callback != null)\n          callback();\n      });\n    } finally {\n      delete root._bokeh_onload_callbacks\n    }\n    console.debug(\"Bokeh: all callbacks have finished\");\n  }\n\n  function load_libs(css_urls, js_urls, callback) {\n    if (css_urls == null) css_urls = [];\n    if (js_urls == null) js_urls = [];\n\n    root._bokeh_onload_callbacks.push(callback);\n    if (root._bokeh_is_loading > 0) {\n      console.debug(\"Bokeh: BokehJS is being loaded, scheduling callback at\", now());\n      return null;\n    }\n    if (js_urls == null || js_urls.length === 0) {\n      run_callbacks();\n      return null;\n    }\n    console.debug(\"Bokeh: BokehJS not loaded, scheduling load and callback at\", now());\n    root._bokeh_is_loading = css_urls.length + js_urls.length;\n\n    function on_load() {\n      root._bokeh_is_loading--;\n      if (root._bokeh_is_loading === 0) {\n        console.debug(\"Bokeh: all BokehJS libraries/stylesheets loaded\");\n        run_callbacks()\n      }\n    }\n\n    function on_error() {\n      console.error(\"failed to load \" + url);\n    }\n\n    for (var i = 0; i < css_urls.length; i++) {\n      var url = css_urls[i];\n      const element = document.createElement(\"link\");\n      element.onload = on_load;\n      element.onerror = on_error;\n      element.rel = \"stylesheet\";\n      element.type = \"text/css\";\n      element.href = url;\n      console.debug(\"Bokeh: injecting link tag for BokehJS stylesheet: \", url);\n      document.body.appendChild(element);\n    }\n\n    const hashes = {\"https://cdn.bokeh.org/bokeh/release/bokeh-2.1.1.min.js\": \"kLr4fYcqcSpbuI95brIH3vnnYCquzzSxHPU6XGQCIkQRGJwhg0StNbj1eegrHs12\", \"https://cdn.bokeh.org/bokeh/release/bokeh-widgets-2.1.1.min.js\": \"xIGPmVtaOm+z0BqfSOMn4lOR6ciex448GIKG4eE61LsAvmGj48XcMQZtKcE/UXZe\", \"https://cdn.bokeh.org/bokeh/release/bokeh-tables-2.1.1.min.js\": \"Dc9u1wF/0zApGIWoBbH77iWEHtdmkuYWG839Uzmv8y8yBLXebjO9ZnERsde5Ln/P\", \"https://cdn.bokeh.org/bokeh/release/bokeh-gl-2.1.1.min.js\": \"cT9JaBz7GiRXdENrJLZNSC6eMNF3nh3fa5fTF51Svp+ukxPdwcU5kGXGPBgDCa2j\"};\n\n    for (var i = 0; i < js_urls.length; i++) {\n      var url = js_urls[i];\n      var element = document.createElement('script');\n      element.onload = on_load;\n      element.onerror = on_error;\n      element.async = false;\n      element.src = url;\n      if (url in hashes) {\n        element.crossOrigin = \"anonymous\";\n        element.integrity = \"sha384-\" + hashes[url];\n      }\n      console.debug(\"Bokeh: injecting script tag for BokehJS library: \", url);\n      document.head.appendChild(element);\n    }\n  };\n\n  function inject_raw_css(css) {\n    const element = document.createElement(\"style\");\n    element.appendChild(document.createTextNode(css));\n    document.body.appendChild(element);\n  }\n\n  \n  var js_urls = [\"https://cdn.bokeh.org/bokeh/release/bokeh-2.1.1.min.js\", \"https://cdn.bokeh.org/bokeh/release/bokeh-widgets-2.1.1.min.js\", \"https://cdn.bokeh.org/bokeh/release/bokeh-tables-2.1.1.min.js\", \"https://cdn.bokeh.org/bokeh/release/bokeh-gl-2.1.1.min.js\"];\n  var css_urls = [];\n  \n\n  var inline_js = [\n    function(Bokeh) {\n      Bokeh.set_log_level(\"info\");\n    },\n    function(Bokeh) {\n    \n    \n    }\n  ];\n\n  function run_inline_js() {\n    \n    if (root.Bokeh !== undefined || force === true) {\n      \n    for (var i = 0; i < inline_js.length; i++) {\n      inline_js[i].call(root, root.Bokeh);\n    }\n    if (force === true) {\n        display_loaded();\n      }} else if (Date.now() < root._bokeh_timeout) {\n      setTimeout(run_inline_js, 100);\n    } else if (!root._bokeh_failed_load) {\n      console.log(\"Bokeh: BokehJS failed to load within specified timeout.\");\n      root._bokeh_failed_load = true;\n    } else if (force !== true) {\n      var cell = $(document.getElementById(\"1001\")).parents('.cell').data().cell;\n      cell.output_area.append_execute_result(NB_LOAD_WARNING)\n    }\n\n  }\n\n  if (root._bokeh_is_loading === 0) {\n    console.debug(\"Bokeh: BokehJS loaded, going straight to plotting\");\n    run_inline_js();\n  } else {\n    load_libs(css_urls, js_urls, function() {\n      console.debug(\"Bokeh: BokehJS plotting callback run at\", now());\n      run_inline_js();\n    });\n  }\n}(window));"
     },
     "metadata": {},
     "output_type": "display_data"
    }
   ],
   "source": [
    "from bokeh.plotting import *\n",
    "\n",
    "# Tell bokeh where to output\n",
    "output_notebook()"
   ]
  },
  {
   "cell_type": "markdown",
   "metadata": {},
   "source": [
    "Tenemos un problema con los datos, por la propia naturaleza del problema, hay muchos más casos de documentos original que de plagiados. Si no lo tenemeos en cuenta, dado que el calisificador busca el mayor acierto posible tomará la ruta más fácil que es decir siempre que no se trata de un documento plagiado. Dado que se trata de un prueba de concepto, simplemente recortamos nuestra muestre e introducimos en los datos para el entrenamiento y validación la misma cantidad de entradas de documentos original como plagiados.\n",
    "\n",
    "Otra solución que se podría explorar es la asignación de pesos a los datos."
   ]
  },
  {
   "cell_type": "code",
   "execution_count": 3,
   "metadata": {},
   "outputs": [],
   "source": [
    "# Balance dataframe by undersampling, we assume naively that they should be in equal\n",
    "n = len(df[df['plagiarized'] == 1])\n",
    "data = df[df['plagiarized'] == 1].append(df[df['plagiarized'] == 0].sample(n = n))\n",
    "data.reset_index(inplace = True, drop = True)\n",
    "\n",
    "# Select data to model\n",
    "#features = [\"jaccard\", \"containment\", \"dep\"]\n",
    "X = data.drop([\"src\", \"sus\", \"plagiarized\"], axis=1, errors=\"ignore\")\n",
    "y = data[\"plagiarized\"]"
   ]
  },
  {
   "cell_type": "markdown",
   "metadata": {},
   "source": [
    "A continuación comprobaremos como de bien se desenvuelve un clasificador base con nuestros datos. Para medir esto usaremos el puntuador F1, ya que nos da una buena idea de la precision a la hora de clasificar cada tipo de documento. Para ello, usaremos K-Folds, ya que no tenemos tantos datos como para poder dividirls directamente en test y validación"
   ]
  },
  {
   "cell_type": "code",
   "execution_count": 12,
   "metadata": {
    "scrolled": true
   },
   "outputs": [
    {
     "data": {
      "text/html": [
       "<div>\n",
       "<style scoped>\n",
       "    .dataframe tbody tr th:only-of-type {\n",
       "        vertical-align: middle;\n",
       "    }\n",
       "\n",
       "    .dataframe tbody tr th {\n",
       "        vertical-align: top;\n",
       "    }\n",
       "\n",
       "    .dataframe thead th {\n",
       "        text-align: right;\n",
       "    }\n",
       "</style>\n",
       "<table border=\"1\" class=\"dataframe\">\n",
       "  <thead>\n",
       "    <tr style=\"text-align: right;\">\n",
       "      <th></th>\n",
       "      <th>Avg. non-plagiarized</th>\n",
       "      <th>Avg. plagiarized</th>\n",
       "      <th>Std. non-plagiarized</th>\n",
       "      <th>Std. plagiarized</th>\n",
       "    </tr>\n",
       "    <tr>\n",
       "      <th>Score type</th>\n",
       "      <th></th>\n",
       "      <th></th>\n",
       "      <th></th>\n",
       "      <th></th>\n",
       "    </tr>\n",
       "  </thead>\n",
       "  <tbody>\n",
       "    <tr>\n",
       "      <th>precision</th>\n",
       "      <td>0.673279</td>\n",
       "      <td>0.904592</td>\n",
       "      <td>0.018095</td>\n",
       "      <td>0.039524</td>\n",
       "    </tr>\n",
       "    <tr>\n",
       "      <th>recall</th>\n",
       "      <td>0.941422</td>\n",
       "      <td>0.542130</td>\n",
       "      <td>0.026490</td>\n",
       "      <td>0.032830</td>\n",
       "    </tr>\n",
       "    <tr>\n",
       "      <th>F1</th>\n",
       "      <td>0.784051</td>\n",
       "      <td>0.675200</td>\n",
       "      <td>0.009952</td>\n",
       "      <td>0.023429</td>\n",
       "    </tr>\n",
       "    <tr>\n",
       "      <th>support</th>\n",
       "      <td>137.000000</td>\n",
       "      <td>137.000000</td>\n",
       "      <td>3.806537</td>\n",
       "      <td>3.806537</td>\n",
       "    </tr>\n",
       "  </tbody>\n",
       "</table>\n",
       "</div>"
      ],
      "text/plain": [
       "            Avg. non-plagiarized  Avg. plagiarized  Std. non-plagiarized  \\\n",
       "Score type                                                                 \n",
       "precision               0.673279          0.904592              0.018095   \n",
       "recall                  0.941422          0.542130              0.026490   \n",
       "F1                      0.784051          0.675200              0.009952   \n",
       "support               137.000000        137.000000              3.806537   \n",
       "\n",
       "            Std. plagiarized  \n",
       "Score type                    \n",
       "precision           0.039524  \n",
       "recall              0.032830  \n",
       "F1                  0.023429  \n",
       "support             3.806537  "
      ]
     },
     "execution_count": 12,
     "metadata": {},
     "output_type": "execute_result"
    }
   ],
   "source": [
    "from sklearn import metrics\n",
    "from sklearn.metrics import plot_confusion_matrix\n",
    "from sklearn.tree import DecisionTreeClassifier\n",
    "from sklearn.metrics import precision_recall_fscore_support as score\n",
    "from sklearn.model_selection import KFold\n",
    "from sklearn import svm\n",
    "from sklearn.ensemble import RandomForestClassifier\n",
    "from sklearn.preprocessing import StandardScaler\n",
    "from sklearn.pipeline import make_pipeline\n",
    "from sklearn.svm import SVC\n",
    "import numpy as np\n",
    "\n",
    "def eval_model_table(X, y, clf):\n",
    "    # Make folds of data for cross validation\n",
    "    k_fold = KFold(n_splits = 5, shuffle = True)\n",
    "\n",
    "    results = []\n",
    "    for train, test in k_fold.split(X):\n",
    "        clf.fit(X.iloc[train], y.iloc[train])\n",
    "        sc = score(y.iloc[test], clf.predict(X.iloc[test]), average = None, labels = [0, 1])\n",
    "        results.append(np.stack(sc, axis = 0))\n",
    "\n",
    "    avg_results = sum(results) / len(results)\n",
    "    std_results = [np.abs(x - avg_results)**2 for x in results]\n",
    "    std_results = np.sqrt(sum(std_results) / (len(std_results) * np.sqrt(len(std_results))))\n",
    "    \n",
    "    # Calculation of scores\n",
    "    scores = pd.DataFrame(np.concatenate((avg_results, std_results), axis = 1))\n",
    "    scores.columns = [\"Avg. non-plagiarized\", \"Avg. plagiarized\", \"Std. non-plagiarized\", \"Std. plagiarized\"]\n",
    "    scores.insert(0, \"Score type\", [\"precision\", \"recall\", \"F1\", \"support\"])\n",
    "    scores.set_index(\"Score type\", inplace = True)\n",
    "    \n",
    "    return(scores)\n",
    "\n",
    "# Init classifier, maybe SV could be useful?\n",
    "clf = make_pipeline(StandardScaler(), SVC(gamma='auto'))\n",
    "eval_model_table(X, y, clf)"
   ]
  },
  {
   "cell_type": "markdown",
   "metadata": {},
   "source": [
    "## Optimización de la profundidad máxima del arbol"
   ]
  },
  {
   "cell_type": "code",
   "execution_count": 23,
   "metadata": {},
   "outputs": [
    {
     "data": {
      "text/html": [
       "\n",
       "\n",
       "\n",
       "\n",
       "\n",
       "\n",
       "  <div class=\"bk-root\" id=\"8b891b27-cf14-4206-8441-24d166a65f8a\" data-root-id=\"2568\"></div>\n"
      ]
     },
     "metadata": {},
     "output_type": "display_data"
    },
    {
     "data": {
      "application/javascript": [
       "(function(root) {\n",
       "  function embed_document(root) {\n",
       "    \n",
       "  var docs_json = {\"f1b31a9f-6829-44be-8f78-48f46e4d738b\":{\"roots\":{\"references\":[{\"attributes\":{\"below\":[{\"id\":\"2579\"}],\"center\":[{\"id\":\"2582\"},{\"id\":\"2586\"},{\"id\":\"2614\"}],\"left\":[{\"id\":\"2583\"}],\"renderers\":[{\"id\":\"2604\"},{\"id\":\"2619\"}],\"sizing_mode\":\"stretch_width\",\"title\":{\"id\":\"2569\"},\"toolbar\":{\"id\":\"2594\"},\"x_range\":{\"id\":\"2571\"},\"x_scale\":{\"id\":\"2575\"},\"y_range\":{\"id\":\"2573\"},\"y_scale\":{\"id\":\"2577\"}},\"id\":\"2568\",\"subtype\":\"Figure\",\"type\":\"Plot\"},{\"attributes\":{},\"id\":\"2612\",\"type\":\"UnionRenderers\"},{\"attributes\":{},\"id\":\"2584\",\"type\":\"BasicTicker\"},{\"attributes\":{\"text\":\"F1 score as a function of the maximum depth of the tree\"},\"id\":\"2569\",\"type\":\"Title\"},{\"attributes\":{\"overlay\":{\"id\":\"2593\"}},\"id\":\"2589\",\"type\":\"BoxZoomTool\"},{\"attributes\":{},\"id\":\"2592\",\"type\":\"HelpTool\"},{\"attributes\":{},\"id\":\"2588\",\"type\":\"WheelZoomTool\"},{\"attributes\":{},\"id\":\"2590\",\"type\":\"SaveTool\"},{\"attributes\":{\"bottom_units\":\"screen\",\"fill_alpha\":0.5,\"fill_color\":\"lightgrey\",\"left_units\":\"screen\",\"level\":\"overlay\",\"line_alpha\":1.0,\"line_color\":\"black\",\"line_dash\":[4,4],\"line_width\":2,\"right_units\":\"screen\",\"top_units\":\"screen\"},\"id\":\"2593\",\"type\":\"BoxAnnotation\"},{\"attributes\":{\"label\":{\"value\":\"Plagiarized\"},\"renderers\":[{\"id\":\"2619\"}]},\"id\":\"2631\",\"type\":\"LegendItem\"},{\"attributes\":{\"line_color\":\"orange\",\"x\":{\"field\":\"x\"},\"y\":{\"field\":\"y\"}},\"id\":\"2617\",\"type\":\"Line\"},{\"attributes\":{},\"id\":\"2577\",\"type\":\"LinearScale\"},{\"attributes\":{\"data\":{\"x\":{\"__ndarray__\":\"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\",\"dtype\":\"float64\",\"order\":\"little\",\"shape\":[500]},\"y\":{\"__ndarray__\":\"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\",\"dtype\":\"float64\",\"order\":\"little\",\"shape\":[500]}},\"selected\":{\"id\":\"2628\"},\"selection_policy\":{\"id\":\"2629\"}},\"id\":\"2616\",\"type\":\"ColumnDataSource\"},{\"attributes\":{},\"id\":\"2575\",\"type\":\"LinearScale\"},{\"attributes\":{\"data_source\":{\"id\":\"2601\"},\"glyph\":{\"id\":\"2602\"},\"hover_glyph\":null,\"muted_glyph\":null,\"nonselection_glyph\":{\"id\":\"2603\"},\"selection_glyph\":null,\"view\":{\"id\":\"2605\"}},\"id\":\"2604\",\"type\":\"GlyphRenderer\"},{\"attributes\":{\"line_alpha\":0.1,\"line_color\":\"orange\",\"x\":{\"field\":\"x\"},\"y\":{\"field\":\"y\"}},\"id\":\"2618\",\"type\":\"Line\"},{\"attributes\":{},\"id\":\"2591\",\"type\":\"ResetTool\"},{\"attributes\":{\"source\":{\"id\":\"2616\"}},\"id\":\"2620\",\"type\":\"CDSView\"},{\"attributes\":{},\"id\":\"2607\",\"type\":\"BasicTickFormatter\"},{\"attributes\":{\"data\":{\"x\":{\"__ndarray__\":\"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\",\"dtype\":\"float64\",\"order\":\"little\",\"shape\":[500]},\"y\":{\"__ndarray__\":\"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\",\"dtype\":\"float64\",\"order\":\"little\",\"shape\":[500]}},\"selected\":{\"id\":\"2611\"},\"selection_policy\":{\"id\":\"2612\"}},\"id\":\"2601\",\"type\":\"ColumnDataSource\"},{\"attributes\":{\"data_source\":{\"id\":\"2616\"},\"glyph\":{\"id\":\"2617\"},\"hover_glyph\":null,\"muted_glyph\":null,\"nonselection_glyph\":{\"id\":\"2618\"},\"selection_glyph\":null,\"view\":{\"id\":\"2620\"}},\"id\":\"2619\",\"type\":\"GlyphRenderer\"},{\"attributes\":{\"active_drag\":\"auto\",\"active_inspect\":\"auto\",\"active_multi\":null,\"active_scroll\":\"auto\",\"active_tap\":\"auto\",\"tools\":[{\"id\":\"2587\"},{\"id\":\"2588\"},{\"id\":\"2589\"},{\"id\":\"2590\"},{\"id\":\"2591\"},{\"id\":\"2592\"}]},\"id\":\"2594\",\"type\":\"Toolbar\"},{\"attributes\":{\"axis_label\":\"Depth\",\"formatter\":{\"id\":\"2607\"},\"ticker\":{\"id\":\"2580\"}},\"id\":\"2579\",\"type\":\"LinearAxis\"},{\"attributes\":{},\"id\":\"2571\",\"type\":\"DataRange1d\"},{\"attributes\":{\"axis_label\":\"F1\",\"formatter\":{\"id\":\"2609\"},\"ticker\":{\"id\":\"2584\"}},\"id\":\"2583\",\"type\":\"LinearAxis\"},{\"attributes\":{},\"id\":\"2609\",\"type\":\"BasicTickFormatter\"},{\"attributes\":{},\"id\":\"2611\",\"type\":\"Selection\"},{\"attributes\":{},\"id\":\"2629\",\"type\":\"UnionRenderers\"},{\"attributes\":{\"line_color\":\"steelblue\",\"x\":{\"field\":\"x\"},\"y\":{\"field\":\"y\"}},\"id\":\"2602\",\"type\":\"Line\"},{\"attributes\":{\"axis\":{\"id\":\"2583\"},\"dimension\":1,\"ticker\":null},\"id\":\"2586\",\"type\":\"Grid\"},{\"attributes\":{},\"id\":\"2573\",\"type\":\"DataRange1d\"},{\"attributes\":{\"label\":{\"value\":\"Non-plagiarized\"},\"renderers\":[{\"id\":\"2604\"}]},\"id\":\"2615\",\"type\":\"LegendItem\"},{\"attributes\":{},\"id\":\"2587\",\"type\":\"PanTool\"},{\"attributes\":{\"source\":{\"id\":\"2601\"}},\"id\":\"2605\",\"type\":\"CDSView\"},{\"attributes\":{},\"id\":\"2628\",\"type\":\"Selection\"},{\"attributes\":{\"items\":[{\"id\":\"2615\"},{\"id\":\"2631\"}]},\"id\":\"2614\",\"type\":\"Legend\"},{\"attributes\":{\"axis\":{\"id\":\"2579\"},\"ticker\":null},\"id\":\"2582\",\"type\":\"Grid\"},{\"attributes\":{\"line_alpha\":0.1,\"line_color\":\"steelblue\",\"x\":{\"field\":\"x\"},\"y\":{\"field\":\"y\"}},\"id\":\"2603\",\"type\":\"Line\"},{\"attributes\":{},\"id\":\"2580\",\"type\":\"BasicTicker\"}],\"root_ids\":[\"2568\"]},\"title\":\"Bokeh Application\",\"version\":\"2.1.1\"}};\n",
       "  var render_items = [{\"docid\":\"f1b31a9f-6829-44be-8f78-48f46e4d738b\",\"root_ids\":[\"2568\"],\"roots\":{\"2568\":\"8b891b27-cf14-4206-8441-24d166a65f8a\"}}];\n",
       "  root.Bokeh.embed.embed_items_notebook(docs_json, render_items);\n",
       "\n",
       "  }\n",
       "  if (root.Bokeh !== undefined) {\n",
       "    embed_document(root);\n",
       "  } else {\n",
       "    var attempts = 0;\n",
       "    var timer = setInterval(function(root) {\n",
       "      if (root.Bokeh !== undefined) {\n",
       "        clearInterval(timer);\n",
       "        embed_document(root);\n",
       "      } else {\n",
       "        attempts++;\n",
       "        if (attempts > 100) {\n",
       "          clearInterval(timer);\n",
       "          console.log(\"Bokeh: ERROR: Unable to run BokehJS code because BokehJS library is missing\");\n",
       "        }\n",
       "      }\n",
       "    }, 10, root)\n",
       "  }\n",
       "})(window);"
      ],
      "application/vnd.bokehjs_exec.v0+json": ""
     },
     "metadata": {
      "application/vnd.bokehjs_exec.v0+json": {
       "id": "2568"
      }
     },
     "output_type": "display_data"
    }
   ],
   "source": [
    "# Lets try to optimize max_depth\n",
    "from sklearn.metrics import f1_score\n",
    "from statsmodels.nonparametric.smoothers_lowess import lowess\n",
    "\n",
    "\n",
    "def calc_F1_depth(c):\n",
    "    clf = make_pipeline(StandardScaler(), SVC(gamma='auto', C = c))\n",
    "\n",
    "    # Make folds of data for cross validation\n",
    "    k_fold = KFold(n_splits = 5, shuffle = True)\n",
    "\n",
    "    results = []\n",
    "    for train, test in k_fold.split(X):\n",
    "        clf.fit(X.iloc[train], y.iloc[train])\n",
    "        results.append(f1_score(y.iloc[test], clf.predict(X.iloc[test]), average = None))\n",
    "    \n",
    "    return sum(results) / len(results)\n",
    "        \n",
    "depth = np.arange(0.1, 500, 1)\n",
    "F1 = np.stack(list(map(calc_F1_depth, depth.tolist())), axis = 0)\n",
    "\n",
    "depth_plot = figure(title = \"F1 score as a function of the maximum depth of the tree\",\n",
    "                   x_axis_label = \"Depth\",\n",
    "                   y_axis_label = \"F1\",\n",
    "                   sizing_mode = \"stretch_width\")\n",
    "\n",
    "depth_plot.line(depth, F1[:, 0], legend_label = \"Non-plagiarized\", line_color = \"steelblue\")\n",
    "depth_plot.line(depth, F1[:, 1], legend_label = \"Plagiarized\", line_color = \"orange\")\n",
    "show(depth_plot)\n"
   ]
  },
  {
   "cell_type": "code",
   "execution_count": 27,
   "metadata": {},
   "outputs": [
    {
     "data": {
      "text/html": [
       "\n",
       "\n",
       "\n",
       "\n",
       "\n",
       "\n",
       "  <div class=\"bk-root\" id=\"b8cfaf5c-180c-48dc-9638-c38ec5efb59c\" data-root-id=\"3026\"></div>\n"
      ]
     },
     "metadata": {},
     "output_type": "display_data"
    },
    {
     "data": {
      "application/javascript": [
       "(function(root) {\n",
       "  function embed_document(root) {\n",
       "    \n",
       "  var docs_json = {\"02cc6443-2365-4c4e-9815-06a24ff6151c\":{\"roots\":{\"references\":[{\"attributes\":{\"below\":[{\"id\":\"3037\"}],\"center\":[{\"id\":\"3040\"},{\"id\":\"3044\"},{\"id\":\"3072\"}],\"left\":[{\"id\":\"3041\"}],\"renderers\":[{\"id\":\"3062\"},{\"id\":\"3077\"}],\"sizing_mode\":\"stretch_width\",\"title\":{\"id\":\"3027\"},\"toolbar\":{\"id\":\"3052\"},\"x_range\":{\"id\":\"3029\"},\"x_scale\":{\"id\":\"3033\"},\"y_range\":{\"id\":\"3031\"},\"y_scale\":{\"id\":\"3035\"}},\"id\":\"3026\",\"subtype\":\"Figure\",\"type\":\"Plot\"},{\"attributes\":{\"label\":{\"value\":\"Plagiarized\"},\"renderers\":[{\"id\":\"3077\"}]},\"id\":\"3089\",\"type\":\"LegendItem\"},{\"attributes\":{\"line_color\":\"orange\",\"x\":{\"field\":\"x\"},\"y\":{\"field\":\"y\"}},\"id\":\"3075\",\"type\":\"Line\"},{\"attributes\":{\"data\":{\"x\":{\"__ndarray__\":\"exSuR+F6hD97FK5H4XqUP7gehetRuJ4/exSuR+F6pD+amZmZmZmpP7kehetRuK4/61G4HoXrsT97FK5H4Xq0PwrXo3A9Crc/mZmZmZmZuT8pXI/C9Si8P7gehetRuL4/pHA9CtejwD/sUbgehevBPzQzMzMzM8M/exSuR+F6xD/D9Shcj8LFPwvXo3A9Csc/UrgehetRyD+amZmZmZnJP+J6FK5H4co/KVyPwvUozD9xPQrXo3DNP7kehetRuM4/AAAAAAAA0D+kcD0K16PQP0jhehSuR9E/7FG4HoXr0T+QwvUoXI/SPzMzMzMzM9M/16NwPQrX0z97FK5H4XrUPx+F61G4HtU/w/UoXI/C1T9nZmZmZmbWPwvXo3A9Ctc/rkfhehSu1z9SuB6F61HYP/YoXI/C9dg/mpmZmZmZ2T8+CtejcD3aP+J6FK5H4do/hetRuB6F2z8pXI/C9SjcP83MzMzMzNw/cT0K16Nw3T8VrkfhehTeP7kehetRuN4/XI/C9Shc3z8AAAAAAADgP1K4HoXrUeA/pHA9Ctej4D/2KFyPwvXgP0jhehSuR+E/mpmZmZmZ4T/sUbgehevhPz4K16NwPeI/kML1KFyP4j/hehSuR+HiPzMzMzMzM+M/hetRuB6F4z/Xo3A9CtfjPylcj8L1KOQ/exSuR+F65D/NzMzMzMzkPx+F61G4HuU/cT0K16Nw5T/D9Shcj8LlPxWuR+F6FOY/Z2ZmZmZm5j+5HoXrUbjmPwrXo3A9Cuc/XI/C9Shc5z+uR+F6FK7nPwAAAAAAAOg/UrgehetR6D+kcD0K16PoP/YoXI/C9eg/SOF6FK5H6T+amZmZmZnpP+xRuB6F6+k/PgrXo3A96j+QwvUoXI/qP+J6FK5H4eo/MzMzMzMz6z+F61G4HoXrP9ejcD0K1+s/KVyPwvUo7D97FK5H4XrsP83MzMzMzOw/H4XrUbge7T9xPQrXo3DtP8P1KFyPwu0/Fa5H4XoU7j9nZmZmZmbuP7kehetRuO4/CtejcD0K7z9cj8L1KFzvP65H4XoUru8/\",\"dtype\":\"float64\",\"order\":\"little\",\"shape\":[99]},\"y\":{\"__ndarray__\":\"UPBKclE14j98PYVD+PLiP726WVCI8eI/mC44K9SG4j9wHyKE7BTjP64MQYwJWuM/5qxSsV1p4z9g+nwheszjPwpnQxWeYuQ/YV3a2YkV5D+a/ZleQbPkP2USIwWbluQ/jG1H+U3K5D+SORdVRhvlP5xTmlNN/+Q/2/FBy2oa5T9Nx/GO6gnlP6UgNtm50uQ/eSUXVZpT5T/+z8Th4QXlP6DFLkvPi+U/Go65zDoX5T9u51CNy1blP27mt/EXPeU/6JA0i7aU5T8QVufin1XlP/1suJlhWuU/CJMxYzfM5T/ioNTFPHPlP0aA50ib/OU/vGMisyC15T/Cb6i/X7rlP9o9LTA4aeU/3kHozPHU5T/n5n9iMuXlPyZ5kyJhruU/m6I0qCTc5T/CXevSc+7lP9NHhUoZ8eU/5jYOWJQi5j/DIRHa0krmPwZiZNd5tOU/sqFBkbY15j+mY3asZeTlP6g0lEKQ2+U/OuQB6Mrh5T9iKXb542LmPyYPVDQlSOY/piW+j6D95T9OHxlrdk/mPx7+BZ4gOeY/MfjBkOuA5j8RRJzzSiPmP6Xd9x+yW+Y/rRk0hgFI5j+ejxrUi3DmP73jSF/kteY/U2o1YOEN5j+8wfwBNhnmPzmk/+WzqOY/MsRlXEVv5j/B0oxHoJPmP5Snu4nFheY/4x1sDNs65j8PfoutXvzlP6YmErcdfOY/ltn2YERR5j+6MpgSOc7mP11l6mU8auY/SqYIxyGO5j/BmRW39GDmP7eweNKTLOY/Ul229HR25j+KVPmlgnzmP5B1KDCiguY/w9WT3llp5j/rbjP+xG/mP8LEVb6mneY/Qu4X5CJW5j9h+i66gYHmPz8h7tV7ROY/ouMWqC9d5j8mHywr3XfmPwIujxRh0uY/1Y3Cd+yb5j+zgJCfzvLmPxERcvMUbOY/DJAaknjc5j90ASU0qpDmP5yANjIKweY/gM4JnkLK5j8AoJ6hypjmP9qzy0dQ9OY/Oj3M65vD5j+fJKMEQN/mP7BNmKWd3uY/WifTKnm/5j8sOJY3rq/mP3qtcHALBuc/\",\"dtype\":\"float64\",\"order\":\"little\",\"shape\":[99]}},\"selected\":{\"id\":\"3086\"},\"selection_policy\":{\"id\":\"3087\"}},\"id\":\"3074\",\"type\":\"ColumnDataSource\"},{\"attributes\":{\"axis\":{\"id\":\"3037\"},\"ticker\":null},\"id\":\"3040\",\"type\":\"Grid\"},{\"attributes\":{\"line_alpha\":0.1,\"line_color\":\"orange\",\"x\":{\"field\":\"x\"},\"y\":{\"field\":\"y\"}},\"id\":\"3076\",\"type\":\"Line\"},{\"attributes\":{\"active_drag\":\"auto\",\"active_inspect\":\"auto\",\"active_multi\":null,\"active_scroll\":\"auto\",\"active_tap\":\"auto\",\"tools\":[{\"id\":\"3045\"},{\"id\":\"3046\"},{\"id\":\"3047\"},{\"id\":\"3048\"},{\"id\":\"3049\"},{\"id\":\"3050\"}]},\"id\":\"3052\",\"type\":\"Toolbar\"},{\"attributes\":{\"axis_label\":\"Depth\",\"formatter\":{\"id\":\"3065\"},\"ticker\":{\"id\":\"3038\"}},\"id\":\"3037\",\"type\":\"LinearAxis\"},{\"attributes\":{\"source\":{\"id\":\"3074\"}},\"id\":\"3078\",\"type\":\"CDSView\"},{\"attributes\":{},\"id\":\"3050\",\"type\":\"HelpTool\"},{\"attributes\":{},\"id\":\"3065\",\"type\":\"BasicTickFormatter\"},{\"attributes\":{\"text\":\"F1 score as a function of the maximum depth of the tree\"},\"id\":\"3027\",\"type\":\"Title\"},{\"attributes\":{\"overlay\":{\"id\":\"3051\"}},\"id\":\"3047\",\"type\":\"BoxZoomTool\"},{\"attributes\":{},\"id\":\"3038\",\"type\":\"BasicTicker\"},{\"attributes\":{},\"id\":\"3067\",\"type\":\"BasicTickFormatter\"},{\"attributes\":{\"line_color\":\"steelblue\",\"x\":{\"field\":\"x\"},\"y\":{\"field\":\"y\"}},\"id\":\"3060\",\"type\":\"Line\"},{\"attributes\":{},\"id\":\"3033\",\"type\":\"LinearScale\"},{\"attributes\":{\"axis\":{\"id\":\"3041\"},\"dimension\":1,\"ticker\":null},\"id\":\"3044\",\"type\":\"Grid\"},{\"attributes\":{\"bottom_units\":\"screen\",\"fill_alpha\":0.5,\"fill_color\":\"lightgrey\",\"left_units\":\"screen\",\"level\":\"overlay\",\"line_alpha\":1.0,\"line_color\":\"black\",\"line_dash\":[4,4],\"line_width\":2,\"right_units\":\"screen\",\"top_units\":\"screen\"},\"id\":\"3051\",\"type\":\"BoxAnnotation\"},{\"attributes\":{},\"id\":\"3031\",\"type\":\"DataRange1d\"},{\"attributes\":{\"axis_label\":\"F1\",\"formatter\":{\"id\":\"3067\"},\"ticker\":{\"id\":\"3042\"}},\"id\":\"3041\",\"type\":\"LinearAxis\"},{\"attributes\":{\"source\":{\"id\":\"3059\"}},\"id\":\"3063\",\"type\":\"CDSView\"},{\"attributes\":{\"items\":[{\"id\":\"3073\"},{\"id\":\"3089\"}]},\"id\":\"3072\",\"type\":\"Legend\"},{\"attributes\":{\"line_alpha\":0.1,\"line_color\":\"steelblue\",\"x\":{\"field\":\"x\"},\"y\":{\"field\":\"y\"}},\"id\":\"3061\",\"type\":\"Line\"},{\"attributes\":{},\"id\":\"3045\",\"type\":\"PanTool\"},{\"attributes\":{},\"id\":\"3069\",\"type\":\"Selection\"},{\"attributes\":{},\"id\":\"3086\",\"type\":\"Selection\"},{\"attributes\":{},\"id\":\"3087\",\"type\":\"UnionRenderers\"},{\"attributes\":{},\"id\":\"3035\",\"type\":\"LinearScale\"},{\"attributes\":{},\"id\":\"3042\",\"type\":\"BasicTicker\"},{\"attributes\":{},\"id\":\"3070\",\"type\":\"UnionRenderers\"},{\"attributes\":{},\"id\":\"3046\",\"type\":\"WheelZoomTool\"},{\"attributes\":{},\"id\":\"3048\",\"type\":\"SaveTool\"},{\"attributes\":{\"data_source\":{\"id\":\"3074\"},\"glyph\":{\"id\":\"3075\"},\"hover_glyph\":null,\"muted_glyph\":null,\"nonselection_glyph\":{\"id\":\"3076\"},\"selection_glyph\":null,\"view\":{\"id\":\"3078\"}},\"id\":\"3077\",\"type\":\"GlyphRenderer\"},{\"attributes\":{},\"id\":\"3049\",\"type\":\"ResetTool\"},{\"attributes\":{},\"id\":\"3029\",\"type\":\"DataRange1d\"},{\"attributes\":{\"data_source\":{\"id\":\"3059\"},\"glyph\":{\"id\":\"3060\"},\"hover_glyph\":null,\"muted_glyph\":null,\"nonselection_glyph\":{\"id\":\"3061\"},\"selection_glyph\":null,\"view\":{\"id\":\"3063\"}},\"id\":\"3062\",\"type\":\"GlyphRenderer\"},{\"attributes\":{\"data\":{\"x\":{\"__ndarray__\":\"exSuR+F6hD97FK5H4XqUP7gehetRuJ4/exSuR+F6pD+amZmZmZmpP7kehetRuK4/61G4HoXrsT97FK5H4Xq0PwrXo3A9Crc/mZmZmZmZuT8pXI/C9Si8P7gehetRuL4/pHA9CtejwD/sUbgehevBPzQzMzMzM8M/exSuR+F6xD/D9Shcj8LFPwvXo3A9Csc/UrgehetRyD+amZmZmZnJP+J6FK5H4co/KVyPwvUozD9xPQrXo3DNP7kehetRuM4/AAAAAAAA0D+kcD0K16PQP0jhehSuR9E/7FG4HoXr0T+QwvUoXI/SPzMzMzMzM9M/16NwPQrX0z97FK5H4XrUPx+F61G4HtU/w/UoXI/C1T9nZmZmZmbWPwvXo3A9Ctc/rkfhehSu1z9SuB6F61HYP/YoXI/C9dg/mpmZmZmZ2T8+CtejcD3aP+J6FK5H4do/hetRuB6F2z8pXI/C9SjcP83MzMzMzNw/cT0K16Nw3T8VrkfhehTeP7kehetRuN4/XI/C9Shc3z8AAAAAAADgP1K4HoXrUeA/pHA9Ctej4D/2KFyPwvXgP0jhehSuR+E/mpmZmZmZ4T/sUbgehevhPz4K16NwPeI/kML1KFyP4j/hehSuR+HiPzMzMzMzM+M/hetRuB6F4z/Xo3A9CtfjPylcj8L1KOQ/exSuR+F65D/NzMzMzMzkPx+F61G4HuU/cT0K16Nw5T/D9Shcj8LlPxWuR+F6FOY/Z2ZmZmZm5j+5HoXrUbjmPwrXo3A9Cuc/XI/C9Shc5z+uR+F6FK7nPwAAAAAAAOg/UrgehetR6D+kcD0K16PoP/YoXI/C9eg/SOF6FK5H6T+amZmZmZnpP+xRuB6F6+k/PgrXo3A96j+QwvUoXI/qP+J6FK5H4eo/MzMzMzMz6z+F61G4HoXrP9ejcD0K1+s/KVyPwvUo7D97FK5H4XrsP83MzMzMzOw/H4XrUbge7T9xPQrXo3DtP8P1KFyPwu0/Fa5H4XoU7j9nZmZmZmbuP7kehetRuO4/CtejcD0K7z9cj8L1KFzvP65H4XoUru8/\",\"dtype\":\"float64\",\"order\":\"little\",\"shape\":[99]},\"y\":{\"__ndarray__\":\"zGZ3I4pC5z9ArNbHHKrnP7sVT4Pi7ec/Nf0t63/b5z/2kkgYUwzoP0Qx5bFgHOg/YTNPqfQi6D+TxeH0uyToP8eOr9XxXOg/DQNK9F5D6D/1/Y6NKI/oP9j60/DScug/ccWS+Eyb6D/GsgHk4qfoP7zOQRV+1ug/SgOu+Qm66D+6ZrUoR7roP0X/iM3Eoeg/801EwYHI6D/lqssOfafoP2egSNTwAOk/OFN7swvD6D8CgLn3yunoP5r1O6bL2ug/1i7Y7Jz36D8eDQ2jvOToP1kQr2rg8+g/2bvJ6aAv6T8nLjj0ye7oPxQem4wyWek/gz+eXA4c6T/uzbknbjfpP+KEF6GH3Og/XmssRN7l6D+8eyUQP0DpP9YTd7XjDek/DP4AMgMY6T9y4tEzukDpP3BHduMJKOk/iOiGWGtc6T923F7IcHDpP9tgeVLd/ug/j3TpwNNU6T+0sGSAgSfpP32vabM1LOk/jeNOXWsQ6T9wajk3223pPx0FlBGXVek/aMtb0yIR6T+V3xk4UmzpP5TyEvDIOuk/AbWTDgd66T9h/WNoolLpPzANdh9eRuk/y4kEYN5S6T98U0lPc27pP/0+frNdpek/GnXTLnQA6T9oNr2u/y3pP2DCZuf1kek/CNjIHhxT6T9EGWFRy4LpP6kTa/xLeOk/IvvMqZBG6T8L42WV3QnpPwyvXx5naOk/UxK3F4KF6T/LsYNkBMLpP2DleTv/Vek/hKuuSsaL6T++y0OANB3pPxr+uGPNJuk/tvRCYjJ06T9ZxVxNyVTpP+IA07o3lek/vvQJVU9X6T86RavjGGbpP7IS7IZ2juk//YWLAX4E6T9+zjKXpkTpP+DRf2ykL+k/a40iacYe6T9WgC5zXlvpP30pF65exek/SZtGf3xo6T+RVguubZjpP/iqyRB/Ruk/wNIB0xJ+6T+gExg9E33pPwdNp4cfZuk/Qt7ylHR86T9S9mu3PkLpPxgcJbasc+k/QfJl7oeE6T8uvqQEioHpP3M23aytlek/o3zaft5c6T9FQ4+GZKnpPx1ELY45sek/\",\"dtype\":\"float64\",\"order\":\"little\",\"shape\":[99]}},\"selected\":{\"id\":\"3069\"},\"selection_policy\":{\"id\":\"3070\"}},\"id\":\"3059\",\"type\":\"ColumnDataSource\"},{\"attributes\":{\"label\":{\"value\":\"Non-plagiarized\"},\"renderers\":[{\"id\":\"3062\"}]},\"id\":\"3073\",\"type\":\"LegendItem\"}],\"root_ids\":[\"3026\"]},\"title\":\"Bokeh Application\",\"version\":\"2.1.1\"}};\n",
       "  var render_items = [{\"docid\":\"02cc6443-2365-4c4e-9815-06a24ff6151c\",\"root_ids\":[\"3026\"],\"roots\":{\"3026\":\"b8cfaf5c-180c-48dc-9638-c38ec5efb59c\"}}];\n",
       "  root.Bokeh.embed.embed_items_notebook(docs_json, render_items);\n",
       "\n",
       "  }\n",
       "  if (root.Bokeh !== undefined) {\n",
       "    embed_document(root);\n",
       "  } else {\n",
       "    var attempts = 0;\n",
       "    var timer = setInterval(function(root) {\n",
       "      if (root.Bokeh !== undefined) {\n",
       "        clearInterval(timer);\n",
       "        embed_document(root);\n",
       "      } else {\n",
       "        attempts++;\n",
       "        if (attempts > 100) {\n",
       "          clearInterval(timer);\n",
       "          console.log(\"Bokeh: ERROR: Unable to run BokehJS code because BokehJS library is missing\");\n",
       "        }\n",
       "      }\n",
       "    }, 10, root)\n",
       "  }\n",
       "})(window);"
      ],
      "application/vnd.bokehjs_exec.v0+json": ""
     },
     "metadata": {
      "application/vnd.bokehjs_exec.v0+json": {
       "id": "3026"
      }
     },
     "output_type": "display_data"
    }
   ],
   "source": [
    "# Lets try to optimize max_depth\n",
    "from sklearn.metrics import f1_score\n",
    "from statsmodels.nonparametric.smoothers_lowess import lowess\n",
    "\n",
    "\n",
    "def calc_F1_depth(g):\n",
    "    clf = make_pipeline(StandardScaler(), SVC(gamma=g))\n",
    "\n",
    "    # Make folds of data for cross validation\n",
    "    k_fold = KFold(n_splits = 5, shuffle = True)\n",
    "\n",
    "    results = []\n",
    "    for train, test in k_fold.split(X):\n",
    "        clf.fit(X.iloc[train], y.iloc[train])\n",
    "        results.append(f1_score(y.iloc[test], clf.predict(X.iloc[test]), average = None))\n",
    "    \n",
    "    return sum(results) / len(results)\n",
    "        \n",
    "depth = np.arange(0.01, 1, 0.01)\n",
    "F1 = np.stack(list(map(calc_F1_depth, depth.tolist())), axis = 0)\n",
    "\n",
    "depth_plot = figure(title = \"F1 score as a function of the maximum depth of the tree\",\n",
    "                   x_axis_label = \"Depth\",\n",
    "                   y_axis_label = \"F1\",\n",
    "                   sizing_mode = \"stretch_width\")\n",
    "\n",
    "depth_plot.line(depth, F1[:, 0], legend_label = \"Non-plagiarized\", line_color = \"steelblue\")\n",
    "depth_plot.line(depth, F1[:, 1], legend_label = \"Plagiarized\", line_color = \"orange\")\n",
    "show(depth_plot)"
   ]
  },
  {
   "cell_type": "markdown",
   "metadata": {},
   "source": [
    "Como podemos ver, aunque localmente el resultado varie considerablemente, llega un momento donde oscila en torno al mismo valor. Dejaremos que el propio clasificador use el numero de niveles que la haga falta."
   ]
  },
  {
   "cell_type": "markdown",
   "metadata": {},
   "source": [
    "## Optimización de la proporcion de datos"
   ]
  },
  {
   "cell_type": "markdown",
   "metadata": {},
   "source": [
    "Como hemos dicho antes, nuestros datos no estan balanceados. Lo que haremos a continuación es estudiar el impacto de tener más o menos datos de casos que no son plagia en relación a los que si lo son."
   ]
  },
  {
   "cell_type": "code",
   "execution_count": 6,
   "metadata": {},
   "outputs": [
    {
     "data": {
      "text/html": [
       "\n",
       "\n",
       "\n",
       "\n",
       "\n",
       "\n",
       "  <div class=\"bk-root\" id=\"84d0fac7-bb6d-4552-b3bb-6aeb68852524\" data-root-id=\"1289\"></div>\n"
      ]
     },
     "metadata": {},
     "output_type": "display_data"
    },
    {
     "data": {
      "application/javascript": [
       "(function(root) {\n",
       "  function embed_document(root) {\n",
       "    \n",
       "  var docs_json = {\"63e57807-b1d2-4290-abfe-2491e76a2cbf\":{\"roots\":{\"references\":[{\"attributes\":{\"children\":[{\"id\":\"1288\"},{\"id\":\"1286\"}],\"sizing_mode\":\"scale_both\"},\"id\":\"1289\",\"type\":\"Column\"},{\"attributes\":{\"below\":[{\"id\":\"1211\"}],\"center\":[{\"id\":\"1214\"},{\"id\":\"1218\"},{\"id\":\"1246\"}],\"left\":[{\"id\":\"1215\"}],\"renderers\":[{\"id\":\"1236\"},{\"id\":\"1251\"}],\"sizing_mode\":\"scale_both\",\"title\":{\"id\":\"1201\"},\"toolbar\":{\"id\":\"1226\"},\"toolbar_location\":null,\"x_range\":{\"id\":\"1203\"},\"x_scale\":{\"id\":\"1207\"},\"y_range\":{\"id\":\"1205\"},\"y_scale\":{\"id\":\"1209\"}},\"id\":\"1200\",\"subtype\":\"Figure\",\"type\":\"Plot\"},{\"attributes\":{\"data\":{\"x\":{\"__ndarray__\":\"mpmZmZmZ6T8p1eRxZwnrP7gQMEo1eew/SEx7IgPp7T/Xh8b60FjvP7PhiGlPZPA/en+uVTYc8T9CHdRBHdTxPwq7+S0EjPI/0VgfGutD8z+Z9kQG0vvzP2CUavK4s/Q/KDKQ3p9r9T/wz7XKhiP2P7ht27Zt2/Y/fwsBo1ST9z9GqSaPO0v4Pw5HTHsiA/k/1uRxZwm7+T+egpdT8HL6P2UgvT/XKvs/LL7iK77i+z/0WwgYpZr8P7z5LQSMUv0/g5dT8HIK/j9LNXncWcL+PxLTnshAev8/bThi2hMZAEBRB3VQB3UAQDTWh8b60ABAGKWaPO4sAUD8c62y4YgBQOBCwCjV5AFAxBHTnshAAkCo4OUUvJwCQIyv+Iqv+AJAb34LAaNUA0BTTR53lrADQDccMe2JDARAGutDY31oBED+uVbZcMQEQOKIaU9kIAVAxld8xVd8BUCqJo87S9gFQI71obE+NAZAcsS0JzKQBkBWk8edJewGQDhi2hMZSAdAHDHtiQykB0AAAAAAAAAIQA==\",\"dtype\":\"float64\",\"order\":\"little\",\"shape\":[50]},\"y\":{\"__ndarray__\":\"XqPCzlhh6D/9DVOnspDoP6i+SnbVYeg/in8Q5azs6D+HEQl2DM3oP1On5JDZMuk/YnceJ9Tg6T+VKJnorCjpP5I6x+Q16Ok/2BnsP4//6T96ptDYoIvpP9DKDANzKOo/silVwrH56T9Qmj2DWVjqP965itBBzeo/Bie+sk7s6j+Dqh+RlVvrP056K6DmHOs/s42rFrsp6z9ISVx0kPnqP9PBn1Z2IOs/yuJden7b6j8mtjeWmj/rP9YKd4hU+uo/qoiK7+FT6z+4WUj4ub3rP1uTTtWfnus/w+syP3Ot6z8OA+1PLPDrP5YL8+Mnkes/Y6PmDlK26z8rGy2pmQXsP2sirZ8N8Os/mgrd4HXY6z8eh9WW96TrPy1cMAp98+s/tfJeUOha7D8zQdj+CubrP7MYq0mKIew/6Pet+Pd47D+eWymtYg7sPy7OMg2dJ+w/M23OMpt97D8AFM1nB2TsPxYNw/3qWew/mwX/5VVt7D9eRw43TF3sP9r8BWGJluw/tl7c1+/G7D8gfYfTnLPsPw==\",\"dtype\":\"float64\",\"order\":\"little\",\"shape\":[50]}},\"selected\":{\"id\":\"1179\"},\"selection_policy\":{\"id\":\"1180\"}},\"id\":\"1169\",\"type\":\"ColumnDataSource\"},{\"attributes\":{\"data_source\":{\"id\":\"1184\"},\"glyph\":{\"id\":\"1185\"},\"hover_glyph\":null,\"muted_glyph\":null,\"nonselection_glyph\":{\"id\":\"1186\"},\"selection_glyph\":null,\"view\":{\"id\":\"1188\"}},\"id\":\"1187\",\"type\":\"GlyphRenderer\"},{\"attributes\":{\"text\":\"F1 score as a function of the proportion of texts in the data\"},\"id\":\"1137\",\"type\":\"Title\"},{\"attributes\":{},\"id\":\"1141\",\"type\":\"DataRange1d\"},{\"attributes\":{\"source\":{\"id\":\"1169\"}},\"id\":\"1173\",\"type\":\"CDSView\"},{\"attributes\":{\"line_alpha\":0.1,\"line_color\":\"steelblue\",\"x\":{\"field\":\"x\"},\"y\":{\"field\":\"y\"}},\"id\":\"1235\",\"type\":\"Line\"},{\"attributes\":{\"data_source\":{\"id\":\"1169\"},\"glyph\":{\"id\":\"1170\"},\"hover_glyph\":null,\"muted_glyph\":null,\"nonselection_glyph\":{\"id\":\"1171\"},\"selection_glyph\":null,\"view\":{\"id\":\"1173\"}},\"id\":\"1172\",\"type\":\"GlyphRenderer\"},{\"attributes\":{},\"id\":\"1139\",\"type\":\"DataRange1d\"},{\"attributes\":{\"items\":[{\"id\":\"1247\"},{\"id\":\"1263\"}]},\"id\":\"1246\",\"type\":\"Legend\"},{\"attributes\":{\"line_color\":\"steelblue\",\"x\":{\"field\":\"x\"},\"y\":{\"field\":\"y\"}},\"id\":\"1234\",\"type\":\"Line\"},{\"attributes\":{\"label\":{\"value\":\"Non-plagiarized\"},\"renderers\":[{\"id\":\"1236\"}]},\"id\":\"1247\",\"type\":\"LegendItem\"},{\"attributes\":{\"source\":{\"id\":\"1233\"}},\"id\":\"1237\",\"type\":\"CDSView\"},{\"attributes\":{\"items\":[{\"id\":\"1183\"},{\"id\":\"1199\"}]},\"id\":\"1182\",\"type\":\"Legend\"},{\"attributes\":{\"line_alpha\":0.1,\"line_color\":\"steelblue\",\"x\":{\"field\":\"x\"},\"y\":{\"field\":\"y\"}},\"id\":\"1171\",\"type\":\"Line\"},{\"attributes\":{\"bottom_units\":\"screen\",\"fill_alpha\":0.5,\"fill_color\":\"lightgrey\",\"left_units\":\"screen\",\"level\":\"overlay\",\"line_alpha\":1.0,\"line_color\":\"black\",\"line_dash\":[4,4],\"line_width\":2,\"right_units\":\"screen\",\"top_units\":\"screen\"},\"id\":\"1161\",\"type\":\"BoxAnnotation\"},{\"attributes\":{\"active_drag\":\"auto\",\"active_inspect\":\"auto\",\"active_multi\":null,\"active_scroll\":\"auto\",\"active_tap\":\"auto\",\"tools\":[{\"id\":\"1155\"},{\"id\":\"1156\"},{\"id\":\"1157\"},{\"id\":\"1158\"},{\"id\":\"1159\"},{\"id\":\"1160\"}]},\"id\":\"1162\",\"type\":\"Toolbar\"},{\"attributes\":{\"label\":{\"value\":\"Non-plagiarized\"},\"renderers\":[{\"id\":\"1172\"}]},\"id\":\"1183\",\"type\":\"LegendItem\"},{\"attributes\":{},\"id\":\"1243\",\"type\":\"Selection\"},{\"attributes\":{\"line_color\":\"steelblue\",\"x\":{\"field\":\"x\"},\"y\":{\"field\":\"y\"}},\"id\":\"1170\",\"type\":\"Line\"},{\"attributes\":{},\"id\":\"1240\",\"type\":\"BasicTickFormatter\"},{\"attributes\":{},\"id\":\"1242\",\"type\":\"BasicTickFormatter\"},{\"attributes\":{\"below\":[{\"id\":\"1147\"}],\"center\":[{\"id\":\"1150\"},{\"id\":\"1154\"},{\"id\":\"1182\"}],\"left\":[{\"id\":\"1151\"}],\"renderers\":[{\"id\":\"1172\"},{\"id\":\"1187\"}],\"sizing_mode\":\"scale_both\",\"title\":{\"id\":\"1137\"},\"toolbar\":{\"id\":\"1162\"},\"toolbar_location\":null,\"x_range\":{\"id\":\"1139\"},\"x_scale\":{\"id\":\"1143\"},\"y_range\":{\"id\":\"1141\"},\"y_scale\":{\"id\":\"1145\"}},\"id\":\"1136\",\"subtype\":\"Figure\",\"type\":\"Plot\"},{\"attributes\":{},\"id\":\"1244\",\"type\":\"UnionRenderers\"},{\"attributes\":{\"children\":[[{\"id\":\"1136\"},0,0],[{\"id\":\"1200\"},0,1]]},\"id\":\"1286\",\"type\":\"GridBox\"},{\"attributes\":{},\"id\":\"1179\",\"type\":\"Selection\"},{\"attributes\":{},\"id\":\"1260\",\"type\":\"Selection\"},{\"attributes\":{},\"id\":\"1261\",\"type\":\"UnionRenderers\"},{\"attributes\":{\"label\":{\"value\":\"Plagiarized\"},\"renderers\":[{\"id\":\"1187\"}]},\"id\":\"1199\",\"type\":\"LegendItem\"},{\"attributes\":{\"line_color\":\"orange\",\"x\":{\"field\":\"x\"},\"y\":{\"field\":\"y\"}},\"id\":\"1185\",\"type\":\"Line\"},{\"attributes\":{},\"id\":\"1180\",\"type\":\"UnionRenderers\"},{\"attributes\":{\"data\":{\"x\":{\"__ndarray__\":\"mpmZmZmZ6T8p1eRxZwnrP7gQMEo1eew/SEx7IgPp7T/Xh8b60FjvP7PhiGlPZPA/en+uVTYc8T9CHdRBHdTxPwq7+S0EjPI/0VgfGutD8z+Z9kQG0vvzP2CUavK4s/Q/KDKQ3p9r9T/wz7XKhiP2P7ht27Zt2/Y/fwsBo1ST9z9GqSaPO0v4Pw5HTHsiA/k/1uRxZwm7+T+egpdT8HL6P2UgvT/XKvs/LL7iK77i+z/0WwgYpZr8P7z5LQSMUv0/g5dT8HIK/j9LNXncWcL+PxLTnshAev8/bThi2hMZAEBRB3VQB3UAQDTWh8b60ABAGKWaPO4sAUD8c62y4YgBQOBCwCjV5AFAxBHTnshAAkCo4OUUvJwCQIyv+Iqv+AJAb34LAaNUA0BTTR53lrADQDccMe2JDARAGutDY31oBED+uVbZcMQEQOKIaU9kIAVAxld8xVd8BUCqJo87S9gFQI71obE+NAZAcsS0JzKQBkBWk8edJewGQDhi2hMZSAdAHDHtiQykB0AAAAAAAAAIQA==\",\"dtype\":\"float64\",\"order\":\"little\",\"shape\":[50]},\"y\":{\"__ndarray__\":\"BQbzBoP56T/gchJEeq7pP483/w6WPOk/JWWRMv5q6T90n2FmpzDpP5tOoPFL6+g/MY00fVaB6T8evwWLjbLoPzeF994U+Og/F+hST3Ta6D/mgxOV+AHoP6IhzT7cj+g/k7P5LCX/5z9K2ya0uQ3oP/BVe+IhkOg/oGVOwn176D8+I236eeLoPyZWHUtxW+g/njM75jEo6D+aakFOVaznP4iy2QsFr+c/jlrApsBu5z+nXSfvZ2DnP+d5lrNwCec/XNSIRoEC5z9+KzKgPyfoP9Kz7NsrYuc/nbQJWEZ45z+FocARILTnP+PX7YsUr+Y/p6yNSF6w5j96oPfcCCznPzSt31t0Iuc/cfDfxv6y5j8SLaYbBijmP436rvG0ruY/XoZysihJ5z//FbwkGf/lPyh20H10Y+Y/36yLKyr25j/Ecqen2uPlP/aJ4/WN7OU/pktqBFqO5j8GCzpsXyvmP890g061HuY/pKFSnLbp5T8mFYRgGKXlP8KLQjZoN+Y/SeYU1nV05j9IzVudojfmPw==\",\"dtype\":\"float64\",\"order\":\"little\",\"shape\":[50]}},\"selected\":{\"id\":\"1196\"},\"selection_policy\":{\"id\":\"1197\"}},\"id\":\"1184\",\"type\":\"ColumnDataSource\"},{\"attributes\":{\"data_source\":{\"id\":\"1248\"},\"glyph\":{\"id\":\"1249\"},\"hover_glyph\":null,\"muted_glyph\":null,\"nonselection_glyph\":{\"id\":\"1250\"},\"selection_glyph\":null,\"view\":{\"id\":\"1252\"}},\"id\":\"1251\",\"type\":\"GlyphRenderer\"},{\"attributes\":{\"line_alpha\":0.1,\"line_color\":\"orange\",\"x\":{\"field\":\"x\"},\"y\":{\"field\":\"y\"}},\"id\":\"1186\",\"type\":\"Line\"},{\"attributes\":{\"source\":{\"id\":\"1184\"}},\"id\":\"1188\",\"type\":\"CDSView\"},{\"attributes\":{\"axis_label\":\"F1\",\"formatter\":{\"id\":\"1240\"},\"ticker\":{\"id\":\"1216\"}},\"id\":\"1215\",\"type\":\"LinearAxis\"},{\"attributes\":{\"axis_label\":\"F1\",\"formatter\":{\"id\":\"1176\"},\"ticker\":{\"id\":\"1152\"}},\"id\":\"1151\",\"type\":\"LinearAxis\"},{\"attributes\":{},\"id\":\"1178\",\"type\":\"BasicTickFormatter\"},{\"attributes\":{},\"id\":\"1160\",\"type\":\"HelpTool\"},{\"attributes\":{},\"id\":\"1196\",\"type\":\"Selection\"},{\"attributes\":{},\"id\":\"1197\",\"type\":\"UnionRenderers\"},{\"attributes\":{\"toolbar\":{\"id\":\"1287\"},\"toolbar_location\":\"above\"},\"id\":\"1288\",\"type\":\"ToolbarBox\"},{\"attributes\":{},\"id\":\"1158\",\"type\":\"SaveTool\"},{\"attributes\":{},\"id\":\"1156\",\"type\":\"WheelZoomTool\"},{\"attributes\":{},\"id\":\"1152\",\"type\":\"BasicTicker\"},{\"attributes\":{\"data\":{\"x\":{\"__ndarray__\":\"mpmZmZmZ6T8p1eRxZwnrP7gQMEo1eew/SEx7IgPp7T/Xh8b60FjvP7PhiGlPZPA/en+uVTYc8T9CHdRBHdTxPwq7+S0EjPI/0VgfGutD8z+Z9kQG0vvzP2CUavK4s/Q/KDKQ3p9r9T/wz7XKhiP2P7ht27Zt2/Y/fwsBo1ST9z9GqSaPO0v4Pw5HTHsiA/k/1uRxZwm7+T+egpdT8HL6P2UgvT/XKvs/LL7iK77i+z/0WwgYpZr8P7z5LQSMUv0/g5dT8HIK/j9LNXncWcL+PxLTnshAev8/bThi2hMZAEBRB3VQB3UAQDTWh8b60ABAGKWaPO4sAUD8c62y4YgBQOBCwCjV5AFAxBHTnshAAkCo4OUUvJwCQIyv+Iqv+AJAb34LAaNUA0BTTR53lrADQDccMe2JDARAGutDY31oBED+uVbZcMQEQOKIaU9kIAVAxld8xVd8BUCqJo87S9gFQI71obE+NAZAcsS0JzKQBkBWk8edJewGQDhi2hMZSAdAHDHtiQykB0AAAAAAAAAIQA==\",\"dtype\":\"float64\",\"order\":\"little\",\"shape\":[50]},\"y\":{\"__ndarray__\":\"gkMprGxK6D+IyIUaVXfoP0urmLlipeg/WZJEmJ/T6D+CwyohjgHpP2MKshExMuk/0nIs3D5j6T80APQYdIzpPyBxs1Oaruk/n9MbqQzK6T/2HqMQTufpP1WiUuNHDuo/hDFm11s76j8gJupe+nDqP8URDaxHqeo/LOIN2gLZ6j9zIvau/fzqP8HpwCYnEus/8HkkZCYY6z8z/6CJuxbrPyvqLKi+Eus/a/0qfgYX6z8CMUA8oyfrP9nydsDbQOs/vIgniOJd6z8vxozh6HzrPwMOhYgal+s//suVk/Sr6z8+yY/8l7vrP502GltMx+s/aBGzghPP6z+1zD/CvtHrP+JxZTZt1+s/AB3UUdbk6z+flpZTne/rP3LRSHaL+Os/Vvxq8dEH7D/EFBPPfBnsP1vfYNiuJ+w/mc2/D7Iy7D9qBvIw6D3sP5+7CKy1Sew/nmmwCL5R7D+VOx42JFnsPwQYdYT2Zew/MnTSBbN07D+OzszpOYXsP9tIorp0lew/j+Yk7rGm7D9JN6O/IbnsPw==\",\"dtype\":\"float64\",\"order\":\"little\",\"shape\":[50]}},\"selected\":{\"id\":\"1243\"},\"selection_policy\":{\"id\":\"1244\"}},\"id\":\"1233\",\"type\":\"ColumnDataSource\"},{\"attributes\":{},\"id\":\"1212\",\"type\":\"BasicTicker\"},{\"attributes\":{\"axis\":{\"id\":\"1147\"},\"ticker\":null},\"id\":\"1150\",\"type\":\"Grid\"},{\"attributes\":{},\"id\":\"1203\",\"type\":\"DataRange1d\"},{\"attributes\":{\"text\":\"F1 score as a function of the proportion of texts in the data\"},\"id\":\"1201\",\"type\":\"Title\"},{\"attributes\":{\"data_source\":{\"id\":\"1233\"},\"glyph\":{\"id\":\"1234\"},\"hover_glyph\":null,\"muted_glyph\":null,\"nonselection_glyph\":{\"id\":\"1235\"},\"selection_glyph\":null,\"view\":{\"id\":\"1237\"}},\"id\":\"1236\",\"type\":\"GlyphRenderer\"},{\"attributes\":{},\"id\":\"1205\",\"type\":\"DataRange1d\"},{\"attributes\":{\"axis_label\":\"Relative proportion of non-plagiared to plagiarized\",\"formatter\":{\"id\":\"1242\"},\"ticker\":{\"id\":\"1212\"}},\"id\":\"1211\",\"type\":\"LinearAxis\"},{\"attributes\":{},\"id\":\"1209\",\"type\":\"LinearScale\"},{\"attributes\":{},\"id\":\"1216\",\"type\":\"BasicTicker\"},{\"attributes\":{},\"id\":\"1207\",\"type\":\"LinearScale\"},{\"attributes\":{},\"id\":\"1143\",\"type\":\"LinearScale\"},{\"attributes\":{\"axis\":{\"id\":\"1211\"},\"ticker\":null},\"id\":\"1214\",\"type\":\"Grid\"},{\"attributes\":{},\"id\":\"1176\",\"type\":\"BasicTickFormatter\"},{\"attributes\":{\"axis\":{\"id\":\"1215\"},\"dimension\":1,\"ticker\":null},\"id\":\"1218\",\"type\":\"Grid\"},{\"attributes\":{\"overlay\":{\"id\":\"1161\"}},\"id\":\"1157\",\"type\":\"BoxZoomTool\"},{\"attributes\":{},\"id\":\"1220\",\"type\":\"WheelZoomTool\"},{\"attributes\":{},\"id\":\"1219\",\"type\":\"PanTool\"},{\"attributes\":{},\"id\":\"1148\",\"type\":\"BasicTicker\"},{\"attributes\":{\"active_drag\":\"auto\",\"active_inspect\":\"auto\",\"active_multi\":null,\"active_scroll\":\"auto\",\"active_tap\":\"auto\",\"tools\":[{\"id\":\"1219\"},{\"id\":\"1220\"},{\"id\":\"1221\"},{\"id\":\"1222\"},{\"id\":\"1223\"},{\"id\":\"1224\"}]},\"id\":\"1226\",\"type\":\"Toolbar\"},{\"attributes\":{},\"id\":\"1145\",\"type\":\"LinearScale\"},{\"attributes\":{},\"id\":\"1224\",\"type\":\"HelpTool\"},{\"attributes\":{\"overlay\":{\"id\":\"1225\"}},\"id\":\"1221\",\"type\":\"BoxZoomTool\"},{\"attributes\":{},\"id\":\"1222\",\"type\":\"SaveTool\"},{\"attributes\":{},\"id\":\"1155\",\"type\":\"PanTool\"},{\"attributes\":{},\"id\":\"1223\",\"type\":\"ResetTool\"},{\"attributes\":{\"source\":{\"id\":\"1248\"}},\"id\":\"1252\",\"type\":\"CDSView\"},{\"attributes\":{\"data\":{\"x\":{\"__ndarray__\":\"mpmZmZmZ6T8p1eRxZwnrP7gQMEo1eew/SEx7IgPp7T/Xh8b60FjvP7PhiGlPZPA/en+uVTYc8T9CHdRBHdTxPwq7+S0EjPI/0VgfGutD8z+Z9kQG0vvzP2CUavK4s/Q/KDKQ3p9r9T/wz7XKhiP2P7ht27Zt2/Y/fwsBo1ST9z9GqSaPO0v4Pw5HTHsiA/k/1uRxZwm7+T+egpdT8HL6P2UgvT/XKvs/LL7iK77i+z/0WwgYpZr8P7z5LQSMUv0/g5dT8HIK/j9LNXncWcL+PxLTnshAev8/bThi2hMZAEBRB3VQB3UAQDTWh8b60ABAGKWaPO4sAUD8c62y4YgBQOBCwCjV5AFAxBHTnshAAkCo4OUUvJwCQIyv+Iqv+AJAb34LAaNUA0BTTR53lrADQDccMe2JDARAGutDY31oBED+uVbZcMQEQOKIaU9kIAVAxld8xVd8BUCqJo87S9gFQI71obE+NAZAcsS0JzKQBkBWk8edJewGQDhi2hMZSAdAHDHtiQykB0AAAAAAAAAIQA==\",\"dtype\":\"float64\",\"order\":\"little\",\"shape\":[50]},\"y\":{\"__ndarray__\":\"INN0N6fM6T/dBhdxiafpP7yMjNv8g+k/FXWVFwxh6T9begsgyj7pP2IeQUTCJek/HAvZr3UN6T8c6Swepe3oP0npVVBWyug/l+RpUZai6D8UPWWMGXvoPx1QlGClYOg/IjAWOx5V6D8j7hVYpVnoP6B1Dp1vZOg/r2eL0TZn6D/pIbdiBF7oP/aGf8YGReg/ouoqob4a6D/Mm+uzJObnP3BpiW4Jrec/Mc2Gv2yA5z9leMUP6mznPzcZRE5xaOc/NDHC3L1p5z8WtuNQ+m3nP6K6h2dKa+c/O0Jpc7lc5z/pBTbcXUXnPw0a26iqKec/Zh3BaKgL5z+tvK4uaufmP/ZqH9kYzuY/qRIdjHzH5j+N5DLjxrjmP1of5NkXoeY/qmsSdZeS5j8cEro68IfmP4j0DTfFdeY/i7WQgkxf5j9hkiTvYk7mPxnpTGhJQ+Y/ciVybcwv5j+dDBfJ6BrmP2Ox12TqFOY/OkmcgkMW5j+BBL7T3x3mP5CUplCbJOY/cA+7tSMu5j+V9TVCBzvmPw==\",\"dtype\":\"float64\",\"order\":\"little\",\"shape\":[50]}},\"selected\":{\"id\":\"1260\"},\"selection_policy\":{\"id\":\"1261\"}},\"id\":\"1248\",\"type\":\"ColumnDataSource\"},{\"attributes\":{\"axis\":{\"id\":\"1151\"},\"dimension\":1,\"ticker\":null},\"id\":\"1154\",\"type\":\"Grid\"},{\"attributes\":{\"line_alpha\":0.1,\"line_color\":\"orange\",\"x\":{\"field\":\"x\"},\"y\":{\"field\":\"y\"}},\"id\":\"1250\",\"type\":\"Line\"},{\"attributes\":{\"axis_label\":\"Relative proportion of non-plagiared to plagiarized\",\"formatter\":{\"id\":\"1178\"},\"ticker\":{\"id\":\"1148\"}},\"id\":\"1147\",\"type\":\"LinearAxis\"},{\"attributes\":{\"line_color\":\"orange\",\"x\":{\"field\":\"x\"},\"y\":{\"field\":\"y\"}},\"id\":\"1249\",\"type\":\"Line\"},{\"attributes\":{\"label\":{\"value\":\"Plagiarized\"},\"renderers\":[{\"id\":\"1251\"}]},\"id\":\"1263\",\"type\":\"LegendItem\"},{\"attributes\":{\"toolbars\":[{\"id\":\"1162\"},{\"id\":\"1226\"}],\"tools\":[{\"id\":\"1155\"},{\"id\":\"1156\"},{\"id\":\"1157\"},{\"id\":\"1158\"},{\"id\":\"1159\"},{\"id\":\"1160\"},{\"id\":\"1219\"},{\"id\":\"1220\"},{\"id\":\"1221\"},{\"id\":\"1222\"},{\"id\":\"1223\"},{\"id\":\"1224\"}]},\"id\":\"1287\",\"type\":\"ProxyToolbar\"},{\"attributes\":{},\"id\":\"1159\",\"type\":\"ResetTool\"},{\"attributes\":{\"bottom_units\":\"screen\",\"fill_alpha\":0.5,\"fill_color\":\"lightgrey\",\"left_units\":\"screen\",\"level\":\"overlay\",\"line_alpha\":1.0,\"line_color\":\"black\",\"line_dash\":[4,4],\"line_width\":2,\"right_units\":\"screen\",\"top_units\":\"screen\"},\"id\":\"1225\",\"type\":\"BoxAnnotation\"}],\"root_ids\":[\"1289\"]},\"title\":\"Bokeh Application\",\"version\":\"2.1.1\"}};\n",
       "  var render_items = [{\"docid\":\"63e57807-b1d2-4290-abfe-2491e76a2cbf\",\"root_ids\":[\"1289\"],\"roots\":{\"1289\":\"84d0fac7-bb6d-4552-b3bb-6aeb68852524\"}}];\n",
       "  root.Bokeh.embed.embed_items_notebook(docs_json, render_items);\n",
       "\n",
       "  }\n",
       "  if (root.Bokeh !== undefined) {\n",
       "    embed_document(root);\n",
       "  } else {\n",
       "    var attempts = 0;\n",
       "    var timer = setInterval(function(root) {\n",
       "      if (root.Bokeh !== undefined) {\n",
       "        clearInterval(timer);\n",
       "        embed_document(root);\n",
       "      } else {\n",
       "        attempts++;\n",
       "        if (attempts > 100) {\n",
       "          clearInterval(timer);\n",
       "          console.log(\"Bokeh: ERROR: Unable to run BokehJS code because BokehJS library is missing\");\n",
       "        }\n",
       "      }\n",
       "    }, 10, root)\n",
       "  }\n",
       "})(window);"
      ],
      "application/vnd.bokehjs_exec.v0+json": ""
     },
     "metadata": {
      "application/vnd.bokehjs_exec.v0+json": {
       "id": "1289"
      }
     },
     "output_type": "display_data"
    }
   ],
   "source": [
    "# Lets try to optmize by changing proportion of data\n",
    "def calc_F1_prop(p):\n",
    "    n = len(df[df['plagiarized'] == 1])\n",
    "    m = round(p * n)\n",
    "    data = df[df['plagiarized'] == 1].append(df[df['plagiarized'] == 0].sample(n = m))\n",
    "    data.reset_index(inplace = True)\n",
    "    \n",
    "    X = data.drop([\"src\", \"sus\", \"plagiarized\"], axis=1, errors=\"ignore\")\n",
    "    y = data[\"plagiarized\"]\n",
    "    \n",
    "    clf = DecisionTreeClassifier()\n",
    "\n",
    "    # Make folds of data for cross validation\n",
    "    k_fold = KFold(n_splits = 10, shuffle = True)\n",
    "\n",
    "    results = []\n",
    "    for train, test in k_fold.split(data):\n",
    "        clf.fit(X.iloc[train], y.iloc[train])\n",
    "        results.append(f1_score(y.iloc[test], clf.predict(X.iloc[test]), average = None))\n",
    "    \n",
    "    return sum(results) / len(results)\n",
    "\n",
    "p = np.linspace(0.8, 3, num = 50)\n",
    "F1 = np.stack(list(map(calc_F1_prop, p.tolist())), axis = 0)\n",
    "# Filter F1\n",
    "filtered_F1 = np.column_stack((lowess(F1[:, 0], p, is_sorted=True, frac=0.2, it=0)[:, 1],\n",
    "                             lowess(F1[:, 1], p, is_sorted=True, frac=0.2, it=0)[:, 1]))\n",
    "\n",
    "# Normal plot\n",
    "prop_plot = figure(title = \"F1 score as a function of the proportion of texts in the data\",\n",
    "                   x_axis_label = \"Relative proportion of non-plagiared to plagiarized\",\n",
    "                   y_axis_label = \"F1\")\n",
    "prop_plot.line(p, F1[:, 0], legend_label = \"Non-plagiarized\", line_color = \"steelblue\")\n",
    "prop_plot.line(p, F1[:, 1], legend_label = \"Plagiarized\", line_color = \"orange\")\n",
    "\n",
    "\n",
    "# Filtered plot to remove some noise and better appreciate tendencies\n",
    "prop_filtered_plot = figure(title = \"F1 score as a function of the proportion of texts in the data\",\n",
    "                           x_axis_label = \"Relative proportion of non-plagiared to plagiarized\",\n",
    "                           y_axis_label = \"F1\")\n",
    "\n",
    "prop_filtered_plot.line(p, filtered_F1[:, 0], legend_label = \"Non-plagiarized\", line_color = \"steelblue\")\n",
    "prop_filtered_plot.line(p, filtered_F1[:, 1], legend_label = \"Plagiarized\", line_color = \"orange\")\n",
    "\n",
    "\n",
    "show(gridplot([[prop_plot, prop_filtered_plot]], sizing_mode='scale_both'))\n",
    "\n",
    "\n",
    "# The optimum point for the unbalanced data is obtained when both sets have the same proportion"
   ]
  },
  {
   "cell_type": "markdown",
   "metadata": {},
   "source": [
    "Como podemos observar, el compromiso optimo para ambas clases en cuanto a precisión se encuentra en p = 1, es decir, la misma cantidad de casos de plagio que de no plagio."
   ]
  },
  {
   "cell_type": "markdown",
   "metadata": {},
   "source": [
    "## Optimización del número mínimo de muestras por hoja"
   ]
  },
  {
   "cell_type": "markdown",
   "metadata": {},
   "source": [
    "En este apartado estuadiamos como varia el puntuador según la cantidad de muestras minimas que se necesitan en cada nueva hoja\n",
    "para poder formar un nuevo nodo."
   ]
  },
  {
   "cell_type": "code",
   "execution_count": 9,
   "metadata": {
    "scrolled": false
   },
   "outputs": [
    {
     "data": {
      "text/html": [
       "\n",
       "\n",
       "\n",
       "\n",
       "\n",
       "\n",
       "  <div class=\"bk-root\" id=\"178d3c4f-e3e1-4f8d-8f1d-1d6681916050\" data-root-id=\"1917\"></div>\n"
      ]
     },
     "metadata": {},
     "output_type": "display_data"
    },
    {
     "data": {
      "application/javascript": [
       "(function(root) {\n",
       "  function embed_document(root) {\n",
       "    \n",
       "  var docs_json = {\"82b997d3-c08f-4c5d-bcce-a0ebf26a7d66\":{\"roots\":{\"references\":[{\"attributes\":{\"children\":[{\"id\":\"1916\"},{\"id\":\"1914\"}],\"sizing_mode\":\"scale_both\"},\"id\":\"1917\",\"type\":\"Column\"},{\"attributes\":{\"source\":{\"id\":\"1812\"}},\"id\":\"1816\",\"type\":\"CDSView\"},{\"attributes\":{\"label\":{\"value\":\"Non-plagiarized\"},\"renderers\":[{\"id\":\"1800\"}]},\"id\":\"1811\",\"type\":\"LegendItem\"},{\"attributes\":{},\"id\":\"1806\",\"type\":\"BasicTickFormatter\"},{\"attributes\":{},\"id\":\"1787\",\"type\":\"ResetTool\"},{\"attributes\":{\"label\":{\"value\":\"Non-plagiarized\"},\"renderers\":[{\"id\":\"1864\"}]},\"id\":\"1875\",\"type\":\"LegendItem\"},{\"attributes\":{},\"id\":\"1808\",\"type\":\"Selection\"},{\"attributes\":{},\"id\":\"1889\",\"type\":\"Selection\"},{\"attributes\":{\"line_color\":\"steelblue\",\"x\":{\"field\":\"x\"},\"y\":{\"field\":\"y\"}},\"id\":\"1862\",\"type\":\"Line\"},{\"attributes\":{},\"id\":\"1850\",\"type\":\"SaveTool\"},{\"attributes\":{\"below\":[{\"id\":\"1839\"}],\"center\":[{\"id\":\"1842\"},{\"id\":\"1846\"},{\"id\":\"1874\"}],\"left\":[{\"id\":\"1843\"}],\"renderers\":[{\"id\":\"1864\"},{\"id\":\"1879\"}],\"sizing_mode\":\"scale_both\",\"title\":{\"id\":\"1829\"},\"toolbar\":{\"id\":\"1854\"},\"toolbar_location\":null,\"x_range\":{\"id\":\"1831\"},\"x_scale\":{\"id\":\"1835\"},\"y_range\":{\"id\":\"1833\"},\"y_scale\":{\"id\":\"1837\"}},\"id\":\"1828\",\"subtype\":\"Figure\",\"type\":\"Plot\"},{\"attributes\":{\"toolbar\":{\"id\":\"1915\"},\"toolbar_location\":\"above\"},\"id\":\"1916\",\"type\":\"ToolbarBox\"},{\"attributes\":{\"active_drag\":\"auto\",\"active_inspect\":\"auto\",\"active_multi\":null,\"active_scroll\":\"auto\",\"active_tap\":\"auto\",\"tools\":[{\"id\":\"1847\"},{\"id\":\"1848\"},{\"id\":\"1849\"},{\"id\":\"1850\"},{\"id\":\"1851\"},{\"id\":\"1852\"}]},\"id\":\"1854\",\"type\":\"Toolbar\"},{\"attributes\":{},\"id\":\"1783\",\"type\":\"PanTool\"},{\"attributes\":{\"line_alpha\":0.1,\"line_color\":\"steelblue\",\"x\":{\"field\":\"x\"},\"y\":{\"field\":\"y\"}},\"id\":\"1863\",\"type\":\"Line\"},{\"attributes\":{\"overlay\":{\"id\":\"1853\"}},\"id\":\"1849\",\"type\":\"BoxZoomTool\"},{\"attributes\":{},\"id\":\"1809\",\"type\":\"UnionRenderers\"},{\"attributes\":{\"line_alpha\":0.1,\"line_color\":\"orange\",\"x\":{\"field\":\"x\"},\"y\":{\"field\":\"y\"}},\"id\":\"1814\",\"type\":\"Line\"},{\"attributes\":{},\"id\":\"1848\",\"type\":\"WheelZoomTool\"},{\"attributes\":{},\"id\":\"1851\",\"type\":\"ResetTool\"},{\"attributes\":{},\"id\":\"1890\",\"type\":\"UnionRenderers\"},{\"attributes\":{\"bottom_units\":\"screen\",\"fill_alpha\":0.5,\"fill_color\":\"lightgrey\",\"left_units\":\"screen\",\"level\":\"overlay\",\"line_alpha\":1.0,\"line_color\":\"black\",\"line_dash\":[4,4],\"line_width\":2,\"right_units\":\"screen\",\"top_units\":\"screen\"},\"id\":\"1853\",\"type\":\"BoxAnnotation\"},{\"attributes\":{},\"id\":\"1852\",\"type\":\"HelpTool\"},{\"attributes\":{\"axis_label\":\"F1\",\"formatter\":{\"id\":\"1804\"},\"ticker\":{\"id\":\"1780\"}},\"id\":\"1779\",\"type\":\"LinearAxis\"},{\"attributes\":{\"label\":{\"value\":\"Plagiarized\"},\"renderers\":[{\"id\":\"1815\"}]},\"id\":\"1827\",\"type\":\"LegendItem\"},{\"attributes\":{},\"id\":\"1773\",\"type\":\"LinearScale\"},{\"attributes\":{},\"id\":\"1826\",\"type\":\"UnionRenderers\"},{\"attributes\":{\"overlay\":{\"id\":\"1789\"}},\"id\":\"1785\",\"type\":\"BoxZoomTool\"},{\"attributes\":{},\"id\":\"1786\",\"type\":\"SaveTool\"},{\"attributes\":{},\"id\":\"1825\",\"type\":\"Selection\"},{\"attributes\":{\"source\":{\"id\":\"1861\"}},\"id\":\"1865\",\"type\":\"CDSView\"},{\"attributes\":{},\"id\":\"1780\",\"type\":\"BasicTicker\"},{\"attributes\":{\"line_color\":\"orange\",\"x\":{\"field\":\"x\"},\"y\":{\"field\":\"y\"}},\"id\":\"1813\",\"type\":\"Line\"},{\"attributes\":{\"data\":{\"x\":{\"__ndarray__\":\"AQAAAAIAAAADAAAABAAAAAUAAAAGAAAABwAAAAgAAAAJAAAACgAAAAsAAAAMAAAADQAAAA4AAAAPAAAAEAAAABEAAAASAAAAEwAAABQAAAAVAAAAFgAAABcAAAAYAAAAGQAAABoAAAAbAAAAHAAAAB0AAAA=\",\"dtype\":\"int32\",\"order\":\"little\",\"shape\":[29]},\"y\":{\"__ndarray__\":\"o9rZwDm86j+zeBnm+ZfqP1XtbK9iouo/8IDXZMh66j+VXzo+15fqP9PWxpo2oOo/CBvX2/a26j/TBRi/S5PqP2i/WtSBd+o/FUKD/gmv6j/KSLeBJ3DqP7Wamwi1huo/wu+X/rjA6j8I05LjKXTqP8CNl4I+c+o/dYAn++Kb6j8zqo05ZoTqP5WgOK1SdOo/s13fEzxr6j97VbUL20vqP9IrAbE6e+o/+w8w13JU6j/GfSZu7lnqPxhIEmB9huo/ehImsH+H6j8qdd52H2fqP2jh7cM8Puo/6vIEePhr6j874J9CyibqPw==\",\"dtype\":\"float64\",\"order\":\"little\",\"shape\":[29]}},\"selected\":{\"id\":\"1825\"},\"selection_policy\":{\"id\":\"1826\"}},\"id\":\"1812\",\"type\":\"ColumnDataSource\"},{\"attributes\":{},\"id\":\"1784\",\"type\":\"WheelZoomTool\"},{\"attributes\":{},\"id\":\"1771\",\"type\":\"LinearScale\"},{\"attributes\":{\"data_source\":{\"id\":\"1861\"},\"glyph\":{\"id\":\"1862\"},\"hover_glyph\":null,\"muted_glyph\":null,\"nonselection_glyph\":{\"id\":\"1863\"},\"selection_glyph\":null,\"view\":{\"id\":\"1865\"}},\"id\":\"1864\",\"type\":\"GlyphRenderer\"},{\"attributes\":{\"items\":[{\"id\":\"1875\"},{\"id\":\"1891\"}]},\"id\":\"1874\",\"type\":\"Legend\"},{\"attributes\":{\"children\":[[{\"id\":\"1764\"},0,0],[{\"id\":\"1828\"},0,1]]},\"id\":\"1914\",\"type\":\"GridBox\"},{\"attributes\":{\"axis\":{\"id\":\"1779\"},\"dimension\":1,\"ticker\":null},\"id\":\"1782\",\"type\":\"Grid\"},{\"attributes\":{},\"id\":\"1788\",\"type\":\"HelpTool\"},{\"attributes\":{},\"id\":\"1776\",\"type\":\"BasicTicker\"},{\"attributes\":{\"data_source\":{\"id\":\"1797\"},\"glyph\":{\"id\":\"1798\"},\"hover_glyph\":null,\"muted_glyph\":null,\"nonselection_glyph\":{\"id\":\"1799\"},\"selection_glyph\":null,\"view\":{\"id\":\"1801\"}},\"id\":\"1800\",\"type\":\"GlyphRenderer\"},{\"attributes\":{\"data\":{\"x\":{\"__ndarray__\":\"AQAAAAIAAAADAAAABAAAAAUAAAAGAAAABwAAAAgAAAAJAAAACgAAAAsAAAAMAAAADQAAAA4AAAAPAAAAEAAAABEAAAASAAAAEwAAABQAAAAVAAAAFgAAABcAAAAYAAAAGQAAABoAAAAbAAAAHAAAAB0AAAA=\",\"dtype\":\"int32\",\"order\":\"little\",\"shape\":[29]},\"y\":{\"__ndarray__\":\"Ah2wjWUP6z/7661Lq8LqP1C6DnPX/+o/+5hHbc+26j+YiWgmq+TqP0L6AHCc4Oo/VRT2rhXY6j86up4VUMjqP9aYMGNvhuo/80+C4TfJ6j9rLEOPyJjqP+ro5cXUoOo/qFsun+bp6j+6TDlp+n7qP4iR/A0fhOo/CwDK9UrE6j+wpQfS1IjqP/WBiVTajOo/I0LfyrCQ6j8e+q5Dno/qP+WP9du5seo/FUrDqA5r6j/qISsMfHLqP42mN84Hv+o/WNlYO3m36j+qEhP7q53qP0paMXUSa+o/CyYyhKKk6j+1K+C5HUrqPw==\",\"dtype\":\"float64\",\"order\":\"little\",\"shape\":[29]}},\"selected\":{\"id\":\"1872\"},\"selection_policy\":{\"id\":\"1873\"}},\"id\":\"1861\",\"type\":\"ColumnDataSource\"},{\"attributes\":{},\"id\":\"1833\",\"type\":\"DataRange1d\"},{\"attributes\":{\"source\":{\"id\":\"1876\"}},\"id\":\"1880\",\"type\":\"CDSView\"},{\"attributes\":{\"axis\":{\"id\":\"1839\"},\"ticker\":null},\"id\":\"1842\",\"type\":\"Grid\"},{\"attributes\":{\"line_alpha\":0.1,\"line_color\":\"steelblue\",\"x\":{\"field\":\"x\"},\"y\":{\"field\":\"y\"}},\"id\":\"1799\",\"type\":\"Line\"},{\"attributes\":{\"data_source\":{\"id\":\"1876\"},\"glyph\":{\"id\":\"1877\"},\"hover_glyph\":null,\"muted_glyph\":null,\"nonselection_glyph\":{\"id\":\"1878\"},\"selection_glyph\":null,\"view\":{\"id\":\"1880\"}},\"id\":\"1879\",\"type\":\"GlyphRenderer\"},{\"attributes\":{\"source\":{\"id\":\"1797\"}},\"id\":\"1801\",\"type\":\"CDSView\"},{\"attributes\":{},\"id\":\"1868\",\"type\":\"BasicTickFormatter\"},{\"attributes\":{\"below\":[{\"id\":\"1775\"}],\"center\":[{\"id\":\"1778\"},{\"id\":\"1782\"},{\"id\":\"1810\"}],\"left\":[{\"id\":\"1779\"}],\"renderers\":[{\"id\":\"1800\"},{\"id\":\"1815\"}],\"sizing_mode\":\"scale_both\",\"title\":{\"id\":\"1765\"},\"toolbar\":{\"id\":\"1790\"},\"toolbar_location\":null,\"x_range\":{\"id\":\"1767\"},\"x_scale\":{\"id\":\"1771\"},\"y_range\":{\"id\":\"1769\"},\"y_scale\":{\"id\":\"1773\"}},\"id\":\"1764\",\"subtype\":\"Figure\",\"type\":\"Plot\"},{\"attributes\":{\"axis_label\":\"Minimum samples per leaf\",\"formatter\":{\"id\":\"1806\"},\"ticker\":{\"id\":\"1776\"}},\"id\":\"1775\",\"type\":\"LinearAxis\"},{\"attributes\":{\"text\":\"F1 score as a function of the minimum samples per leaf\"},\"id\":\"1829\",\"type\":\"Title\"},{\"attributes\":{\"axis\":{\"id\":\"1775\"},\"ticker\":null},\"id\":\"1778\",\"type\":\"Grid\"},{\"attributes\":{},\"id\":\"1831\",\"type\":\"DataRange1d\"},{\"attributes\":{},\"id\":\"1870\",\"type\":\"BasicTickFormatter\"},{\"attributes\":{\"axis\":{\"id\":\"1843\"},\"dimension\":1,\"ticker\":null},\"id\":\"1846\",\"type\":\"Grid\"},{\"attributes\":{\"items\":[{\"id\":\"1811\"},{\"id\":\"1827\"}]},\"id\":\"1810\",\"type\":\"Legend\"},{\"attributes\":{\"toolbars\":[{\"id\":\"1790\"},{\"id\":\"1854\"}],\"tools\":[{\"id\":\"1783\"},{\"id\":\"1784\"},{\"id\":\"1785\"},{\"id\":\"1786\"},{\"id\":\"1787\"},{\"id\":\"1788\"},{\"id\":\"1847\"},{\"id\":\"1848\"},{\"id\":\"1849\"},{\"id\":\"1850\"},{\"id\":\"1851\"},{\"id\":\"1852\"}]},\"id\":\"1915\",\"type\":\"ProxyToolbar\"},{\"attributes\":{\"axis_label\":\"F1\",\"formatter\":{\"id\":\"1868\"},\"ticker\":{\"id\":\"1844\"}},\"id\":\"1843\",\"type\":\"LinearAxis\"},{\"attributes\":{\"text\":\"F1 score as a function of the minimum samples per leaf\"},\"id\":\"1765\",\"type\":\"Title\"},{\"attributes\":{},\"id\":\"1767\",\"type\":\"DataRange1d\"},{\"attributes\":{\"data_source\":{\"id\":\"1812\"},\"glyph\":{\"id\":\"1813\"},\"hover_glyph\":null,\"muted_glyph\":null,\"nonselection_glyph\":{\"id\":\"1814\"},\"selection_glyph\":null,\"view\":{\"id\":\"1816\"}},\"id\":\"1815\",\"type\":\"GlyphRenderer\"},{\"attributes\":{},\"id\":\"1844\",\"type\":\"BasicTicker\"},{\"attributes\":{\"line_alpha\":0.1,\"line_color\":\"orange\",\"x\":{\"field\":\"x\"},\"y\":{\"field\":\"y\"}},\"id\":\"1878\",\"type\":\"Line\"},{\"attributes\":{},\"id\":\"1847\",\"type\":\"PanTool\"},{\"attributes\":{},\"id\":\"1769\",\"type\":\"DataRange1d\"},{\"attributes\":{},\"id\":\"1872\",\"type\":\"Selection\"},{\"attributes\":{},\"id\":\"1837\",\"type\":\"LinearScale\"},{\"attributes\":{},\"id\":\"1840\",\"type\":\"BasicTicker\"},{\"attributes\":{\"data\":{\"x\":{\"__ndarray__\":\"AQAAAAIAAAADAAAABAAAAAUAAAAGAAAABwAAAAgAAAAJAAAACgAAAAsAAAAMAAAADQAAAA4AAAAPAAAAEAAAABEAAAASAAAAEwAAABQAAAAVAAAAFgAAABcAAAAYAAAAGQAAABoAAAAbAAAAHAAAAB0AAAA=\",\"dtype\":\"int32\",\"order\":\"little\",\"shape\":[29]},\"y\":{\"__ndarray__\":\"Ah2wjWUP6z/7661Lq8LqP1C6DnPX/+o/+5hHbc+26j+YiWgmq+TqP0L6AHCc4Oo/VRT2rhXY6j86up4VUMjqP9aYMGNvhuo/80+C4TfJ6j9rLEOPyJjqP+ro5cXUoOo/qFsun+bp6j+6TDlp+n7qP4iR/A0fhOo/CwDK9UrE6j+wpQfS1IjqP/WBiVTajOo/I0LfyrCQ6j8e+q5Dno/qP+WP9du5seo/FUrDqA5r6j/qISsMfHLqP42mN84Hv+o/WNlYO3m36j+qEhP7q53qP0paMXUSa+o/CyYyhKKk6j+1K+C5HUrqPw==\",\"dtype\":\"float64\",\"order\":\"little\",\"shape\":[29]}},\"selected\":{\"id\":\"1808\"},\"selection_policy\":{\"id\":\"1809\"}},\"id\":\"1797\",\"type\":\"ColumnDataSource\"},{\"attributes\":{},\"id\":\"1804\",\"type\":\"BasicTickFormatter\"},{\"attributes\":{\"axis_label\":\"Minimum samples per leaf\",\"formatter\":{\"id\":\"1870\"},\"ticker\":{\"id\":\"1840\"}},\"id\":\"1839\",\"type\":\"LinearAxis\"},{\"attributes\":{},\"id\":\"1873\",\"type\":\"UnionRenderers\"},{\"attributes\":{\"bottom_units\":\"screen\",\"fill_alpha\":0.5,\"fill_color\":\"lightgrey\",\"left_units\":\"screen\",\"level\":\"overlay\",\"line_alpha\":1.0,\"line_color\":\"black\",\"line_dash\":[4,4],\"line_width\":2,\"right_units\":\"screen\",\"top_units\":\"screen\"},\"id\":\"1789\",\"type\":\"BoxAnnotation\"},{\"attributes\":{\"active_drag\":\"auto\",\"active_inspect\":\"auto\",\"active_multi\":null,\"active_scroll\":\"auto\",\"active_tap\":\"auto\",\"tools\":[{\"id\":\"1783\"},{\"id\":\"1784\"},{\"id\":\"1785\"},{\"id\":\"1786\"},{\"id\":\"1787\"},{\"id\":\"1788\"}]},\"id\":\"1790\",\"type\":\"Toolbar\"},{\"attributes\":{\"label\":{\"value\":\"Plagiarized\"},\"renderers\":[{\"id\":\"1879\"}]},\"id\":\"1891\",\"type\":\"LegendItem\"},{\"attributes\":{\"line_color\":\"steelblue\",\"x\":{\"field\":\"x\"},\"y\":{\"field\":\"y\"}},\"id\":\"1798\",\"type\":\"Line\"},{\"attributes\":{},\"id\":\"1835\",\"type\":\"LinearScale\"},{\"attributes\":{\"data\":{\"x\":{\"__ndarray__\":\"AQAAAAIAAAADAAAABAAAAAUAAAAGAAAABwAAAAgAAAAJAAAACgAAAAsAAAAMAAAADQAAAA4AAAAPAAAAEAAAABEAAAASAAAAEwAAABQAAAAVAAAAFgAAABcAAAAYAAAAGQAAABoAAAAbAAAAHAAAAB0AAAA=\",\"dtype\":\"int32\",\"order\":\"little\",\"shape\":[29]},\"y\":{\"__ndarray__\":\"o9rZwDm86j+zeBnm+ZfqP1XtbK9iouo/8IDXZMh66j+VXzo+15fqP9PWxpo2oOo/CBvX2/a26j/TBRi/S5PqP2i/WtSBd+o/FUKD/gmv6j/KSLeBJ3DqP7Wamwi1huo/wu+X/rjA6j8I05LjKXTqP8CNl4I+c+o/dYAn++Kb6j8zqo05ZoTqP5WgOK1SdOo/s13fEzxr6j97VbUL20vqP9IrAbE6e+o/+w8w13JU6j/GfSZu7lnqPxhIEmB9huo/ehImsH+H6j8qdd52H2fqP2jh7cM8Puo/6vIEePhr6j874J9CyibqPw==\",\"dtype\":\"float64\",\"order\":\"little\",\"shape\":[29]}},\"selected\":{\"id\":\"1889\"},\"selection_policy\":{\"id\":\"1890\"}},\"id\":\"1876\",\"type\":\"ColumnDataSource\"},{\"attributes\":{\"line_color\":\"orange\",\"x\":{\"field\":\"x\"},\"y\":{\"field\":\"y\"}},\"id\":\"1877\",\"type\":\"Line\"}],\"root_ids\":[\"1917\"]},\"title\":\"Bokeh Application\",\"version\":\"2.1.1\"}};\n",
       "  var render_items = [{\"docid\":\"82b997d3-c08f-4c5d-bcce-a0ebf26a7d66\",\"root_ids\":[\"1917\"],\"roots\":{\"1917\":\"178d3c4f-e3e1-4f8d-8f1d-1d6681916050\"}}];\n",
       "  root.Bokeh.embed.embed_items_notebook(docs_json, render_items);\n",
       "\n",
       "  }\n",
       "  if (root.Bokeh !== undefined) {\n",
       "    embed_document(root);\n",
       "  } else {\n",
       "    var attempts = 0;\n",
       "    var timer = setInterval(function(root) {\n",
       "      if (root.Bokeh !== undefined) {\n",
       "        clearInterval(timer);\n",
       "        embed_document(root);\n",
       "      } else {\n",
       "        attempts++;\n",
       "        if (attempts > 100) {\n",
       "          clearInterval(timer);\n",
       "          console.log(\"Bokeh: ERROR: Unable to run BokehJS code because BokehJS library is missing\");\n",
       "        }\n",
       "      }\n",
       "    }, 10, root)\n",
       "  }\n",
       "})(window);"
      ],
      "application/vnd.bokehjs_exec.v0+json": ""
     },
     "metadata": {
      "application/vnd.bokehjs_exec.v0+json": {
       "id": "1917"
      }
     },
     "output_type": "display_data"
    }
   ],
   "source": [
    "def calc_F1_leaf(leafs):\n",
    "    clf = RandomForestClassifier(min_samples_leaf = leafs, max_depth = 7)\n",
    "\n",
    "    # Make folds of data for cross validation\n",
    "    k_fold = KFold(n_splits = 10, shuffle = True)\n",
    "\n",
    "    results = []\n",
    "    for train, test in k_fold.split(X):\n",
    "        clf.fit(X.iloc[train], y.iloc[train])\n",
    "        results.append(f1_score(y.iloc[test], clf.predict(X.iloc[test]), average = None))\n",
    "    \n",
    "    return sum(results) / len(results)\n",
    "        \n",
    "leafs = np.arange(1, 30, 1)\n",
    "F1 = np.stack(list(map(calc_F1_leaf, leafs)), axis = 0)\n",
    "filtered_F1 = np.column_stack((lowess(F1[:, 0], leafs, is_sorted=True, frac=0.06, it=0)[:, 1],\n",
    "                             lowess(F1[:, 1], leafs, is_sorted=True, frac=0.06, it=0)[:, 1]))\n",
    "# Normal plot\n",
    "min_samples_plot = figure(title = \"F1 score as a function of the minimum samples per leaf\",\n",
    "                   x_axis_label = \"Minimum samples per leaf\",\n",
    "                   y_axis_label = \"F1\")\n",
    "\n",
    "min_samples_plot.line(leafs, F1[:, 0], legend_label = \"Non-plagiarized\", line_color = \"steelblue\")\n",
    "min_samples_plot.line(leafs, F1[:, 1], legend_label = \"Plagiarized\", line_color = \"orange\")\n",
    "\n",
    "\n",
    "# Filtered plot to remove some noise and better appreciate tendencies\n",
    "min_samples_plot_filtered = figure(title = \"F1 score as a function of the minimum samples per leaf\",\n",
    "                           x_axis_label = \"Minimum samples per leaf\",\n",
    "                           y_axis_label = \"F1\")\n",
    "\n",
    "min_samples_plot_filtered.line(leafs, filtered_F1[:, 0], legend_label = \"Non-plagiarized\", line_color = \"steelblue\")\n",
    "min_samples_plot_filtered.line(leafs, filtered_F1[:, 1], legend_label = \"Plagiarized\", line_color = \"orange\")\n",
    "\n",
    "\n",
    "show(gridplot([[min_samples_plot, min_samples_plot_filtered]], sizing_mode='scale_both'))"
   ]
  },
  {
   "cell_type": "markdown",
   "metadata": {},
   "source": [
    "Dado que el plot normal tiene mucho ruido, nos fijaremos en el suvizado por loess. Se puede ver una región en la que crece desde cero y la puntuación de los no plagiados cae rapidamente."
   ]
  },
  {
   "cell_type": "markdown",
   "metadata": {},
   "source": [
    "## Optimización del minimo número de muestras por división"
   ]
  },
  {
   "cell_type": "markdown",
   "metadata": {},
   "source": [
    "Ahora estudiaremos como afecta a la precisión el minimo numero de muestras necesario para dividir un nodo en sus hijos. En este caso lo estudiaremos como la fracción del total de las muestras que le hemos pasado al clasificador."
   ]
  },
  {
   "cell_type": "code",
   "execution_count": 27,
   "metadata": {
    "scrolled": false
   },
   "outputs": [
    {
     "data": {
      "text/html": [
       "\n",
       "\n",
       "\n",
       "\n",
       "\n",
       "\n",
       "  <div class=\"bk-root\" id=\"dfbacf72-6129-42dc-9331-0e615b478acb\" data-root-id=\"7599\"></div>\n"
      ]
     },
     "metadata": {},
     "output_type": "display_data"
    },
    {
     "data": {
      "application/javascript": [
       "(function(root) {\n",
       "  function embed_document(root) {\n",
       "    \n",
       "  var docs_json = {\"61ea0fad-531b-4e30-bc71-8f79bdc109f2\":{\"roots\":{\"references\":[{\"attributes\":{\"children\":[{\"id\":\"7598\"},{\"id\":\"7596\"}],\"sizing_mode\":\"scale_both\"},\"id\":\"7599\",\"type\":\"Column\"},{\"attributes\":{\"axis\":{\"id\":\"7521\"},\"ticker\":null},\"id\":\"7524\",\"type\":\"Grid\"},{\"attributes\":{},\"id\":\"7515\",\"type\":\"DataRange1d\"},{\"attributes\":{\"line_alpha\":0.1,\"line_color\":\"orange\",\"x\":{\"field\":\"x\"},\"y\":{\"field\":\"y\"}},\"id\":\"7560\",\"type\":\"Line\"},{\"attributes\":{},\"id\":\"7530\",\"type\":\"WheelZoomTool\"},{\"attributes\":{},\"id\":\"7466\",\"type\":\"WheelZoomTool\"},{\"attributes\":{},\"id\":\"7532\",\"type\":\"SaveTool\"},{\"attributes\":{\"data_source\":{\"id\":\"7479\"},\"glyph\":{\"id\":\"7480\"},\"hover_glyph\":null,\"muted_glyph\":null,\"nonselection_glyph\":{\"id\":\"7481\"},\"selection_glyph\":null,\"view\":{\"id\":\"7483\"}},\"id\":\"7482\",\"type\":\"GlyphRenderer\"},{\"attributes\":{\"label\":{\"value\":\"Plagiarized\"},\"renderers\":[{\"id\":\"7561\"}]},\"id\":\"7573\",\"type\":\"LegendItem\"},{\"attributes\":{\"toolbars\":[{\"id\":\"7472\"},{\"id\":\"7536\"}],\"tools\":[{\"id\":\"7465\"},{\"id\":\"7466\"},{\"id\":\"7467\"},{\"id\":\"7468\"},{\"id\":\"7469\"},{\"id\":\"7470\"},{\"id\":\"7529\"},{\"id\":\"7530\"},{\"id\":\"7531\"},{\"id\":\"7532\"},{\"id\":\"7533\"},{\"id\":\"7534\"}]},\"id\":\"7597\",\"type\":\"ProxyToolbar\"},{\"attributes\":{},\"id\":\"7522\",\"type\":\"BasicTicker\"},{\"attributes\":{\"data_source\":{\"id\":\"7494\"},\"glyph\":{\"id\":\"7495\"},\"hover_glyph\":null,\"muted_glyph\":null,\"nonselection_glyph\":{\"id\":\"7496\"},\"selection_glyph\":null,\"view\":{\"id\":\"7498\"}},\"id\":\"7497\",\"type\":\"GlyphRenderer\"},{\"attributes\":{\"axis\":{\"id\":\"7525\"},\"dimension\":1,\"ticker\":null},\"id\":\"7528\",\"type\":\"Grid\"},{\"attributes\":{},\"id\":\"7451\",\"type\":\"DataRange1d\"},{\"attributes\":{},\"id\":\"7517\",\"type\":\"LinearScale\"},{\"attributes\":{\"overlay\":{\"id\":\"7471\"}},\"id\":\"7467\",\"type\":\"BoxZoomTool\"},{\"attributes\":{\"line_color\":\"orange\",\"x\":{\"field\":\"x\"},\"y\":{\"field\":\"y\"}},\"id\":\"7559\",\"type\":\"Line\"},{\"attributes\":{},\"id\":\"7526\",\"type\":\"BasicTicker\"},{\"attributes\":{\"axis_label\":\"fraction\",\"formatter\":{\"id\":\"7552\"},\"ticker\":{\"id\":\"7522\"}},\"id\":\"7521\",\"type\":\"LinearAxis\"},{\"attributes\":{},\"id\":\"7458\",\"type\":\"BasicTicker\"},{\"attributes\":{\"data\":{\"x\":{\"__ndarray__\":\"LUMc6+I2Gj+58b71LXKMP3bV0xL3V5w/CBlklWs7pT9VR16h20qsP9E6rNYlrbE/91Gp3N00tT8eaabilby4P0SAo+hNRLw/apeg7gXMvz9I10763qnBP9tiTf26bcM/bu5LAJcxxT8BekoDc/XGP5UFSQZPucg/KJFHCSt9yj+7HEYMB0HMP06oRA/jBM4/4TNDEr/Izz+636CKTcbQP4QlIIw7qNE/TWufjSmK0j8XsR6PF2zTP+H2nZAFTtQ/qjwdkvMv1T90gpyT4RHWPz3IG5XP89Y/Bw6blr3V1z/RUxqYq7fYP5qZmZmZmdk/\",\"dtype\":\"float64\",\"order\":\"little\",\"shape\":[30]},\"y\":{\"__ndarray__\":\"vTHbwdR36j8OdGlvp2fqP8Mmthl7meo/U+ViXcMm6j/gyxjQNxjqP2YiHNpmI+o/hjMttbfZ6T8jMcUy1ALqPxpeGKM/suk/hgSgxuKZ6T+3Qk2M04PpP5y417yrkuk/WmgVIheX6T8YLk1tW2fpP0WKglmOYuk/hTcIanMg6T8mQhFYVu7oP65/iie+7+g/p2MIXS+76D+khzuNBKvoP2jwIuqlmeg//HWXv8a86D9Nw5VVNp3oPzD0xuiJq+g/ellRAeCm6D8L2QQ163foPzr534OJwug/qX/dM9au6D/Gljq9SKToP9gfFV6TjOg/\",\"dtype\":\"float64\",\"order\":\"little\",\"shape\":[30]}},\"selected\":{\"id\":\"7570\"},\"selection_policy\":{\"id\":\"7571\"}},\"id\":\"7558\",\"type\":\"ColumnDataSource\"},{\"attributes\":{\"axis_label\":\"F1\",\"formatter\":{\"id\":\"7486\"},\"ticker\":{\"id\":\"7462\"}},\"id\":\"7461\",\"type\":\"LinearAxis\"},{\"attributes\":{},\"id\":\"7519\",\"type\":\"LinearScale\"},{\"attributes\":{\"text\":\"F1 score as a function of the fraction of minimum samples required to split\"},\"id\":\"7511\",\"type\":\"Title\"},{\"attributes\":{},\"id\":\"7470\",\"type\":\"HelpTool\"},{\"attributes\":{},\"id\":\"7529\",\"type\":\"PanTool\"},{\"attributes\":{\"data\":{\"x\":{\"__ndarray__\":\"LUMc6+I2Gj+58b71LXKMP3bV0xL3V5w/CBlklWs7pT9VR16h20qsP9E6rNYlrbE/91Gp3N00tT8eaabilby4P0SAo+hNRLw/apeg7gXMvz9I10763qnBP9tiTf26bcM/bu5LAJcxxT8BekoDc/XGP5UFSQZPucg/KJFHCSt9yj+7HEYMB0HMP06oRA/jBM4/4TNDEr/Izz+636CKTcbQP4QlIIw7qNE/TWufjSmK0j8XsR6PF2zTP+H2nZAFTtQ/qjwdkvMv1T90gpyT4RHWPz3IG5XP89Y/Bw6blr3V1z/RUxqYq7fYP5qZmZmZmdk/\",\"dtype\":\"float64\",\"order\":\"little\",\"shape\":[30]},\"y\":{\"__ndarray__\":\"YvAkY+fA6j+IzkvEV7nqP7VCE3/k5Oo/Snx7hfa56j+2CleVeZ/qP41favrFpuo/7sFQdopW6j9GANq3zIzqPygzwicPM+o/E+JQVe0a6j8zZbz10AjqP/IxcxuEHeo/As5mleEd6j+uxapbqQDqP/PA0ul1+Ok/NkaOAdA86T8VqPgMVvfoP5NxFWUY5eg/5eGQjImh6D/QLNC+uaLoPyRvO0Xjd+g/Az6Z+2N86D83l3dwcXLoP1k5PhshqOg/XU3w8qN76D/TVo0FfGPoP3dJOSkWr+g/SohiS52x6D/GArSMHpToP/7gW06bteg/\",\"dtype\":\"float64\",\"order\":\"little\",\"shape\":[30]}},\"selected\":{\"id\":\"7489\"},\"selection_policy\":{\"id\":\"7490\"}},\"id\":\"7479\",\"type\":\"ColumnDataSource\"},{\"attributes\":{\"label\":{\"value\":\"Non-plagiarized\"},\"renderers\":[{\"id\":\"7482\"}]},\"id\":\"7493\",\"type\":\"LegendItem\"},{\"attributes\":{\"active_drag\":\"auto\",\"active_inspect\":\"auto\",\"active_multi\":null,\"active_scroll\":\"auto\",\"active_tap\":\"auto\",\"tools\":[{\"id\":\"7529\"},{\"id\":\"7530\"},{\"id\":\"7531\"},{\"id\":\"7532\"},{\"id\":\"7533\"},{\"id\":\"7534\"}]},\"id\":\"7536\",\"type\":\"Toolbar\"},{\"attributes\":{\"toolbar\":{\"id\":\"7597\"},\"toolbar_location\":\"above\"},\"id\":\"7598\",\"type\":\"ToolbarBox\"},{\"attributes\":{\"children\":[[{\"id\":\"7446\"},0,0],[{\"id\":\"7510\"},0,1]]},\"id\":\"7596\",\"type\":\"GridBox\"},{\"attributes\":{},\"id\":\"7486\",\"type\":\"BasicTickFormatter\"},{\"attributes\":{\"data_source\":{\"id\":\"7543\"},\"glyph\":{\"id\":\"7544\"},\"hover_glyph\":null,\"muted_glyph\":null,\"nonselection_glyph\":{\"id\":\"7545\"},\"selection_glyph\":null,\"view\":{\"id\":\"7547\"}},\"id\":\"7546\",\"type\":\"GlyphRenderer\"},{\"attributes\":{\"bottom_units\":\"screen\",\"fill_alpha\":0.5,\"fill_color\":\"lightgrey\",\"left_units\":\"screen\",\"level\":\"overlay\",\"line_alpha\":1.0,\"line_color\":\"black\",\"line_dash\":[4,4],\"line_width\":2,\"right_units\":\"screen\",\"top_units\":\"screen\"},\"id\":\"7471\",\"type\":\"BoxAnnotation\"},{\"attributes\":{\"data_source\":{\"id\":\"7558\"},\"glyph\":{\"id\":\"7559\"},\"hover_glyph\":null,\"muted_glyph\":null,\"nonselection_glyph\":{\"id\":\"7560\"},\"selection_glyph\":null,\"view\":{\"id\":\"7562\"}},\"id\":\"7561\",\"type\":\"GlyphRenderer\"},{\"attributes\":{},\"id\":\"7462\",\"type\":\"BasicTicker\"},{\"attributes\":{},\"id\":\"7489\",\"type\":\"Selection\"},{\"attributes\":{},\"id\":\"7571\",\"type\":\"UnionRenderers\"},{\"attributes\":{},\"id\":\"7455\",\"type\":\"LinearScale\"},{\"attributes\":{\"source\":{\"id\":\"7479\"}},\"id\":\"7483\",\"type\":\"CDSView\"},{\"attributes\":{\"text\":\"F1 score as a function of the fraction of the minimum samples required to split\"},\"id\":\"7447\",\"type\":\"Title\"},{\"attributes\":{\"overlay\":{\"id\":\"7535\"}},\"id\":\"7531\",\"type\":\"BoxZoomTool\"},{\"attributes\":{\"axis\":{\"id\":\"7457\"},\"ticker\":null},\"id\":\"7460\",\"type\":\"Grid\"},{\"attributes\":{},\"id\":\"7490\",\"type\":\"UnionRenderers\"},{\"attributes\":{},\"id\":\"7533\",\"type\":\"ResetTool\"},{\"attributes\":{\"label\":{\"value\":\"Plagiarized\"},\"renderers\":[{\"id\":\"7497\"}]},\"id\":\"7509\",\"type\":\"LegendItem\"},{\"attributes\":{\"data\":{\"x\":{\"__ndarray__\":\"LUMc6+I2Gj+58b71LXKMP3bV0xL3V5w/CBlklWs7pT9VR16h20qsP9E6rNYlrbE/91Gp3N00tT8eaabilby4P0SAo+hNRLw/apeg7gXMvz9I10763qnBP9tiTf26bcM/bu5LAJcxxT8BekoDc/XGP5UFSQZPucg/KJFHCSt9yj+7HEYMB0HMP06oRA/jBM4/4TNDEr/Izz+636CKTcbQP4QlIIw7qNE/TWufjSmK0j8XsR6PF2zTP+H2nZAFTtQ/qjwdkvMv1T90gpyT4RHWPz3IG5XP89Y/Bw6blr3V1z/RUxqYq7fYP5qZmZmZmdk/\",\"dtype\":\"float64\",\"order\":\"little\",\"shape\":[30]},\"y\":{\"__ndarray__\":\"YvAkY+fA6j+IzkvEV7nqP7VCE3/k5Oo/Snx7hfa56j+2CleVeZ/qP41favrFpuo/7sFQdopW6j9GANq3zIzqPygzwicPM+o/E+JQVe0a6j8zZbz10AjqP/IxcxuEHeo/As5mleEd6j+uxapbqQDqP/PA0ul1+Ok/NkaOAdA86T8VqPgMVvfoP5NxFWUY5eg/5eGQjImh6D/QLNC+uaLoPyRvO0Xjd+g/Az6Z+2N86D83l3dwcXLoP1k5PhshqOg/XU3w8qN76D/TVo0FfGPoP3dJOSkWr+g/SohiS52x6D/GArSMHpToP/7gW06bteg/\",\"dtype\":\"float64\",\"order\":\"little\",\"shape\":[30]}},\"selected\":{\"id\":\"7553\"},\"selection_policy\":{\"id\":\"7554\"}},\"id\":\"7543\",\"type\":\"ColumnDataSource\"},{\"attributes\":{},\"id\":\"7488\",\"type\":\"BasicTickFormatter\"},{\"attributes\":{\"source\":{\"id\":\"7558\"}},\"id\":\"7562\",\"type\":\"CDSView\"},{\"attributes\":{\"axis_label\":\"F1\",\"formatter\":{\"id\":\"7550\"},\"ticker\":{\"id\":\"7526\"}},\"id\":\"7525\",\"type\":\"LinearAxis\"},{\"attributes\":{},\"id\":\"7469\",\"type\":\"ResetTool\"},{\"attributes\":{\"line_color\":\"steelblue\",\"x\":{\"field\":\"x\"},\"y\":{\"field\":\"y\"}},\"id\":\"7480\",\"type\":\"Line\"},{\"attributes\":{},\"id\":\"7453\",\"type\":\"LinearScale\"},{\"attributes\":{},\"id\":\"7534\",\"type\":\"HelpTool\"},{\"attributes\":{},\"id\":\"7465\",\"type\":\"PanTool\"},{\"attributes\":{\"below\":[{\"id\":\"7521\"}],\"center\":[{\"id\":\"7524\"},{\"id\":\"7528\"},{\"id\":\"7556\"}],\"left\":[{\"id\":\"7525\"}],\"renderers\":[{\"id\":\"7546\"},{\"id\":\"7561\"}],\"sizing_mode\":\"scale_both\",\"title\":{\"id\":\"7511\"},\"toolbar\":{\"id\":\"7536\"},\"toolbar_location\":null,\"x_range\":{\"id\":\"7513\"},\"x_scale\":{\"id\":\"7517\"},\"y_range\":{\"id\":\"7515\"},\"y_scale\":{\"id\":\"7519\"}},\"id\":\"7510\",\"subtype\":\"Figure\",\"type\":\"Plot\"},{\"attributes\":{},\"id\":\"7468\",\"type\":\"SaveTool\"},{\"attributes\":{\"items\":[{\"id\":\"7493\"},{\"id\":\"7509\"}]},\"id\":\"7492\",\"type\":\"Legend\"},{\"attributes\":{},\"id\":\"7449\",\"type\":\"DataRange1d\"},{\"attributes\":{},\"id\":\"7513\",\"type\":\"DataRange1d\"},{\"attributes\":{\"axis_label\":\"fraction\",\"formatter\":{\"id\":\"7488\"},\"ticker\":{\"id\":\"7458\"}},\"id\":\"7457\",\"type\":\"LinearAxis\"},{\"attributes\":{\"line_alpha\":0.1,\"line_color\":\"steelblue\",\"x\":{\"field\":\"x\"},\"y\":{\"field\":\"y\"}},\"id\":\"7481\",\"type\":\"Line\"},{\"attributes\":{},\"id\":\"7570\",\"type\":\"Selection\"},{\"attributes\":{\"axis\":{\"id\":\"7461\"},\"dimension\":1,\"ticker\":null},\"id\":\"7464\",\"type\":\"Grid\"},{\"attributes\":{\"line_alpha\":0.1,\"line_color\":\"steelblue\",\"x\":{\"field\":\"x\"},\"y\":{\"field\":\"y\"}},\"id\":\"7545\",\"type\":\"Line\"},{\"attributes\":{},\"id\":\"7507\",\"type\":\"UnionRenderers\"},{\"attributes\":{\"items\":[{\"id\":\"7557\"},{\"id\":\"7573\"}]},\"id\":\"7556\",\"type\":\"Legend\"},{\"attributes\":{\"below\":[{\"id\":\"7457\"}],\"center\":[{\"id\":\"7460\"},{\"id\":\"7464\"},{\"id\":\"7492\"}],\"left\":[{\"id\":\"7461\"}],\"renderers\":[{\"id\":\"7482\"},{\"id\":\"7497\"}],\"sizing_mode\":\"scale_both\",\"title\":{\"id\":\"7447\"},\"toolbar\":{\"id\":\"7472\"},\"toolbar_location\":null,\"x_range\":{\"id\":\"7449\"},\"x_scale\":{\"id\":\"7453\"},\"y_range\":{\"id\":\"7451\"},\"y_scale\":{\"id\":\"7455\"}},\"id\":\"7446\",\"subtype\":\"Figure\",\"type\":\"Plot\"},{\"attributes\":{\"label\":{\"value\":\"Non-plagiarized\"},\"renderers\":[{\"id\":\"7546\"}]},\"id\":\"7557\",\"type\":\"LegendItem\"},{\"attributes\":{},\"id\":\"7554\",\"type\":\"UnionRenderers\"},{\"attributes\":{\"source\":{\"id\":\"7543\"}},\"id\":\"7547\",\"type\":\"CDSView\"},{\"attributes\":{\"line_color\":\"orange\",\"x\":{\"field\":\"x\"},\"y\":{\"field\":\"y\"}},\"id\":\"7495\",\"type\":\"Line\"},{\"attributes\":{\"line_alpha\":0.1,\"line_color\":\"orange\",\"x\":{\"field\":\"x\"},\"y\":{\"field\":\"y\"}},\"id\":\"7496\",\"type\":\"Line\"},{\"attributes\":{\"active_drag\":\"auto\",\"active_inspect\":\"auto\",\"active_multi\":null,\"active_scroll\":\"auto\",\"active_tap\":\"auto\",\"tools\":[{\"id\":\"7465\"},{\"id\":\"7466\"},{\"id\":\"7467\"},{\"id\":\"7468\"},{\"id\":\"7469\"},{\"id\":\"7470\"}]},\"id\":\"7472\",\"type\":\"Toolbar\"},{\"attributes\":{},\"id\":\"7553\",\"type\":\"Selection\"},{\"attributes\":{\"line_color\":\"steelblue\",\"x\":{\"field\":\"x\"},\"y\":{\"field\":\"y\"}},\"id\":\"7544\",\"type\":\"Line\"},{\"attributes\":{},\"id\":\"7552\",\"type\":\"BasicTickFormatter\"},{\"attributes\":{\"source\":{\"id\":\"7494\"}},\"id\":\"7498\",\"type\":\"CDSView\"},{\"attributes\":{},\"id\":\"7550\",\"type\":\"BasicTickFormatter\"},{\"attributes\":{\"data\":{\"x\":{\"__ndarray__\":\"LUMc6+I2Gj+58b71LXKMP3bV0xL3V5w/CBlklWs7pT9VR16h20qsP9E6rNYlrbE/91Gp3N00tT8eaabilby4P0SAo+hNRLw/apeg7gXMvz9I10763qnBP9tiTf26bcM/bu5LAJcxxT8BekoDc/XGP5UFSQZPucg/KJFHCSt9yj+7HEYMB0HMP06oRA/jBM4/4TNDEr/Izz+636CKTcbQP4QlIIw7qNE/TWufjSmK0j8XsR6PF2zTP+H2nZAFTtQ/qjwdkvMv1T90gpyT4RHWPz3IG5XP89Y/Bw6blr3V1z/RUxqYq7fYP5qZmZmZmdk/\",\"dtype\":\"float64\",\"order\":\"little\",\"shape\":[30]},\"y\":{\"__ndarray__\":\"vTHbwdR36j8OdGlvp2fqP8Mmthl7meo/U+ViXcMm6j/gyxjQNxjqP2YiHNpmI+o/hjMttbfZ6T8jMcUy1ALqPxpeGKM/suk/hgSgxuKZ6T+3Qk2M04PpP5y417yrkuk/WmgVIheX6T8YLk1tW2fpP0WKglmOYuk/hTcIanMg6T8mQhFYVu7oP65/iie+7+g/p2MIXS+76D+khzuNBKvoP2jwIuqlmeg//HWXv8a86D9Nw5VVNp3oPzD0xuiJq+g/ellRAeCm6D8L2QQ163foPzr534OJwug/qX/dM9au6D/Gljq9SKToP9gfFV6TjOg/\",\"dtype\":\"float64\",\"order\":\"little\",\"shape\":[30]}},\"selected\":{\"id\":\"7506\"},\"selection_policy\":{\"id\":\"7507\"}},\"id\":\"7494\",\"type\":\"ColumnDataSource\"},{\"attributes\":{\"bottom_units\":\"screen\",\"fill_alpha\":0.5,\"fill_color\":\"lightgrey\",\"left_units\":\"screen\",\"level\":\"overlay\",\"line_alpha\":1.0,\"line_color\":\"black\",\"line_dash\":[4,4],\"line_width\":2,\"right_units\":\"screen\",\"top_units\":\"screen\"},\"id\":\"7535\",\"type\":\"BoxAnnotation\"},{\"attributes\":{},\"id\":\"7506\",\"type\":\"Selection\"}],\"root_ids\":[\"7599\"]},\"title\":\"Bokeh Application\",\"version\":\"2.1.1\"}};\n",
       "  var render_items = [{\"docid\":\"61ea0fad-531b-4e30-bc71-8f79bdc109f2\",\"root_ids\":[\"7599\"],\"roots\":{\"7599\":\"dfbacf72-6129-42dc-9331-0e615b478acb\"}}];\n",
       "  root.Bokeh.embed.embed_items_notebook(docs_json, render_items);\n",
       "\n",
       "  }\n",
       "  if (root.Bokeh !== undefined) {\n",
       "    embed_document(root);\n",
       "  } else {\n",
       "    var attempts = 0;\n",
       "    var timer = setInterval(function(root) {\n",
       "      if (root.Bokeh !== undefined) {\n",
       "        clearInterval(timer);\n",
       "        embed_document(root);\n",
       "      } else {\n",
       "        attempts++;\n",
       "        if (attempts > 100) {\n",
       "          clearInterval(timer);\n",
       "          console.log(\"Bokeh: ERROR: Unable to run BokehJS code because BokehJS library is missing\");\n",
       "        }\n",
       "      }\n",
       "    }, 10, root)\n",
       "  }\n",
       "})(window);"
      ],
      "application/vnd.bokehjs_exec.v0+json": ""
     },
     "metadata": {
      "application/vnd.bokehjs_exec.v0+json": {
       "id": "7599"
      }
     },
     "output_type": "display_data"
    }
   ],
   "source": [
    "def calc_F1_split(split):\n",
    "    clf = RandomForestClassifier(min_samples_split = split, max_depth = 7, min_samples_leaf = 5)\n",
    "\n",
    "    # Make folds of data for cross validation\n",
    "    k_fold = KFold(n_splits = 10, shuffle = True)\n",
    "\n",
    "    results = []\n",
    "    for train, test in k_fold.split(X):\n",
    "        clf.fit(X.iloc[train], y.iloc[train])\n",
    "        results.append(f1_score(y.iloc[test], clf.predict(X.iloc[test]), average = None))\n",
    "    \n",
    "    return sum(results) / len(results)\n",
    "        \n",
    "splits = np.linspace(0.0001, 0.4, num = 30)\n",
    "F1 = np.stack(list(map(calc_F1_split, splits)), axis = 0)\n",
    "filtered_F1 = np.column_stack((lowess(F1[:, 0], splits, is_sorted=True, frac=0.06, it=0)[:, 1],\n",
    "                               lowess(F1[:, 1], splits, is_sorted=True, frac=0.06, it=0)[:, 1]))\n",
    "# Normal plot\n",
    "split_plot = figure(title = \"F1 score as a function of the fraction of the minimum samples required to split\",\n",
    "                   x_axis_label = \"fraction\",\n",
    "                   y_axis_label = \"F1\")\n",
    "\n",
    "split_plot.line(splits, F1[:, 0], legend_label = \"Non-plagiarized\", line_color = \"steelblue\")\n",
    "split_plot.line(splits, F1[:, 1], legend_label = \"Plagiarized\", line_color = \"orange\")\n",
    "\n",
    "\n",
    "# Filtered plot to remove some noise and better appreciate tendencies\n",
    "split_plot_filtered = figure(title = \"F1 score as a function of the fraction of minimum samples required to split\",\n",
    "                            x_axis_label = \"fraction\",\n",
    "                            y_axis_label = \"F1\")\n",
    "\n",
    "split_plot_filtered.line(splits, filtered_F1[:, 0], legend_label = \"Non-plagiarized\", line_color = \"steelblue\")\n",
    "split_plot_filtered.line(splits, filtered_F1[:, 1], legend_label = \"Plagiarized\", line_color = \"orange\")\n",
    "\n",
    "\n",
    "show(gridplot([[split_plot, split_plot_filtered]], sizing_mode='scale_both'))\n",
    "\n"
   ]
  },
  {
   "cell_type": "markdown",
   "metadata": {},
   "source": [
    "## Optimización del desdeco minimo en la impureza"
   ]
  },
  {
   "cell_type": "markdown",
   "metadata": {},
   "source": [
    "La impureza de un nodo mide a groso modo la homegenidad de de las etiquetas que tiene dicho nodo. El parametro que \n",
    "estamos estudiando lo que hace es ajustar si creara un nueva división en base a si la reducción en la impureza que supone es \n",
    "igual o menor a un valor establecido."
   ]
  },
  {
   "cell_type": "code",
   "execution_count": 8,
   "metadata": {},
   "outputs": [
    {
     "data": {
      "text/html": [
       "\n",
       "\n",
       "\n",
       "\n",
       "\n",
       "\n",
       "  <div class=\"bk-root\" id=\"d315d21f-5fdd-47f7-96ed-540032559ad6\" data-root-id=\"1593\"></div>\n"
      ]
     },
     "metadata": {},
     "output_type": "display_data"
    },
    {
     "data": {
      "application/javascript": [
       "(function(root) {\n",
       "  function embed_document(root) {\n",
       "    \n",
       "  var docs_json = {\"38b1e1ae-7e90-4bd3-9f76-dc3bdafaeb0b\":{\"roots\":{\"references\":[{\"attributes\":{\"children\":[{\"id\":\"1592\"},{\"id\":\"1590\"}],\"sizing_mode\":\"scale_both\"},\"id\":\"1593\",\"type\":\"Column\"},{\"attributes\":{\"active_drag\":\"auto\",\"active_inspect\":\"auto\",\"active_multi\":null,\"active_scroll\":\"auto\",\"active_tap\":\"auto\",\"tools\":[{\"id\":\"1523\"},{\"id\":\"1524\"},{\"id\":\"1525\"},{\"id\":\"1526\"},{\"id\":\"1527\"},{\"id\":\"1528\"}]},\"id\":\"1530\",\"type\":\"Toolbar\"},{\"attributes\":{\"axis_label\":\"fraction\",\"formatter\":{\"id\":\"1482\"},\"ticker\":{\"id\":\"1452\"}},\"id\":\"1451\",\"type\":\"LinearAxis\"},{\"attributes\":{},\"id\":\"1482\",\"type\":\"BasicTickFormatter\"},{\"attributes\":{\"axis\":{\"id\":\"1451\"},\"ticker\":null},\"id\":\"1454\",\"type\":\"Grid\"},{\"attributes\":{\"data_source\":{\"id\":\"1473\"},\"glyph\":{\"id\":\"1474\"},\"hover_glyph\":null,\"muted_glyph\":null,\"nonselection_glyph\":{\"id\":\"1475\"},\"selection_glyph\":null,\"view\":{\"id\":\"1477\"}},\"id\":\"1476\",\"type\":\"GlyphRenderer\"},{\"attributes\":{\"data\":{\"x\":{\"__ndarray__\":\"AAAAAAAAAACWexphuaehP5Z7GmG5p7E/YbmnEZZ7uj+WexphuafBP3waYbmnEcY/YbmnEZZ7yj9GWO5phOXOP5Z7GmG5p9E/Ccs9jbDc0z98GmG5pxHWP+5phOWeRtg/YbmnEZZ72j/UCMs9jbDcP0ZY7mmE5d4/3dMIyz2N4D+WexphuafhP08jLPc0wuI/Ccs9jbDc4z/Cck8jLPfkP3waYbmnEeY/NcJyTyMs5z/uaYTlnkboP6gRlnsaYek/YbmnEZZ76j8aYbmnEZbrP9QIyz2NsOw/jbDc0wjL7T9GWO5phOXuPwAAAAAAAPA/\",\"dtype\":\"float64\",\"order\":\"little\",\"shape\":[30]},\"y\":{\"__ndarray__\":\"nYAZzykM6j9yQEqlqJjpP3i4Pooqp+k/C66O/w6D6T+KIOX2FZ7pP4ZtNlJeVek/z/8A1MXl5j+rgPyTGh7dP3GOBd9dc9Q/BjYLsLGczz/yp4xDg6DUP3011wMitc8/Rp6gRdLT3D/GeuPf2vjPP55KlaIOKdA/XY1h9TQL1D8ii6mZ03LYP4KYe4nNgc8/6xo9bqp+1D9oNKnXH73YP5cpQtNs99g/tiaoF65n1D+rMHD/xZbUP3udJEKEgNQ/lHyi5USi1D93sIvYJYrUP1CDse959tg/Aoe+5RhL0D/m1izk6YzUP/6BqJKHCN0/\",\"dtype\":\"float64\",\"order\":\"little\",\"shape\":[30]}},\"selected\":{\"id\":\"1501\"},\"selection_policy\":{\"id\":\"1502\"}},\"id\":\"1488\",\"type\":\"ColumnDataSource\"},{\"attributes\":{},\"id\":\"1445\",\"type\":\"DataRange1d\"},{\"attributes\":{\"children\":[[{\"id\":\"1440\"},0,0],[{\"id\":\"1504\"},0,1]]},\"id\":\"1590\",\"type\":\"GridBox\"},{\"attributes\":{},\"id\":\"1528\",\"type\":\"HelpTool\"},{\"attributes\":{},\"id\":\"1452\",\"type\":\"BasicTicker\"},{\"attributes\":{\"active_drag\":\"auto\",\"active_inspect\":\"auto\",\"active_multi\":null,\"active_scroll\":\"auto\",\"active_tap\":\"auto\",\"tools\":[{\"id\":\"1459\"},{\"id\":\"1460\"},{\"id\":\"1461\"},{\"id\":\"1462\"},{\"id\":\"1463\"},{\"id\":\"1464\"}]},\"id\":\"1466\",\"type\":\"Toolbar\"},{\"attributes\":{},\"id\":\"1456\",\"type\":\"BasicTicker\"},{\"attributes\":{},\"id\":\"1459\",\"type\":\"PanTool\"},{\"attributes\":{\"data_source\":{\"id\":\"1488\"},\"glyph\":{\"id\":\"1489\"},\"hover_glyph\":null,\"muted_glyph\":null,\"nonselection_glyph\":{\"id\":\"1490\"},\"selection_glyph\":null,\"view\":{\"id\":\"1492\"}},\"id\":\"1491\",\"type\":\"GlyphRenderer\"},{\"attributes\":{\"axis\":{\"id\":\"1455\"},\"dimension\":1,\"ticker\":null},\"id\":\"1458\",\"type\":\"Grid\"},{\"attributes\":{},\"id\":\"1463\",\"type\":\"ResetTool\"},{\"attributes\":{\"line_alpha\":0.1,\"line_color\":\"orange\",\"x\":{\"field\":\"x\"},\"y\":{\"field\":\"y\"}},\"id\":\"1490\",\"type\":\"Line\"},{\"attributes\":{},\"id\":\"1484\",\"type\":\"Selection\"},{\"attributes\":{},\"id\":\"1480\",\"type\":\"BasicTickFormatter\"},{\"attributes\":{\"line_color\":\"orange\",\"x\":{\"field\":\"x\"},\"y\":{\"field\":\"y\"}},\"id\":\"1489\",\"type\":\"Line\"},{\"attributes\":{},\"id\":\"1447\",\"type\":\"LinearScale\"},{\"attributes\":{\"text\":\"F1 score as a function of the minimum entropy decrease required to split\"},\"id\":\"1441\",\"type\":\"Title\"},{\"attributes\":{},\"id\":\"1527\",\"type\":\"ResetTool\"},{\"attributes\":{},\"id\":\"1485\",\"type\":\"UnionRenderers\"},{\"attributes\":{\"below\":[{\"id\":\"1515\"}],\"center\":[{\"id\":\"1518\"},{\"id\":\"1522\"},{\"id\":\"1550\"}],\"left\":[{\"id\":\"1519\"}],\"renderers\":[{\"id\":\"1540\"},{\"id\":\"1555\"}],\"sizing_mode\":\"scale_both\",\"title\":{\"id\":\"1505\"},\"toolbar\":{\"id\":\"1530\"},\"toolbar_location\":null,\"x_range\":{\"id\":\"1507\"},\"x_scale\":{\"id\":\"1511\"},\"y_range\":{\"id\":\"1509\"},\"y_scale\":{\"id\":\"1513\"}},\"id\":\"1504\",\"subtype\":\"Figure\",\"type\":\"Plot\"},{\"attributes\":{\"data\":{\"x\":{\"__ndarray__\":\"AAAAAAAAAACWexphuaehP5Z7GmG5p7E/YbmnEZZ7uj+WexphuafBP3waYbmnEcY/YbmnEZZ7yj9GWO5phOXOP5Z7GmG5p9E/Ccs9jbDc0z98GmG5pxHWP+5phOWeRtg/YbmnEZZ72j/UCMs9jbDcP0ZY7mmE5d4/3dMIyz2N4D+WexphuafhP08jLPc0wuI/Ccs9jbDc4z/Cck8jLPfkP3waYbmnEeY/NcJyTyMs5z/uaYTlnkboP6gRlnsaYek/YbmnEZZ76j8aYbmnEZbrP9QIyz2NsOw/jbDc0wjL7T9GWO5phOXuPwAAAAAAAPA/\",\"dtype\":\"float64\",\"order\":\"little\",\"shape\":[30]},\"y\":{\"__ndarray__\":\"DTyQVRJc6j/KhLW7dMTpP66RtIBczOk/8l6MFsCy6T/+Ua+Yu9DpP0Wbm5DSguk/wOdBAoQN6T92au4KJBrIP8GFGY13dtQ/l4Ts+0da2D8uq0np0p/UP1nnUkbFZdg/vbYrsCN6xz/6EAFuj4fYP0mQNef7s9g/2IXJX+8Q1D9zL+rC7c7PP4bo/QDRTtg/vhDUP/yA1D+i6Fv4XjPQP67EPSc5a9A/3TF2rd9q1D/2kV213ZbUP+lO8kqve9Q/Girp8hWg1D96ilpwZYvUPymMgj5HbtA/ekQewMPT2D9hWxpWeozUP8iTKojE6sc/\",\"dtype\":\"float64\",\"order\":\"little\",\"shape\":[30]}},\"selected\":{\"id\":\"1484\"},\"selection_policy\":{\"id\":\"1485\"}},\"id\":\"1473\",\"type\":\"ColumnDataSource\"},{\"attributes\":{},\"id\":\"1516\",\"type\":\"BasicTicker\"},{\"attributes\":{},\"id\":\"1462\",\"type\":\"SaveTool\"},{\"attributes\":{\"axis_label\":\"fraction\",\"formatter\":{\"id\":\"1546\"},\"ticker\":{\"id\":\"1516\"}},\"id\":\"1515\",\"type\":\"LinearAxis\"},{\"attributes\":{},\"id\":\"1464\",\"type\":\"HelpTool\"},{\"attributes\":{\"source\":{\"id\":\"1488\"}},\"id\":\"1492\",\"type\":\"CDSView\"},{\"attributes\":{},\"id\":\"1460\",\"type\":\"WheelZoomTool\"},{\"attributes\":{},\"id\":\"1526\",\"type\":\"SaveTool\"},{\"attributes\":{},\"id\":\"1449\",\"type\":\"LinearScale\"},{\"attributes\":{},\"id\":\"1443\",\"type\":\"DataRange1d\"},{\"attributes\":{\"axis_label\":\"F1\",\"formatter\":{\"id\":\"1480\"},\"ticker\":{\"id\":\"1456\"}},\"id\":\"1455\",\"type\":\"LinearAxis\"},{\"attributes\":{\"items\":[{\"id\":\"1487\"},{\"id\":\"1503\"}]},\"id\":\"1486\",\"type\":\"Legend\"},{\"attributes\":{},\"id\":\"1544\",\"type\":\"BasicTickFormatter\"},{\"attributes\":{},\"id\":\"1546\",\"type\":\"BasicTickFormatter\"},{\"attributes\":{\"source\":{\"id\":\"1473\"}},\"id\":\"1477\",\"type\":\"CDSView\"},{\"attributes\":{},\"id\":\"1523\",\"type\":\"PanTool\"},{\"attributes\":{\"toolbars\":[{\"id\":\"1466\"},{\"id\":\"1530\"}],\"tools\":[{\"id\":\"1459\"},{\"id\":\"1460\"},{\"id\":\"1461\"},{\"id\":\"1462\"},{\"id\":\"1463\"},{\"id\":\"1464\"},{\"id\":\"1523\"},{\"id\":\"1524\"},{\"id\":\"1525\"},{\"id\":\"1526\"},{\"id\":\"1527\"},{\"id\":\"1528\"}]},\"id\":\"1591\",\"type\":\"ProxyToolbar\"},{\"attributes\":{\"toolbar\":{\"id\":\"1591\"},\"toolbar_location\":\"above\"},\"id\":\"1592\",\"type\":\"ToolbarBox\"},{\"attributes\":{\"data_source\":{\"id\":\"1552\"},\"glyph\":{\"id\":\"1553\"},\"hover_glyph\":null,\"muted_glyph\":null,\"nonselection_glyph\":{\"id\":\"1554\"},\"selection_glyph\":null,\"view\":{\"id\":\"1556\"}},\"id\":\"1555\",\"type\":\"GlyphRenderer\"},{\"attributes\":{\"items\":[{\"id\":\"1551\"},{\"id\":\"1567\"}]},\"id\":\"1550\",\"type\":\"Legend\"},{\"attributes\":{},\"id\":\"1509\",\"type\":\"DataRange1d\"},{\"attributes\":{\"text\":\"F1 score as a function of the minimum entropy decrease required to split\"},\"id\":\"1505\",\"type\":\"Title\"},{\"attributes\":{\"axis\":{\"id\":\"1515\"},\"ticker\":null},\"id\":\"1518\",\"type\":\"Grid\"},{\"attributes\":{\"data_source\":{\"id\":\"1537\"},\"glyph\":{\"id\":\"1538\"},\"hover_glyph\":null,\"muted_glyph\":null,\"nonselection_glyph\":{\"id\":\"1539\"},\"selection_glyph\":null,\"view\":{\"id\":\"1541\"}},\"id\":\"1540\",\"type\":\"GlyphRenderer\"},{\"attributes\":{},\"id\":\"1549\",\"type\":\"UnionRenderers\"},{\"attributes\":{\"label\":{\"value\":\"Non-plagiarized\"},\"renderers\":[{\"id\":\"1540\"}]},\"id\":\"1551\",\"type\":\"LegendItem\"},{\"attributes\":{\"data\":{\"x\":{\"__ndarray__\":\"AAAAAAAAAACWexphuaehP5Z7GmG5p7E/YbmnEZZ7uj+WexphuafBP3waYbmnEcY/YbmnEZZ7yj9GWO5phOXOP5Z7GmG5p9E/Ccs9jbDc0z98GmG5pxHWP+5phOWeRtg/YbmnEZZ72j/UCMs9jbDcP0ZY7mmE5d4/3dMIyz2N4D+WexphuafhP08jLPc0wuI/Ccs9jbDc4z/Cck8jLPfkP3waYbmnEeY/NcJyTyMs5z/uaYTlnkboP6gRlnsaYek/YbmnEZZ76j8aYbmnEZbrP9QIyz2NsOw/jbDc0wjL7T9GWO5phOXuPwAAAAAAAPA/\",\"dtype\":\"float64\",\"order\":\"little\",\"shape\":[30]},\"y\":{\"__ndarray__\":\"nYAZzykM6j9yQEqlqJjpP3i4Pooqp+k/C66O/w6D6T+KIOX2FZ7pP4ZtNlJeVek/z/8A1MXl5j+rgPyTGh7dP3GOBd9dc9Q/BjYLsLGczz/yp4xDg6DUP3011wMitc8/Rp6gRdLT3D/GeuPf2vjPP55KlaIOKdA/XY1h9TQL1D8ii6mZ03LYP4KYe4nNgc8/6xo9bqp+1D9oNKnXH73YP5cpQtNs99g/tiaoF65n1D+rMHD/xZbUP3udJEKEgNQ/lHyi5USi1D93sIvYJYrUP1CDse959tg/Aoe+5RhL0D/m1izk6YzUPwaCqJKHCN0/\",\"dtype\":\"float64\",\"order\":\"little\",\"shape\":[30]}},\"selected\":{\"id\":\"1565\"},\"selection_policy\":{\"id\":\"1566\"}},\"id\":\"1552\",\"type\":\"ColumnDataSource\"},{\"attributes\":{\"overlay\":{\"id\":\"1465\"}},\"id\":\"1461\",\"type\":\"BoxZoomTool\"},{\"attributes\":{},\"id\":\"1502\",\"type\":\"UnionRenderers\"},{\"attributes\":{\"axis_label\":\"F1\",\"formatter\":{\"id\":\"1544\"},\"ticker\":{\"id\":\"1520\"}},\"id\":\"1519\",\"type\":\"LinearAxis\"},{\"attributes\":{\"data\":{\"x\":{\"__ndarray__\":\"AAAAAAAAAACWexphuaehP5Z7GmG5p7E/YbmnEZZ7uj+WexphuafBP3waYbmnEcY/YbmnEZZ7yj9GWO5phOXOP5Z7GmG5p9E/Ccs9jbDc0z98GmG5pxHWP+5phOWeRtg/YbmnEZZ72j/UCMs9jbDcP0ZY7mmE5d4/3dMIyz2N4D+WexphuafhP08jLPc0wuI/Ccs9jbDc4z/Cck8jLPfkP3waYbmnEeY/NcJyTyMs5z/uaYTlnkboP6gRlnsaYek/YbmnEZZ76j8aYbmnEZbrP9QIyz2NsOw/jbDc0wjL7T9GWO5phOXuPwAAAAAAAPA/\",\"dtype\":\"float64\",\"order\":\"little\",\"shape\":[30]},\"y\":{\"__ndarray__\":\"DTyQVRJc6j/KhLW7dMTpP66RtIBczOk/8l6MFsCy6T/+Ua+Yu9DpP0Wbm5DSguk/wOdBAoQN6T92au4KJBrIP8GFGY13dtQ/l4Ts+0da2D8uq0np0p/UP1nnUkbFZdg/vbYrsCN6xz/6EAFuj4fYP0mQNef7s9g/2IXJX+8Q1D9zL+rC7c7PP4bo/QDRTtg/vhDUP/yA1D+i6Fv4XjPQP67EPSc5a9A/3TF2rd9q1D/2kV213ZbUP+lO8kqve9Q/Girp8hWg1D96ilpwZYvUPymMgj5HbtA/ekQewMPT2D9hWxpWeozUP82TKojE6sc/\",\"dtype\":\"float64\",\"order\":\"little\",\"shape\":[30]}},\"selected\":{\"id\":\"1548\"},\"selection_policy\":{\"id\":\"1549\"}},\"id\":\"1537\",\"type\":\"ColumnDataSource\"},{\"attributes\":{\"line_alpha\":0.1,\"line_color\":\"orange\",\"x\":{\"field\":\"x\"},\"y\":{\"field\":\"y\"}},\"id\":\"1554\",\"type\":\"Line\"},{\"attributes\":{},\"id\":\"1507\",\"type\":\"DataRange1d\"},{\"attributes\":{\"bottom_units\":\"screen\",\"fill_alpha\":0.5,\"fill_color\":\"lightgrey\",\"left_units\":\"screen\",\"level\":\"overlay\",\"line_alpha\":1.0,\"line_color\":\"black\",\"line_dash\":[4,4],\"line_width\":2,\"right_units\":\"screen\",\"top_units\":\"screen\"},\"id\":\"1465\",\"type\":\"BoxAnnotation\"},{\"attributes\":{\"label\":{\"value\":\"Plagiarized\"},\"renderers\":[{\"id\":\"1491\"}]},\"id\":\"1503\",\"type\":\"LegendItem\"},{\"attributes\":{\"axis\":{\"id\":\"1519\"},\"dimension\":1,\"ticker\":null},\"id\":\"1522\",\"type\":\"Grid\"},{\"attributes\":{},\"id\":\"1565\",\"type\":\"Selection\"},{\"attributes\":{\"overlay\":{\"id\":\"1529\"}},\"id\":\"1525\",\"type\":\"BoxZoomTool\"},{\"attributes\":{\"line_alpha\":0.1,\"line_color\":\"steelblue\",\"x\":{\"field\":\"x\"},\"y\":{\"field\":\"y\"}},\"id\":\"1539\",\"type\":\"Line\"},{\"attributes\":{},\"id\":\"1511\",\"type\":\"LinearScale\"},{\"attributes\":{\"source\":{\"id\":\"1552\"}},\"id\":\"1556\",\"type\":\"CDSView\"},{\"attributes\":{\"label\":{\"value\":\"Plagiarized\"},\"renderers\":[{\"id\":\"1555\"}]},\"id\":\"1567\",\"type\":\"LegendItem\"},{\"attributes\":{},\"id\":\"1548\",\"type\":\"Selection\"},{\"attributes\":{\"below\":[{\"id\":\"1451\"}],\"center\":[{\"id\":\"1454\"},{\"id\":\"1458\"},{\"id\":\"1486\"}],\"left\":[{\"id\":\"1455\"}],\"renderers\":[{\"id\":\"1476\"},{\"id\":\"1491\"}],\"sizing_mode\":\"scale_both\",\"title\":{\"id\":\"1441\"},\"toolbar\":{\"id\":\"1466\"},\"toolbar_location\":null,\"x_range\":{\"id\":\"1443\"},\"x_scale\":{\"id\":\"1447\"},\"y_range\":{\"id\":\"1445\"},\"y_scale\":{\"id\":\"1449\"}},\"id\":\"1440\",\"subtype\":\"Figure\",\"type\":\"Plot\"},{\"attributes\":{},\"id\":\"1524\",\"type\":\"WheelZoomTool\"},{\"attributes\":{\"line_color\":\"steelblue\",\"x\":{\"field\":\"x\"},\"y\":{\"field\":\"y\"}},\"id\":\"1538\",\"type\":\"Line\"},{\"attributes\":{\"line_alpha\":0.1,\"line_color\":\"steelblue\",\"x\":{\"field\":\"x\"},\"y\":{\"field\":\"y\"}},\"id\":\"1475\",\"type\":\"Line\"},{\"attributes\":{},\"id\":\"1520\",\"type\":\"BasicTicker\"},{\"attributes\":{},\"id\":\"1513\",\"type\":\"LinearScale\"},{\"attributes\":{\"line_color\":\"steelblue\",\"x\":{\"field\":\"x\"},\"y\":{\"field\":\"y\"}},\"id\":\"1474\",\"type\":\"Line\"},{\"attributes\":{},\"id\":\"1566\",\"type\":\"UnionRenderers\"},{\"attributes\":{\"label\":{\"value\":\"Non-plagiarized\"},\"renderers\":[{\"id\":\"1476\"}]},\"id\":\"1487\",\"type\":\"LegendItem\"},{\"attributes\":{\"bottom_units\":\"screen\",\"fill_alpha\":0.5,\"fill_color\":\"lightgrey\",\"left_units\":\"screen\",\"level\":\"overlay\",\"line_alpha\":1.0,\"line_color\":\"black\",\"line_dash\":[4,4],\"line_width\":2,\"right_units\":\"screen\",\"top_units\":\"screen\"},\"id\":\"1529\",\"type\":\"BoxAnnotation\"},{\"attributes\":{},\"id\":\"1501\",\"type\":\"Selection\"},{\"attributes\":{\"line_color\":\"orange\",\"x\":{\"field\":\"x\"},\"y\":{\"field\":\"y\"}},\"id\":\"1553\",\"type\":\"Line\"},{\"attributes\":{\"source\":{\"id\":\"1537\"}},\"id\":\"1541\",\"type\":\"CDSView\"}],\"root_ids\":[\"1593\"]},\"title\":\"Bokeh Application\",\"version\":\"2.1.1\"}};\n",
       "  var render_items = [{\"docid\":\"38b1e1ae-7e90-4bd3-9f76-dc3bdafaeb0b\",\"root_ids\":[\"1593\"],\"roots\":{\"1593\":\"d315d21f-5fdd-47f7-96ed-540032559ad6\"}}];\n",
       "  root.Bokeh.embed.embed_items_notebook(docs_json, render_items);\n",
       "\n",
       "  }\n",
       "  if (root.Bokeh !== undefined) {\n",
       "    embed_document(root);\n",
       "  } else {\n",
       "    var attempts = 0;\n",
       "    var timer = setInterval(function(root) {\n",
       "      if (root.Bokeh !== undefined) {\n",
       "        clearInterval(timer);\n",
       "        embed_document(root);\n",
       "      } else {\n",
       "        attempts++;\n",
       "        if (attempts > 100) {\n",
       "          clearInterval(timer);\n",
       "          console.log(\"Bokeh: ERROR: Unable to run BokehJS code because BokehJS library is missing\");\n",
       "        }\n",
       "      }\n",
       "    }, 10, root)\n",
       "  }\n",
       "})(window);"
      ],
      "application/vnd.bokehjs_exec.v0+json": ""
     },
     "metadata": {
      "application/vnd.bokehjs_exec.v0+json": {
       "id": "1593"
      }
     },
     "output_type": "display_data"
    }
   ],
   "source": [
    "def calc_F1_impurity(imp):\n",
    "    clf = RandomForestClassifier(min_impurity_decrease = imp)\n",
    "\n",
    "    # Make folds of data for cross validation\n",
    "    k_fold = KFold(n_splits = 10, shuffle = True)\n",
    "\n",
    "    results = []\n",
    "    for train, test in k_fold.split(X):\n",
    "        clf.fit(X.iloc[train], y.iloc[train])\n",
    "        results.append(f1_score(y.iloc[test], clf.predict(X.iloc[test]), average = None))\n",
    "    \n",
    "    return sum(results) / len(results)\n",
    "        \n",
    "imp = np.linspace(0, 1, num = 30)\n",
    "F1 = np.stack(list(map(calc_F1_impurity, imp)), axis = 0)\n",
    "filtered_F1 = np.column_stack((lowess(F1[:, 0], imp, is_sorted=True, frac=0.1, it=0)[:, 1],\n",
    "                               lowess(F1[:, 1], imp, is_sorted=True, frac=0.1, it=0)[:, 1]))\n",
    "# Normal plot\n",
    "imp_plot = figure(title = \"F1 score as a function of the minimum entropy decrease required to split\",\n",
    "                   x_axis_label = \"fraction\",\n",
    "                   y_axis_label = \"F1\")\n",
    "\n",
    "imp_plot.line(imp, F1[:, 0], legend_label = \"Non-plagiarized\", line_color = \"steelblue\")\n",
    "imp_plot.line(imp, F1[:, 1], legend_label = \"Plagiarized\", line_color = \"orange\")\n",
    "\n",
    "\n",
    "# Filtered plot to remove some noise and better appreciate tendencies\n",
    "imp_plot_filtered = figure(title = \"F1 score as a function of the minimum entropy decrease required to split\",\n",
    "                            x_axis_label = \"fraction\",\n",
    "                            y_axis_label = \"F1\")\n",
    "\n",
    "imp_plot_filtered.line(imp, filtered_F1[:, 0], legend_label = \"Non-plagiarized\", line_color = \"steelblue\")\n",
    "imp_plot_filtered.line(imp, filtered_F1[:, 1], legend_label = \"Plagiarized\", line_color = \"orange\")\n",
    "\n",
    "\n",
    "show(gridplot([[imp_plot, imp_plot_filtered]], sizing_mode='scale_both'))\n",
    "\n",
    "# Any value that isn't zero will make our score drop quickly, no too interesting"
   ]
  },
  {
   "cell_type": "markdown",
   "metadata": {},
   "source": [
    "Como podemos observar, a partir de 0.2 cae de forma drastica y oscila para ambas categorias. Por lo tanto lo dejaremos como nulo."
   ]
  },
  {
   "cell_type": "markdown",
   "metadata": {},
   "source": [
    "## Evalución del modelo depurado"
   ]
  },
  {
   "cell_type": "code",
   "execution_count": null,
   "metadata": {},
   "outputs": [],
   "source": [
    "# Reevaluate the model with the slight optimizations found earlier\n",
    "# Igual hay que hacerlo dinamicamente\n",
    "clf = RandomForestClassifier(max_depth = 7, min_samples_split = 0.04, min_samples_leaf = 10)\n",
    "eval_model_table(X, y, clf)"
   ]
  },
  {
   "cell_type": "markdown",
   "metadata": {},
   "source": [
    "Como podemos ver, hemos mejorado (muy ligeramente) el modelo, llegando a tener un precisión cercana al 70%. Finalmente, guardamos el modelo para poder ser reusado posteriormente."
   ]
  },
  {
   "cell_type": "code",
   "execution_count": null,
   "metadata": {},
   "outputs": [],
   "source": [
    "import pickle\n",
    "# We improved a bit, lets save it and work with this one\n",
    "with open(\"../models/ngram_tok.model\", \"wb\") as f:\n",
    "    pickle.dump(clf, f)"
   ]
  },
  {
   "cell_type": "code",
   "execution_count": null,
   "metadata": {},
   "outputs": [],
   "source": [
    "clf.predict(X)"
   ]
  },
  {
   "cell_type": "code",
   "execution_count": null,
   "metadata": {},
   "outputs": [],
   "source": [
    "clf.predict_proba(X)"
   ]
  },
  {
   "cell_type": "code",
   "execution_count": null,
   "metadata": {},
   "outputs": [],
   "source": []
  }
 ],
 "metadata": {
  "kernelspec": {
   "display_name": "Python 3",
   "language": "python",
   "name": "python3"
  },
  "language_info": {
   "codemirror_mode": {
    "name": "ipython",
    "version": 3
   },
   "file_extension": ".py",
   "mimetype": "text/x-python",
   "name": "python",
   "nbconvert_exporter": "python",
   "pygments_lexer": "ipython3",
   "version": "3.8.3"
  },
  "toc": {
   "base_numbering": 1,
   "nav_menu": {},
   "number_sections": true,
   "sideBar": true,
   "skip_h1_title": false,
   "title_cell": "Table of Contents",
   "title_sidebar": "Contents",
   "toc_cell": false,
   "toc_position": {},
   "toc_section_display": true,
   "toc_window_display": false
  }
 },
 "nbformat": 4,
 "nbformat_minor": 2
}
